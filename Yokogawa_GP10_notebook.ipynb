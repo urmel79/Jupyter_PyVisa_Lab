{
 "cells": [
  {
   "cell_type": "markdown",
   "id": "16d5d60f",
   "metadata": {},
   "source": [
    "# Controlling the multi channel temperature data logger 'Yokogawa GP10' by web interface"
   ]
  },
  {
   "cell_type": "code",
   "execution_count": 1,
   "id": "a2079342",
   "metadata": {
    "tags": []
   },
   "outputs": [],
   "source": [
    "# import necessary libraries\n",
    "import urllib as http\n",
    "import pandas as pd\n",
    "import time\n",
    "import os"
   ]
  },
  {
   "cell_type": "code",
   "execution_count": 2,
   "id": "383b7792",
   "metadata": {
    "tags": []
   },
   "outputs": [],
   "source": [
    "ip_of_gp10 = '192.168.10.207'"
   ]
  },
  {
   "cell_type": "markdown",
   "id": "d98350f5",
   "metadata": {},
   "source": [
    "## Get device information"
   ]
  },
  {
   "cell_type": "markdown",
   "id": "47f9c684-78a8-4816-9b82-e6e90d366a8b",
   "metadata": {},
   "source": [
    "> @TODOs:\n",
    "> - grobe Beschreibung des Messgerätes\n",
    "> - Foto Messgerät + Screenshots WebUI\n",
    "> - Übersetzung\n",
    "\n",
    "Das Messgerät verfügt über ein Java-basiertes WebUI. Sämtliche Kommunikation vom oder zum Messgerät wird über HTTP GET requests übertragen.\n",
    "Da die Kommunikation unverschlüsselt ist, kann sie sehr leicht mit einem Paket-Sniffer wie z.B. \"Wireshark\" mitgeschnitten werden.\n",
    "Als Filter-Einstellung ist z.B. `ip.addr == 192.168.10.207 && http.request.method == GET` sinnvoll.\n",
    "\n",
    "Auf die Art und Weise wurden sämtliche der im Notebook verwendeten Befehle für das Konfigurieren des Messgerätes, das Steuern der Messungen (Start/Stop Recording) sowie Auslesen der Messwertdateien reverse engineered."
   ]
  },
  {
   "cell_type": "markdown",
   "id": "f8273ca2-b04b-4256-9d59-6bdc3ce249b7",
   "metadata": {},
   "source": [
    "> @TODOs:\n",
    "> - Auslesen wichtiger Geräte-Infos, wozu:\n",
    ">     - für Identifikation\n",
    ">     - falls sich nach dem Firmware-Update die HTTP GET URIs und die Rückgabestrings geändert haben, könnte mit diesen Infos eine unterschiedliche Command-API realisiert werden (abhängig vom Firmware- bzw. WebUI-Stand)\n",
    "    - Update 2023-04-03: auch nach dem Firmware-Update funktionieren die bisherigen HTTP GET URIs => die Realisierung einer unterschiedlichen Command-API abhängig vom FW-Stand ist daher nicht notwendig :)\n",
    "\n",
    "Get device information (vor dem Update auf FW R5.xx.xx):\n",
    "\n",
    "```\n",
    "http://192.168.10.207/gene.cgi?msg=_INF\n",
    "\n",
    "EA\n",
    "'GX10/GP10',S5S503742,00-00-64-9f-b0-42,R3.02.02\n",
    "EN\n",
    "```\n",
    "\n",
    "```\n",
    "http://192.168.10.207/gene.cgi?msg=_VER\n",
    "\n",
    "EA\n",
    "B8741ZA,R3.02.02,'Main Program'\n",
    "B8740ZY,R3.02.01,'Web Program'\n",
    "EN\n",
    "```\n",
    "\n",
    "```\n",
    "http://192.168.10.207/gene.cgi?msg=_UNR\n",
    "\n",
    "EA\n",
    "Main,0,'GP10-1E',S5S503742,00-00-64-9f-b0-42,R3.02.02,/UH /E1 /UC20,0,3,\n",
    "EN\n",
    "```"
   ]
  },
  {
   "cell_type": "code",
   "execution_count": 3,
   "id": "c2c63d24-f9e8-47a7-9879-2ff68e4a4f9f",
   "metadata": {
    "tags": []
   },
   "outputs": [],
   "source": [
    "# function to retrieve device information\n",
    "def get_device_info(b_verbose=False):\n",
    "    dict_device_infos = {}\n",
    "    \n",
    "    str_uri = \"http://\" + ip_of_gp10 + \"/gene.cgi?msg=_INF\"\n",
    "    str_response_inf = http.request.urlopen(str_uri).read().decode('utf-8')\n",
    "    str_response_inf = str_response_inf.rstrip('\\r\\n') # cut trailing '\\r\\n'\n",
    "    \n",
    "    if ( str_response_inf.startswith('EA') and str_response_inf.endswith('EN') ):\n",
    "        if b_verbose: print(\"Retrieving device infos was successful:\\n{}\".format(str_response_inf))\n",
    "        \n",
    "        str_row_list = str_response_inf.split('\\r\\n')\n",
    "        str_row_list.remove('EA')\n",
    "        str_row_list.remove('EN')\n",
    "        \n",
    "        if ( len(str_row_list) == 1 ):\n",
    "            str_info_list = str_row_list[0].split(',')\n",
    "\n",
    "            dict_device_infos[\"Device family\"] = str_info_list[0].strip(\"'\")\n",
    "            dict_device_infos[\"Serial number\"] = str_info_list[1]\n",
    "            dict_device_infos[\"MAC address\"] = str_info_list[2]\n",
    "            dict_device_infos[\"Version FW (inf)\"] = str_info_list[3]\n",
    "    else:\n",
    "        if b_verbose: print(\"There was an error while reading device infos:\\n{}\".format(str_response_inf))\n",
    "        return\n",
    "    \n",
    "    str_uri = \"http://\" + ip_of_gp10 + \"/gene.cgi?msg=_VER\"\n",
    "    str_response_ver = http.request.urlopen(str_uri).read().decode('utf-8')\n",
    "    str_response_ver = str_response_ver.rstrip('\\r\\n') # cut trailing '\\r\\n'\n",
    "    \n",
    "    if ( str_response_ver.startswith('EA') and str_response_ver.endswith('EN') ):\n",
    "        if b_verbose: print(\"Retrieving device versions was successful:\\n{}\".format(str_response_ver))\n",
    "        \n",
    "        str_row_list = str_response_ver.split('\\r\\n')\n",
    "        str_row_list.remove('EA')\n",
    "        str_row_list.remove('EN')\n",
    "        \n",
    "        if ( len(str_row_list) == 2 ):\n",
    "            str_version_list = str_row_list[0].split(',')\n",
    "            if ( str_version_list[2].strip(\"'\") == 'Main Program' ):\n",
    "                dict_device_infos[\"Version FW (ver)\"] = str_version_list[1]\n",
    "            \n",
    "            str_version_list = str_row_list[1].split(',')\n",
    "            if ( str_version_list[2].strip(\"'\") == 'Web Program' ):\n",
    "                dict_device_infos[\"Version WebUI\"] = str_version_list[1]\n",
    "    else:\n",
    "        if b_verbose: print(\"There was an error while reading device versions:\\n{}\".format(str_response_ver))\n",
    "        return\n",
    "    \n",
    "    str_uri = \"http://\" + ip_of_gp10 + \"/gene.cgi?msg=_UNR\"\n",
    "    str_response_unr = http.request.urlopen(str_uri).read().decode('utf-8')\n",
    "    str_response_unr = str_response_unr.rstrip('\\r\\n') # cut trailing '\\r\\n'\n",
    "    \n",
    "    if ( str_response_unr.startswith('EA') and str_response_unr.endswith('EN') ):\n",
    "        if b_verbose: print(\"Retrieving device versions was successful:\\n{}\".format(str_response_unr))\n",
    "        \n",
    "        str_row_list = str_response_unr.split('\\r\\n')\n",
    "        str_row_list.remove('EA')\n",
    "        str_row_list.remove('EN')\n",
    "        \n",
    "        if ( len(str_row_list) == 1 ):\n",
    "            str_info_list = str_row_list[0].split(',')\n",
    "            \n",
    "            dict_device_infos[\"Device type\"] = str_info_list[2].strip(\"'\")\n",
    "    \n",
    "    else:\n",
    "        if b_verbose: print(\"There was an error while reading device versions:\\n{}\".format(str_response_unr))\n",
    "        return\n",
    "    \n",
    "    # sort the dictionary by keys and return\n",
    "    return dict(sorted(dict_device_infos.items()))"
   ]
  },
  {
   "cell_type": "markdown",
   "id": "0aef8d5a-eb95-48a4-8b25-ad4a1be29668",
   "metadata": {},
   "source": [
    "Print the dictionary of stored **device information**:"
   ]
  },
  {
   "cell_type": "code",
   "execution_count": 22,
   "id": "efb00f6e-f422-4ed3-95aa-a20811144ee8",
   "metadata": {
    "tags": []
   },
   "outputs": [
    {
     "name": "stdout",
     "output_type": "stream",
     "text": [
      "Device family:    \tGX10/GP10\n",
      "Device type:    \tGP10-1E\n",
      "MAC address:    \t00-00-64-9f-b0-42\n",
      "Serial number:    \tS5S503742\n",
      "Version FW (inf):    \tR5.02.03\n",
      "Version FW (ver):    \tR5.02.03\n",
      "Version WebUI:    \tR5.02.02\n"
     ]
    }
   ],
   "source": [
    "dict_dev_info = get_device_info(b_verbose=False)\n",
    "\n",
    "# dict_dev_info\n",
    "\n",
    "for key, val in dict_dev_info.items():\n",
    "    print(\"{}:    \\t{}\".format(key, val))"
   ]
  },
  {
   "cell_type": "markdown",
   "id": "a98c690c",
   "metadata": {},
   "source": [
    "## Configure measuring device for recording data to SD card\n",
    "\n",
    "### Configure the recording channels for the measurement"
   ]
  },
  {
   "cell_type": "code",
   "execution_count": 113,
   "id": "8048ac9e",
   "metadata": {
    "tags": []
   },
   "outputs": [],
   "source": [
    "# Helper function for building the config URI and write the configurations\n",
    "def config_meas_rec_channel(str_ip, str_channel, str_name, str_color):\n",
    "    str_uri = \"http://\" + str_ip + \"/gene.cgi?msg=STagIO,\" + str_channel + \",'\" + str_name + \"','';\" \\\n",
    "               \"SColorIO,\" + str_channel + \",\" + str_color + \";\" \\\n",
    "               \"SZoneIO,\" + str_channel + \",0,100;\" \\\n",
    "               \"SScaleIO,\" + str_channel + \",1,10;\" \\\n",
    "               \"SBarIO,\" + str_channel + \",Lower,10;\" \\\n",
    "               \"SBandIO,\" + str_channel + \",Off,102,255,0,0,100;\" \\\n",
    "               \"SAlmMarkIO,\" + str_channel + \",On,Alarm,255,0,0,255,153,51,255,153,51,255,0,0;\" \\\n",
    "               \"SValueIO,\" + str_channel + \",'',''\"\n",
    "    \n",
    "    str_response = http.request.urlopen(str_uri).read().decode('utf-8')\n",
    "    str_response = str_response.replace('\\r\\n', '')\n",
    "\n",
    "    if (str_response == 'E0'):\n",
    "        print(\"Configuring the channel was successful: {}\".format(str_response))\n",
    "    else:\n",
    "        print(\"Configuring the channel was NOT successful: {}\".format(str_response))\n",
    "    \n",
    "    return str_uri, str_response"
   ]
  },
  {
   "cell_type": "code",
   "execution_count": 114,
   "id": "22d1cae4",
   "metadata": {
    "tags": []
   },
   "outputs": [
    {
     "data": {
      "text/html": [
       "<div>\n",
       "<style scoped>\n",
       "    .dataframe tbody tr th:only-of-type {\n",
       "        vertical-align: middle;\n",
       "    }\n",
       "\n",
       "    .dataframe tbody tr th {\n",
       "        vertical-align: top;\n",
       "    }\n",
       "\n",
       "    .dataframe thead th {\n",
       "        text-align: right;\n",
       "    }\n",
       "</style>\n",
       "<table border=\"1\" class=\"dataframe\">\n",
       "  <thead>\n",
       "    <tr style=\"text-align: right;\">\n",
       "      <th></th>\n",
       "      <th>Channel</th>\n",
       "      <th>Track Name</th>\n",
       "      <th>Color RGB</th>\n",
       "    </tr>\n",
       "  </thead>\n",
       "  <tbody>\n",
       "    <tr>\n",
       "      <th>0</th>\n",
       "      <td>0001</td>\n",
       "      <td>T01_Klemme_Schliesser_E1</td>\n",
       "      <td>255,0,0</td>\n",
       "    </tr>\n",
       "    <tr>\n",
       "      <th>1</th>\n",
       "      <td>0002</td>\n",
       "      <td>T02_Klemme_Schliesser_E2</td>\n",
       "      <td>0,153,51</td>\n",
       "    </tr>\n",
       "    <tr>\n",
       "      <th>2</th>\n",
       "      <td>0003</td>\n",
       "      <td>T03_Gehaeuse_Schliesser_E1</td>\n",
       "      <td>0,51,255</td>\n",
       "    </tr>\n",
       "    <tr>\n",
       "      <th>3</th>\n",
       "      <td>0004</td>\n",
       "      <td>T04_Gehaeuse_Schliesser_E2</td>\n",
       "      <td>204,102,204</td>\n",
       "    </tr>\n",
       "    <tr>\n",
       "      <th>4</th>\n",
       "      <td>0005</td>\n",
       "      <td>T05_Schaltergehaeuse_aussen</td>\n",
       "      <td>119,170,221</td>\n",
       "    </tr>\n",
       "    <tr>\n",
       "      <th>5</th>\n",
       "      <td>0006</td>\n",
       "      <td>T06_Raumtemperatur_1</td>\n",
       "      <td>255,153,51</td>\n",
       "    </tr>\n",
       "    <tr>\n",
       "      <th>6</th>\n",
       "      <td>0007</td>\n",
       "      <td>T07_Raumtemperatur_2</td>\n",
       "      <td>153,204,51</td>\n",
       "    </tr>\n",
       "  </tbody>\n",
       "</table>\n",
       "</div>"
      ],
      "text/plain": [
       "  Channel                   Track Name    Color RGB\n",
       "0    0001     T01_Klemme_Schliesser_E1      255,0,0\n",
       "1    0002     T02_Klemme_Schliesser_E2     0,153,51\n",
       "2    0003   T03_Gehaeuse_Schliesser_E1     0,51,255\n",
       "3    0004   T04_Gehaeuse_Schliesser_E2  204,102,204\n",
       "4    0005  T05_Schaltergehaeuse_aussen  119,170,221\n",
       "5    0006         T06_Raumtemperatur_1   255,153,51\n",
       "6    0007         T07_Raumtemperatur_2   153,204,51"
      ]
     },
     "metadata": {},
     "output_type": "display_data"
    }
   ],
   "source": [
    "# Dataframe with the config values for the measuring channels\n",
    "df_meas_rec_channels = pd.DataFrame(columns=['Channel', 'Track Name', 'Color RGB'],\n",
    "                                    data=[['0001', 'T01_Klemme_Schliesser_E1', '255,0,0'],\n",
    "                                          ['0002', 'T02_Klemme_Schliesser_E2', '0,153,51'],\n",
    "                                          ['0003', 'T03_Gehaeuse_Schliesser_E1', '0,51,255'],\n",
    "                                          ['0004', 'T04_Gehaeuse_Schliesser_E2', '204,102,204'],\n",
    "                                          ['0005', 'T05_Schaltergehaeuse_aussen', '119,170,221'],\n",
    "                                          ['0006', 'T06_Raumtemperatur_1', '255,153,51'],\n",
    "                                          ['0007', 'T07_Raumtemperatur_2', '153,204,51'],\n",
    "                                         ])\n",
    "\n",
    "\n",
    "display(df_meas_rec_channels)"
   ]
  },
  {
   "cell_type": "code",
   "execution_count": 115,
   "id": "86d47aa5",
   "metadata": {
    "scrolled": true,
    "tags": []
   },
   "outputs": [
    {
     "name": "stdout",
     "output_type": "stream",
     "text": [
      "Channel: 0001, Track Name: T01_Klemme_Schliesser_E1, Color RGB: 255,0,0\n",
      "\n",
      "Configuring the channel was successful: E0\n",
      "URI: http://192.168.10.207/gene.cgi?msg=STagIO,0001,'T01_Klemme_Schliesser_E1','';SColorIO,0001,255,0,0;SZoneIO,0001,0,100;SScaleIO,0001,1,10;SBarIO,0001,Lower,10;SBandIO,0001,Off,102,255,0,0,100;SAlmMarkIO,0001,On,Alarm,255,0,0,255,153,51,255,153,51,255,0,0;SValueIO,0001,'',''\n",
      "Response: E0\n",
      "\n",
      "Channel: 0002, Track Name: T02_Klemme_Schliesser_E2, Color RGB: 0,153,51\n",
      "\n",
      "Configuring the channel was successful: E0\n",
      "URI: http://192.168.10.207/gene.cgi?msg=STagIO,0002,'T02_Klemme_Schliesser_E2','';SColorIO,0002,0,153,51;SZoneIO,0002,0,100;SScaleIO,0002,1,10;SBarIO,0002,Lower,10;SBandIO,0002,Off,102,255,0,0,100;SAlmMarkIO,0002,On,Alarm,255,0,0,255,153,51,255,153,51,255,0,0;SValueIO,0002,'',''\n",
      "Response: E0\n",
      "\n",
      "Channel: 0003, Track Name: T03_Gehaeuse_Schliesser_E1, Color RGB: 0,51,255\n",
      "\n",
      "Configuring the channel was successful: E0\n",
      "URI: http://192.168.10.207/gene.cgi?msg=STagIO,0003,'T03_Gehaeuse_Schliesser_E1','';SColorIO,0003,0,51,255;SZoneIO,0003,0,100;SScaleIO,0003,1,10;SBarIO,0003,Lower,10;SBandIO,0003,Off,102,255,0,0,100;SAlmMarkIO,0003,On,Alarm,255,0,0,255,153,51,255,153,51,255,0,0;SValueIO,0003,'',''\n",
      "Response: E0\n",
      "\n",
      "Channel: 0004, Track Name: T04_Gehaeuse_Schliesser_E2, Color RGB: 204,102,204\n",
      "\n",
      "Configuring the channel was successful: E0\n",
      "URI: http://192.168.10.207/gene.cgi?msg=STagIO,0004,'T04_Gehaeuse_Schliesser_E2','';SColorIO,0004,204,102,204;SZoneIO,0004,0,100;SScaleIO,0004,1,10;SBarIO,0004,Lower,10;SBandIO,0004,Off,102,255,0,0,100;SAlmMarkIO,0004,On,Alarm,255,0,0,255,153,51,255,153,51,255,0,0;SValueIO,0004,'',''\n",
      "Response: E0\n",
      "\n",
      "Channel: 0005, Track Name: T05_Schaltergehaeuse_aussen, Color RGB: 119,170,221\n",
      "\n",
      "Configuring the channel was successful: E0\n",
      "URI: http://192.168.10.207/gene.cgi?msg=STagIO,0005,'T05_Schaltergehaeuse_aussen','';SColorIO,0005,119,170,221;SZoneIO,0005,0,100;SScaleIO,0005,1,10;SBarIO,0005,Lower,10;SBandIO,0005,Off,102,255,0,0,100;SAlmMarkIO,0005,On,Alarm,255,0,0,255,153,51,255,153,51,255,0,0;SValueIO,0005,'',''\n",
      "Response: E0\n",
      "\n",
      "Channel: 0006, Track Name: T06_Raumtemperatur_1, Color RGB: 255,153,51\n",
      "\n",
      "Configuring the channel was successful: E0\n",
      "URI: http://192.168.10.207/gene.cgi?msg=STagIO,0006,'T06_Raumtemperatur_1','';SColorIO,0006,255,153,51;SZoneIO,0006,0,100;SScaleIO,0006,1,10;SBarIO,0006,Lower,10;SBandIO,0006,Off,102,255,0,0,100;SAlmMarkIO,0006,On,Alarm,255,0,0,255,153,51,255,153,51,255,0,0;SValueIO,0006,'',''\n",
      "Response: E0\n",
      "\n",
      "Channel: 0007, Track Name: T07_Raumtemperatur_2, Color RGB: 153,204,51\n",
      "\n",
      "Configuring the channel was successful: E0\n",
      "URI: http://192.168.10.207/gene.cgi?msg=STagIO,0007,'T07_Raumtemperatur_2','';SColorIO,0007,153,204,51;SZoneIO,0007,0,100;SScaleIO,0007,1,10;SBarIO,0007,Lower,10;SBandIO,0007,Off,102,255,0,0,100;SAlmMarkIO,0007,On,Alarm,255,0,0,255,153,51,255,153,51,255,0,0;SValueIO,0007,'',''\n",
      "Response: E0\n",
      "\n"
     ]
    }
   ],
   "source": [
    "# Iterate the config dataframe and upload the configurations\n",
    "for index, row in df_meas_rec_channels.iterrows():\n",
    "    print(\"Channel: {}, Track Name: {}, Color RGB: {}\\r\\n\".format(row['Channel'], row['Track Name'], row['Color RGB']))\n",
    "    \n",
    "    str_uri, str_response = config_meas_rec_channel(ip_of_gp10, row['Channel'], row['Track Name'], row['Color RGB'])\n",
    "\n",
    "    print(\"URI: {}\\r\\nResponse: {}\\r\\n\".format(str_uri, str_response))"
   ]
  },
  {
   "cell_type": "markdown",
   "id": "01a4074d-6671-4f83-aea5-665b8aca7ef9",
   "metadata": {},
   "source": [
    "### Configure the display range for the measurement tracks"
   ]
  },
  {
   "cell_type": "code",
   "execution_count": 116,
   "id": "095a3972-58a5-4404-94d7-1b43a4794c3e",
   "metadata": {
    "tags": []
   },
   "outputs": [],
   "source": [
    "# Helper function for building the config URI and write the configurations\n",
    "def config_meas_display_ranges(str_ip, str_channel, flt_range_lower, flt_range_upper):\n",
    "    str_uri = \"http://\" + str_ip + \"/gene.cgi?msg=SRangeAI,\" + str_channel + \",TC,K,Off,\" + \\\n",
    "               str(flt_range_lower*10) + \",\" + str(flt_range_upper*10) + \",0;\" \\\n",
    "               \"SMoveAve,\" + str_channel + \",Off,2;\" \\\n",
    "               \"SBurnOut,\" + str_channel + \",Off;\" \\\n",
    "               \"SRjc,\" + str_channel + \",Internal\"\n",
    "    \n",
    "    #print(str_uri)\n",
    "    \n",
    "    str_response = http.request.urlopen(str_uri).read().decode('utf-8')\n",
    "    str_response = str_response.replace('\\r\\n', '')\n",
    "\n",
    "    if (str_response == 'E0'):\n",
    "        print(\"Configuring the channel was successful: {}\".format(str_response))\n",
    "    else:\n",
    "        print(\"Configuring the channel was NOT successful: {}\".format(str_response))\n",
    "    \n",
    "    return str_uri, str_response"
   ]
  },
  {
   "cell_type": "code",
   "execution_count": 117,
   "id": "d71ca2a8",
   "metadata": {
    "tags": []
   },
   "outputs": [],
   "source": [
    "# helper function to add new rows (a list) to existing dataframe\n",
    "def dataframe_add_row(df=None, row=[]):\n",
    "    if (df is None):\n",
    "        return\n",
    "    \n",
    "    # add a row\n",
    "    df.loc[-1] = row\n",
    "    \n",
    "    # shift the index\n",
    "    df.index = df.index + 1\n",
    "    \n",
    "    # reset the index of dataframe and avoid the old index being added as a column\n",
    "    df.reset_index(drop=True, inplace=True)"
   ]
  },
  {
   "cell_type": "code",
   "execution_count": 118,
   "id": "f39ac9a6",
   "metadata": {
    "tags": []
   },
   "outputs": [
    {
     "data": {
      "text/plain": [
       "[20, 27]"
      ]
     },
     "execution_count": 118,
     "metadata": {},
     "output_type": "execute_result"
    }
   ],
   "source": [
    "temp_display_ranges = [20, 27] # range for heating test at 4 A DC\n",
    "# temp_display_ranges = [20, 55] # range for heating test at 6 A DC\n",
    "# temp_display_ranges = [20, 85] # range for heating test at 10 A DC\n",
    "\n",
    "temp_display_ranges"
   ]
  },
  {
   "cell_type": "code",
   "execution_count": 119,
   "id": "ca1dd05a",
   "metadata": {
    "tags": []
   },
   "outputs": [
    {
     "data": {
      "text/html": [
       "<div>\n",
       "<style scoped>\n",
       "    .dataframe tbody tr th:only-of-type {\n",
       "        vertical-align: middle;\n",
       "    }\n",
       "\n",
       "    .dataframe tbody tr th {\n",
       "        vertical-align: top;\n",
       "    }\n",
       "\n",
       "    .dataframe thead th {\n",
       "        text-align: right;\n",
       "    }\n",
       "</style>\n",
       "<table border=\"1\" class=\"dataframe\">\n",
       "  <thead>\n",
       "    <tr style=\"text-align: right;\">\n",
       "      <th></th>\n",
       "      <th>Channel</th>\n",
       "      <th>range_lower [°C]</th>\n",
       "      <th>range_upper [°C]</th>\n",
       "    </tr>\n",
       "  </thead>\n",
       "  <tbody>\n",
       "    <tr>\n",
       "      <th>0</th>\n",
       "      <td>0001</td>\n",
       "      <td>20</td>\n",
       "      <td>27</td>\n",
       "    </tr>\n",
       "    <tr>\n",
       "      <th>1</th>\n",
       "      <td>0002</td>\n",
       "      <td>20</td>\n",
       "      <td>27</td>\n",
       "    </tr>\n",
       "    <tr>\n",
       "      <th>2</th>\n",
       "      <td>0003</td>\n",
       "      <td>20</td>\n",
       "      <td>27</td>\n",
       "    </tr>\n",
       "    <tr>\n",
       "      <th>3</th>\n",
       "      <td>0004</td>\n",
       "      <td>20</td>\n",
       "      <td>27</td>\n",
       "    </tr>\n",
       "    <tr>\n",
       "      <th>4</th>\n",
       "      <td>0005</td>\n",
       "      <td>20</td>\n",
       "      <td>27</td>\n",
       "    </tr>\n",
       "    <tr>\n",
       "      <th>5</th>\n",
       "      <td>0006</td>\n",
       "      <td>20</td>\n",
       "      <td>27</td>\n",
       "    </tr>\n",
       "    <tr>\n",
       "      <th>6</th>\n",
       "      <td>0007</td>\n",
       "      <td>20</td>\n",
       "      <td>27</td>\n",
       "    </tr>\n",
       "  </tbody>\n",
       "</table>\n",
       "</div>"
      ],
      "text/plain": [
       "  Channel  range_lower [°C]  range_upper [°C]\n",
       "0    0001                20                27\n",
       "1    0002                20                27\n",
       "2    0003                20                27\n",
       "3    0004                20                27\n",
       "4    0005                20                27\n",
       "5    0006                20                27\n",
       "6    0007                20                27"
      ]
     },
     "execution_count": 119,
     "metadata": {},
     "output_type": "execute_result"
    }
   ],
   "source": [
    "df_meas_display_ranges = pd.DataFrame(columns=['Channel', 'range_lower [°C]', 'range_upper [°C]'])\n",
    "\n",
    "# Iterate over the dataframe 'df_meas_display_ranges' and add ranges for each channel\n",
    "for index, row in df_meas_rec_channels.iterrows():\n",
    "    dataframe_add_row(df_meas_display_ranges, [row['Channel'], temp_display_ranges[0], temp_display_ranges[1]])\n",
    "\n",
    "df_meas_display_ranges"
   ]
  },
  {
   "cell_type": "code",
   "execution_count": 120,
   "id": "32cc8dce-294b-4086-9cd4-ea1e941bf84e",
   "metadata": {
    "scrolled": true,
    "tags": []
   },
   "outputs": [
    {
     "name": "stdout",
     "output_type": "stream",
     "text": [
      "Channel: 0001, Range lower limit: 20, Range upper limit: 27\n",
      "\n",
      "Configuring the channel was successful: E0\n",
      "URI: http://192.168.10.207/gene.cgi?msg=SRangeAI,0001,TC,K,Off,200,270,0;SMoveAve,0001,Off,2;SBurnOut,0001,Off;SRjc,0001,Internal\n",
      "Response: E0\n",
      "\n",
      "Channel: 0002, Range lower limit: 20, Range upper limit: 27\n",
      "\n",
      "Configuring the channel was successful: E0\n",
      "URI: http://192.168.10.207/gene.cgi?msg=SRangeAI,0002,TC,K,Off,200,270,0;SMoveAve,0002,Off,2;SBurnOut,0002,Off;SRjc,0002,Internal\n",
      "Response: E0\n",
      "\n",
      "Channel: 0003, Range lower limit: 20, Range upper limit: 27\n",
      "\n",
      "Configuring the channel was successful: E0\n",
      "URI: http://192.168.10.207/gene.cgi?msg=SRangeAI,0003,TC,K,Off,200,270,0;SMoveAve,0003,Off,2;SBurnOut,0003,Off;SRjc,0003,Internal\n",
      "Response: E0\n",
      "\n",
      "Channel: 0004, Range lower limit: 20, Range upper limit: 27\n",
      "\n",
      "Configuring the channel was successful: E0\n",
      "URI: http://192.168.10.207/gene.cgi?msg=SRangeAI,0004,TC,K,Off,200,270,0;SMoveAve,0004,Off,2;SBurnOut,0004,Off;SRjc,0004,Internal\n",
      "Response: E0\n",
      "\n",
      "Channel: 0005, Range lower limit: 20, Range upper limit: 27\n",
      "\n",
      "Configuring the channel was successful: E0\n",
      "URI: http://192.168.10.207/gene.cgi?msg=SRangeAI,0005,TC,K,Off,200,270,0;SMoveAve,0005,Off,2;SBurnOut,0005,Off;SRjc,0005,Internal\n",
      "Response: E0\n",
      "\n",
      "Channel: 0006, Range lower limit: 20, Range upper limit: 27\n",
      "\n",
      "Configuring the channel was successful: E0\n",
      "URI: http://192.168.10.207/gene.cgi?msg=SRangeAI,0006,TC,K,Off,200,270,0;SMoveAve,0006,Off,2;SBurnOut,0006,Off;SRjc,0006,Internal\n",
      "Response: E0\n",
      "\n",
      "Channel: 0007, Range lower limit: 20, Range upper limit: 27\n",
      "\n",
      "Configuring the channel was successful: E0\n",
      "URI: http://192.168.10.207/gene.cgi?msg=SRangeAI,0007,TC,K,Off,200,270,0;SMoveAve,0007,Off,2;SBurnOut,0007,Off;SRjc,0007,Internal\n",
      "Response: E0\n",
      "\n"
     ]
    }
   ],
   "source": [
    "# Iterate the config dataframe and upload the configurations\n",
    "for index, row in df_meas_display_ranges.iterrows():\n",
    "    print(\"Channel: {}, Range lower limit: {}, Range upper limit: {}\\r\\n\".format(row['Channel'], row['range_lower [°C]'], row['range_upper [°C]']))\n",
    "    \n",
    "    str_uri, str_response = config_meas_display_ranges(ip_of_gp10, row['Channel'], row['range_lower [°C]'], row['range_upper [°C]'])\n",
    "\n",
    "    print(\"URI: {}\\r\\nResponse: {}\\r\\n\".format(str_uri, str_response))"
   ]
  },
  {
   "cell_type": "markdown",
   "id": "2611706a-91f5-4f82-b610-59467cc40b6b",
   "metadata": {},
   "source": [
    "### Activate measuring channels in correct order"
   ]
  },
  {
   "cell_type": "code",
   "execution_count": 121,
   "id": "934daab7-7a2e-4677-81c3-39f6a02362c4",
   "metadata": {
    "tags": []
   },
   "outputs": [],
   "source": [
    "# Helper function to iterate through the config dataframe and activate measuring channels in correct order\n",
    "def activate_measuring_channels(df, str_ip):\n",
    "    # http://192.168.10.207/gene.cgi?msg=SGroup,1,On,'GROUP+1','0001.0002.0003.0004.0005.0006.0007'\n",
    "    str_uri = \"http://\" + str_ip + \"/gene.cgi?msg=SGroup,1,On,'GROUP+1','\"\n",
    "    \n",
    "    for index, row in df.iterrows():\n",
    "        # print(\"Channel: {}\\r\\n\".format(row['Channel']))\n",
    "        str_uri = str_uri + row['Channel'] + \".\"\n",
    "\n",
    "    str_uri = str_uri.rstrip('.') # cut trailing '.'\n",
    "    str_uri = str_uri + \"'\"\n",
    "    \n",
    "    str_response = http.request.urlopen(str_uri).read().decode('utf-8')\n",
    "    str_response = str_response.replace('\\r\\n', '')\n",
    "\n",
    "    if (str_response == 'E0'):\n",
    "        print(\"Activation of measuring channels was successful: {}\".format(str_response))\n",
    "    else:\n",
    "        print(\"Activation of measuring channels was NOT successful: {}\".format(str_response))\n",
    "    \n",
    "    return str_uri, str_response"
   ]
  },
  {
   "cell_type": "code",
   "execution_count": 122,
   "id": "dda240a5-b6b0-4e82-ac46-04ef72e637f2",
   "metadata": {
    "tags": []
   },
   "outputs": [
    {
     "name": "stdout",
     "output_type": "stream",
     "text": [
      "Activation of measuring channels was successful: E0\n",
      "URI: http://192.168.10.207/gene.cgi?msg=SGroup,1,On,'GROUP+1','0001.0002.0003.0004.0005.0006.0007'\n",
      "Response: E0\n"
     ]
    }
   ],
   "source": [
    "str_uri, str_response = activate_measuring_channels(df_meas_display_ranges, ip_of_gp10)\n",
    "\n",
    "print(\"URI: {}\\r\\nResponse: {}\".format(str_uri, str_response))"
   ]
  },
  {
   "cell_type": "markdown",
   "id": "7342b2bb",
   "metadata": {},
   "source": [
    "### Set timezone and summer/winter time changeover"
   ]
  },
  {
   "cell_type": "code",
   "execution_count": 123,
   "id": "143992c0",
   "metadata": {
    "tags": []
   },
   "outputs": [],
   "source": [
    "# Helper function for building the config URI and write the configurations\n",
    "def set_timezone_summer_winter_time_changeover(str_ip):    \n",
    "    str_uri = \"http://\" + str_ip + \"/gene.cgi?msg=STimeZone,\" + \"1,0;\" # timezone of 'Berlin' has to set to +1 h, 0 min UTC\n",
    "    str_uri = str_uri + \"SDateBasic,5s,NotChange;\" # do not adjust time step by step\n",
    "    str_uri = str_uri + \"SDst,Use,Mar,Last,Sun,3,\" # set summer time changeover to last sunday in march, 03:00\n",
    "    str_uri = str_uri + \"Oct,Last,Sun,3\" # set winter time changeover to last sunday in october, 03:00\n",
    "    \n",
    "    # print(str_uri)\n",
    "    \n",
    "    str_response = http.request.urlopen(str_uri).read().decode('utf-8')\n",
    "    str_response = str_response.replace('\\r\\n', '')\n",
    "\n",
    "    if (str_response == 'E0'):\n",
    "        print(\"Configuring the time settings were successful: {}\".format(str_response))\n",
    "    else:\n",
    "        print(\"Configuring the time settings were NOT successful: {}\".format(str_response))\n",
    "    \n",
    "    return str_uri, str_response"
   ]
  },
  {
   "cell_type": "code",
   "execution_count": 124,
   "id": "7d79bc6a",
   "metadata": {
    "tags": []
   },
   "outputs": [
    {
     "name": "stdout",
     "output_type": "stream",
     "text": [
      "Configuring the time settings were successful: E0\n",
      "URI: http://192.168.10.207/gene.cgi?msg=STimeZone,1,0;SDateBasic,5s,NotChange;SDst,Use,Mar,Last,Sun,3,Oct,Last,Sun,3\n",
      "Response: E0\n"
     ]
    }
   ],
   "source": [
    "str_uri, str_response = set_timezone_summer_winter_time_changeover(ip_of_gp10)\n",
    "\n",
    "print(\"URI: {}\\r\\nResponse: {}\".format(str_uri, str_response))"
   ]
  },
  {
   "cell_type": "markdown",
   "id": "1caee44e-174d-4102-a472-645523950920",
   "metadata": {},
   "source": [
    "### Configure SNTP client for time synchronization"
   ]
  },
  {
   "cell_type": "code",
   "execution_count": 125,
   "id": "77dc5f89-9361-4bda-ba0d-9e382f4e4c11",
   "metadata": {
    "tags": []
   },
   "outputs": [],
   "source": [
    "# Helper function for building the config URI and write the configurations\n",
    "def config_SNTP_client(str_ip):\n",
    "    str_uri = \"http://\" + str_ip + \"/gene.cgi?msg=SClient,\" + \"SNTP,On;\" # enable SNTP client\n",
    "    str_uri = str_uri + \"SSntpCnct,\" + \"'de.pool.ntp.org',123,\" # set URL and port of NTP server\n",
    "    str_uri = str_uri + \"0,0,6h,30s,On\" # configure sync interval, timeout and sync on boot\n",
    "    \n",
    "    # print(str_uri)\n",
    "    \n",
    "    str_response = http.request.urlopen(str_uri).read().decode('utf-8')\n",
    "    str_response = str_response.replace('\\r\\n', '')\n",
    "\n",
    "    if (str_response == 'E0'):\n",
    "        print(\"Configuring the time settings were successful: {}\".format(str_response))\n",
    "    else:\n",
    "        print(\"Configuring the time settings were NOT successful: {}\".format(str_response))\n",
    "    \n",
    "    return str_uri, str_response"
   ]
  },
  {
   "cell_type": "code",
   "execution_count": 126,
   "id": "ae953d01-acd8-49f7-ae97-6fa557026adb",
   "metadata": {
    "tags": []
   },
   "outputs": [
    {
     "name": "stdout",
     "output_type": "stream",
     "text": [
      "Configuring the time settings were successful: E0\n",
      "URI: http://192.168.10.207/gene.cgi?msg=SClient,SNTP,On;SSntpCnct,'de.pool.ntp.org',123,0,0,6h,30s,On\n",
      "Response: E0\n"
     ]
    }
   ],
   "source": [
    "str_uri, str_response = config_SNTP_client(ip_of_gp10)\n",
    "\n",
    "print(\"URI: {}\\r\\nResponse: {}\".format(str_uri, str_response))"
   ]
  },
  {
   "cell_type": "markdown",
   "id": "dd14e5b9",
   "metadata": {
    "tags": []
   },
   "source": [
    "## Start and stop the recordings\n"
   ]
  },
  {
   "cell_type": "code",
   "execution_count": 127,
   "id": "7f7cef10-b5b2-45da-8659-93cc40cfe787",
   "metadata": {
    "tags": []
   },
   "outputs": [],
   "source": [
    "# Helper function for starting and stopping the recording\n",
    "def start_stop_recording(str_ip, start_stop):\n",
    "    str_uri = \"http://\" + str_ip + \"/gene.cgi?msg=ORec,\" + start_stop\n",
    "    \n",
    "    str_response = http.request.urlopen(str_uri).read().decode('utf-8')\n",
    "    str_response = str_response.replace('\\r\\n', '')\n",
    "\n",
    "    if ((str_response == 'E0') and (start_stop == \"0\")):\n",
    "        print(\"Starting of the recording was successful: {}\".format(str_response))\n",
    "    elif ((str_response == 'E0') and (start_stop == \"1\")):\n",
    "        print(\"Stopping of the recording was successful: {}\".format(str_response))\n",
    "    else:\n",
    "        print(\"There was an error: {}\".format(str_response))\n",
    "    \n",
    "    return str_uri, str_response"
   ]
  },
  {
   "cell_type": "markdown",
   "id": "1ec764a8-537a-4ca9-bd39-b6b03c4d4c4b",
   "metadata": {},
   "source": [
    "### Set the file type of recorded file to 'Text'\n",
    "\n",
    "With this setting, ASCII text files are written to the SD card. These can be read in as CSV files in common spreadsheet programs. A tabulator is used as column separator.\n",
    "\n",
    "**Attention:** This file format is NOT readable in the tool *Universal Viewer*! Therefore, for other colleagues, the format must be changed back to \"Binary\" at the end of the measurement!"
   ]
  },
  {
   "cell_type": "code",
   "execution_count": 111,
   "id": "e89cb164",
   "metadata": {
    "tags": []
   },
   "outputs": [
    {
     "data": {
      "text/plain": [
       "\"http://192.168.10.207/gene.cgi?msg=SDirectory,'DATA0';SFileHead,'';SFileName,Date,'';SMediaSave,On,Off;SFileFormat,Text\""
      ]
     },
     "execution_count": 111,
     "metadata": {},
     "output_type": "execute_result"
    }
   ],
   "source": [
    "# URI for setting the file type\n",
    "file_type = \"Text\"\n",
    "str_uri = \"http://\" + ip_of_gp10 + \"/gene.cgi?msg=SDirectory,'DATA0';SFileHead,'';SFileName,Date,'';SMediaSave,On,Off;SFileFormat,\" + file_type\n",
    "\n",
    "str_uri"
   ]
  },
  {
   "cell_type": "code",
   "execution_count": 112,
   "id": "c29ffd49",
   "metadata": {
    "tags": []
   },
   "outputs": [
    {
     "name": "stdout",
     "output_type": "stream",
     "text": [
      "Setting file type was successful: E0\n"
     ]
    }
   ],
   "source": [
    "# Set the file type by http GET request\n",
    "str_response = http.request.urlopen(str_uri).read().decode('utf-8')\n",
    "str_response = str_response.replace('\\r\\n', '')\n",
    "\n",
    "if (str_response == 'E0'):\n",
    "    print(\"Setting file type was successful: {}\".format(str_response))\n",
    "else:\n",
    "    print(\"There was an error while setting the file type: {}\".format(str_response))"
   ]
  },
  {
   "cell_type": "markdown",
   "id": "1e616370-ed40-40df-b7fa-3ef2a78ebb45",
   "metadata": {},
   "source": [
    "### Start the recording"
   ]
  },
  {
   "cell_type": "code",
   "execution_count": 128,
   "id": "a2cc5cc5",
   "metadata": {
    "tags": []
   },
   "outputs": [
    {
     "name": "stdout",
     "output_type": "stream",
     "text": [
      "Starting of the recording was successful: E0\n",
      "URI: http://192.168.10.207/gene.cgi?msg=ORec,0\n",
      "Response: E0\n"
     ]
    }
   ],
   "source": [
    "# Start (0) the recording of measurements\n",
    "start_stop = \"0\"\n",
    "\n",
    "str_uri, str_response = start_stop_recording(ip_of_gp10, start_stop)\n",
    "\n",
    "print(\"URI: {}\\r\\nResponse: {}\".format(str_uri, str_response))"
   ]
  },
  {
   "cell_type": "markdown",
   "id": "cce033cb",
   "metadata": {},
   "source": [
    "### Stop the recording"
   ]
  },
  {
   "cell_type": "code",
   "execution_count": 129,
   "id": "ed300a4f-e298-42fb-9b1b-3fc592a5275a",
   "metadata": {
    "tags": []
   },
   "outputs": [
    {
     "name": "stdout",
     "output_type": "stream",
     "text": [
      "Stopping of the recording was successful: E0\n",
      "URI: http://192.168.10.207/gene.cgi?msg=ORec,1\n",
      "Response: E0\n"
     ]
    }
   ],
   "source": [
    "# Stop (1) the recording of measurements\n",
    "start_stop = \"1\"\n",
    "\n",
    "str_uri, str_response = start_stop_recording(ip_of_gp10, start_stop)\n",
    "\n",
    "print(\"URI: {}\\r\\nResponse: {}\".format(str_uri, str_response))"
   ]
  },
  {
   "cell_type": "markdown",
   "id": "b5a2b830",
   "metadata": {},
   "source": [
    "### Reset the file type of recorded file to 'Binary'\n",
    "\n",
    "This format is the default setting of the measuring device. The resulting **GDS** files can be further processed by the Windows tool *Universal Viewer*.\n",
    "\n",
    "The specification of the GDS file format is kept secret after inquiry with the Yokogawa support -- for \"security\" reasons was said there ... But this is quite nonsense, because \"security by obscurity\" is not a good security approach, as several incidents have impressively shown ... but anyway ..."
   ]
  },
  {
   "cell_type": "code",
   "execution_count": 141,
   "id": "e9167764",
   "metadata": {
    "tags": []
   },
   "outputs": [
    {
     "data": {
      "text/plain": [
       "\"http://192.168.10.207/gene.cgi?msg=SDirectory,'DATA0';SFileHead,'';SFileName,Date,'';SMediaSave,On,Off;SFileFormat,Binary\""
      ]
     },
     "execution_count": 141,
     "metadata": {},
     "output_type": "execute_result"
    }
   ],
   "source": [
    "# URI for setting the file type\n",
    "file_type = \"Binary\"\n",
    "str_uri = \"http://\" + ip_of_gp10 + \"/gene.cgi?msg=SDirectory,'DATA0';SFileHead,'';SFileName,Date,'';SMediaSave,On,Off;SFileFormat,\" + file_type\n",
    "\n",
    "str_uri"
   ]
  },
  {
   "cell_type": "code",
   "execution_count": 142,
   "id": "9dc3caf1",
   "metadata": {
    "tags": []
   },
   "outputs": [
    {
     "name": "stdout",
     "output_type": "stream",
     "text": [
      "Setting file type was successful: E0\n"
     ]
    }
   ],
   "source": [
    "# Set the file type by http GET request\n",
    "str_response = http.request.urlopen(str_uri).read().decode('utf-8')\n",
    "str_response = str_response.replace('\\r\\n', '')\n",
    "\n",
    "if (str_response == 'E0'):\n",
    "    print(\"Setting file type was successful: {}\".format(str_response))\n",
    "else:\n",
    "    print(\"There was an error while setting the file type: {}\".format(str_response))"
   ]
  },
  {
   "cell_type": "markdown",
   "id": "83644874",
   "metadata": {},
   "source": [
    "## Read file list and download data files\n",
    "\n",
    "### Read in the file list from SD card"
   ]
  },
  {
   "cell_type": "code",
   "execution_count": 154,
   "id": "e7666b12",
   "metadata": {
    "scrolled": true,
    "tags": []
   },
   "outputs": [
    {
     "data": {
      "text/plain": [
       "['EA',\n",
       " '20/12/09 12:47:34      <DIR> .',\n",
       " '20/12/09 12:47:34      <DIR> ..',\n",
       " '20/12/09 12:47:34     424432 000086_201209_080310.GDS',\n",
       " '21/03/18 15:35:58      15328 000087_210318_153110.GDS',\n",
       " '21/03/18 15:45:14      12640 000088_210318_154210.GDS',\n",
       " '21/03/18 16:13:44       8984 000089_210318_161310.GDS',\n",
       " '21/03/18 16:27:08      25816 000090_210318_161510.GDS',\n",
       " '21/03/19 09:50:04     110240 000091_210319_084020.GDS',\n",
       " '21/03/25 16:59:18      19440 000092_210325_165150.GDS',\n",
       " '21/03/26 16:59:00     430832 000093_210326_121020.GDS',\n",
       " '21/03/31 18:48:44     597960 000094_210331_120550.GDS',\n",
       " '21/04/01 16:48:50     425936 000095_210401_120330.GDS',\n",
       " '21/04/06 17:15:20     277344 000096_210406_141130.GDS',\n",
       " '21/04/07 16:02:48     559048 000094_210331_120550.GDS.vdx',\n",
       " '21/04/07 16:06:02     559048 000095_210401_120330.GDS.vdx',\n",
       " '21/04/07 16:09:18     559048 000096_210406_141130.GDS.vdx',\n",
       " '21/04/08 16:52:34     460344 000097_210408_114340.GDS',\n",
       " '21/04/15 09:26:40       5850 000098_210415_092340.GTD',\n",
       " '21/05/04 12:24:22       1029 000001_210504_122420.GMN',\n",
       " '21/05/04 13:41:48       2229 000099_210504_134140.GTD',\n",
       " '21/05/04 14:04:44      26320 000100_210504_134540.GTD',\n",
       " '21/05/04 14:08:48       9920 000101_210504_140740.GDS',\n",
       " '21/05/04 14:28:28      36512 000102_210504_140910.GDS',\n",
       " '21/05/04 14:29:48       9184 000103_210504_142910.GDS',\n",
       " '21/05/04 14:36:44      16992 000104_210504_143040.GDS',\n",
       " '21/05/04 14:49:24      26024 000105_210504_143710.GDS',\n",
       " '21/05/04 15:16:38      11136 000106_210504_151440.GDS',\n",
       " '21/05/04 15:26:24       3740 000107_210504_152500.GTD',\n",
       " '21/05/04 19:18:48       5445 000108_210504_191610.GTD',\n",
       " '21/05/05 12:13:50     117697 000109_210505_104320.GTD',\n",
       " '22/02/01 14:23:38       4480 000115_220201_142330.GDS',\n",
       " '22/07/12 09:57:24       4480 000116_220712_095710.GDS',\n",
       " '22/07/12 14:48:04     168264 000117_220712_101450.GDS',\n",
       " '22/08/01 15:07:44     239760 000118_220801_083520.GDS',\n",
       " '22/08/02 13:13:44     182464 000119_220802_081650.GDS',\n",
       " '22/11/08 14:28:30     147368 000120_221108_102950.GDS',\n",
       " '22/11/09 11:26:14     220320 000121_221109_070230.GDS',\n",
       " '23/01/05 13:43:00     335920 000122_230105_065740.GDS',\n",
       " '23/01/10 14:14:50     309936 000123_230110_080100.GDS',\n",
       " '23/02/14 10:39:14      81624 000125_230214_090530.GDS',\n",
       " '23/02/20 11:09:10      24912 000126_230220_104500.GDS',\n",
       " '23/02/20 11:17:34       6824 000127_230220_111530.GDS',\n",
       " '23/02/20 11:21:38       2702 000128_230220_112000.GTD',\n",
       " '23/02/20 14:55:30      46482 000129_230220_135430.GTD',\n",
       " '23/02/20 14:57:24       1965 000130_230220_145640.GTD',\n",
       " '23/02/20 15:53:38      42803 000131_230220_145740.GTD',\n",
       " '23/02/20 17:11:34      57932 000132_230220_155500.GTD',\n",
       " '23/02/20 17:30:58      14380 000133_230220_171330.GTD',\n",
       " '23/02/22 11:15:34       8056 000140_230222_111200.GDS',\n",
       " '23/02/21 09:36:00      21149 000135_230221_090910.GTD',\n",
       " '23/02/21 09:45:38       8365 000136_230221_093620.GTD',\n",
       " '23/02/21 13:45:44     175890 000137_230221_094920.GTD',\n",
       " '23/02/21 16:21:00     109818 000138_230221_135410.GTD',\n",
       " '23/02/22 11:20:18       4486 000141_230222_111620.GTD',\n",
       " '23/02/22 11:24:14       5608 000142_230222_112340.GDS',\n",
       " '23/02/22 11:30:08       8736 000143_230222_112550.GDS',\n",
       " '23/02/24 14:28:50      23560 000144_230224_140620.GDS',\n",
       " '23/02/24 17:15:30     120722 000145_230224_143400.GTD',\n",
       " '23/03/24 12:13:20      32398 000146_230324_113130.GTD',\n",
       " '23/03/24 12:31:58      12358 000147_230324_121720.GTD',\n",
       " '23/03/24 15:48:34     155282 000148_230324_122010.GTD',\n",
       " '23/03/27 10:55:14      67090 000149_230327_092620.GTD',\n",
       " '23/03/27 17:09:04     234976 000150_230327_115240.GTD',\n",
       " '23/03/28 12:43:40     147778 000151_230328_092530.GTD',\n",
       " '23/03/28 17:00:14      92049 000152_230328_145730.GTD',\n",
       " '23/03/29 12:23:54     142982 000153_230329_091210.GTD',\n",
       " '23/03/31 14:56:44       5400 000154_230331_145630.GDS',\n",
       " '23/04/03 11:40:18       2760 000155_230403_113840.GTD',\n",
       " '23/04/11 08:05:28       3520 000156_230411_080500.GDS',\n",
       " '23/04/11 14:11:04     143616 000157_230411_080540.GDS',\n",
       " '23/04/13 12:06:20     259424 000158_230413_065500.GDS',\n",
       " '23/10/26 12:11:14     199824 000159_231026_072050.GDS',\n",
       " '24/02/27 15:46:18       4024 000160_240227_154600.GDS',\n",
       " '24/02/28 14:00:38     122808 000161_240228_093950.GDS',\n",
       " '24/02/29 11:57:58      50528 000162_240229_101540.GDS',\n",
       " '24/03/01 16:27:08      46560 000163_240301_140810.GDS',\n",
       " '24/03/04 12:33:44      42664 000164_240304_102710.GDS',\n",
       " '24/03/04 15:32:50    2354568 000164_240304_102710.GDS.vdx',\n",
       " '24/08/13 12:28:28      10523 000165_240813_115850.GTD',\n",
       " '24/08/13 12:42:24       1475 000166_240813_124100.GTD',\n",
       " '24/08/13 13:55:04      39913 000167_240813_124600.GTD',\n",
       " '24/08/13 13:56:14       1502 000168_240813_135600.GTD',\n",
       " '24/08/13 16:57:54      95073 000169_240813_141000.GTD',\n",
       " '24/08/14 12:00:40      96949 000170_240814_090930.GTD',\n",
       " '24/08/14 12:06:18       1807 000171_240814_120540.GTD',\n",
       " '24/08/14 13:50:44      56312 000172_240814_122440.GDS',\n",
       " 'EN',\n",
       " '']"
      ]
     },
     "execution_count": 154,
     "metadata": {},
     "output_type": "execute_result"
    }
   ],
   "source": [
    "# URI for getting the file list\n",
    "str_uri = 'http://' + ip_of_gp10 + '/gene.cgi?msg=FMedia,DIR,%27/DRV0/DATA0/%27,1'\n",
    "\n",
    "# Convert byte stream from the http response to string \n",
    "str_file_list = http.request.urlopen(str_uri).read().decode('utf-8')\n",
    "\n",
    "# Split string by '\\r\\n' and convert it to a list\n",
    "lst_file_list = list(str_file_list.split('\\r\\n'))\n",
    "lst_file_list"
   ]
  },
  {
   "cell_type": "code",
   "execution_count": 144,
   "id": "9c313d34",
   "metadata": {
    "tags": []
   },
   "outputs": [
    {
     "data": {
      "text/html": [
       "<div>\n",
       "<style scoped>\n",
       "    .dataframe tbody tr th:only-of-type {\n",
       "        vertical-align: middle;\n",
       "    }\n",
       "\n",
       "    .dataframe tbody tr th {\n",
       "        vertical-align: top;\n",
       "    }\n",
       "\n",
       "    .dataframe thead th {\n",
       "        text-align: right;\n",
       "    }\n",
       "</style>\n",
       "<table border=\"1\" class=\"dataframe\">\n",
       "  <thead>\n",
       "    <tr style=\"text-align: right;\">\n",
       "      <th></th>\n",
       "      <th>0</th>\n",
       "      <th>1</th>\n",
       "      <th>2</th>\n",
       "      <th>3</th>\n",
       "    </tr>\n",
       "  </thead>\n",
       "  <tbody>\n",
       "    <tr>\n",
       "      <th>76</th>\n",
       "      <td>24/08/13</td>\n",
       "      <td>12:28:28</td>\n",
       "      <td>10523</td>\n",
       "      <td>000165_240813_115850.GTD</td>\n",
       "    </tr>\n",
       "    <tr>\n",
       "      <th>77</th>\n",
       "      <td>24/08/13</td>\n",
       "      <td>12:42:24</td>\n",
       "      <td>1475</td>\n",
       "      <td>000166_240813_124100.GTD</td>\n",
       "    </tr>\n",
       "    <tr>\n",
       "      <th>78</th>\n",
       "      <td>24/08/13</td>\n",
       "      <td>13:55:04</td>\n",
       "      <td>39913</td>\n",
       "      <td>000167_240813_124600.GTD</td>\n",
       "    </tr>\n",
       "    <tr>\n",
       "      <th>79</th>\n",
       "      <td>24/08/13</td>\n",
       "      <td>13:56:14</td>\n",
       "      <td>1502</td>\n",
       "      <td>000168_240813_135600.GTD</td>\n",
       "    </tr>\n",
       "    <tr>\n",
       "      <th>80</th>\n",
       "      <td>24/08/13</td>\n",
       "      <td>16:57:54</td>\n",
       "      <td>95073</td>\n",
       "      <td>000169_240813_141000.GTD</td>\n",
       "    </tr>\n",
       "    <tr>\n",
       "      <th>81</th>\n",
       "      <td>24/08/14</td>\n",
       "      <td>12:00:40</td>\n",
       "      <td>96949</td>\n",
       "      <td>000170_240814_090930.GTD</td>\n",
       "    </tr>\n",
       "    <tr>\n",
       "      <th>82</th>\n",
       "      <td>24/08/14</td>\n",
       "      <td>12:06:18</td>\n",
       "      <td>1807</td>\n",
       "      <td>000171_240814_120540.GTD</td>\n",
       "    </tr>\n",
       "    <tr>\n",
       "      <th>83</th>\n",
       "      <td>24/08/14</td>\n",
       "      <td>13:50:44</td>\n",
       "      <td>56312</td>\n",
       "      <td>000172_240814_122440.GDS</td>\n",
       "    </tr>\n",
       "  </tbody>\n",
       "</table>\n",
       "</div>"
      ],
      "text/plain": [
       "           0         1      2                         3\n",
       "76  24/08/13  12:28:28  10523  000165_240813_115850.GTD\n",
       "77  24/08/13  12:42:24   1475  000166_240813_124100.GTD\n",
       "78  24/08/13  13:55:04  39913  000167_240813_124600.GTD\n",
       "79  24/08/13  13:56:14   1502  000168_240813_135600.GTD\n",
       "80  24/08/13  16:57:54  95073  000169_240813_141000.GTD\n",
       "81  24/08/14  12:00:40  96949  000170_240814_090930.GTD\n",
       "82  24/08/14  12:06:18   1807  000171_240814_120540.GTD\n",
       "83  24/08/14  13:50:44  56312  000172_240814_122440.GDS"
      ]
     },
     "execution_count": 144,
     "metadata": {},
     "output_type": "execute_result"
    }
   ],
   "source": [
    "# Read file list to dataframe\n",
    "df_file_list = pd.DataFrame(lst_file_list)\n",
    "\n",
    "# Drop first 3 and last 2 rows\n",
    "df_file_list.drop([0, 1, 2], inplace=True)\n",
    "df_file_list.drop(df_file_list.tail(2).index, inplace=True)\n",
    "\n",
    "# Split single column into multiple ones\n",
    "df_file_list_split = df_file_list[0].str.split(expand=True)\n",
    "\n",
    "# Reset the index of dataframe and avoid the old index being added as a column\n",
    "df_file_list_split.reset_index(drop=True, inplace=True)\n",
    "\n",
    "# display the last (i.e. newest) files\n",
    "df_file_list_split.tail(8)"
   ]
  },
  {
   "cell_type": "code",
   "execution_count": 145,
   "id": "2cb71ab4",
   "metadata": {
    "tags": []
   },
   "outputs": [
    {
     "data": {
      "text/html": [
       "<div>\n",
       "<style scoped>\n",
       "    .dataframe tbody tr th:only-of-type {\n",
       "        vertical-align: middle;\n",
       "    }\n",
       "\n",
       "    .dataframe tbody tr th {\n",
       "        vertical-align: top;\n",
       "    }\n",
       "\n",
       "    .dataframe thead th {\n",
       "        text-align: right;\n",
       "    }\n",
       "</style>\n",
       "<table border=\"1\" class=\"dataframe\">\n",
       "  <thead>\n",
       "    <tr style=\"text-align: right;\">\n",
       "      <th></th>\n",
       "      <th>Date</th>\n",
       "      <th>Time</th>\n",
       "      <th>File size</th>\n",
       "      <th>File name</th>\n",
       "    </tr>\n",
       "  </thead>\n",
       "  <tbody>\n",
       "    <tr>\n",
       "      <th>0</th>\n",
       "      <td>20/12/09</td>\n",
       "      <td>12:47:34</td>\n",
       "      <td>424432</td>\n",
       "      <td>000086_201209_080310.GDS</td>\n",
       "    </tr>\n",
       "    <tr>\n",
       "      <th>1</th>\n",
       "      <td>21/03/18</td>\n",
       "      <td>15:35:58</td>\n",
       "      <td>15328</td>\n",
       "      <td>000087_210318_153110.GDS</td>\n",
       "    </tr>\n",
       "    <tr>\n",
       "      <th>2</th>\n",
       "      <td>21/03/18</td>\n",
       "      <td>15:45:14</td>\n",
       "      <td>12640</td>\n",
       "      <td>000088_210318_154210.GDS</td>\n",
       "    </tr>\n",
       "  </tbody>\n",
       "</table>\n",
       "</div>"
      ],
      "text/plain": [
       "       Date      Time File size                 File name\n",
       "0  20/12/09  12:47:34    424432  000086_201209_080310.GDS\n",
       "1  21/03/18  15:35:58     15328  000087_210318_153110.GDS\n",
       "2  21/03/18  15:45:14     12640  000088_210318_154210.GDS"
      ]
     },
     "execution_count": 145,
     "metadata": {},
     "output_type": "execute_result"
    }
   ],
   "source": [
    "# Rename columns by column index\n",
    "df_file_list_new = df_file_list_split.rename(columns={ df_file_list_split.columns[0]: \"Date\", \n",
    "                                                       df_file_list_split.columns[1]: \"Time\",\n",
    "                                                       df_file_list_split.columns[2]: \"File size\",\n",
    "                                                       df_file_list_split.columns[3]: \"File name\" })\n",
    "\n",
    "df_file_list_new.head(3)"
   ]
  },
  {
   "cell_type": "code",
   "execution_count": 146,
   "id": "905b3251",
   "metadata": {
    "tags": []
   },
   "outputs": [],
   "source": [
    "# Combine date and time columns to a new datetime array\n",
    "# Hints:\n",
    "# Parameter 'format=\"%y/%m/%d %H:%M:%S\"' defines the INPUT data format of the raw original string\n",
    "# With method '.dt.strftime('%d.%m.%Y, %H:%M:%S')' you can define the OUTPUT data format\n",
    "new_dt_column = pd.to_datetime(df_file_list_new['Date'] + ' ' + df_file_list_new['Time'], format=\"%y/%m/%d %H:%M:%S\") #.dt.strftime('%d.%m.%Y, %H:%M:%S')\n",
    "\n",
    "# Replace values of 'Date' row with new datetime array\n",
    "df_file_list_new['Date'] = new_dt_column\n",
    "\n",
    "# Rename row to 'Datetime'\n",
    "df_file_list_new = df_file_list_new.rename(columns={'Date': 'Datetime'})\n",
    "\n",
    "# Delete unused row 'Time'\n",
    "del df_file_list_new['Time']\n",
    "\n",
    "# Cast values to correct data types\n",
    "df_file_list_new['File size'] = df_file_list_new['File size'].astype(int)\n",
    "df_file_list_new['File name'] = df_file_list_new['File name'].astype(str)"
   ]
  },
  {
   "cell_type": "code",
   "execution_count": 153,
   "id": "f507df66",
   "metadata": {
    "tags": []
   },
   "outputs": [
    {
     "data": {
      "text/html": [
       "<div>\n",
       "<style scoped>\n",
       "    .dataframe tbody tr th:only-of-type {\n",
       "        vertical-align: middle;\n",
       "    }\n",
       "\n",
       "    .dataframe tbody tr th {\n",
       "        vertical-align: top;\n",
       "    }\n",
       "\n",
       "    .dataframe thead th {\n",
       "        text-align: right;\n",
       "    }\n",
       "</style>\n",
       "<table border=\"1\" class=\"dataframe\">\n",
       "  <thead>\n",
       "    <tr style=\"text-align: right;\">\n",
       "      <th></th>\n",
       "      <th>Datetime</th>\n",
       "      <th>File size</th>\n",
       "      <th>File name</th>\n",
       "    </tr>\n",
       "  </thead>\n",
       "  <tbody>\n",
       "    <tr>\n",
       "      <th>4</th>\n",
       "      <td>2021-05-04 19:18:48</td>\n",
       "      <td>5445</td>\n",
       "      <td>000108_210504_191610.GTD</td>\n",
       "    </tr>\n",
       "    <tr>\n",
       "      <th>3</th>\n",
       "      <td>2021-05-04 15:26:24</td>\n",
       "      <td>3740</td>\n",
       "      <td>000107_210504_152500.GTD</td>\n",
       "    </tr>\n",
       "    <tr>\n",
       "      <th>2</th>\n",
       "      <td>2021-05-04 14:04:44</td>\n",
       "      <td>26320</td>\n",
       "      <td>000100_210504_134540.GTD</td>\n",
       "    </tr>\n",
       "    <tr>\n",
       "      <th>1</th>\n",
       "      <td>2021-05-04 13:41:48</td>\n",
       "      <td>2229</td>\n",
       "      <td>000099_210504_134140.GTD</td>\n",
       "    </tr>\n",
       "    <tr>\n",
       "      <th>0</th>\n",
       "      <td>2021-04-15 09:26:40</td>\n",
       "      <td>5850</td>\n",
       "      <td>000098_210415_092340.GTD</td>\n",
       "    </tr>\n",
       "  </tbody>\n",
       "</table>\n",
       "</div>"
      ],
      "text/plain": [
       "             Datetime  File size                 File name\n",
       "4 2021-05-04 19:18:48       5445  000108_210504_191610.GTD\n",
       "3 2021-05-04 15:26:24       3740  000107_210504_152500.GTD\n",
       "2 2021-05-04 14:04:44      26320  000100_210504_134540.GTD\n",
       "1 2021-05-04 13:41:48       2229  000099_210504_134140.GTD\n",
       "0 2021-04-15 09:26:40       5850  000098_210415_092340.GTD"
      ]
     },
     "execution_count": 153,
     "metadata": {},
     "output_type": "execute_result"
    }
   ],
   "source": [
    "# View first 5 files in the list\n",
    "df_file_list_new.tail(5)"
   ]
  },
  {
   "cell_type": "code",
   "execution_count": 149,
   "id": "2cf7c87d",
   "metadata": {
    "tags": []
   },
   "outputs": [
    {
     "data": {
      "text/plain": [
       "Datetime     datetime64[ns]\n",
       "File size             int64\n",
       "File name            object\n",
       "dtype: object"
      ]
     },
     "execution_count": 149,
     "metadata": {},
     "output_type": "execute_result"
    }
   ],
   "source": [
    "df_file_list_new.dtypes"
   ]
  },
  {
   "cell_type": "code",
   "execution_count": 150,
   "id": "c43c1c31",
   "metadata": {
    "tags": []
   },
   "outputs": [],
   "source": [
    "# Delete rows with file types other than GTD\n",
    "# '~' negates the search string\n",
    "df_file_list_new.drop(df_file_list_new[~df_file_list_new['File name'].str.contains(\"GTD\")].index, inplace=True)\n",
    "\n",
    "# Reset the index of dataframe and avoid the old index being added as a column\n",
    "df_file_list_new.reset_index(drop=True, inplace=True)"
   ]
  },
  {
   "cell_type": "code",
   "execution_count": 151,
   "id": "9c162827",
   "metadata": {
    "tags": []
   },
   "outputs": [],
   "source": [
    "# Sort the dataframe by column 'Datetime' descending to get the newest file on top\n",
    "df_file_list_new.sort_values(by='Datetime', ascending=False, inplace=True)"
   ]
  },
  {
   "cell_type": "code",
   "execution_count": 152,
   "id": "0c837202",
   "metadata": {
    "scrolled": true,
    "tags": []
   },
   "outputs": [
    {
     "data": {
      "text/html": [
       "<div>\n",
       "<style scoped>\n",
       "    .dataframe tbody tr th:only-of-type {\n",
       "        vertical-align: middle;\n",
       "    }\n",
       "\n",
       "    .dataframe tbody tr th {\n",
       "        vertical-align: top;\n",
       "    }\n",
       "\n",
       "    .dataframe thead th {\n",
       "        text-align: right;\n",
       "    }\n",
       "</style>\n",
       "<table border=\"1\" class=\"dataframe\">\n",
       "  <thead>\n",
       "    <tr style=\"text-align: right;\">\n",
       "      <th></th>\n",
       "      <th>Datetime</th>\n",
       "      <th>File size</th>\n",
       "      <th>File name</th>\n",
       "    </tr>\n",
       "  </thead>\n",
       "  <tbody>\n",
       "    <tr>\n",
       "      <th>33</th>\n",
       "      <td>2024-08-14 12:06:18</td>\n",
       "      <td>1807</td>\n",
       "      <td>000171_240814_120540.GTD</td>\n",
       "    </tr>\n",
       "    <tr>\n",
       "      <th>32</th>\n",
       "      <td>2024-08-14 12:00:40</td>\n",
       "      <td>96949</td>\n",
       "      <td>000170_240814_090930.GTD</td>\n",
       "    </tr>\n",
       "    <tr>\n",
       "      <th>31</th>\n",
       "      <td>2024-08-13 16:57:54</td>\n",
       "      <td>95073</td>\n",
       "      <td>000169_240813_141000.GTD</td>\n",
       "    </tr>\n",
       "    <tr>\n",
       "      <th>30</th>\n",
       "      <td>2024-08-13 13:56:14</td>\n",
       "      <td>1502</td>\n",
       "      <td>000168_240813_135600.GTD</td>\n",
       "    </tr>\n",
       "    <tr>\n",
       "      <th>29</th>\n",
       "      <td>2024-08-13 13:55:04</td>\n",
       "      <td>39913</td>\n",
       "      <td>000167_240813_124600.GTD</td>\n",
       "    </tr>\n",
       "    <tr>\n",
       "      <th>28</th>\n",
       "      <td>2024-08-13 12:42:24</td>\n",
       "      <td>1475</td>\n",
       "      <td>000166_240813_124100.GTD</td>\n",
       "    </tr>\n",
       "    <tr>\n",
       "      <th>27</th>\n",
       "      <td>2024-08-13 12:28:28</td>\n",
       "      <td>10523</td>\n",
       "      <td>000165_240813_115850.GTD</td>\n",
       "    </tr>\n",
       "    <tr>\n",
       "      <th>26</th>\n",
       "      <td>2023-04-03 11:40:18</td>\n",
       "      <td>2760</td>\n",
       "      <td>000155_230403_113840.GTD</td>\n",
       "    </tr>\n",
       "    <tr>\n",
       "      <th>25</th>\n",
       "      <td>2023-03-29 12:23:54</td>\n",
       "      <td>142982</td>\n",
       "      <td>000153_230329_091210.GTD</td>\n",
       "    </tr>\n",
       "    <tr>\n",
       "      <th>24</th>\n",
       "      <td>2023-03-28 17:00:14</td>\n",
       "      <td>92049</td>\n",
       "      <td>000152_230328_145730.GTD</td>\n",
       "    </tr>\n",
       "    <tr>\n",
       "      <th>23</th>\n",
       "      <td>2023-03-28 12:43:40</td>\n",
       "      <td>147778</td>\n",
       "      <td>000151_230328_092530.GTD</td>\n",
       "    </tr>\n",
       "    <tr>\n",
       "      <th>22</th>\n",
       "      <td>2023-03-27 17:09:04</td>\n",
       "      <td>234976</td>\n",
       "      <td>000150_230327_115240.GTD</td>\n",
       "    </tr>\n",
       "    <tr>\n",
       "      <th>21</th>\n",
       "      <td>2023-03-27 10:55:14</td>\n",
       "      <td>67090</td>\n",
       "      <td>000149_230327_092620.GTD</td>\n",
       "    </tr>\n",
       "    <tr>\n",
       "      <th>20</th>\n",
       "      <td>2023-03-24 15:48:34</td>\n",
       "      <td>155282</td>\n",
       "      <td>000148_230324_122010.GTD</td>\n",
       "    </tr>\n",
       "    <tr>\n",
       "      <th>19</th>\n",
       "      <td>2023-03-24 12:31:58</td>\n",
       "      <td>12358</td>\n",
       "      <td>000147_230324_121720.GTD</td>\n",
       "    </tr>\n",
       "    <tr>\n",
       "      <th>18</th>\n",
       "      <td>2023-03-24 12:13:20</td>\n",
       "      <td>32398</td>\n",
       "      <td>000146_230324_113130.GTD</td>\n",
       "    </tr>\n",
       "    <tr>\n",
       "      <th>17</th>\n",
       "      <td>2023-02-24 17:15:30</td>\n",
       "      <td>120722</td>\n",
       "      <td>000145_230224_143400.GTD</td>\n",
       "    </tr>\n",
       "    <tr>\n",
       "      <th>16</th>\n",
       "      <td>2023-02-22 11:20:18</td>\n",
       "      <td>4486</td>\n",
       "      <td>000141_230222_111620.GTD</td>\n",
       "    </tr>\n",
       "    <tr>\n",
       "      <th>15</th>\n",
       "      <td>2023-02-21 16:21:00</td>\n",
       "      <td>109818</td>\n",
       "      <td>000138_230221_135410.GTD</td>\n",
       "    </tr>\n",
       "    <tr>\n",
       "      <th>14</th>\n",
       "      <td>2023-02-21 13:45:44</td>\n",
       "      <td>175890</td>\n",
       "      <td>000137_230221_094920.GTD</td>\n",
       "    </tr>\n",
       "    <tr>\n",
       "      <th>13</th>\n",
       "      <td>2023-02-21 09:45:38</td>\n",
       "      <td>8365</td>\n",
       "      <td>000136_230221_093620.GTD</td>\n",
       "    </tr>\n",
       "    <tr>\n",
       "      <th>12</th>\n",
       "      <td>2023-02-21 09:36:00</td>\n",
       "      <td>21149</td>\n",
       "      <td>000135_230221_090910.GTD</td>\n",
       "    </tr>\n",
       "    <tr>\n",
       "      <th>11</th>\n",
       "      <td>2023-02-20 17:30:58</td>\n",
       "      <td>14380</td>\n",
       "      <td>000133_230220_171330.GTD</td>\n",
       "    </tr>\n",
       "    <tr>\n",
       "      <th>10</th>\n",
       "      <td>2023-02-20 17:11:34</td>\n",
       "      <td>57932</td>\n",
       "      <td>000132_230220_155500.GTD</td>\n",
       "    </tr>\n",
       "    <tr>\n",
       "      <th>9</th>\n",
       "      <td>2023-02-20 15:53:38</td>\n",
       "      <td>42803</td>\n",
       "      <td>000131_230220_145740.GTD</td>\n",
       "    </tr>\n",
       "    <tr>\n",
       "      <th>8</th>\n",
       "      <td>2023-02-20 14:57:24</td>\n",
       "      <td>1965</td>\n",
       "      <td>000130_230220_145640.GTD</td>\n",
       "    </tr>\n",
       "    <tr>\n",
       "      <th>7</th>\n",
       "      <td>2023-02-20 14:55:30</td>\n",
       "      <td>46482</td>\n",
       "      <td>000129_230220_135430.GTD</td>\n",
       "    </tr>\n",
       "    <tr>\n",
       "      <th>6</th>\n",
       "      <td>2023-02-20 11:21:38</td>\n",
       "      <td>2702</td>\n",
       "      <td>000128_230220_112000.GTD</td>\n",
       "    </tr>\n",
       "    <tr>\n",
       "      <th>5</th>\n",
       "      <td>2021-05-05 12:13:50</td>\n",
       "      <td>117697</td>\n",
       "      <td>000109_210505_104320.GTD</td>\n",
       "    </tr>\n",
       "    <tr>\n",
       "      <th>4</th>\n",
       "      <td>2021-05-04 19:18:48</td>\n",
       "      <td>5445</td>\n",
       "      <td>000108_210504_191610.GTD</td>\n",
       "    </tr>\n",
       "    <tr>\n",
       "      <th>3</th>\n",
       "      <td>2021-05-04 15:26:24</td>\n",
       "      <td>3740</td>\n",
       "      <td>000107_210504_152500.GTD</td>\n",
       "    </tr>\n",
       "    <tr>\n",
       "      <th>2</th>\n",
       "      <td>2021-05-04 14:04:44</td>\n",
       "      <td>26320</td>\n",
       "      <td>000100_210504_134540.GTD</td>\n",
       "    </tr>\n",
       "    <tr>\n",
       "      <th>1</th>\n",
       "      <td>2021-05-04 13:41:48</td>\n",
       "      <td>2229</td>\n",
       "      <td>000099_210504_134140.GTD</td>\n",
       "    </tr>\n",
       "    <tr>\n",
       "      <th>0</th>\n",
       "      <td>2021-04-15 09:26:40</td>\n",
       "      <td>5850</td>\n",
       "      <td>000098_210415_092340.GTD</td>\n",
       "    </tr>\n",
       "  </tbody>\n",
       "</table>\n",
       "</div>"
      ],
      "text/plain": [
       "              Datetime  File size                 File name\n",
       "33 2024-08-14 12:06:18       1807  000171_240814_120540.GTD\n",
       "32 2024-08-14 12:00:40      96949  000170_240814_090930.GTD\n",
       "31 2024-08-13 16:57:54      95073  000169_240813_141000.GTD\n",
       "30 2024-08-13 13:56:14       1502  000168_240813_135600.GTD\n",
       "29 2024-08-13 13:55:04      39913  000167_240813_124600.GTD\n",
       "28 2024-08-13 12:42:24       1475  000166_240813_124100.GTD\n",
       "27 2024-08-13 12:28:28      10523  000165_240813_115850.GTD\n",
       "26 2023-04-03 11:40:18       2760  000155_230403_113840.GTD\n",
       "25 2023-03-29 12:23:54     142982  000153_230329_091210.GTD\n",
       "24 2023-03-28 17:00:14      92049  000152_230328_145730.GTD\n",
       "23 2023-03-28 12:43:40     147778  000151_230328_092530.GTD\n",
       "22 2023-03-27 17:09:04     234976  000150_230327_115240.GTD\n",
       "21 2023-03-27 10:55:14      67090  000149_230327_092620.GTD\n",
       "20 2023-03-24 15:48:34     155282  000148_230324_122010.GTD\n",
       "19 2023-03-24 12:31:58      12358  000147_230324_121720.GTD\n",
       "18 2023-03-24 12:13:20      32398  000146_230324_113130.GTD\n",
       "17 2023-02-24 17:15:30     120722  000145_230224_143400.GTD\n",
       "16 2023-02-22 11:20:18       4486  000141_230222_111620.GTD\n",
       "15 2023-02-21 16:21:00     109818  000138_230221_135410.GTD\n",
       "14 2023-02-21 13:45:44     175890  000137_230221_094920.GTD\n",
       "13 2023-02-21 09:45:38       8365  000136_230221_093620.GTD\n",
       "12 2023-02-21 09:36:00      21149  000135_230221_090910.GTD\n",
       "11 2023-02-20 17:30:58      14380  000133_230220_171330.GTD\n",
       "10 2023-02-20 17:11:34      57932  000132_230220_155500.GTD\n",
       "9  2023-02-20 15:53:38      42803  000131_230220_145740.GTD\n",
       "8  2023-02-20 14:57:24       1965  000130_230220_145640.GTD\n",
       "7  2023-02-20 14:55:30      46482  000129_230220_135430.GTD\n",
       "6  2023-02-20 11:21:38       2702  000128_230220_112000.GTD\n",
       "5  2021-05-05 12:13:50     117697  000109_210505_104320.GTD\n",
       "4  2021-05-04 19:18:48       5445  000108_210504_191610.GTD\n",
       "3  2021-05-04 15:26:24       3740  000107_210504_152500.GTD\n",
       "2  2021-05-04 14:04:44      26320  000100_210504_134540.GTD\n",
       "1  2021-05-04 13:41:48       2229  000099_210504_134140.GTD\n",
       "0  2021-04-15 09:26:40       5850  000098_210415_092340.GTD"
      ]
     },
     "execution_count": 152,
     "metadata": {},
     "output_type": "execute_result"
    }
   ],
   "source": [
    "#display(df_file_list_new)\n",
    "df_file_list_new"
   ]
  },
  {
   "cell_type": "markdown",
   "id": "f23558b7",
   "metadata": {},
   "source": [
    "### Download GTD files to local file system"
   ]
  },
  {
   "cell_type": "code",
   "execution_count": 67,
   "id": "e5f9a6c8-5b88-4ee7-9114-76fcfcbe777f",
   "metadata": {
    "tags": []
   },
   "outputs": [
    {
     "name": "stdout",
     "output_type": "stream",
     "text": [
      "The search did return a clear hit: 000170_240814_090930.GTD\n"
     ]
    }
   ],
   "source": [
    "# str_file_idx = \"000137\" # 6 A ZSR2B2\n",
    "# str_file_idx = \"000138\" # 4 A ZSR2B2\n",
    "# str_file_idx = \"000145\" # 10 A ZSR2B2\n",
    "\n",
    "# str_file_idx = \"000148\" # 4 A ZSA2B2\n",
    "# str_file_idx = \"000149\" # 10 A ZSA2B2\n",
    "# str_file_idx = \"000150\" # 4 A ZSA2B2\n",
    "# str_file_idx = \"000151\" # 4 A ZSA2B2\n",
    "# str_file_idx = \"000152\" # 10 A ZSA2B2\n",
    "# str_file_idx = \"000153\" # 4 A ZSA2B2\n",
    "str_file_idx = \"000170\" # 4 A ZSE2-2\n",
    "\n",
    "# possibly there are several hits for the search pattern,\n",
    "# therefore first save them in a list\n",
    "str_file_name_remote_list = []\n",
    "\n",
    "# Iterate over rows\n",
    "for rowIndex, row in df_file_list_new.iterrows():\n",
    "    if row['File name'].startswith(str_file_idx):\n",
    "        #print(row['File name'])\n",
    "        str_file_name_remote_list.append(row['File name'])\n",
    "\n",
    "# if the search returned a unique match, the list contains exactly 1 element\n",
    "if len(str_file_name_remote_list) == 1:\n",
    "    print(\"The search did return a clear hit: {}\".format(str_file_name_remote_list[0]))\n",
    "    str_file_name_remote = str_file_name_remote_list[0]\n",
    "else:\n",
    "    print(\"The search did not return a clear hit (either 0 or more than 1): {}\"\n",
    "          .format(str_file_name_remote_list))"
   ]
  },
  {
   "cell_type": "code",
   "execution_count": 68,
   "id": "83ad38ca-fa5f-457c-bb69-352648e3b7f9",
   "metadata": {
    "tags": []
   },
   "outputs": [],
   "source": [
    "def string_slice_n_resample(str_input, int_slice_len=2, str_sep='-'):\n",
    "    # slice input string and resample it\n",
    "    str_ret = ''\n",
    "    for i in range(0, len(str_input), int_slice_len):\n",
    "        str_ret = str_ret + str_input[i:i+int_slice_len] + str_sep\n",
    "        \n",
    "    return str_ret"
   ]
  },
  {
   "cell_type": "code",
   "execution_count": 69,
   "id": "c99d7133-ae98-4aa3-87f3-f635a16d4f2d",
   "metadata": {
    "tags": []
   },
   "outputs": [],
   "source": [
    "# split remote file name by '_' and get date and starting time\n",
    "str_file_date = str_file_name_remote.split('_')[1]\n",
    "# ... and cut file extension\n",
    "str_file_time = str_file_name_remote.split('_')[2].replace('.GTD', '')"
   ]
  },
  {
   "cell_type": "code",
   "execution_count": 70,
   "id": "7bb03c15-40e5-4afd-b344-74f1b6064b0c",
   "metadata": {
    "tags": []
   },
   "outputs": [
    {
     "name": "stdout",
     "output_type": "stream",
     "text": [
      "File date: 240814, measurement start time: 090930\n"
     ]
    }
   ],
   "source": [
    "print('File date: {}, measurement start time: {}'.format(str_file_date, str_file_time))"
   ]
  },
  {
   "cell_type": "code",
   "execution_count": 71,
   "id": "02832801-432c-4d33-8d7c-3a5a1a2f8e84",
   "metadata": {
    "tags": []
   },
   "outputs": [
    {
     "data": {
      "text/plain": [
       "'2024-08-14_'"
      ]
     },
     "execution_count": 71,
     "metadata": {},
     "output_type": "execute_result"
    }
   ],
   "source": [
    "# extend file prefix by date\n",
    "str_file_date_pref = '20' + string_slice_n_resample(str_file_date, 2, '-')\n",
    "\n",
    "# replace last '-' of string with '_'\n",
    "str_file_date_pref = str_file_date_pref[:-1] + '_'\n",
    "str_file_date_pref"
   ]
  },
  {
   "cell_type": "code",
   "execution_count": 72,
   "id": "969f7b8a-2c51-4900-8142-5deabc938daa",
   "metadata": {
    "tags": []
   },
   "outputs": [
    {
     "data": {
      "text/plain": [
       "'2024-08-14_09_09_30_'"
      ]
     },
     "execution_count": 72,
     "metadata": {},
     "output_type": "execute_result"
    }
   ],
   "source": [
    "# extend file prefix by time\n",
    "str_file_date_pref = str_file_date_pref + string_slice_n_resample(str_file_time, 2, '_')\n",
    "str_file_date_pref"
   ]
  },
  {
   "cell_type": "code",
   "execution_count": 73,
   "id": "c39c6f74-0d28-45ee-8a1b-1f5f7a9cd088",
   "metadata": {
    "tags": []
   },
   "outputs": [
    {
     "data": {
      "text/plain": [
       "'2024-08-14_09_09_30_Erwaermungspruefung_ZSE2-2_4A.GTD'"
      ]
     },
     "execution_count": 73,
     "metadata": {},
     "output_type": "execute_result"
    }
   ],
   "source": [
    "# set context of measurement\n",
    "# str_measure_context = 'Erwaermungspruefung_ZSR2B2_4A'\n",
    "# str_measure_context = 'Erwaermungspruefung_ZSR2B2_6A'\n",
    "# str_measure_context = 'Erwaermungspruefung_ZSR2B2_10A'\n",
    "\n",
    "# str_measure_context = 'Erwaermungspruefung_ZSA2B2_4A'\n",
    "# str_measure_context = 'Erwaermungspruefung_ZSA2B2_10A'\n",
    "str_measure_context = 'Erwaermungspruefung_ZSE2-2_4A'\n",
    "\n",
    "str_file_name_local = str_file_date_pref + str_measure_context + '.GTD'\n",
    "str_file_name_local"
   ]
  },
  {
   "cell_type": "code",
   "execution_count": 74,
   "id": "09698f19-49c2-4fec-bf54-298b9f3752cf",
   "metadata": {
    "tags": []
   },
   "outputs": [
    {
     "data": {
      "text/plain": [
       "'http://192.168.10.207/DRV0/DATA0/000170_240814_090930.GTD'"
      ]
     },
     "execution_count": 74,
     "metadata": {},
     "output_type": "execute_result"
    }
   ],
   "source": [
    "# Expand the download URI by file name\n",
    "file_url = 'http://' + ip_of_gp10 + '/DRV0/DATA0/'\n",
    "file_url = file_url + str_file_name_remote\n",
    "\n",
    "file_url"
   ]
  },
  {
   "cell_type": "code",
   "execution_count": 75,
   "id": "1431aebb-3f0c-4fd7-ac27-031cfc60adc2",
   "metadata": {
    "tags": []
   },
   "outputs": [
    {
     "data": {
      "text/plain": [
       "'./data_files/2024-08-14_09_09_30_Erwaermungspruefung_ZSE2-2_4A.GTD'"
      ]
     },
     "execution_count": 75,
     "metadata": {},
     "output_type": "execute_result"
    }
   ],
   "source": [
    "file_dest = './data_files/' + str_file_name_local\n",
    "file_dest"
   ]
  },
  {
   "cell_type": "code",
   "execution_count": 76,
   "id": "ec016cd4-9fcc-440e-bfc1-1ee565b839e6",
   "metadata": {
    "tags": []
   },
   "outputs": [],
   "source": [
    "ret = http.request.urlretrieve(file_url, file_dest)"
   ]
  },
  {
   "cell_type": "code",
   "execution_count": 77,
   "id": "3f727fe4-7b03-48ac-99c8-a9b2e7f46881",
   "metadata": {
    "tags": []
   },
   "outputs": [
    {
     "data": {
      "text/plain": [
       "('./data_files/2024-08-14_09_09_30_Erwaermungspruefung_ZSE2-2_4A.GTD',\n",
       " <http.client.HTTPMessage at 0x73673f2cc3d0>)"
      ]
     },
     "execution_count": 77,
     "metadata": {},
     "output_type": "execute_result"
    }
   ],
   "source": [
    "ret"
   ]
  },
  {
   "cell_type": "markdown",
   "id": "42b4a74b-d891-4428-a594-bbf5bb88353f",
   "metadata": {},
   "source": [
    "## Plot recorded data from local GTD files\n",
    "\n",
    "### Read in recorded data to dataframe\n",
    "\n",
    "- https://pandas.pydata.org/docs/reference/api/pandas.read_excel.html\n",
    "- https://pythonspot.com/reading-csv-files-in-python/\n",
    "- https://stackoverflow.com/questions/7856296/parsing-csv-tab-delimited-txt-file-with-python\n",
    "- https://www.datacamp.com/community/tutorials/pandas-read-csv"
   ]
  },
  {
   "cell_type": "code",
   "execution_count": 78,
   "id": "ca8abd31-f99b-44f1-b7a5-2717e5b5bf78",
   "metadata": {
    "tags": []
   },
   "outputs": [],
   "source": [
    "import pandas as pd\n",
    "\n",
    "def create_dictionary_from_csv(filename, offset=0, cols_wanted=1):\n",
    "    my_dataframe = pd.read_csv(filename, sep='\\t', index_col=False, decimal='.', header=offset)\n",
    "    # Here you can delete the dataframe columns you dont want!\n",
    "    if 'Tag Comment' in my_dataframe.columns:\n",
    "        del my_dataframe['Tag Comment']\n",
    "    \n",
    "    # Delete all cloumns after the desired ones\n",
    "    my_dataframe.drop(my_dataframe.columns[cols_wanted:], axis=1, inplace=True)\n",
    "\n",
    "    return my_dataframe"
   ]
  },
  {
   "cell_type": "code",
   "execution_count": 79,
   "id": "f75bb857-bcb1-481e-aa65-cffd47b7649f",
   "metadata": {
    "tags": []
   },
   "outputs": [
    {
     "data": {
      "text/html": [
       "<div>\n",
       "<style scoped>\n",
       "    .dataframe tbody tr th:only-of-type {\n",
       "        vertical-align: middle;\n",
       "    }\n",
       "\n",
       "    .dataframe tbody tr th {\n",
       "        vertical-align: top;\n",
       "    }\n",
       "\n",
       "    .dataframe thead th {\n",
       "        text-align: right;\n",
       "    }\n",
       "</style>\n",
       "<table border=\"1\" class=\"dataframe\">\n",
       "  <thead>\n",
       "    <tr style=\"text-align: right;\">\n",
       "      <th></th>\n",
       "      <th>Local data files</th>\n",
       "    </tr>\n",
       "  </thead>\n",
       "  <tbody>\n",
       "    <tr>\n",
       "      <th>0</th>\n",
       "      <td>2023-02-21_09_49_20_Erwaermungspruefung_ZSR2B2_6A.GTD</td>\n",
       "    </tr>\n",
       "    <tr>\n",
       "      <th>1</th>\n",
       "      <td>2023-02-21_13_54_10_Erwaermungspruefung_ZSR2B2_4A.GTD</td>\n",
       "    </tr>\n",
       "    <tr>\n",
       "      <th>2</th>\n",
       "      <td>2023-02-24_14_34_00_Erwaermungspruefung_ZSR2B2_10A.GTD</td>\n",
       "    </tr>\n",
       "    <tr>\n",
       "      <th>3</th>\n",
       "      <td>2023-03-24_12_20_10_Erwaermungspruefung_ZSA2B2_4A.GTD</td>\n",
       "    </tr>\n",
       "    <tr>\n",
       "      <th>4</th>\n",
       "      <td>2023-03-27_09_26_20_Erwaermungspruefung_ZSA2B2_10A.GTD</td>\n",
       "    </tr>\n",
       "    <tr>\n",
       "      <th>5</th>\n",
       "      <td>2023-03-27_11_52_40_Erwaermungspruefung_ZSA2B2_4A.GTD</td>\n",
       "    </tr>\n",
       "    <tr>\n",
       "      <th>6</th>\n",
       "      <td>2023-03-28_09_25_30_Erwaermungspruefung_ZSA2B2_4A.GTD</td>\n",
       "    </tr>\n",
       "    <tr>\n",
       "      <th>7</th>\n",
       "      <td>2023-03-28_14_57_30_Erwaermungspruefung_ZSA2B2_10A.GTD</td>\n",
       "    </tr>\n",
       "    <tr>\n",
       "      <th>8</th>\n",
       "      <td>2023-03-29_09_12_10_Erwaermungspruefung_ZSA2B2_4A.GTD</td>\n",
       "    </tr>\n",
       "    <tr>\n",
       "      <th>9</th>\n",
       "      <td>2024-08-13_14_10_00_Erwaermungspruefung_ZSE2-2_4A.GTD</td>\n",
       "    </tr>\n",
       "    <tr>\n",
       "      <th>10</th>\n",
       "      <td>2024-08-14_09_09_30_Erwaermungspruefung_ZSE2-2_4A.GTD</td>\n",
       "    </tr>\n",
       "  </tbody>\n",
       "</table>\n",
       "</div>"
      ],
      "text/plain": [
       "                                          Local data files\n",
       "0    2023-02-21_09_49_20_Erwaermungspruefung_ZSR2B2_6A.GTD\n",
       "1    2023-02-21_13_54_10_Erwaermungspruefung_ZSR2B2_4A.GTD\n",
       "2   2023-02-24_14_34_00_Erwaermungspruefung_ZSR2B2_10A.GTD\n",
       "3    2023-03-24_12_20_10_Erwaermungspruefung_ZSA2B2_4A.GTD\n",
       "4   2023-03-27_09_26_20_Erwaermungspruefung_ZSA2B2_10A.GTD\n",
       "5    2023-03-27_11_52_40_Erwaermungspruefung_ZSA2B2_4A.GTD\n",
       "6    2023-03-28_09_25_30_Erwaermungspruefung_ZSA2B2_4A.GTD\n",
       "7   2023-03-28_14_57_30_Erwaermungspruefung_ZSA2B2_10A.GTD\n",
       "8    2023-03-29_09_12_10_Erwaermungspruefung_ZSA2B2_4A.GTD\n",
       "9    2024-08-13_14_10_00_Erwaermungspruefung_ZSE2-2_4A.GTD\n",
       "10   2024-08-14_09_09_30_Erwaermungspruefung_ZSE2-2_4A.GTD"
      ]
     },
     "execution_count": 79,
     "metadata": {},
     "output_type": "execute_result"
    }
   ],
   "source": [
    "# list downloaded data files (*.GTD)\n",
    "lst_file_list_local = []\n",
    "for file in os.listdir('./data_files/'):\n",
    "    if file.endswith('.GTD'):\n",
    "        #print(file)\n",
    "        lst_file_list_local.append(file)\n",
    "\n",
    "# prevent truncation of file names while displaying the dataframe\n",
    "pd.set_option('display.max_colwidth', None)\n",
    "# read file list to dataframe\n",
    "df_file_list = pd.DataFrame(lst_file_list_local, columns=['Local data files'])\n",
    "\n",
    "# sort df_file_list alphanumerical by column 'Local data files' to get a stable index\n",
    "df_file_list.sort_values(by=['Local data files'], ascending=True, inplace=True)\n",
    "# reset the index of dataframe and avoid the old index being added as a column\n",
    "df_file_list.reset_index(drop=True, inplace=True)\n",
    "\n",
    "df_file_list"
   ]
  },
  {
   "cell_type": "code",
   "execution_count": 80,
   "id": "02e144a0-1855-4aa8-a38e-052c6be35103",
   "metadata": {
    "tags": []
   },
   "outputs": [
    {
     "name": "stdout",
     "output_type": "stream",
     "text": [
      "2024-08-14_09_09_30_Erwaermungspruefung_ZSE2-2_4A.GTD\n"
     ]
    }
   ],
   "source": [
    "# str_file_name_local = df_file_list['Local data files'][0] # 6 A ZSR2B2\n",
    "# str_file_name_local = df_file_list['Local data files'][2] # 4 A ZSR2B2\n",
    "# str_file_name_local = df_file_list['Local data files'][1] # 10 A ZSR2B2\n",
    "\n",
    "# str_file_name_local = df_file_list['Local data files'][3] # 4 A ZSA2B2\n",
    "# str_file_name_local = df_file_list['Local data files'][4] # 10 A ZSA2B2\n",
    "# str_file_name_local = df_file_list['Local data files'][5] # 4 A ZSA2B2\n",
    "# str_file_name_local = df_file_list['Local data files'][6] # 4 A ZSA2B2\n",
    "# str_file_name_local = df_file_list['Local data files'][7] # 10 A ZSA2B2\n",
    "# str_file_name_local = df_file_list['Local data files'][8] # 4 A ZSA2B2\n",
    "str_file_name_local = df_file_list['Local data files'][10] # 4 A ZSE2-2\n",
    "\n",
    "print(str_file_name_local)\n",
    "\n",
    "df = create_dictionary_from_csv(filename=\"./data_files/\" + str_file_name_local, offset=24, cols_wanted=15)"
   ]
  },
  {
   "cell_type": "code",
   "execution_count": 81,
   "id": "7d802cf4-031e-4458-bdf1-806937afd090",
   "metadata": {
    "tags": []
   },
   "outputs": [
    {
     "data": {
      "text/html": [
       "<div>\n",
       "<style scoped>\n",
       "    .dataframe tbody tr th:only-of-type {\n",
       "        vertical-align: middle;\n",
       "    }\n",
       "\n",
       "    .dataframe tbody tr th {\n",
       "        vertical-align: top;\n",
       "    }\n",
       "\n",
       "    .dataframe thead th {\n",
       "        text-align: right;\n",
       "    }\n",
       "</style>\n",
       "<table border=\"1\" class=\"dataframe\">\n",
       "  <thead>\n",
       "    <tr style=\"text-align: right;\">\n",
       "      <th></th>\n",
       "      <th>Tag</th>\n",
       "      <th>T01_Klemme_Schliesser_E1</th>\n",
       "      <th>T01_Klemme_Schliesser_E1.1</th>\n",
       "      <th>T02_Klemme_Schliesser_E2</th>\n",
       "      <th>T02_Klemme_Schliesser_E2.1</th>\n",
       "      <th>T03_Gehaeuse_Schliesser_E1</th>\n",
       "      <th>T03_Gehaeuse_Schliesser_E1.1</th>\n",
       "      <th>T04_Gehaeuse_Schliesser_E2</th>\n",
       "      <th>T04_Gehaeuse_Schliesser_E2.1</th>\n",
       "      <th>T05_Schaltergehaeuse_aussen</th>\n",
       "      <th>T05_Schaltergehaeuse_aussen.1</th>\n",
       "      <th>T06_Raumtemperatur_1</th>\n",
       "      <th>T06_Raumtemperatur_1.1</th>\n",
       "      <th>T07_Raumtemperatur_2</th>\n",
       "      <th>T07_Raumtemperatur_2.1</th>\n",
       "    </tr>\n",
       "  </thead>\n",
       "  <tbody>\n",
       "    <tr>\n",
       "      <th>0</th>\n",
       "      <td>Unit</td>\n",
       "      <td>°C</td>\n",
       "      <td>°C</td>\n",
       "      <td>°C</td>\n",
       "      <td>°C</td>\n",
       "      <td>°C</td>\n",
       "      <td>°C</td>\n",
       "      <td>°C</td>\n",
       "      <td>°C</td>\n",
       "      <td>°C</td>\n",
       "      <td>°C</td>\n",
       "      <td>°C</td>\n",
       "      <td>°C</td>\n",
       "      <td>°C</td>\n",
       "      <td>°C</td>\n",
       "    </tr>\n",
       "    <tr>\n",
       "      <th>1</th>\n",
       "      <td>Type</td>\n",
       "      <td>Meas</td>\n",
       "      <td>Meas</td>\n",
       "      <td>Meas</td>\n",
       "      <td>Meas</td>\n",
       "      <td>Meas</td>\n",
       "      <td>Meas</td>\n",
       "      <td>Meas</td>\n",
       "      <td>Meas</td>\n",
       "      <td>Meas</td>\n",
       "      <td>Meas</td>\n",
       "      <td>Meas</td>\n",
       "      <td>Meas</td>\n",
       "      <td>Meas</td>\n",
       "      <td>Meas</td>\n",
       "    </tr>\n",
       "    <tr>\n",
       "      <th>2</th>\n",
       "      <td>Kind</td>\n",
       "      <td>Min</td>\n",
       "      <td>Max</td>\n",
       "      <td>Min</td>\n",
       "      <td>Max</td>\n",
       "      <td>Min</td>\n",
       "      <td>Max</td>\n",
       "      <td>Min</td>\n",
       "      <td>Max</td>\n",
       "      <td>Min</td>\n",
       "      <td>Max</td>\n",
       "      <td>Min</td>\n",
       "      <td>Max</td>\n",
       "      <td>Min</td>\n",
       "      <td>Max</td>\n",
       "    </tr>\n",
       "    <tr>\n",
       "      <th>3</th>\n",
       "      <td>Sampling Data</td>\n",
       "      <td>NaN</td>\n",
       "      <td>NaN</td>\n",
       "      <td>NaN</td>\n",
       "      <td>NaN</td>\n",
       "      <td>NaN</td>\n",
       "      <td>NaN</td>\n",
       "      <td>NaN</td>\n",
       "      <td>NaN</td>\n",
       "      <td>NaN</td>\n",
       "      <td>NaN</td>\n",
       "      <td>NaN</td>\n",
       "      <td>NaN</td>\n",
       "      <td>NaN</td>\n",
       "      <td>NaN</td>\n",
       "    </tr>\n",
       "    <tr>\n",
       "      <th>4</th>\n",
       "      <td>2024/08/14 09:09:30</td>\n",
       "      <td>20.8</td>\n",
       "      <td>20.8</td>\n",
       "      <td>20.7</td>\n",
       "      <td>20.7</td>\n",
       "      <td>20.7</td>\n",
       "      <td>20.7</td>\n",
       "      <td>20.7</td>\n",
       "      <td>20.7</td>\n",
       "      <td>20.4</td>\n",
       "      <td>20.4</td>\n",
       "      <td>21.2</td>\n",
       "      <td>21.2</td>\n",
       "      <td>20.4</td>\n",
       "      <td>20.4</td>\n",
       "    </tr>\n",
       "    <tr>\n",
       "      <th>5</th>\n",
       "      <td>2024/08/14 09:09:40</td>\n",
       "      <td>20.8</td>\n",
       "      <td>20.8</td>\n",
       "      <td>20.7</td>\n",
       "      <td>20.7</td>\n",
       "      <td>20.7</td>\n",
       "      <td>20.8</td>\n",
       "      <td>20.7</td>\n",
       "      <td>20.7</td>\n",
       "      <td>20.4</td>\n",
       "      <td>20.5</td>\n",
       "      <td>21.2</td>\n",
       "      <td>21.2</td>\n",
       "      <td>20.4</td>\n",
       "      <td>20.4</td>\n",
       "    </tr>\n",
       "  </tbody>\n",
       "</table>\n",
       "</div>"
      ],
      "text/plain": [
       "                   Tag T01_Klemme_Schliesser_E1 T01_Klemme_Schliesser_E1.1  \\\n",
       "0                 Unit                       °C                         °C   \n",
       "1                 Type                     Meas                       Meas   \n",
       "2                 Kind                      Min                        Max   \n",
       "3        Sampling Data                      NaN                        NaN   \n",
       "4  2024/08/14 09:09:30                     20.8                       20.8   \n",
       "5  2024/08/14 09:09:40                     20.8                       20.8   \n",
       "\n",
       "  T02_Klemme_Schliesser_E2 T02_Klemme_Schliesser_E2.1  \\\n",
       "0                       °C                         °C   \n",
       "1                     Meas                       Meas   \n",
       "2                      Min                        Max   \n",
       "3                      NaN                        NaN   \n",
       "4                     20.7                       20.7   \n",
       "5                     20.7                       20.7   \n",
       "\n",
       "  T03_Gehaeuse_Schliesser_E1 T03_Gehaeuse_Schliesser_E1.1  \\\n",
       "0                         °C                           °C   \n",
       "1                       Meas                         Meas   \n",
       "2                        Min                          Max   \n",
       "3                        NaN                          NaN   \n",
       "4                       20.7                         20.7   \n",
       "5                       20.7                         20.8   \n",
       "\n",
       "  T04_Gehaeuse_Schliesser_E2 T04_Gehaeuse_Schliesser_E2.1  \\\n",
       "0                         °C                           °C   \n",
       "1                       Meas                         Meas   \n",
       "2                        Min                          Max   \n",
       "3                        NaN                          NaN   \n",
       "4                       20.7                         20.7   \n",
       "5                       20.7                         20.7   \n",
       "\n",
       "  T05_Schaltergehaeuse_aussen T05_Schaltergehaeuse_aussen.1  \\\n",
       "0                          °C                            °C   \n",
       "1                        Meas                          Meas   \n",
       "2                         Min                           Max   \n",
       "3                         NaN                           NaN   \n",
       "4                        20.4                          20.4   \n",
       "5                        20.4                          20.5   \n",
       "\n",
       "  T06_Raumtemperatur_1 T06_Raumtemperatur_1.1 T07_Raumtemperatur_2  \\\n",
       "0                   °C                     °C                   °C   \n",
       "1                 Meas                   Meas                 Meas   \n",
       "2                  Min                    Max                  Min   \n",
       "3                  NaN                    NaN                  NaN   \n",
       "4                 21.2                   21.2                 20.4   \n",
       "5                 21.2                   21.2                 20.4   \n",
       "\n",
       "  T07_Raumtemperatur_2.1  \n",
       "0                     °C  \n",
       "1                   Meas  \n",
       "2                    Max  \n",
       "3                    NaN  \n",
       "4                   20.4  \n",
       "5                   20.4  "
      ]
     },
     "execution_count": 81,
     "metadata": {},
     "output_type": "execute_result"
    }
   ],
   "source": [
    "df.head(6)"
   ]
  },
  {
   "cell_type": "markdown",
   "id": "5295dd31-bba2-421f-82bb-03df3b2bf79c",
   "metadata": {},
   "source": [
    "### Mangle dataframe to prepare plotting"
   ]
  },
  {
   "cell_type": "code",
   "execution_count": 82,
   "id": "b19b05f1-38c5-46f5-bba0-7138726620fc",
   "metadata": {
    "tags": []
   },
   "outputs": [
    {
     "data": {
      "text/html": [
       "<div>\n",
       "<style scoped>\n",
       "    .dataframe tbody tr th:only-of-type {\n",
       "        vertical-align: middle;\n",
       "    }\n",
       "\n",
       "    .dataframe tbody tr th {\n",
       "        vertical-align: top;\n",
       "    }\n",
       "\n",
       "    .dataframe thead th {\n",
       "        text-align: right;\n",
       "    }\n",
       "</style>\n",
       "<table border=\"1\" class=\"dataframe\">\n",
       "  <thead>\n",
       "    <tr style=\"text-align: right;\">\n",
       "      <th></th>\n",
       "      <th>Datetime</th>\n",
       "      <th>T01_Klemme_Schliesser_E1</th>\n",
       "      <th>T02_Klemme_Schliesser_E2</th>\n",
       "      <th>T03_Gehaeuse_Schliesser_E1</th>\n",
       "      <th>T04_Gehaeuse_Schliesser_E2</th>\n",
       "      <th>T05_Schaltergehaeuse_aussen</th>\n",
       "      <th>T06_Raumtemperatur_1</th>\n",
       "      <th>T07_Raumtemperatur_2</th>\n",
       "    </tr>\n",
       "  </thead>\n",
       "  <tbody>\n",
       "    <tr>\n",
       "      <th>0</th>\n",
       "      <td>Unit</td>\n",
       "      <td>°C</td>\n",
       "      <td>°C</td>\n",
       "      <td>°C</td>\n",
       "      <td>°C</td>\n",
       "      <td>°C</td>\n",
       "      <td>°C</td>\n",
       "      <td>°C</td>\n",
       "    </tr>\n",
       "    <tr>\n",
       "      <th>1</th>\n",
       "      <td>Type</td>\n",
       "      <td>Meas</td>\n",
       "      <td>Meas</td>\n",
       "      <td>Meas</td>\n",
       "      <td>Meas</td>\n",
       "      <td>Meas</td>\n",
       "      <td>Meas</td>\n",
       "      <td>Meas</td>\n",
       "    </tr>\n",
       "    <tr>\n",
       "      <th>2</th>\n",
       "      <td>Kind</td>\n",
       "      <td>Max</td>\n",
       "      <td>Max</td>\n",
       "      <td>Max</td>\n",
       "      <td>Max</td>\n",
       "      <td>Max</td>\n",
       "      <td>Max</td>\n",
       "      <td>Max</td>\n",
       "    </tr>\n",
       "    <tr>\n",
       "      <th>3</th>\n",
       "      <td>Sampling Data</td>\n",
       "      <td>NaN</td>\n",
       "      <td>NaN</td>\n",
       "      <td>NaN</td>\n",
       "      <td>NaN</td>\n",
       "      <td>NaN</td>\n",
       "      <td>NaN</td>\n",
       "      <td>NaN</td>\n",
       "    </tr>\n",
       "    <tr>\n",
       "      <th>4</th>\n",
       "      <td>2024/08/14 09:09:30</td>\n",
       "      <td>20.8</td>\n",
       "      <td>20.7</td>\n",
       "      <td>20.7</td>\n",
       "      <td>20.7</td>\n",
       "      <td>20.4</td>\n",
       "      <td>21.2</td>\n",
       "      <td>20.4</td>\n",
       "    </tr>\n",
       "    <tr>\n",
       "      <th>...</th>\n",
       "      <td>...</td>\n",
       "      <td>...</td>\n",
       "      <td>...</td>\n",
       "      <td>...</td>\n",
       "      <td>...</td>\n",
       "      <td>...</td>\n",
       "      <td>...</td>\n",
       "      <td>...</td>\n",
       "    </tr>\n",
       "    <tr>\n",
       "      <th>1026</th>\n",
       "      <td>2024/08/14 11:59:50</td>\n",
       "      <td>21.9</td>\n",
       "      <td>21.7</td>\n",
       "      <td>22.1</td>\n",
       "      <td>21.6</td>\n",
       "      <td>22.1</td>\n",
       "      <td>21.4</td>\n",
       "      <td>21.8</td>\n",
       "    </tr>\n",
       "    <tr>\n",
       "      <th>1027</th>\n",
       "      <td>2024/08/14 12:00:00</td>\n",
       "      <td>21.9</td>\n",
       "      <td>21.7</td>\n",
       "      <td>22.1</td>\n",
       "      <td>21.6</td>\n",
       "      <td>22.1</td>\n",
       "      <td>21.4</td>\n",
       "      <td>21.9</td>\n",
       "    </tr>\n",
       "    <tr>\n",
       "      <th>1028</th>\n",
       "      <td>2024/08/14 12:00:10</td>\n",
       "      <td>21.9</td>\n",
       "      <td>21.7</td>\n",
       "      <td>22.1</td>\n",
       "      <td>21.6</td>\n",
       "      <td>22.0</td>\n",
       "      <td>21.5</td>\n",
       "      <td>21.9</td>\n",
       "    </tr>\n",
       "    <tr>\n",
       "      <th>1029</th>\n",
       "      <td>2024/08/14 12:00:20</td>\n",
       "      <td>21.9</td>\n",
       "      <td>21.7</td>\n",
       "      <td>22.1</td>\n",
       "      <td>21.6</td>\n",
       "      <td>22.0</td>\n",
       "      <td>21.5</td>\n",
       "      <td>21.8</td>\n",
       "    </tr>\n",
       "    <tr>\n",
       "      <th>1030</th>\n",
       "      <td>2024/08/14 12:00:30</td>\n",
       "      <td>21.9</td>\n",
       "      <td>21.7</td>\n",
       "      <td>22.1</td>\n",
       "      <td>21.6</td>\n",
       "      <td>22.1</td>\n",
       "      <td>21.5</td>\n",
       "      <td>21.8</td>\n",
       "    </tr>\n",
       "  </tbody>\n",
       "</table>\n",
       "<p>1031 rows × 8 columns</p>\n",
       "</div>"
      ],
      "text/plain": [
       "                 Datetime T01_Klemme_Schliesser_E1 T02_Klemme_Schliesser_E2  \\\n",
       "0                    Unit                       °C                       °C   \n",
       "1                    Type                     Meas                     Meas   \n",
       "2                    Kind                      Max                      Max   \n",
       "3           Sampling Data                      NaN                      NaN   \n",
       "4     2024/08/14 09:09:30                     20.8                     20.7   \n",
       "...                   ...                      ...                      ...   \n",
       "1026  2024/08/14 11:59:50                     21.9                     21.7   \n",
       "1027  2024/08/14 12:00:00                     21.9                     21.7   \n",
       "1028  2024/08/14 12:00:10                     21.9                     21.7   \n",
       "1029  2024/08/14 12:00:20                     21.9                     21.7   \n",
       "1030  2024/08/14 12:00:30                     21.9                     21.7   \n",
       "\n",
       "     T03_Gehaeuse_Schliesser_E1 T04_Gehaeuse_Schliesser_E2  \\\n",
       "0                            °C                         °C   \n",
       "1                          Meas                       Meas   \n",
       "2                           Max                        Max   \n",
       "3                           NaN                        NaN   \n",
       "4                          20.7                       20.7   \n",
       "...                         ...                        ...   \n",
       "1026                       22.1                       21.6   \n",
       "1027                       22.1                       21.6   \n",
       "1028                       22.1                       21.6   \n",
       "1029                       22.1                       21.6   \n",
       "1030                       22.1                       21.6   \n",
       "\n",
       "     T05_Schaltergehaeuse_aussen T06_Raumtemperatur_1 T07_Raumtemperatur_2  \n",
       "0                             °C                   °C                   °C  \n",
       "1                           Meas                 Meas                 Meas  \n",
       "2                            Max                  Max                  Max  \n",
       "3                            NaN                  NaN                  NaN  \n",
       "4                           20.4                 21.2                 20.4  \n",
       "...                          ...                  ...                  ...  \n",
       "1026                        22.1                 21.4                 21.8  \n",
       "1027                        22.1                 21.4                 21.9  \n",
       "1028                        22.0                 21.5                 21.9  \n",
       "1029                        22.0                 21.5                 21.8  \n",
       "1030                        22.1                 21.5                 21.8  \n",
       "\n",
       "[1031 rows x 8 columns]"
      ]
     },
     "execution_count": 82,
     "metadata": {},
     "output_type": "execute_result"
    }
   ],
   "source": [
    "# rename the columns and drop columns with min values\n",
    "# because there is no diffenrence between min and max columns\n",
    "for col in df.columns:\n",
    "    if (col == 'Tag'):\n",
    "        df.rename(columns={\"Tag\": \"Datetime\"}, inplace=True)\n",
    "    \n",
    "    # drop columns with min values\n",
    "    elif (df[col][2] == 'Min'):\n",
    "        df.drop(columns=[col], axis=1, inplace=True)\n",
    "    \n",
    "    # remove '.1' from column name holding the max values\n",
    "    elif (df[col][2] == 'Max'):\n",
    "        df.rename(columns={col: col.replace('.1', '')}, inplace=True)\n",
    "\n",
    "df"
   ]
  },
  {
   "cell_type": "code",
   "execution_count": 83,
   "id": "484f9fe3-b6b4-4ad6-b9f9-33918283fbda",
   "metadata": {
    "tags": []
   },
   "outputs": [
    {
     "data": {
      "text/html": [
       "<div>\n",
       "<style scoped>\n",
       "    .dataframe tbody tr th:only-of-type {\n",
       "        vertical-align: middle;\n",
       "    }\n",
       "\n",
       "    .dataframe tbody tr th {\n",
       "        vertical-align: top;\n",
       "    }\n",
       "\n",
       "    .dataframe thead th {\n",
       "        text-align: right;\n",
       "    }\n",
       "</style>\n",
       "<table border=\"1\" class=\"dataframe\">\n",
       "  <thead>\n",
       "    <tr style=\"text-align: right;\">\n",
       "      <th></th>\n",
       "      <th>Datetime</th>\n",
       "      <th>T01_Klemme_Schliesser_E1</th>\n",
       "      <th>T02_Klemme_Schliesser_E2</th>\n",
       "      <th>T03_Gehaeuse_Schliesser_E1</th>\n",
       "      <th>T04_Gehaeuse_Schliesser_E2</th>\n",
       "      <th>T05_Schaltergehaeuse_aussen</th>\n",
       "      <th>T06_Raumtemperatur_1</th>\n",
       "      <th>T07_Raumtemperatur_2</th>\n",
       "    </tr>\n",
       "  </thead>\n",
       "  <tbody>\n",
       "    <tr>\n",
       "      <th>0</th>\n",
       "      <td>2024/08/14 09:09:30</td>\n",
       "      <td>20.8</td>\n",
       "      <td>20.7</td>\n",
       "      <td>20.7</td>\n",
       "      <td>20.7</td>\n",
       "      <td>20.4</td>\n",
       "      <td>21.2</td>\n",
       "      <td>20.4</td>\n",
       "    </tr>\n",
       "    <tr>\n",
       "      <th>1</th>\n",
       "      <td>2024/08/14 09:09:40</td>\n",
       "      <td>20.8</td>\n",
       "      <td>20.7</td>\n",
       "      <td>20.8</td>\n",
       "      <td>20.7</td>\n",
       "      <td>20.5</td>\n",
       "      <td>21.2</td>\n",
       "      <td>20.4</td>\n",
       "    </tr>\n",
       "    <tr>\n",
       "      <th>2</th>\n",
       "      <td>2024/08/14 09:09:50</td>\n",
       "      <td>20.8</td>\n",
       "      <td>20.7</td>\n",
       "      <td>20.8</td>\n",
       "      <td>20.7</td>\n",
       "      <td>20.5</td>\n",
       "      <td>21.2</td>\n",
       "      <td>20.4</td>\n",
       "    </tr>\n",
       "    <tr>\n",
       "      <th>3</th>\n",
       "      <td>2024/08/14 09:10:00</td>\n",
       "      <td>20.8</td>\n",
       "      <td>20.7</td>\n",
       "      <td>20.8</td>\n",
       "      <td>20.7</td>\n",
       "      <td>20.5</td>\n",
       "      <td>21.2</td>\n",
       "      <td>20.4</td>\n",
       "    </tr>\n",
       "    <tr>\n",
       "      <th>4</th>\n",
       "      <td>2024/08/14 09:10:10</td>\n",
       "      <td>20.8</td>\n",
       "      <td>20.7</td>\n",
       "      <td>20.8</td>\n",
       "      <td>20.7</td>\n",
       "      <td>20.5</td>\n",
       "      <td>21.2</td>\n",
       "      <td>20.4</td>\n",
       "    </tr>\n",
       "    <tr>\n",
       "      <th>...</th>\n",
       "      <td>...</td>\n",
       "      <td>...</td>\n",
       "      <td>...</td>\n",
       "      <td>...</td>\n",
       "      <td>...</td>\n",
       "      <td>...</td>\n",
       "      <td>...</td>\n",
       "      <td>...</td>\n",
       "    </tr>\n",
       "    <tr>\n",
       "      <th>1022</th>\n",
       "      <td>2024/08/14 11:59:50</td>\n",
       "      <td>21.9</td>\n",
       "      <td>21.7</td>\n",
       "      <td>22.1</td>\n",
       "      <td>21.6</td>\n",
       "      <td>22.1</td>\n",
       "      <td>21.4</td>\n",
       "      <td>21.8</td>\n",
       "    </tr>\n",
       "    <tr>\n",
       "      <th>1023</th>\n",
       "      <td>2024/08/14 12:00:00</td>\n",
       "      <td>21.9</td>\n",
       "      <td>21.7</td>\n",
       "      <td>22.1</td>\n",
       "      <td>21.6</td>\n",
       "      <td>22.1</td>\n",
       "      <td>21.4</td>\n",
       "      <td>21.9</td>\n",
       "    </tr>\n",
       "    <tr>\n",
       "      <th>1024</th>\n",
       "      <td>2024/08/14 12:00:10</td>\n",
       "      <td>21.9</td>\n",
       "      <td>21.7</td>\n",
       "      <td>22.1</td>\n",
       "      <td>21.6</td>\n",
       "      <td>22.0</td>\n",
       "      <td>21.5</td>\n",
       "      <td>21.9</td>\n",
       "    </tr>\n",
       "    <tr>\n",
       "      <th>1025</th>\n",
       "      <td>2024/08/14 12:00:20</td>\n",
       "      <td>21.9</td>\n",
       "      <td>21.7</td>\n",
       "      <td>22.1</td>\n",
       "      <td>21.6</td>\n",
       "      <td>22.0</td>\n",
       "      <td>21.5</td>\n",
       "      <td>21.8</td>\n",
       "    </tr>\n",
       "    <tr>\n",
       "      <th>1026</th>\n",
       "      <td>2024/08/14 12:00:30</td>\n",
       "      <td>21.9</td>\n",
       "      <td>21.7</td>\n",
       "      <td>22.1</td>\n",
       "      <td>21.6</td>\n",
       "      <td>22.1</td>\n",
       "      <td>21.5</td>\n",
       "      <td>21.8</td>\n",
       "    </tr>\n",
       "  </tbody>\n",
       "</table>\n",
       "<p>1027 rows × 8 columns</p>\n",
       "</div>"
      ],
      "text/plain": [
       "                 Datetime T01_Klemme_Schliesser_E1 T02_Klemme_Schliesser_E2  \\\n",
       "0     2024/08/14 09:09:30                     20.8                     20.7   \n",
       "1     2024/08/14 09:09:40                     20.8                     20.7   \n",
       "2     2024/08/14 09:09:50                     20.8                     20.7   \n",
       "3     2024/08/14 09:10:00                     20.8                     20.7   \n",
       "4     2024/08/14 09:10:10                     20.8                     20.7   \n",
       "...                   ...                      ...                      ...   \n",
       "1022  2024/08/14 11:59:50                     21.9                     21.7   \n",
       "1023  2024/08/14 12:00:00                     21.9                     21.7   \n",
       "1024  2024/08/14 12:00:10                     21.9                     21.7   \n",
       "1025  2024/08/14 12:00:20                     21.9                     21.7   \n",
       "1026  2024/08/14 12:00:30                     21.9                     21.7   \n",
       "\n",
       "     T03_Gehaeuse_Schliesser_E1 T04_Gehaeuse_Schliesser_E2  \\\n",
       "0                          20.7                       20.7   \n",
       "1                          20.8                       20.7   \n",
       "2                          20.8                       20.7   \n",
       "3                          20.8                       20.7   \n",
       "4                          20.8                       20.7   \n",
       "...                         ...                        ...   \n",
       "1022                       22.1                       21.6   \n",
       "1023                       22.1                       21.6   \n",
       "1024                       22.1                       21.6   \n",
       "1025                       22.1                       21.6   \n",
       "1026                       22.1                       21.6   \n",
       "\n",
       "     T05_Schaltergehaeuse_aussen T06_Raumtemperatur_1 T07_Raumtemperatur_2  \n",
       "0                           20.4                 21.2                 20.4  \n",
       "1                           20.5                 21.2                 20.4  \n",
       "2                           20.5                 21.2                 20.4  \n",
       "3                           20.5                 21.2                 20.4  \n",
       "4                           20.5                 21.2                 20.4  \n",
       "...                          ...                  ...                  ...  \n",
       "1022                        22.1                 21.4                 21.8  \n",
       "1023                        22.1                 21.4                 21.9  \n",
       "1024                        22.0                 21.5                 21.9  \n",
       "1025                        22.0                 21.5                 21.8  \n",
       "1026                        22.1                 21.5                 21.8  \n",
       "\n",
       "[1027 rows x 8 columns]"
      ]
     },
     "execution_count": 83,
     "metadata": {},
     "output_type": "execute_result"
    }
   ],
   "source": [
    "# delete not used rows\n",
    "# and make a deep copy first\n",
    "df_clean = df.copy(deep=True)\n",
    "\n",
    "for index, row in df_clean.iterrows():\n",
    "    # compare string with multiple values in list\n",
    "    str_identifiers = {'Unit', 'Type', 'Kind', 'Sampling Data'}\n",
    "    if row['Datetime'] in str_identifiers:\n",
    "        #print(index)\n",
    "        df_clean.drop(index, axis=0, inplace=True)\n",
    "\n",
    "# reset the index of dataframe and avoid the old index being added as a column\n",
    "df_clean.reset_index(drop=True, inplace=True)\n",
    "\n",
    "df_clean"
   ]
  },
  {
   "cell_type": "code",
   "execution_count": 84,
   "id": "33d8eea8-3f7a-447d-a66b-8267c24e9fd2",
   "metadata": {
    "tags": []
   },
   "outputs": [
    {
     "data": {
      "text/html": [
       "<div>\n",
       "<style scoped>\n",
       "    .dataframe tbody tr th:only-of-type {\n",
       "        vertical-align: middle;\n",
       "    }\n",
       "\n",
       "    .dataframe tbody tr th {\n",
       "        vertical-align: top;\n",
       "    }\n",
       "\n",
       "    .dataframe thead th {\n",
       "        text-align: right;\n",
       "    }\n",
       "</style>\n",
       "<table border=\"1\" class=\"dataframe\">\n",
       "  <thead>\n",
       "    <tr style=\"text-align: right;\">\n",
       "      <th></th>\n",
       "      <th>Datetime</th>\n",
       "      <th>T01_Klemme_Schliesser_E1</th>\n",
       "      <th>T02_Klemme_Schliesser_E2</th>\n",
       "      <th>T03_Gehaeuse_Schliesser_E1</th>\n",
       "      <th>T04_Gehaeuse_Schliesser_E2</th>\n",
       "      <th>T05_Schaltergehaeuse_aussen</th>\n",
       "      <th>T06_Raumtemperatur_1</th>\n",
       "      <th>T07_Raumtemperatur_2</th>\n",
       "    </tr>\n",
       "  </thead>\n",
       "  <tbody>\n",
       "    <tr>\n",
       "      <th>0</th>\n",
       "      <td>2024/08/14 09:09:30</td>\n",
       "      <td>20.8</td>\n",
       "      <td>20.7</td>\n",
       "      <td>20.7</td>\n",
       "      <td>20.7</td>\n",
       "      <td>20.4</td>\n",
       "      <td>21.2</td>\n",
       "      <td>20.4</td>\n",
       "    </tr>\n",
       "    <tr>\n",
       "      <th>1</th>\n",
       "      <td>2024/08/14 09:09:40</td>\n",
       "      <td>20.8</td>\n",
       "      <td>20.7</td>\n",
       "      <td>20.8</td>\n",
       "      <td>20.7</td>\n",
       "      <td>20.5</td>\n",
       "      <td>21.2</td>\n",
       "      <td>20.4</td>\n",
       "    </tr>\n",
       "    <tr>\n",
       "      <th>2</th>\n",
       "      <td>2024/08/14 09:09:50</td>\n",
       "      <td>20.8</td>\n",
       "      <td>20.7</td>\n",
       "      <td>20.8</td>\n",
       "      <td>20.7</td>\n",
       "      <td>20.5</td>\n",
       "      <td>21.2</td>\n",
       "      <td>20.4</td>\n",
       "    </tr>\n",
       "    <tr>\n",
       "      <th>3</th>\n",
       "      <td>2024/08/14 09:10:00</td>\n",
       "      <td>20.8</td>\n",
       "      <td>20.7</td>\n",
       "      <td>20.8</td>\n",
       "      <td>20.7</td>\n",
       "      <td>20.5</td>\n",
       "      <td>21.2</td>\n",
       "      <td>20.4</td>\n",
       "    </tr>\n",
       "    <tr>\n",
       "      <th>4</th>\n",
       "      <td>2024/08/14 09:10:10</td>\n",
       "      <td>20.8</td>\n",
       "      <td>20.7</td>\n",
       "      <td>20.8</td>\n",
       "      <td>20.7</td>\n",
       "      <td>20.5</td>\n",
       "      <td>21.2</td>\n",
       "      <td>20.4</td>\n",
       "    </tr>\n",
       "  </tbody>\n",
       "</table>\n",
       "</div>"
      ],
      "text/plain": [
       "              Datetime  T01_Klemme_Schliesser_E1  T02_Klemme_Schliesser_E2  \\\n",
       "0  2024/08/14 09:09:30                      20.8                      20.7   \n",
       "1  2024/08/14 09:09:40                      20.8                      20.7   \n",
       "2  2024/08/14 09:09:50                      20.8                      20.7   \n",
       "3  2024/08/14 09:10:00                      20.8                      20.7   \n",
       "4  2024/08/14 09:10:10                      20.8                      20.7   \n",
       "\n",
       "   T03_Gehaeuse_Schliesser_E1  T04_Gehaeuse_Schliesser_E2  \\\n",
       "0                        20.7                        20.7   \n",
       "1                        20.8                        20.7   \n",
       "2                        20.8                        20.7   \n",
       "3                        20.8                        20.7   \n",
       "4                        20.8                        20.7   \n",
       "\n",
       "   T05_Schaltergehaeuse_aussen  T06_Raumtemperatur_1  T07_Raumtemperatur_2  \n",
       "0                         20.4                  21.2                  20.4  \n",
       "1                         20.5                  21.2                  20.4  \n",
       "2                         20.5                  21.2                  20.4  \n",
       "3                         20.5                  21.2                  20.4  \n",
       "4                         20.5                  21.2                  20.4  "
      ]
     },
     "execution_count": 84,
     "metadata": {},
     "output_type": "execute_result"
    }
   ],
   "source": [
    "# convert strings to floats in dataframe and replace german decimal ',' with international '.'\n",
    "for col in df_clean.columns:\n",
    "    if ( (col != 'Datetime') and\n",
    "         (df_clean[col].dtypes != 'float64') ):\n",
    "        df_clean[col] = df_clean[col].str.replace(',', '.').astype(float)\n",
    "\n",
    "df_clean.head(5)"
   ]
  },
  {
   "cell_type": "code",
   "execution_count": 85,
   "id": "af3413dc-8576-461f-8a26-eb10bc9f6a86",
   "metadata": {
    "tags": []
   },
   "outputs": [
    {
     "data": {
      "text/plain": [
       "Datetime                       datetime64[ns]\n",
       "T01_Klemme_Schliesser_E1              float64\n",
       "T02_Klemme_Schliesser_E2              float64\n",
       "T03_Gehaeuse_Schliesser_E1            float64\n",
       "T04_Gehaeuse_Schliesser_E2            float64\n",
       "T05_Schaltergehaeuse_aussen           float64\n",
       "T06_Raumtemperatur_1                  float64\n",
       "T07_Raumtemperatur_2                  float64\n",
       "dtype: object"
      ]
     },
     "execution_count": 85,
     "metadata": {},
     "output_type": "execute_result"
    }
   ],
   "source": [
    "# convert column 'Datetime' to variable type datetime64\n",
    "df_clean['Datetime'] = pd.to_datetime(df_clean['Datetime'])\n",
    "\n",
    "df_clean.dtypes"
   ]
  },
  {
   "cell_type": "markdown",
   "id": "d9cd4537-734e-46db-9772-427db6e4e461",
   "metadata": {},
   "source": [
    "### Configure plotting"
   ]
  },
  {
   "cell_type": "code",
   "execution_count": 86,
   "id": "76bd63a1-d94b-416e-9332-7f85b37e9c9a",
   "metadata": {
    "tags": []
   },
   "outputs": [],
   "source": [
    "import matplotlib.pyplot as plt\n",
    "import matplotlib.dates as mdates\n",
    "\n",
    "# Set font sizes of figure title, axes and labels \n",
    "# globally via a rcParams dictionary\n",
    "import matplotlib.pylab as pylab\n",
    "params = {'font.size':      14,\n",
    "         'legend.fontsize': 12,\n",
    "         'axes.labelsize':  12,\n",
    "         'axes.titlesize':  14,\n",
    "         'xtick.labelsize': 12,\n",
    "         'ytick.labelsize': 12,\n",
    "         'axes.edgecolor':  '#000000'}\n",
    "pylab.rcParams.update(params)\n",
    "\n",
    "%matplotlib inline\n",
    "#%matplotlib notebook\n",
    "\n",
    "# FutureWarning: Using an implicitly registered datetime converter for a matplotlib plotting method. The converter was registered by pandas on import. \n",
    "# Future versions of pandas will require you to explicitly register matplotlib converters.\n",
    "from pandas.plotting import register_matplotlib_converters\n",
    "register_matplotlib_converters()"
   ]
  },
  {
   "cell_type": "code",
   "execution_count": 87,
   "id": "fe9b877d-2f8a-4ef7-95e7-672fc939545c",
   "metadata": {
    "tags": []
   },
   "outputs": [],
   "source": [
    "# specify measurement conditions\n",
    "str_measurement_type = 'Erwärmungsprüfung'\n",
    "# str_measurement_specimen = 'ZSR2B2'\n",
    "# str_measurement_specimen = 'ZSA2B2'\n",
    "str_measurement_specimen = 'ZSE2-2'\n",
    "\n",
    "str_measurement_current = '4 A DC'\n",
    "# str_measurement_current = '6 A DC'\n",
    "# str_measurement_current = '10 A DC'"
   ]
  },
  {
   "cell_type": "markdown",
   "id": "c864da1c-02e1-41fa-8fe0-e218d1c48fc0",
   "metadata": {
    "tags": []
   },
   "source": [
    "### Marking the end of the measurement with a cursor\n",
    "\n",
    "The test specimen is heated until the so-called **steady-state condition** is reached (thermal equilibrium between heating and cooling by convection and thermal radiation). The steady state is considered to be reached when the temperature at the measuring point does not change by more than $1 K$ within $1 h$.\n",
    "\n",
    "After switching off the test current (which causes the heating), the cooling phase begins. The end of the heating phase should be marked in the diagram with a vertical cursor. The temperatures of the individual measuring points at this time are the so-called end temperatures $\\vartheta_{end}$ and are required for the calculation of the overtemperatures.\n",
    "\n",
    "The determination of this characteristic \"kink\" in the temperature curve is also referred to as the \"knee\". Mathematically, it represents the **point of maximum curvature** of the curve.\n",
    "\n",
    "In the paper [Finding a 'Kneedle' in a Haystack: Detecting Knee Points in System Behavior (2011)](https://www1.icsi.berkeley.edu/~barath/papers/kneedle-simplex11.pdf), the algorithm is explained. Kevin Arvai has implemented this algorithm in the Python package `kneed` ([https://github.com/arvkevi/kneed/tree/main](https://github.com/arvkevi/kneed/tree/main))."
   ]
  },
  {
   "cell_type": "code",
   "execution_count": 88,
   "id": "1879dba9-517b-4740-a764-91a4c93e1495",
   "metadata": {
    "tags": []
   },
   "outputs": [
    {
     "name": "stdout",
     "output_type": "stream",
     "text": [
      "Version of package 'kneed': 0.7.0\n"
     ]
    }
   ],
   "source": [
    "import kneed\n",
    "\n",
    "print(\"Version of package 'kneed': {}\".format(kneed.__version__))"
   ]
  },
  {
   "cell_type": "code",
   "execution_count": 106,
   "id": "44ae12e6-388c-4361-802c-e8afc81be275",
   "metadata": {
    "tags": []
   },
   "outputs": [
    {
     "data": {
      "text/plain": [
       "1026"
      ]
     },
     "execution_count": 106,
     "metadata": {},
     "output_type": "execute_result"
    }
   ],
   "source": [
    "# S ... selected knee point is tunable by setting the sensitivity parameter S\n",
    "str_column = 'T02_Klemme_Schliesser_E2'\n",
    "#kneedle = kneed.KneeLocator(x=df_clean[600:].index, y=df_clean[600:][str_column], S=10.0, curve=\"concave\", \n",
    "#                            direction=\"decreasing\", interp_method=\"polynomial\", polynomial_degree=25, online=True)\n",
    "kneedle = kneed.KneeLocator(x=df_clean.index, y=df_clean[str_column], S=17.0, curve=\"concave\", \n",
    "                            direction=\"decreasing\", interp_method=\"interp1d\", online=False)\n",
    "\n",
    "int_knee_point_theta_end = kneedle.elbow\n",
    "int_knee_point_theta_end"
   ]
  },
  {
   "cell_type": "code",
   "execution_count": 107,
   "id": "5b3c49c4-cc49-4605-bbb4-dacb9436632a",
   "metadata": {
    "tags": []
   },
   "outputs": [
    {
     "data": {
      "image/png": "[encoded data removed]",
      "text/plain": [
       "<Figure size 600x600 with 1 Axes>"
      ]
     },
     "metadata": {},
     "output_type": "display_data"
    }
   ],
   "source": [
    "# Normalized data, normalized knee, and normalized distance curve.\n",
    "kneedle.plot_knee_normalized()"
   ]
  },
  {
   "cell_type": "code",
   "execution_count": 108,
   "id": "a5004308-fb5d-4bde-a163-8076edca7e58",
   "metadata": {
    "tags": []
   },
   "outputs": [
    {
     "data": {
      "image/png": "[encoded data removed]",
      "text/plain": [
       "<Figure size 600x600 with 1 Axes>"
      ]
     },
     "metadata": {},
     "output_type": "display_data"
    }
   ],
   "source": [
    "# Raw data and knee.\n",
    "kneedle.plot_knee()"
   ]
  },
  {
   "cell_type": "markdown",
   "id": "7fed18fd-9e30-402b-a0b7-898df91389d6",
   "metadata": {},
   "source": [
    "For some of the curve shapes `kneed` algorithm seems to fail and not find the obvious knee in the curve. Even with extended parameter tuning (e.g. activating polynomial interpolation with higher degrees set) one only gets close to the knee - but does never reach it ...\n",
    "\n",
    "For such curve shapes, alternatives should be chosen, e.g. by finding **global maxima** or **minima**."
   ]
  },
  {
   "cell_type": "code",
   "execution_count": 109,
   "id": "72f7eaa0-1254-4939-af55-21e698f7992b",
   "metadata": {
    "tags": []
   },
   "outputs": [
    {
     "name": "stdout",
     "output_type": "stream",
     "text": [
      "I'm at the beginning or the end of the curve with index: 1026\n",
      "Take last occurance of maximum value as new knee point: 602\n"
     ]
    }
   ],
   "source": [
    "int_tolerance_window = 10\n",
    "\n",
    "if ( (int_knee_point_theta_end <= df_clean.index[0] + int_tolerance_window) or\n",
    "     (int_knee_point_theta_end >= df_clean.index[-1] - int_tolerance_window) ):\n",
    "    print(\"I'm at the beginning or the end of the curve with index: {}\".format(int_knee_point_theta_end))\n",
    "    \n",
    "    # get the last occurances of maximum values\n",
    "    #col = 'T02_Klemme_Schliesser_E2'\n",
    "    int_knee_point_theta_end = df_clean.loc[::-1, str_column].idxmax()\n",
    "    print(\"Take last occurance of maximum value as new knee point: {}\".format(int_knee_point_theta_end))\n",
    "else:\n",
    "    print(\"Everything's fine - I do nothing ...\")"
   ]
  },
  {
   "cell_type": "markdown",
   "id": "e9cdbf64-de3e-4eb9-a504-a1b51e31ac9b",
   "metadata": {},
   "source": [
    "### Plotting the graph enriched with additional information"
   ]
  },
  {
   "cell_type": "code",
   "execution_count": 110,
   "id": "8951eff1-9bee-468c-81be-3c4c198b0dd5",
   "metadata": {
    "tags": []
   },
   "outputs": [
    {
     "data": {
      "image/png": "[encoded data removed]",
      "text/plain": [
       "<Figure size 1600x800 with 1 Axes>"
      ]
     },
     "metadata": {},
     "output_type": "display_data"
    }
   ],
   "source": [
    "# figsize: a tuple (width, height) in inches\n",
    "plt.figure(num=0, figsize=(20, 10), dpi=80, facecolor='w', edgecolor='k')\n",
    "axes = plt.gca()\n",
    "\n",
    "xfmt = mdates.DateFormatter('%Y-%m-%d %H:%M:%S')\n",
    "axes.xaxis.set_major_formatter(xfmt)\n",
    "\n",
    "# formula_sign = 'I$_{the}$' # with housing\n",
    "formula_sign = 'I$_{th}$' # without housing\n",
    "\n",
    "str_title = str_measurement_type + ' ' + str_measurement_specimen + ' (' + formula_sign + ' = ' + str_measurement_current + ')'\n",
    "plt.title(str_title)\n",
    "\n",
    "# iterate over all columns of the dataframe and create a plot line for each of them\n",
    "for col in df_clean.columns:\n",
    "    if (col != 'Datetime'):\n",
    "        str_label = df_clean[col].name + r', $\\vartheta_{end}$ = ' + str(df_clean.iloc[int_knee_point_theta_end][col]) + ' °C'\n",
    "        \n",
    "        plt.plot(df_clean['Datetime'], df_clean[col], '-', label=str_label)\n",
    "\n",
    "plt.xlabel('Zeitstempel')\n",
    "plt.ylabel('Temperatur [°C]')\n",
    "\n",
    "if (str_measurement_current == '4 A DC'):\n",
    "    # plt.ylim(20, 40)\n",
    "    plt.ylim(20, 30)\n",
    "elif (str_measurement_current == '6 A DC'):\n",
    "    plt.ylim(20, 55)\n",
    "elif (str_measurement_current == '10 A DC'):\n",
    "    plt.ylim(20, 85)\n",
    "\n",
    "plt.grid(True)\n",
    "\n",
    "plt.setp(plt.gca().xaxis.get_majorticklabels(), 'rotation', 50)\n",
    "\n",
    "# define location of legend\n",
    "# supported values for 'loc': \n",
    "#   'best', 'upper right', 'upper left', 'lower left', 'lower right', \n",
    "#   'right', 'center left', 'center right', 'lower center', 'upper center', 'center'\n",
    "plt.legend(loc=\"lower center\")\n",
    "\n",
    "# the x coords of this transformation are data, and the\n",
    "# y coords are axes\n",
    "ax = plt.gca()\n",
    "trans = ax.get_xaxis_transform()\n",
    "\n",
    "# draw a vertical cursor on the position of the knee (point of maximum curvature)\n",
    "# it marks the end of the heating phase\n",
    "plt.axvline(x = df_clean.iloc[int_knee_point_theta_end]['Datetime'], ymin = 0.05,\n",
    "            ymax = 0.95, color = 'b', label = 'axvline - full height', linestyle='--')\n",
    "plt.text(df_clean.iloc[int_knee_point_theta_end+10]['Datetime'], 0.9, r'$\\vartheta_{end}$', transform=trans)\n",
    "\n",
    "# save plot as PNG and PDF figure\n",
    "# in order to obtain the same figure as shown in the notebook, the option 'bbox_inches = \"tight\"'\n",
    "# has to be used - it basically extends or shrinks the bounding box such that all objects in the canvas are displayed\n",
    "# found here: https://stackoverflow.com/a/45239920\n",
    "str_image_file_path_png = './data_files/' + str_file_name_local.replace('.GTD', '.png')\n",
    "str_image_file_path_pdf = './data_files/' + str_file_name_local.replace('.GTD', '.pdf')\n",
    "plt.savefig(str_image_file_path_png, bbox_inches = 'tight')\n",
    "plt.savefig(str_image_file_path_pdf, dpi=150, bbox_inches = 'tight')\n",
    "\n",
    "plt.show()"
   ]
  },
  {
   "cell_type": "code",
   "execution_count": null,
   "id": "166d80a6-985a-4d5b-8c05-7f4bcee21ed4",
   "metadata": {},
   "outputs": [],
   "source": []
  }
 ],
 "metadata": {
  "kernelspec": {
   "display_name": "Python 3 (ipykernel)",
   "language": "python",
   "name": "python3"
  },
  "language_info": {
   "codemirror_mode": {
    "name": "ipython",
    "version": 3
   },
   "file_extension": ".py",
   "mimetype": "text/x-python",
   "name": "python",
   "nbconvert_exporter": "python",
   "pygments_lexer": "ipython3",
   "version": "3.10.9"
  },
  "toc-autonumbering": true
 },
 "nbformat": 4,
 "nbformat_minor": 5
}
