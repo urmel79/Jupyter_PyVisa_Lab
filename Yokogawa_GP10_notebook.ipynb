{
 "cells": [
  {
   "cell_type": "markdown",
   "id": "16d5d60f",
   "metadata": {},
   "source": [
    "# Controlling the measuring instrument 'Yokogawa GP10' by web interface"
   ]
  },
  {
   "cell_type": "code",
   "execution_count": 1,
   "id": "a2079342",
   "metadata": {},
   "outputs": [],
   "source": [
    "# import necessary libraries\n",
    "import urllib as http\n",
    "import pandas as pd"
   ]
  },
  {
   "cell_type": "code",
   "execution_count": 2,
   "id": "383b7792",
   "metadata": {},
   "outputs": [],
   "source": [
    "ip_of_gp10 = '192.168.10.207'"
   ]
  },
  {
   "cell_type": "markdown",
   "id": "a98c690c",
   "metadata": {},
   "source": [
    "## Recording data to SD card\n",
    "\n",
    "### Set the file type of recorded file to 'Text'\n",
    "\n",
    "With this setting, ASCII text files are written to the SD card. These can be read in as CSV files in common spreadsheet programs. A tabulator is used as column separator.\n",
    "\n",
    "**Attention:** This file format is NOT readable in the tool *Universal Viewer*! Therefore, for other colleagues, the format must be changed back to \"Binary\" at the end of the measurement!"
   ]
  },
  {
   "cell_type": "code",
   "execution_count": 3,
   "id": "e89cb164",
   "metadata": {},
   "outputs": [
    {
     "data": {
      "text/plain": [
       "\"http://192.168.15.207/gene.cgi?msg=SDirectory,'DATA0';SFileHead,'';SFileName,Date,'';SMediaSave,On,Off;SFileFormat,Text\""
      ]
     },
     "execution_count": 3,
     "metadata": {},
     "output_type": "execute_result"
    }
   ],
   "source": [
    "# URI for setting the file type\n",
    "file_type = \"Text\"\n",
    "str_uri = \"http://\" + ip_of_gp10 + \"/gene.cgi?msg=SDirectory,'DATA0';SFileHead,'';SFileName,Date,'';SMediaSave,On,Off;SFileFormat,\" + file_type\n",
    "\n",
    "str_uri"
   ]
  },
  {
   "cell_type": "code",
   "execution_count": 4,
   "id": "c29ffd49",
   "metadata": {},
   "outputs": [
    {
     "name": "stdout",
     "output_type": "stream",
     "text": [
      "Setting file type was sucessful: E0\n"
     ]
    }
   ],
   "source": [
    "# Set the file type by http GET request\n",
    "str_response = http.request.urlopen(str_uri).read().decode('utf-8')\n",
    "str_response = str_response.replace('\\r\\n', '')\n",
    "\n",
    "if (str_response == 'E0'):\n",
    "    print(\"Setting file type was successful: {}\".format(str_response))\n",
    "else:\n",
    "    print(\"There was an error while setting the file type: {}\".format(str_response))"
   ]
  },
  {
   "cell_type": "markdown",
   "id": "aee66377",
   "metadata": {},
   "source": [
    "## Configure the measurement recording channels"
   ]
  },
  {
   "cell_type": "code",
   "execution_count": 62,
   "id": "8048ac9e",
   "metadata": {},
   "outputs": [],
   "source": [
    "# Helper function for building the config URI and write the configurations\n",
    "def config_meas_rec_channel(str_channel, str_name, str_color):\n",
    "    str_uri = \"http://\" + ip_of_gp10 + \"/gene.cgi?msg=STagIO,\" + str_channel + \",'\" + str_name + \"','';\" \\\n",
    "               \"SColorIO,\" + str_channel + \",\" + str_color + \";\" \\\n",
    "               \"SZoneIO,\" + str_channel + \",0,100;\" \\\n",
    "               \"SScaleIO,\" + str_channel + \",1,10;\" \\\n",
    "               \"SBarIO,\" + str_channel + \",Lower,10;\" \\\n",
    "               \"SBandIO,\" + str_channel + \",Off,102,255,0,0,100;\" \\\n",
    "               \"SAlmMarkIO,\" + str_channel + \",On,Alarm,255,0,0,255,153,51,255,153,51,255,0,0;\" \\\n",
    "               \"SValueIO,\" + str_channel + \",'',''\"\n",
    "    \n",
    "    str_response = http.request.urlopen(str_uri).read().decode('utf-8')\n",
    "    str_response = str_response.replace('\\r\\n', '')\n",
    "\n",
    "    if (str_response == 'E0'):\n",
    "        print(\"Configuring the channel was successful: {}\".format(str_response))\n",
    "    else:\n",
    "        print(\"Configuring the channel was NOT successful: {}\".format(str_response))\n",
    "    \n",
    "    return str_uri, str_response"
   ]
  },
  {
   "cell_type": "code",
   "execution_count": 63,
   "id": "22d1cae4",
   "metadata": {},
   "outputs": [
    {
     "data": {
      "text/html": [
       "<div>\n",
       "<style scoped>\n",
       "    .dataframe tbody tr th:only-of-type {\n",
       "        vertical-align: middle;\n",
       "    }\n",
       "\n",
       "    .dataframe tbody tr th {\n",
       "        vertical-align: top;\n",
       "    }\n",
       "\n",
       "    .dataframe thead th {\n",
       "        text-align: right;\n",
       "    }\n",
       "</style>\n",
       "<table border=\"1\" class=\"dataframe\">\n",
       "  <thead>\n",
       "    <tr style=\"text-align: right;\">\n",
       "      <th></th>\n",
       "      <th>Channel</th>\n",
       "      <th>Track Name</th>\n",
       "      <th>Color RGB</th>\n",
       "    </tr>\n",
       "  </thead>\n",
       "  <tbody>\n",
       "    <tr>\n",
       "      <th>0</th>\n",
       "      <td>0001</td>\n",
       "      <td>T01_Trafo_Gehaeuse</td>\n",
       "      <td>255,0,0</td>\n",
       "    </tr>\n",
       "    <tr>\n",
       "      <th>1</th>\n",
       "      <td>0002</td>\n",
       "      <td>T02_Gehaeuse_innen</td>\n",
       "      <td>0,153,51</td>\n",
       "    </tr>\n",
       "    <tr>\n",
       "      <th>2</th>\n",
       "      <td>0003</td>\n",
       "      <td>T03_Gehaeuse_hinten</td>\n",
       "      <td>0,51,255</td>\n",
       "    </tr>\n",
       "    <tr>\n",
       "      <th>3</th>\n",
       "      <td>0004</td>\n",
       "      <td>T04_Kaffetasse</td>\n",
       "      <td>204,102,204</td>\n",
       "    </tr>\n",
       "    <tr>\n",
       "      <th>4</th>\n",
       "      <td>0005</td>\n",
       "      <td>T05_Umgebung</td>\n",
       "      <td>119,170,221</td>\n",
       "    </tr>\n",
       "  </tbody>\n",
       "</table>\n",
       "</div>"
      ],
      "text/plain": [
       "  Channel           Track Name    Color RGB\n",
       "0    0001   T01_Trafo_Gehaeuse      255,0,0\n",
       "1    0002   T02_Gehaeuse_innen     0,153,51\n",
       "2    0003  T03_Gehaeuse_hinten     0,51,255\n",
       "3    0004       T04_Kaffetasse  204,102,204\n",
       "4    0005         T05_Umgebung  119,170,221"
      ]
     },
     "metadata": {},
     "output_type": "display_data"
    }
   ],
   "source": [
    "# Dataframe with the config values for the measuring channels\n",
    "df_meas_rec_channels = pd.DataFrame(columns=['Channel', 'Track Name', 'Color RGB'],\n",
    "                                    data=[['0001', 'T01_Trafo_Gehaeuse', '255,0,0'],\n",
    "                                          ['0002', 'T02_Gehaeuse_innen', '0,153,51'],\n",
    "                                          ['0003', 'T03_Gehaeuse_hinten', '0,51,255'],\n",
    "                                          ['0004', 'T04_Kaffetasse', '204,102,204'],\n",
    "                                          ['0005', 'T05_Umgebung', '119,170,221'],\n",
    "                                         ])\n",
    "\n",
    "\n",
    "display(df_meas_rec_channels)"
   ]
  },
  {
   "cell_type": "code",
   "execution_count": 65,
   "id": "86d47aa5",
   "metadata": {},
   "outputs": [
    {
     "name": "stdout",
     "output_type": "stream",
     "text": [
      "Channel: 0001, Track Name: T01_Trafo_Gehaeuse, Color RGB: 255,0,0\n",
      "\n",
      "Configuring the channel was sucessful: E0\n",
      "URI: http://192.168.15.207/gene.cgi?msg=STagIO,0001,'T01_Trafo_Gehaeuse','';SColorIO,0001,255,0,0;SZoneIO,0001,0,100;SScaleIO,0001,1,10;SBarIO,0001,Lower,10;SBandIO,0001,Off,102,255,0,0,100;SAlmMarkIO,0001,On,Alarm,255,0,0,255,153,51,255,153,51,255,0,0;SValueIO,0001,'',''\n",
      " Response: E0\n",
      "\n",
      "Channel: 0002, Track Name: T02_Gehaeuse_innen, Color RGB: 0,153,51\n",
      "\n",
      "Configuring the channel was sucessful: E0\n",
      "URI: http://192.168.15.207/gene.cgi?msg=STagIO,0002,'T02_Gehaeuse_innen','';SColorIO,0002,0,153,51;SZoneIO,0002,0,100;SScaleIO,0002,1,10;SBarIO,0002,Lower,10;SBandIO,0002,Off,102,255,0,0,100;SAlmMarkIO,0002,On,Alarm,255,0,0,255,153,51,255,153,51,255,0,0;SValueIO,0002,'',''\n",
      " Response: E0\n",
      "\n",
      "Channel: 0003, Track Name: T03_Gehaeuse_hinten, Color RGB: 0,51,255\n",
      "\n",
      "Configuring the channel was sucessful: E0\n",
      "URI: http://192.168.15.207/gene.cgi?msg=STagIO,0003,'T03_Gehaeuse_hinten','';SColorIO,0003,0,51,255;SZoneIO,0003,0,100;SScaleIO,0003,1,10;SBarIO,0003,Lower,10;SBandIO,0003,Off,102,255,0,0,100;SAlmMarkIO,0003,On,Alarm,255,0,0,255,153,51,255,153,51,255,0,0;SValueIO,0003,'',''\n",
      " Response: E0\n",
      "\n",
      "Channel: 0004, Track Name: T04_Kaffetasse, Color RGB: 204,102,204\n",
      "\n",
      "Configuring the channel was sucessful: E0\n",
      "URI: http://192.168.15.207/gene.cgi?msg=STagIO,0004,'T04_Kaffetasse','';SColorIO,0004,204,102,204;SZoneIO,0004,0,100;SScaleIO,0004,1,10;SBarIO,0004,Lower,10;SBandIO,0004,Off,102,255,0,0,100;SAlmMarkIO,0004,On,Alarm,255,0,0,255,153,51,255,153,51,255,0,0;SValueIO,0004,'',''\n",
      " Response: E0\n",
      "\n",
      "Channel: 0005, Track Name: T05_Umgebung, Color RGB: 119,170,221\n",
      "\n",
      "Configuring the channel was sucessful: E0\n",
      "URI: http://192.168.15.207/gene.cgi?msg=STagIO,0005,'T05_Umgebung','';SColorIO,0005,119,170,221;SZoneIO,0005,0,100;SScaleIO,0005,1,10;SBarIO,0005,Lower,10;SBandIO,0005,Off,102,255,0,0,100;SAlmMarkIO,0005,On,Alarm,255,0,0,255,153,51,255,153,51,255,0,0;SValueIO,0005,'',''\n",
      " Response: E0\n",
      "\n"
     ]
    }
   ],
   "source": [
    "# Iterate the config dataframe and upload the configurations\n",
    "for index, row in df_meas_rec_channels.iterrows():\n",
    "    print(\"Channel: {}, Track Name: {}, Color RGB: {}\\r\\n\".format(row['Channel'], row['Track Name'], row['Color RGB']))\n",
    "    \n",
    "    str_uri, str_response = config_meas_rec_channel(row['Channel'], row['Track Name'], row['Color RGB'])\n",
    "\n",
    "    print(\"URI: {}\\r\\n Response: {}\\r\\n\".format(str_uri, str_response))"
   ]
  },
  {
   "cell_type": "markdown",
   "id": "dd14e5b9",
   "metadata": {},
   "source": [
    "## Start the recording"
   ]
  },
  {
   "cell_type": "code",
   "execution_count": 5,
   "id": "a2cc5cc5",
   "metadata": {},
   "outputs": [
    {
     "data": {
      "text/plain": [
       "'http://192.168.15.207/gene.cgi?msg=ORec,0'"
      ]
     },
     "execution_count": 5,
     "metadata": {},
     "output_type": "execute_result"
    }
   ],
   "source": [
    "# URI for starting (0) the recording of measurements\n",
    "start_stop = \"0\"\n",
    "str_uri = \"http://\" + ip_of_gp10 + \"/gene.cgi?msg=ORec,\" + start_stop\n",
    "\n",
    "str_uri"
   ]
  },
  {
   "cell_type": "code",
   "execution_count": 6,
   "id": "f5ee4569",
   "metadata": {},
   "outputs": [
    {
     "name": "stdout",
     "output_type": "stream",
     "text": [
      "Start the recording was sucessful: E0\n"
     ]
    }
   ],
   "source": [
    "# Start the recording\n",
    "str_response = http.request.urlopen(str_uri).read().decode('utf-8')\n",
    "str_response = str_response.replace('\\r\\n', '')\n",
    "\n",
    "if (str_response == 'E0'):\n",
    "    print(\"Start the recording was successful: {}\".format(str_response))\n",
    "else:\n",
    "    print(\"There was an error: {}\".format(str_response))"
   ]
  },
  {
   "cell_type": "markdown",
   "id": "cce033cb",
   "metadata": {},
   "source": [
    "## Stop the recording"
   ]
  },
  {
   "cell_type": "code",
   "execution_count": null,
   "id": "3360cadc",
   "metadata": {},
   "outputs": [],
   "source": [
    "# URI for stopping (1) the recording of measurements\n",
    "start_stop = \"1\"\n",
    "str_uri = \"http://\" + ip_of_gp10 + \"/gene.cgi?msg=ORec,\" + start_stop\n",
    "\n",
    "str_uri"
   ]
  },
  {
   "cell_type": "code",
   "execution_count": null,
   "id": "045fa4ef",
   "metadata": {},
   "outputs": [],
   "source": [
    "# Stop the recording\n",
    "str_response = http.request.urlopen(str_uri).read().decode('utf-8')\n",
    "str_response = str_response.replace('\\r\\n', '')\n",
    "\n",
    "if (str_response == 'E0'):\n",
    "    print(\"Stop the recording was successful: {}\".format(str_response))\n",
    "else:\n",
    "    print(\"There was an error: {}\".format(str_response))"
   ]
  },
  {
   "cell_type": "markdown",
   "id": "b5a2b830",
   "metadata": {},
   "source": [
    "### Set the file type of recorded file to 'Binary'\n",
    "\n",
    "This format is the default setting of the measuring device. The resulting **GDS** files can be further processed by the Windows tool *Universal Viewer*.\n",
    "\n",
    "The specification of the GDS file format is kept secret after inquiry with the Yokogawa support -- for \"security\" reasons was said there ... But this is quite nonsense, because \"security by obscurity\" is not a good security approach, as several incidents have impressively shown ..."
   ]
  },
  {
   "cell_type": "code",
   "execution_count": 22,
   "id": "e9167764",
   "metadata": {},
   "outputs": [
    {
     "data": {
      "text/plain": [
       "\"http://192.168.15.207/gene.cgi?msg=SDirectory,'DATA0';SFileHead,'';SFileName,Date,'';SMediaSave,On,Off;SFileFormat,Binary\""
      ]
     },
     "execution_count": 22,
     "metadata": {},
     "output_type": "execute_result"
    }
   ],
   "source": [
    "# URI for setting the file type\n",
    "file_type = \"Binary\"\n",
    "str_uri = \"http://\" + ip_of_gp10 + \"/gene.cgi?msg=SDirectory,'DATA0';SFileHead,'';SFileName,Date,'';SMediaSave,On,Off;SFileFormat,\" + file_type\n",
    "\n",
    "str_uri"
   ]
  },
  {
   "cell_type": "code",
   "execution_count": 23,
   "id": "9dc3caf1",
   "metadata": {},
   "outputs": [
    {
     "name": "stdout",
     "output_type": "stream",
     "text": [
      "Setting file type was sucessful: E0\n"
     ]
    }
   ],
   "source": [
    "# Set the file type by http GET request\n",
    "str_response = http.request.urlopen(str_uri).read().decode('utf-8')\n",
    "str_response = str_response.replace('\\r\\n', '')\n",
    "\n",
    "if (str_response == 'E0'):\n",
    "    print(\"Setting file type was successful: {}\".format(str_response))\n",
    "else:\n",
    "    print(\"There was an error while setting the file type: {}\".format(str_response))"
   ]
  },
  {
   "cell_type": "markdown",
   "id": "83644874",
   "metadata": {},
   "source": [
    "## Read in the file list from SD card"
   ]
  },
  {
   "cell_type": "code",
   "execution_count": 3,
   "id": "e7666b12",
   "metadata": {},
   "outputs": [
    {
     "data": {
      "text/plain": [
       "'EA\\r\\n20/12/09 12:47:34      <DIR> .\\r\\n20/12/09 12:47:34      <DIR> ..\\r\\n20/12/09 12:47:34     424432 000086_201209_080310.GDS\\r\\n21/03/18 15:35:58      15328 000087_210318_153110.GDS\\r\\n21/03/18 15:45:14      12640 000088_210318_154210.GDS\\r\\n21/03/18 16:13:44       8984 000089_210318_161310.GDS\\r\\n21/03/18 16:27:08      25816 000090_210318_161510.GDS\\r\\n21/03/19 09:50:04     110240 000091_210319_084020.GDS\\r\\n21/03/25 16:59:18      19440 000092_210325_165150.GDS\\r\\n21/03/26 16:59:00     430832 000093_210326_121020.GDS\\r\\n21/03/31 18:48:44     597960 000094_210331_120550.GDS\\r\\n21/04/01 16:48:50     425936 000095_210401_120330.GDS\\r\\n21/04/06 17:15:20     277344 000096_210406_141130.GDS\\r\\n21/04/07 16:02:48     559048 000094_210331_120550.GDS.vdx\\r\\n21/04/07 16:06:02     559048 000095_210401_120330.GDS.vdx\\r\\n21/04/07 16:09:18     559048 000096_210406_141130.GDS.vdx\\r\\n21/04/08 16:52:34     460344 000097_210408_114340.GDS\\r\\n21/04/15 09:26:40       5850 000098_210415_092340.GTD\\r\\n21/05/04 12:24:22       1029 000001_210504_122420.GMN\\r\\n21/05/04 13:41:48       2229 000099_210504_134140.GTD\\r\\n21/05/04 14:04:44      26320 000100_210504_134540.GTD\\r\\n21/05/04 14:08:48       9920 000101_210504_140740.GDS\\r\\n21/05/04 14:28:28      36512 000102_210504_140910.GDS\\r\\n21/05/04 14:29:48       9184 000103_210504_142910.GDS\\r\\n21/05/04 14:36:44      16992 000104_210504_143040.GDS\\r\\n21/05/04 14:49:24      26024 000105_210504_143710.GDS\\r\\n21/05/04 15:16:38      11136 000106_210504_151440.GDS\\r\\n21/05/04 15:26:24       3740 000107_210504_152500.GTD\\r\\n21/05/04 19:18:48       5445 000108_210504_191610.GTD\\r\\n21/05/05 12:13:50     117697 000109_210505_104320.GTD\\r\\n21/05/05 12:17:14       1555 000110_210505_121620.GTD\\r\\nEN\\r\\n'"
      ]
     },
     "execution_count": 3,
     "metadata": {},
     "output_type": "execute_result"
    }
   ],
   "source": [
    "# URI for getting the file list\n",
    "str_uri = 'http://' + ip_of_gp10 + '/gene.cgi?msg=FMedia,DIR,%27/DRV0/DATA0/%27,1'\n",
    "\n",
    "# Convert byte stream from the http response to string \n",
    "str_file_list = http.request.urlopen(str_uri).read().decode('utf-8')\n",
    "str_file_list"
   ]
  },
  {
   "cell_type": "code",
   "execution_count": 4,
   "id": "a30c72e7",
   "metadata": {},
   "outputs": [
    {
     "data": {
      "text/plain": [
       "['EA',\n",
       " '20/12/09 12:47:34      <DIR> .',\n",
       " '20/12/09 12:47:34      <DIR> ..',\n",
       " '20/12/09 12:47:34     424432 000086_201209_080310.GDS',\n",
       " '21/03/18 15:35:58      15328 000087_210318_153110.GDS',\n",
       " '21/03/18 15:45:14      12640 000088_210318_154210.GDS',\n",
       " '21/03/18 16:13:44       8984 000089_210318_161310.GDS',\n",
       " '21/03/18 16:27:08      25816 000090_210318_161510.GDS',\n",
       " '21/03/19 09:50:04     110240 000091_210319_084020.GDS',\n",
       " '21/03/25 16:59:18      19440 000092_210325_165150.GDS',\n",
       " '21/03/26 16:59:00     430832 000093_210326_121020.GDS',\n",
       " '21/03/31 18:48:44     597960 000094_210331_120550.GDS',\n",
       " '21/04/01 16:48:50     425936 000095_210401_120330.GDS',\n",
       " '21/04/06 17:15:20     277344 000096_210406_141130.GDS',\n",
       " '21/04/07 16:02:48     559048 000094_210331_120550.GDS.vdx',\n",
       " '21/04/07 16:06:02     559048 000095_210401_120330.GDS.vdx',\n",
       " '21/04/07 16:09:18     559048 000096_210406_141130.GDS.vdx',\n",
       " '21/04/08 16:52:34     460344 000097_210408_114340.GDS',\n",
       " '21/04/15 09:26:40       5850 000098_210415_092340.GTD',\n",
       " '21/05/04 12:24:22       1029 000001_210504_122420.GMN',\n",
       " '21/05/04 13:41:48       2229 000099_210504_134140.GTD',\n",
       " '21/05/04 14:04:44      26320 000100_210504_134540.GTD',\n",
       " '21/05/04 14:08:48       9920 000101_210504_140740.GDS',\n",
       " '21/05/04 14:28:28      36512 000102_210504_140910.GDS',\n",
       " '21/05/04 14:29:48       9184 000103_210504_142910.GDS',\n",
       " '21/05/04 14:36:44      16992 000104_210504_143040.GDS',\n",
       " '21/05/04 14:49:24      26024 000105_210504_143710.GDS',\n",
       " '21/05/04 15:16:38      11136 000106_210504_151440.GDS',\n",
       " '21/05/04 15:26:24       3740 000107_210504_152500.GTD',\n",
       " '21/05/04 19:18:48       5445 000108_210504_191610.GTD',\n",
       " '21/05/05 12:13:50     117697 000109_210505_104320.GTD',\n",
       " '21/05/05 12:17:14       1555 000110_210505_121620.GTD',\n",
       " 'EN',\n",
       " '']"
      ]
     },
     "execution_count": 4,
     "metadata": {},
     "output_type": "execute_result"
    }
   ],
   "source": [
    "# Split string by '\\r\\n' and convert it to a list\n",
    "lst_file_list = list(str_file_list.split('\\r\\n'))\n",
    "lst_file_list"
   ]
  },
  {
   "cell_type": "code",
   "execution_count": 5,
   "id": "9c313d34",
   "metadata": {},
   "outputs": [],
   "source": [
    "# Read file list to dataframe\n",
    "df_file_list = pd.DataFrame(lst_file_list)\n",
    "\n",
    "# Drop first 3 and last 2 rows\n",
    "df_file_list.drop([0, 1, 2], inplace=True)\n",
    "df_file_list.drop(df_file_list.tail(2).index, inplace=True)\n",
    "\n",
    "# Split single column into multiple ones\n",
    "df_file_list_split = df_file_list[0].str.split(expand=True)\n",
    "\n",
    "# Reset the index of dataframe and avoid the old index being added as a column\n",
    "df_file_list_split.reset_index(drop=True, inplace=True)"
   ]
  },
  {
   "cell_type": "code",
   "execution_count": 6,
   "id": "95da288e",
   "metadata": {},
   "outputs": [
    {
     "data": {
      "text/html": [
       "<div>\n",
       "<style scoped>\n",
       "    .dataframe tbody tr th:only-of-type {\n",
       "        vertical-align: middle;\n",
       "    }\n",
       "\n",
       "    .dataframe tbody tr th {\n",
       "        vertical-align: top;\n",
       "    }\n",
       "\n",
       "    .dataframe thead th {\n",
       "        text-align: right;\n",
       "    }\n",
       "</style>\n",
       "<table border=\"1\" class=\"dataframe\">\n",
       "  <thead>\n",
       "    <tr style=\"text-align: right;\">\n",
       "      <th></th>\n",
       "      <th>0</th>\n",
       "      <th>1</th>\n",
       "      <th>2</th>\n",
       "      <th>3</th>\n",
       "    </tr>\n",
       "  </thead>\n",
       "  <tbody>\n",
       "    <tr>\n",
       "      <th>0</th>\n",
       "      <td>20/12/09</td>\n",
       "      <td>12:47:34</td>\n",
       "      <td>424432</td>\n",
       "      <td>000086_201209_080310.GDS</td>\n",
       "    </tr>\n",
       "    <tr>\n",
       "      <th>1</th>\n",
       "      <td>21/03/18</td>\n",
       "      <td>15:35:58</td>\n",
       "      <td>15328</td>\n",
       "      <td>000087_210318_153110.GDS</td>\n",
       "    </tr>\n",
       "    <tr>\n",
       "      <th>2</th>\n",
       "      <td>21/03/18</td>\n",
       "      <td>15:45:14</td>\n",
       "      <td>12640</td>\n",
       "      <td>000088_210318_154210.GDS</td>\n",
       "    </tr>\n",
       "  </tbody>\n",
       "</table>\n",
       "</div>"
      ],
      "text/plain": [
       "          0         1       2                         3\n",
       "0  20/12/09  12:47:34  424432  000086_201209_080310.GDS\n",
       "1  21/03/18  15:35:58   15328  000087_210318_153110.GDS\n",
       "2  21/03/18  15:45:14   12640  000088_210318_154210.GDS"
      ]
     },
     "execution_count": 6,
     "metadata": {},
     "output_type": "execute_result"
    }
   ],
   "source": [
    "df_file_list_split.head(3)"
   ]
  },
  {
   "cell_type": "code",
   "execution_count": 7,
   "id": "81bcc69b",
   "metadata": {},
   "outputs": [
    {
     "data": {
      "text/html": [
       "<div>\n",
       "<style scoped>\n",
       "    .dataframe tbody tr th:only-of-type {\n",
       "        vertical-align: middle;\n",
       "    }\n",
       "\n",
       "    .dataframe tbody tr th {\n",
       "        vertical-align: top;\n",
       "    }\n",
       "\n",
       "    .dataframe thead th {\n",
       "        text-align: right;\n",
       "    }\n",
       "</style>\n",
       "<table border=\"1\" class=\"dataframe\">\n",
       "  <thead>\n",
       "    <tr style=\"text-align: right;\">\n",
       "      <th></th>\n",
       "      <th>0</th>\n",
       "      <th>1</th>\n",
       "      <th>2</th>\n",
       "      <th>3</th>\n",
       "    </tr>\n",
       "  </thead>\n",
       "  <tbody>\n",
       "    <tr>\n",
       "      <th>26</th>\n",
       "      <td>21/05/04</td>\n",
       "      <td>19:18:48</td>\n",
       "      <td>5445</td>\n",
       "      <td>000108_210504_191610.GTD</td>\n",
       "    </tr>\n",
       "    <tr>\n",
       "      <th>27</th>\n",
       "      <td>21/05/05</td>\n",
       "      <td>12:13:50</td>\n",
       "      <td>117697</td>\n",
       "      <td>000109_210505_104320.GTD</td>\n",
       "    </tr>\n",
       "    <tr>\n",
       "      <th>28</th>\n",
       "      <td>21/05/05</td>\n",
       "      <td>12:17:14</td>\n",
       "      <td>1555</td>\n",
       "      <td>000110_210505_121620.GTD</td>\n",
       "    </tr>\n",
       "  </tbody>\n",
       "</table>\n",
       "</div>"
      ],
      "text/plain": [
       "           0         1       2                         3\n",
       "26  21/05/04  19:18:48    5445  000108_210504_191610.GTD\n",
       "27  21/05/05  12:13:50  117697  000109_210505_104320.GTD\n",
       "28  21/05/05  12:17:14    1555  000110_210505_121620.GTD"
      ]
     },
     "execution_count": 7,
     "metadata": {},
     "output_type": "execute_result"
    }
   ],
   "source": [
    "df_file_list_split.tail(3)"
   ]
  },
  {
   "cell_type": "code",
   "execution_count": 8,
   "id": "2cb71ab4",
   "metadata": {},
   "outputs": [
    {
     "data": {
      "text/html": [
       "<div>\n",
       "<style scoped>\n",
       "    .dataframe tbody tr th:only-of-type {\n",
       "        vertical-align: middle;\n",
       "    }\n",
       "\n",
       "    .dataframe tbody tr th {\n",
       "        vertical-align: top;\n",
       "    }\n",
       "\n",
       "    .dataframe thead th {\n",
       "        text-align: right;\n",
       "    }\n",
       "</style>\n",
       "<table border=\"1\" class=\"dataframe\">\n",
       "  <thead>\n",
       "    <tr style=\"text-align: right;\">\n",
       "      <th></th>\n",
       "      <th>Date</th>\n",
       "      <th>Time</th>\n",
       "      <th>File size</th>\n",
       "      <th>File name</th>\n",
       "    </tr>\n",
       "  </thead>\n",
       "  <tbody>\n",
       "    <tr>\n",
       "      <th>0</th>\n",
       "      <td>20/12/09</td>\n",
       "      <td>12:47:34</td>\n",
       "      <td>424432</td>\n",
       "      <td>000086_201209_080310.GDS</td>\n",
       "    </tr>\n",
       "    <tr>\n",
       "      <th>1</th>\n",
       "      <td>21/03/18</td>\n",
       "      <td>15:35:58</td>\n",
       "      <td>15328</td>\n",
       "      <td>000087_210318_153110.GDS</td>\n",
       "    </tr>\n",
       "    <tr>\n",
       "      <th>2</th>\n",
       "      <td>21/03/18</td>\n",
       "      <td>15:45:14</td>\n",
       "      <td>12640</td>\n",
       "      <td>000088_210318_154210.GDS</td>\n",
       "    </tr>\n",
       "  </tbody>\n",
       "</table>\n",
       "</div>"
      ],
      "text/plain": [
       "       Date      Time File size                 File name\n",
       "0  20/12/09  12:47:34    424432  000086_201209_080310.GDS\n",
       "1  21/03/18  15:35:58     15328  000087_210318_153110.GDS\n",
       "2  21/03/18  15:45:14     12640  000088_210318_154210.GDS"
      ]
     },
     "execution_count": 8,
     "metadata": {},
     "output_type": "execute_result"
    }
   ],
   "source": [
    "# Rename columns by column index\n",
    "df_file_list_new = df_file_list_split.rename(columns={ df_file_list_split.columns[0]: \"Date\", \n",
    "                                                       df_file_list_split.columns[1]: \"Time\",\n",
    "                                                       df_file_list_split.columns[2]: \"File size\",\n",
    "                                                       df_file_list_split.columns[3]: \"File name\" })\n",
    "\n",
    "df_file_list_new.head(3)"
   ]
  },
  {
   "cell_type": "code",
   "execution_count": 9,
   "id": "905b3251",
   "metadata": {},
   "outputs": [],
   "source": [
    "# Combine date and time columns to a new datetime array\n",
    "# Hints:\n",
    "# Parameter 'format=\"%y/%m/%d %H:%M:%S\"' defines the INPUT data format of the raw original string\n",
    "# With method '.dt.strftime('%d.%m.%Y, %H:%M:%S')' you can define the OUTPUT data format\n",
    "new_dt_column = pd.to_datetime(df_file_list_new['Date'] + ' ' + df_file_list_new['Time'], format=\"%y/%m/%d %H:%M:%S\") #.dt.strftime('%d.%m.%Y, %H:%M:%S')\n",
    "\n",
    "# Replace values of 'Date' row with new datetime array\n",
    "df_file_list_new['Date'] = new_dt_column\n",
    "\n",
    "# Rename row to 'Datetime'\n",
    "df_file_list_new = df_file_list_new.rename(columns={'Date': 'Datetime'})\n",
    "\n",
    "# Delete unused row 'Time'\n",
    "del df_file_list_new['Time']\n",
    "\n",
    "# Cast values to correct data types\n",
    "df_file_list_new['File size'] = df_file_list_new['File size'].astype(int)\n",
    "df_file_list_new['File name'] = df_file_list_new['File name'].astype(str)"
   ]
  },
  {
   "cell_type": "code",
   "execution_count": 10,
   "id": "f507df66",
   "metadata": {},
   "outputs": [
    {
     "data": {
      "text/html": [
       "<div>\n",
       "<style scoped>\n",
       "    .dataframe tbody tr th:only-of-type {\n",
       "        vertical-align: middle;\n",
       "    }\n",
       "\n",
       "    .dataframe tbody tr th {\n",
       "        vertical-align: top;\n",
       "    }\n",
       "\n",
       "    .dataframe thead th {\n",
       "        text-align: right;\n",
       "    }\n",
       "</style>\n",
       "<table border=\"1\" class=\"dataframe\">\n",
       "  <thead>\n",
       "    <tr style=\"text-align: right;\">\n",
       "      <th></th>\n",
       "      <th>Datetime</th>\n",
       "      <th>File size</th>\n",
       "      <th>File name</th>\n",
       "    </tr>\n",
       "  </thead>\n",
       "  <tbody>\n",
       "    <tr>\n",
       "      <th>0</th>\n",
       "      <td>2020-12-09 12:47:34</td>\n",
       "      <td>424432</td>\n",
       "      <td>000086_201209_080310.GDS</td>\n",
       "    </tr>\n",
       "    <tr>\n",
       "      <th>1</th>\n",
       "      <td>2021-03-18 15:35:58</td>\n",
       "      <td>15328</td>\n",
       "      <td>000087_210318_153110.GDS</td>\n",
       "    </tr>\n",
       "    <tr>\n",
       "      <th>2</th>\n",
       "      <td>2021-03-18 15:45:14</td>\n",
       "      <td>12640</td>\n",
       "      <td>000088_210318_154210.GDS</td>\n",
       "    </tr>\n",
       "    <tr>\n",
       "      <th>3</th>\n",
       "      <td>2021-03-18 16:13:44</td>\n",
       "      <td>8984</td>\n",
       "      <td>000089_210318_161310.GDS</td>\n",
       "    </tr>\n",
       "    <tr>\n",
       "      <th>4</th>\n",
       "      <td>2021-03-18 16:27:08</td>\n",
       "      <td>25816</td>\n",
       "      <td>000090_210318_161510.GDS</td>\n",
       "    </tr>\n",
       "  </tbody>\n",
       "</table>\n",
       "</div>"
      ],
      "text/plain": [
       "             Datetime  File size                 File name\n",
       "0 2020-12-09 12:47:34     424432  000086_201209_080310.GDS\n",
       "1 2021-03-18 15:35:58      15328  000087_210318_153110.GDS\n",
       "2 2021-03-18 15:45:14      12640  000088_210318_154210.GDS\n",
       "3 2021-03-18 16:13:44       8984  000089_210318_161310.GDS\n",
       "4 2021-03-18 16:27:08      25816  000090_210318_161510.GDS"
      ]
     },
     "execution_count": 10,
     "metadata": {},
     "output_type": "execute_result"
    }
   ],
   "source": [
    "# View first 5 files in the list\n",
    "df_file_list_new.head(5)"
   ]
  },
  {
   "cell_type": "code",
   "execution_count": 11,
   "id": "2cf7c87d",
   "metadata": {},
   "outputs": [
    {
     "data": {
      "text/plain": [
       "Datetime     datetime64[ns]\n",
       "File size             int32\n",
       "File name            object\n",
       "dtype: object"
      ]
     },
     "execution_count": 11,
     "metadata": {},
     "output_type": "execute_result"
    }
   ],
   "source": [
    "df_file_list_new.dtypes"
   ]
  },
  {
   "cell_type": "code",
   "execution_count": 12,
   "id": "c43c1c31",
   "metadata": {},
   "outputs": [],
   "source": [
    "# Delete rows with file types other than GTD\n",
    "# '~' negates the search string\n",
    "df_file_list_new.drop(df_file_list_new[~df_file_list_new['File name'].str.contains(\"GTD\")].index, inplace=True)\n",
    "\n",
    "# Reset the index of dataframe and avoid the old index being added as a column\n",
    "df_file_list_new.reset_index(drop=True, inplace=True)"
   ]
  },
  {
   "cell_type": "code",
   "execution_count": 13,
   "id": "9c162827",
   "metadata": {},
   "outputs": [],
   "source": [
    "# Sort the dataframe by column 'Datetime' descending to get the newest file on top\n",
    "df_file_list_new.sort_values(by='Datetime', ascending=False, inplace=True)"
   ]
  },
  {
   "cell_type": "code",
   "execution_count": 14,
   "id": "0c837202",
   "metadata": {},
   "outputs": [
    {
     "data": {
      "text/html": [
       "<div>\n",
       "<style scoped>\n",
       "    .dataframe tbody tr th:only-of-type {\n",
       "        vertical-align: middle;\n",
       "    }\n",
       "\n",
       "    .dataframe tbody tr th {\n",
       "        vertical-align: top;\n",
       "    }\n",
       "\n",
       "    .dataframe thead th {\n",
       "        text-align: right;\n",
       "    }\n",
       "</style>\n",
       "<table border=\"1\" class=\"dataframe\">\n",
       "  <thead>\n",
       "    <tr style=\"text-align: right;\">\n",
       "      <th></th>\n",
       "      <th>Datetime</th>\n",
       "      <th>File size</th>\n",
       "      <th>File name</th>\n",
       "    </tr>\n",
       "  </thead>\n",
       "  <tbody>\n",
       "    <tr>\n",
       "      <th>6</th>\n",
       "      <td>2021-05-05 12:17:14</td>\n",
       "      <td>1555</td>\n",
       "      <td>000110_210505_121620.GTD</td>\n",
       "    </tr>\n",
       "    <tr>\n",
       "      <th>5</th>\n",
       "      <td>2021-05-05 12:13:50</td>\n",
       "      <td>117697</td>\n",
       "      <td>000109_210505_104320.GTD</td>\n",
       "    </tr>\n",
       "    <tr>\n",
       "      <th>4</th>\n",
       "      <td>2021-05-04 19:18:48</td>\n",
       "      <td>5445</td>\n",
       "      <td>000108_210504_191610.GTD</td>\n",
       "    </tr>\n",
       "    <tr>\n",
       "      <th>3</th>\n",
       "      <td>2021-05-04 15:26:24</td>\n",
       "      <td>3740</td>\n",
       "      <td>000107_210504_152500.GTD</td>\n",
       "    </tr>\n",
       "    <tr>\n",
       "      <th>2</th>\n",
       "      <td>2021-05-04 14:04:44</td>\n",
       "      <td>26320</td>\n",
       "      <td>000100_210504_134540.GTD</td>\n",
       "    </tr>\n",
       "    <tr>\n",
       "      <th>1</th>\n",
       "      <td>2021-05-04 13:41:48</td>\n",
       "      <td>2229</td>\n",
       "      <td>000099_210504_134140.GTD</td>\n",
       "    </tr>\n",
       "    <tr>\n",
       "      <th>0</th>\n",
       "      <td>2021-04-15 09:26:40</td>\n",
       "      <td>5850</td>\n",
       "      <td>000098_210415_092340.GTD</td>\n",
       "    </tr>\n",
       "  </tbody>\n",
       "</table>\n",
       "</div>"
      ],
      "text/plain": [
       "             Datetime  File size                 File name\n",
       "6 2021-05-05 12:17:14       1555  000110_210505_121620.GTD\n",
       "5 2021-05-05 12:13:50     117697  000109_210505_104320.GTD\n",
       "4 2021-05-04 19:18:48       5445  000108_210504_191610.GTD\n",
       "3 2021-05-04 15:26:24       3740  000107_210504_152500.GTD\n",
       "2 2021-05-04 14:04:44      26320  000100_210504_134540.GTD\n",
       "1 2021-05-04 13:41:48       2229  000099_210504_134140.GTD\n",
       "0 2021-04-15 09:26:40       5850  000098_210415_092340.GTD"
      ]
     },
     "metadata": {},
     "output_type": "display_data"
    }
   ],
   "source": [
    "display(df_file_list_new)"
   ]
  },
  {
   "cell_type": "markdown",
   "id": "f23558b7",
   "metadata": {},
   "source": [
    "## Download GDS/GTD files to local file system\n",
    "\n",
    "Source: https://stackabuse.com/download-files-with-python/"
   ]
  },
  {
   "cell_type": "code",
   "execution_count": 21,
   "id": "6425ffb1",
   "metadata": {},
   "outputs": [
    {
     "data": {
      "text/plain": [
       "'000110_210505_121620.GTD'"
      ]
     },
     "execution_count": 21,
     "metadata": {},
     "output_type": "execute_result"
    }
   ],
   "source": [
    "# Get name of last file in dataframe\n",
    "#str_file_name = df_file_list_new['File name'].iloc[-1]\n",
    "\n",
    "# Get the name of the first file in dataframe\n",
    "# It should be the newest file sorted by descending order\n",
    "str_file_name = df_file_list_new['File name'].iloc[0]\n",
    "\n",
    "str_file_name"
   ]
  },
  {
   "cell_type": "code",
   "execution_count": 19,
   "id": "e8b0c1c0",
   "metadata": {},
   "outputs": [
    {
     "data": {
      "text/plain": [
       "'http://192.168.15.207/DRV0/DATA0/000109_210505_104320.GTD'"
      ]
     },
     "execution_count": 19,
     "metadata": {},
     "output_type": "execute_result"
    }
   ],
   "source": [
    "# Expand the download URI by file name\n",
    "file_url = 'http://' + ip_of_gp10 + '/DRV0/DATA0/'\n",
    "file_url = file_url + str_file_name\n",
    "\n",
    "file_url"
   ]
  },
  {
   "cell_type": "code",
   "execution_count": 20,
   "id": "8fea37b9",
   "metadata": {},
   "outputs": [
    {
     "data": {
      "text/plain": [
       "('./data_files/000109_210505_104320.GTD',\n",
       " <http.client.HTTPMessage at 0x6897f2b0>)"
      ]
     },
     "execution_count": 20,
     "metadata": {},
     "output_type": "execute_result"
    }
   ],
   "source": [
    "# Download the file to local file system\n",
    "http.request.urlretrieve(file_url, './data_files/' + str_file_name)"
   ]
  },
  {
   "cell_type": "markdown",
   "id": "42b4a74b-d891-4428-a594-bbf5bb88353f",
   "metadata": {},
   "source": [
    "# Read in and display recorded data from ASCII text files\n",
    "\n",
    "## Reading CSV (GTD), XLSX, ODF files in Python to Dataframe\n",
    "\n",
    "https://pandas.pydata.org/docs/reference/api/pandas.read_excel.html\n",
    "https://pythonspot.com/reading-csv-files-in-python/  \n",
    "https://stackoverflow.com/questions/7856296/parsing-csv-tab-delimited-txt-file-with-python  \n",
    "https://www.datacamp.com/community/tutorials/pandas-read-csv"
   ]
  },
  {
   "cell_type": "code",
   "execution_count": 2,
   "id": "ca8abd31-f99b-44f1-b7a5-2717e5b5bf78",
   "metadata": {},
   "outputs": [],
   "source": [
    "import pandas as pd\n",
    "\n",
    "def create_dictionary_from_csv(filename, offset=0, cols_wanted=1):\n",
    "    my_dataframe = pd.read_csv(filename, sep='\\t', index_col=False, decimal='.', header=offset)\n",
    "    # Here you can delete the dataframe columns you dont want!\n",
    "    if 'Tag Comment' in my_dataframe.columns:\n",
    "        del my_dataframe['Tag Comment']\n",
    "    \n",
    "    # Delete all cloumns after the desired ones\n",
    "    my_dataframe.drop(my_dataframe.columns[cols_wanted:], axis=1, inplace=True)\n",
    "\n",
    "    return my_dataframe"
   ]
  },
  {
   "cell_type": "code",
   "execution_count": 3,
   "id": "02e144a0-1855-4aa8-a38e-052c6be35103",
   "metadata": {},
   "outputs": [],
   "source": [
    "#df = create_dictionary_from_csv(\"./data_files/Yokogawa_GP10_2021-04-01_FSS4_Nennbetrieb.csv\")\n",
    "#df = create_dictionary_from_csv(\"./data_files/Yokogawa_GP10_2021-04-06_FSS4_Kurzschluss.csv\")\n",
    "#df = create_dictionary_from_csv(\"./data_files/Yokogawa_GP10_2021-04-01_FSS4_Nennbetrieb.txt\")\n",
    "\n",
    "#str_file_name = '000108_210504_191610.GTD'\n",
    "str_file_name = '000109_210505_104320.GTD'\n",
    "\n",
    "df = create_dictionary_from_csv(filename=\"./data_files/\" + str_file_name, offset=24, cols_wanted=11)"
   ]
  },
  {
   "cell_type": "code",
   "execution_count": 4,
   "id": "7d802cf4-031e-4458-bdf1-806937afd090",
   "metadata": {},
   "outputs": [
    {
     "data": {
      "text/html": [
       "<div>\n",
       "<style scoped>\n",
       "    .dataframe tbody tr th:only-of-type {\n",
       "        vertical-align: middle;\n",
       "    }\n",
       "\n",
       "    .dataframe tbody tr th {\n",
       "        vertical-align: top;\n",
       "    }\n",
       "\n",
       "    .dataframe thead th {\n",
       "        text-align: right;\n",
       "    }\n",
       "</style>\n",
       "<table border=\"1\" class=\"dataframe\">\n",
       "  <thead>\n",
       "    <tr style=\"text-align: right;\">\n",
       "      <th></th>\n",
       "      <th>Tag</th>\n",
       "      <th>T01_Trafo-Gehäuse</th>\n",
       "      <th>T01_Trafo-Gehäuse.1</th>\n",
       "      <th>T02_Gehäuse_innen</th>\n",
       "      <th>T02_Gehäuse_innen.1</th>\n",
       "      <th>T03_Gehäuse_Rückseite</th>\n",
       "      <th>T03_Gehäuse_Rückseite.1</th>\n",
       "      <th>T04_Gehäuse_oben</th>\n",
       "      <th>T04_Gehäuse_oben.1</th>\n",
       "      <th>T05_Umgebung</th>\n",
       "      <th>T05_Umgebung.1</th>\n",
       "    </tr>\n",
       "  </thead>\n",
       "  <tbody>\n",
       "    <tr>\n",
       "      <th>0</th>\n",
       "      <td>Unit</td>\n",
       "      <td>°C</td>\n",
       "      <td>°C</td>\n",
       "      <td>°C</td>\n",
       "      <td>°C</td>\n",
       "      <td>°C</td>\n",
       "      <td>°C</td>\n",
       "      <td>°C</td>\n",
       "      <td>°C</td>\n",
       "      <td>°C</td>\n",
       "      <td>°C</td>\n",
       "    </tr>\n",
       "    <tr>\n",
       "      <th>1</th>\n",
       "      <td>Type</td>\n",
       "      <td>Meas</td>\n",
       "      <td>Meas</td>\n",
       "      <td>Meas</td>\n",
       "      <td>Meas</td>\n",
       "      <td>Meas</td>\n",
       "      <td>Meas</td>\n",
       "      <td>Meas</td>\n",
       "      <td>Meas</td>\n",
       "      <td>Meas</td>\n",
       "      <td>Meas</td>\n",
       "    </tr>\n",
       "    <tr>\n",
       "      <th>2</th>\n",
       "      <td>Kind</td>\n",
       "      <td>Min</td>\n",
       "      <td>Max</td>\n",
       "      <td>Min</td>\n",
       "      <td>Max</td>\n",
       "      <td>Min</td>\n",
       "      <td>Max</td>\n",
       "      <td>Min</td>\n",
       "      <td>Max</td>\n",
       "      <td>Min</td>\n",
       "      <td>Max</td>\n",
       "    </tr>\n",
       "    <tr>\n",
       "      <th>3</th>\n",
       "      <td>Sampling Data</td>\n",
       "      <td>NaN</td>\n",
       "      <td>NaN</td>\n",
       "      <td>NaN</td>\n",
       "      <td>NaN</td>\n",
       "      <td>NaN</td>\n",
       "      <td>NaN</td>\n",
       "      <td>NaN</td>\n",
       "      <td>NaN</td>\n",
       "      <td>NaN</td>\n",
       "      <td>NaN</td>\n",
       "    </tr>\n",
       "    <tr>\n",
       "      <th>4</th>\n",
       "      <td>2021/05/05 10:43:20</td>\n",
       "      <td>23.8</td>\n",
       "      <td>23.8</td>\n",
       "      <td>24.2</td>\n",
       "      <td>24.2</td>\n",
       "      <td>24.3</td>\n",
       "      <td>24.3</td>\n",
       "      <td>24.1</td>\n",
       "      <td>24.1</td>\n",
       "      <td>24.5</td>\n",
       "      <td>24.5</td>\n",
       "    </tr>\n",
       "    <tr>\n",
       "      <th>5</th>\n",
       "      <td>2021/05/05 10:43:30</td>\n",
       "      <td>23.8</td>\n",
       "      <td>23.8</td>\n",
       "      <td>24.2</td>\n",
       "      <td>24.2</td>\n",
       "      <td>24.3</td>\n",
       "      <td>24.3</td>\n",
       "      <td>24.0</td>\n",
       "      <td>24.1</td>\n",
       "      <td>24.5</td>\n",
       "      <td>24.5</td>\n",
       "    </tr>\n",
       "  </tbody>\n",
       "</table>\n",
       "</div>"
      ],
      "text/plain": [
       "                   Tag T01_Trafo-Gehäuse T01_Trafo-Gehäuse.1  \\\n",
       "0                 Unit                °C                  °C   \n",
       "1                 Type              Meas                Meas   \n",
       "2                 Kind               Min                 Max   \n",
       "3        Sampling Data               NaN                 NaN   \n",
       "4  2021/05/05 10:43:20              23.8                23.8   \n",
       "5  2021/05/05 10:43:30              23.8                23.8   \n",
       "\n",
       "  T02_Gehäuse_innen T02_Gehäuse_innen.1 T03_Gehäuse_Rückseite  \\\n",
       "0                °C                  °C                    °C   \n",
       "1              Meas                Meas                  Meas   \n",
       "2               Min                 Max                   Min   \n",
       "3               NaN                 NaN                   NaN   \n",
       "4              24.2                24.2                  24.3   \n",
       "5              24.2                24.2                  24.3   \n",
       "\n",
       "  T03_Gehäuse_Rückseite.1 T04_Gehäuse_oben T04_Gehäuse_oben.1 T05_Umgebung  \\\n",
       "0                      °C               °C                 °C           °C   \n",
       "1                    Meas             Meas               Meas         Meas   \n",
       "2                     Max              Min                Max          Min   \n",
       "3                     NaN              NaN                NaN          NaN   \n",
       "4                    24.3             24.1               24.1         24.5   \n",
       "5                    24.3             24.0               24.1         24.5   \n",
       "\n",
       "  T05_Umgebung.1  \n",
       "0             °C  \n",
       "1           Meas  \n",
       "2            Max  \n",
       "3            NaN  \n",
       "4           24.5  \n",
       "5           24.5  "
      ]
     },
     "execution_count": 4,
     "metadata": {},
     "output_type": "execute_result"
    }
   ],
   "source": [
    "df.head(6)"
   ]
  },
  {
   "cell_type": "code",
   "execution_count": 5,
   "id": "77edf9d9-546e-4aab-8dd8-1c685aa4c65a",
   "metadata": {},
   "outputs": [],
   "source": [
    "# Rename the columns\n",
    "for col in df.columns:\n",
    "    if (col == 'Tag'):\n",
    "        df.rename(columns={\"Tag\": \"Datetime\"}, inplace=True)\n",
    "    \n",
    "    # Extend the column name by '_min' - but only once\n",
    "    elif ( (df[col][2] == 'Min') and\n",
    "           (col.find(\"_min\") == -1) ):\n",
    "        df.rename(columns={col: col + \"_min\"}, inplace=True)\n",
    "    \n",
    "    # Extend the column name by '_max' - but only once\n",
    "    elif ( (df[col][2] == 'Max') and\n",
    "           (col.find(\"_max\") == -1) ):\n",
    "        col_c = col.replace('.1', '')\n",
    "        df.rename(columns={col: col_c + \"_max\"}, inplace=True)"
   ]
  },
  {
   "cell_type": "code",
   "execution_count": null,
   "id": "5875808a-a9ce-4f90-b36d-3200aa6b722e",
   "metadata": {},
   "outputs": [],
   "source": [
    "# rename the columns\n",
    "#df_clean = df.rename(columns={ \"Unnamed: 0\": \"Date\", \"Unnamed: 1\": \"Time\",\n",
    "#                               \"T01_Trafo-Gehäuse\": \"T01_Trafo-Gehaeuse_min\", \"Unnamed: 4\": \"T01_Trafo-Gehaeuse_max\",\n",
    "#                               \"T02_Gehäuse_innen\": \"T02_Gehaeuse_innen_min\", \"Unnamed: 6\": \"T02_Gehaeuse_innen_max\",\n",
    "#                               \"T03_Gehäuse_Rückseite\": \"T03_Gehaeuse_Rueckseite_min\", \"Unnamed: 8\": \"T03_Gehaeuse_Rueckseite_max\",\n",
    "#                               \"T04_Gehäuse_oben\": \"T04_Gehaeuse_oben_min\", \"Unnamed: 10\": \"T04_Gehaeuse_oben_max\",\n",
    "#                               \"T05_Umgebung\": \"T05_Umgebung_min\", \"Unnamed: 12\": \"T05_Umgebung_max\" })\n",
    "\n",
    "#df_clean.head(8)"
   ]
  },
  {
   "cell_type": "code",
   "execution_count": 6,
   "id": "5d649aaa-909c-4661-a461-965bbe8e80ce",
   "metadata": {},
   "outputs": [
    {
     "data": {
      "text/html": [
       "<div>\n",
       "<style scoped>\n",
       "    .dataframe tbody tr th:only-of-type {\n",
       "        vertical-align: middle;\n",
       "    }\n",
       "\n",
       "    .dataframe tbody tr th {\n",
       "        vertical-align: top;\n",
       "    }\n",
       "\n",
       "    .dataframe thead th {\n",
       "        text-align: right;\n",
       "    }\n",
       "</style>\n",
       "<table border=\"1\" class=\"dataframe\">\n",
       "  <thead>\n",
       "    <tr style=\"text-align: right;\">\n",
       "      <th></th>\n",
       "      <th>Datetime</th>\n",
       "      <th>T01_Trafo-Gehäuse_min</th>\n",
       "      <th>T01_Trafo-Gehäuse_max</th>\n",
       "      <th>T02_Gehäuse_innen_min</th>\n",
       "      <th>T02_Gehäuse_innen_max</th>\n",
       "      <th>T03_Gehäuse_Rückseite_min</th>\n",
       "      <th>T03_Gehäuse_Rückseite_max</th>\n",
       "      <th>T04_Gehäuse_oben_min</th>\n",
       "      <th>T04_Gehäuse_oben_max</th>\n",
       "      <th>T05_Umgebung_min</th>\n",
       "      <th>T05_Umgebung_max</th>\n",
       "    </tr>\n",
       "  </thead>\n",
       "  <tbody>\n",
       "    <tr>\n",
       "      <th>4</th>\n",
       "      <td>2021/05/05 10:43:20</td>\n",
       "      <td>23.8</td>\n",
       "      <td>23.8</td>\n",
       "      <td>24.2</td>\n",
       "      <td>24.2</td>\n",
       "      <td>24.3</td>\n",
       "      <td>24.3</td>\n",
       "      <td>24.1</td>\n",
       "      <td>24.1</td>\n",
       "      <td>24.5</td>\n",
       "      <td>24.5</td>\n",
       "    </tr>\n",
       "    <tr>\n",
       "      <th>5</th>\n",
       "      <td>2021/05/05 10:43:30</td>\n",
       "      <td>23.8</td>\n",
       "      <td>23.8</td>\n",
       "      <td>24.2</td>\n",
       "      <td>24.2</td>\n",
       "      <td>24.3</td>\n",
       "      <td>24.3</td>\n",
       "      <td>24.0</td>\n",
       "      <td>24.1</td>\n",
       "      <td>24.5</td>\n",
       "      <td>24.5</td>\n",
       "    </tr>\n",
       "    <tr>\n",
       "      <th>6</th>\n",
       "      <td>2021/05/05 10:43:40</td>\n",
       "      <td>23.8</td>\n",
       "      <td>23.8</td>\n",
       "      <td>24.2</td>\n",
       "      <td>24.2</td>\n",
       "      <td>24.3</td>\n",
       "      <td>24.3</td>\n",
       "      <td>24.0</td>\n",
       "      <td>24.0</td>\n",
       "      <td>24.5</td>\n",
       "      <td>24.5</td>\n",
       "    </tr>\n",
       "    <tr>\n",
       "      <th>7</th>\n",
       "      <td>2021/05/05 10:43:50</td>\n",
       "      <td>23.8</td>\n",
       "      <td>23.8</td>\n",
       "      <td>24.2</td>\n",
       "      <td>24.2</td>\n",
       "      <td>24.3</td>\n",
       "      <td>24.3</td>\n",
       "      <td>24.0</td>\n",
       "      <td>24.1</td>\n",
       "      <td>24.5</td>\n",
       "      <td>24.6</td>\n",
       "    </tr>\n",
       "    <tr>\n",
       "      <th>8</th>\n",
       "      <td>2021/05/05 10:44:00</td>\n",
       "      <td>23.8</td>\n",
       "      <td>23.8</td>\n",
       "      <td>24.2</td>\n",
       "      <td>24.2</td>\n",
       "      <td>24.3</td>\n",
       "      <td>24.3</td>\n",
       "      <td>24.0</td>\n",
       "      <td>24.1</td>\n",
       "      <td>24.5</td>\n",
       "      <td>24.6</td>\n",
       "    </tr>\n",
       "  </tbody>\n",
       "</table>\n",
       "</div>"
      ],
      "text/plain": [
       "              Datetime T01_Trafo-Gehäuse_min T01_Trafo-Gehäuse_max  \\\n",
       "4  2021/05/05 10:43:20                  23.8                  23.8   \n",
       "5  2021/05/05 10:43:30                  23.8                  23.8   \n",
       "6  2021/05/05 10:43:40                  23.8                  23.8   \n",
       "7  2021/05/05 10:43:50                  23.8                  23.8   \n",
       "8  2021/05/05 10:44:00                  23.8                  23.8   \n",
       "\n",
       "  T02_Gehäuse_innen_min T02_Gehäuse_innen_max T03_Gehäuse_Rückseite_min  \\\n",
       "4                  24.2                  24.2                      24.3   \n",
       "5                  24.2                  24.2                      24.3   \n",
       "6                  24.2                  24.2                      24.3   \n",
       "7                  24.2                  24.2                      24.3   \n",
       "8                  24.2                  24.2                      24.3   \n",
       "\n",
       "  T03_Gehäuse_Rückseite_max T04_Gehäuse_oben_min T04_Gehäuse_oben_max  \\\n",
       "4                      24.3                 24.1                 24.1   \n",
       "5                      24.3                 24.0                 24.1   \n",
       "6                      24.3                 24.0                 24.0   \n",
       "7                      24.3                 24.0                 24.1   \n",
       "8                      24.3                 24.0                 24.1   \n",
       "\n",
       "  T05_Umgebung_min T05_Umgebung_max  \n",
       "4             24.5             24.5  \n",
       "5             24.5             24.5  \n",
       "6             24.5             24.5  \n",
       "7             24.5             24.6  \n",
       "8             24.5             24.6  "
      ]
     },
     "execution_count": 6,
     "metadata": {},
     "output_type": "execute_result"
    }
   ],
   "source": [
    "# Delete not used rows\n",
    "df_clean = df.drop([0, 1, 2, 3])\n",
    "df_clean.head(5)"
   ]
  },
  {
   "cell_type": "code",
   "execution_count": 7,
   "id": "f85459f4-a845-4bc9-859a-8ed25b510bb2",
   "metadata": {},
   "outputs": [
    {
     "data": {
      "text/html": [
       "<div>\n",
       "<style scoped>\n",
       "    .dataframe tbody tr th:only-of-type {\n",
       "        vertical-align: middle;\n",
       "    }\n",
       "\n",
       "    .dataframe tbody tr th {\n",
       "        vertical-align: top;\n",
       "    }\n",
       "\n",
       "    .dataframe thead th {\n",
       "        text-align: right;\n",
       "    }\n",
       "</style>\n",
       "<table border=\"1\" class=\"dataframe\">\n",
       "  <thead>\n",
       "    <tr style=\"text-align: right;\">\n",
       "      <th></th>\n",
       "      <th>Datetime</th>\n",
       "      <th>T01_Trafo-Gehäuse_min</th>\n",
       "      <th>T01_Trafo-Gehäuse_max</th>\n",
       "      <th>T02_Gehäuse_innen_min</th>\n",
       "      <th>T02_Gehäuse_innen_max</th>\n",
       "      <th>T03_Gehäuse_Rückseite_min</th>\n",
       "      <th>T03_Gehäuse_Rückseite_max</th>\n",
       "      <th>T04_Gehäuse_oben_min</th>\n",
       "      <th>T04_Gehäuse_oben_max</th>\n",
       "      <th>T05_Umgebung_min</th>\n",
       "      <th>T05_Umgebung_max</th>\n",
       "    </tr>\n",
       "  </thead>\n",
       "  <tbody>\n",
       "    <tr>\n",
       "      <th>0</th>\n",
       "      <td>2021/05/05 10:43:20</td>\n",
       "      <td>23.8</td>\n",
       "      <td>23.8</td>\n",
       "      <td>24.2</td>\n",
       "      <td>24.2</td>\n",
       "      <td>24.3</td>\n",
       "      <td>24.3</td>\n",
       "      <td>24.1</td>\n",
       "      <td>24.1</td>\n",
       "      <td>24.5</td>\n",
       "      <td>24.5</td>\n",
       "    </tr>\n",
       "    <tr>\n",
       "      <th>1</th>\n",
       "      <td>2021/05/05 10:43:30</td>\n",
       "      <td>23.8</td>\n",
       "      <td>23.8</td>\n",
       "      <td>24.2</td>\n",
       "      <td>24.2</td>\n",
       "      <td>24.3</td>\n",
       "      <td>24.3</td>\n",
       "      <td>24.0</td>\n",
       "      <td>24.1</td>\n",
       "      <td>24.5</td>\n",
       "      <td>24.5</td>\n",
       "    </tr>\n",
       "    <tr>\n",
       "      <th>2</th>\n",
       "      <td>2021/05/05 10:43:40</td>\n",
       "      <td>23.8</td>\n",
       "      <td>23.8</td>\n",
       "      <td>24.2</td>\n",
       "      <td>24.2</td>\n",
       "      <td>24.3</td>\n",
       "      <td>24.3</td>\n",
       "      <td>24.0</td>\n",
       "      <td>24.0</td>\n",
       "      <td>24.5</td>\n",
       "      <td>24.5</td>\n",
       "    </tr>\n",
       "    <tr>\n",
       "      <th>3</th>\n",
       "      <td>2021/05/05 10:43:50</td>\n",
       "      <td>23.8</td>\n",
       "      <td>23.8</td>\n",
       "      <td>24.2</td>\n",
       "      <td>24.2</td>\n",
       "      <td>24.3</td>\n",
       "      <td>24.3</td>\n",
       "      <td>24.0</td>\n",
       "      <td>24.1</td>\n",
       "      <td>24.5</td>\n",
       "      <td>24.6</td>\n",
       "    </tr>\n",
       "    <tr>\n",
       "      <th>4</th>\n",
       "      <td>2021/05/05 10:44:00</td>\n",
       "      <td>23.8</td>\n",
       "      <td>23.8</td>\n",
       "      <td>24.2</td>\n",
       "      <td>24.2</td>\n",
       "      <td>24.3</td>\n",
       "      <td>24.3</td>\n",
       "      <td>24.0</td>\n",
       "      <td>24.1</td>\n",
       "      <td>24.5</td>\n",
       "      <td>24.6</td>\n",
       "    </tr>\n",
       "  </tbody>\n",
       "</table>\n",
       "</div>"
      ],
      "text/plain": [
       "              Datetime T01_Trafo-Gehäuse_min T01_Trafo-Gehäuse_max  \\\n",
       "0  2021/05/05 10:43:20                  23.8                  23.8   \n",
       "1  2021/05/05 10:43:30                  23.8                  23.8   \n",
       "2  2021/05/05 10:43:40                  23.8                  23.8   \n",
       "3  2021/05/05 10:43:50                  23.8                  23.8   \n",
       "4  2021/05/05 10:44:00                  23.8                  23.8   \n",
       "\n",
       "  T02_Gehäuse_innen_min T02_Gehäuse_innen_max T03_Gehäuse_Rückseite_min  \\\n",
       "0                  24.2                  24.2                      24.3   \n",
       "1                  24.2                  24.2                      24.3   \n",
       "2                  24.2                  24.2                      24.3   \n",
       "3                  24.2                  24.2                      24.3   \n",
       "4                  24.2                  24.2                      24.3   \n",
       "\n",
       "  T03_Gehäuse_Rückseite_max T04_Gehäuse_oben_min T04_Gehäuse_oben_max  \\\n",
       "0                      24.3                 24.1                 24.1   \n",
       "1                      24.3                 24.0                 24.1   \n",
       "2                      24.3                 24.0                 24.0   \n",
       "3                      24.3                 24.0                 24.1   \n",
       "4                      24.3                 24.0                 24.1   \n",
       "\n",
       "  T05_Umgebung_min T05_Umgebung_max  \n",
       "0             24.5             24.5  \n",
       "1             24.5             24.5  \n",
       "2             24.5             24.5  \n",
       "3             24.5             24.6  \n",
       "4             24.5             24.6  "
      ]
     },
     "execution_count": 7,
     "metadata": {},
     "output_type": "execute_result"
    }
   ],
   "source": [
    "# Reset the index of dataframe and avoid the old index being added as a column\n",
    "df_clean = df_clean.reset_index(drop=True)\n",
    "df_clean.head(5)"
   ]
  },
  {
   "cell_type": "code",
   "execution_count": null,
   "id": "ee261d0d-df78-4262-9296-451a475a2f40",
   "metadata": {},
   "outputs": [],
   "source": [
    "# combine date and time columns to a new datetime array\n",
    "#new_dt_column = pd.to_datetime(df_clean['Date'] + ' ' + df_clean['Time'])\n",
    "\n",
    "# replace values of 'Date' row with new datetime array\n",
    "#df_clean['Date'] = new_dt_column\n",
    "\n",
    "# rename row to 'Datetime'\n",
    "#df_clean = df_clean.rename(columns={'Date': 'Datetime'})\n",
    "\n",
    "# delete unused row 'Time'\n",
    "#del df_clean['Time']\n",
    "\n",
    "#df_clean.head(5)"
   ]
  },
  {
   "cell_type": "code",
   "execution_count": 8,
   "id": "33d8eea8-3f7a-447d-a66b-8267c24e9fd2",
   "metadata": {},
   "outputs": [
    {
     "data": {
      "text/html": [
       "<div>\n",
       "<style scoped>\n",
       "    .dataframe tbody tr th:only-of-type {\n",
       "        vertical-align: middle;\n",
       "    }\n",
       "\n",
       "    .dataframe tbody tr th {\n",
       "        vertical-align: top;\n",
       "    }\n",
       "\n",
       "    .dataframe thead th {\n",
       "        text-align: right;\n",
       "    }\n",
       "</style>\n",
       "<table border=\"1\" class=\"dataframe\">\n",
       "  <thead>\n",
       "    <tr style=\"text-align: right;\">\n",
       "      <th></th>\n",
       "      <th>Datetime</th>\n",
       "      <th>T01_Trafo-Gehäuse_min</th>\n",
       "      <th>T01_Trafo-Gehäuse_max</th>\n",
       "      <th>T02_Gehäuse_innen_min</th>\n",
       "      <th>T02_Gehäuse_innen_max</th>\n",
       "      <th>T03_Gehäuse_Rückseite_min</th>\n",
       "      <th>T03_Gehäuse_Rückseite_max</th>\n",
       "      <th>T04_Gehäuse_oben_min</th>\n",
       "      <th>T04_Gehäuse_oben_max</th>\n",
       "      <th>T05_Umgebung_min</th>\n",
       "      <th>T05_Umgebung_max</th>\n",
       "    </tr>\n",
       "  </thead>\n",
       "  <tbody>\n",
       "    <tr>\n",
       "      <th>0</th>\n",
       "      <td>2021/05/05 10:43:20</td>\n",
       "      <td>23.8</td>\n",
       "      <td>23.8</td>\n",
       "      <td>24.2</td>\n",
       "      <td>24.2</td>\n",
       "      <td>24.3</td>\n",
       "      <td>24.3</td>\n",
       "      <td>24.1</td>\n",
       "      <td>24.1</td>\n",
       "      <td>24.5</td>\n",
       "      <td>24.5</td>\n",
       "    </tr>\n",
       "    <tr>\n",
       "      <th>1</th>\n",
       "      <td>2021/05/05 10:43:30</td>\n",
       "      <td>23.8</td>\n",
       "      <td>23.8</td>\n",
       "      <td>24.2</td>\n",
       "      <td>24.2</td>\n",
       "      <td>24.3</td>\n",
       "      <td>24.3</td>\n",
       "      <td>24.0</td>\n",
       "      <td>24.1</td>\n",
       "      <td>24.5</td>\n",
       "      <td>24.5</td>\n",
       "    </tr>\n",
       "    <tr>\n",
       "      <th>2</th>\n",
       "      <td>2021/05/05 10:43:40</td>\n",
       "      <td>23.8</td>\n",
       "      <td>23.8</td>\n",
       "      <td>24.2</td>\n",
       "      <td>24.2</td>\n",
       "      <td>24.3</td>\n",
       "      <td>24.3</td>\n",
       "      <td>24.0</td>\n",
       "      <td>24.0</td>\n",
       "      <td>24.5</td>\n",
       "      <td>24.5</td>\n",
       "    </tr>\n",
       "    <tr>\n",
       "      <th>3</th>\n",
       "      <td>2021/05/05 10:43:50</td>\n",
       "      <td>23.8</td>\n",
       "      <td>23.8</td>\n",
       "      <td>24.2</td>\n",
       "      <td>24.2</td>\n",
       "      <td>24.3</td>\n",
       "      <td>24.3</td>\n",
       "      <td>24.0</td>\n",
       "      <td>24.1</td>\n",
       "      <td>24.5</td>\n",
       "      <td>24.6</td>\n",
       "    </tr>\n",
       "    <tr>\n",
       "      <th>4</th>\n",
       "      <td>2021/05/05 10:44:00</td>\n",
       "      <td>23.8</td>\n",
       "      <td>23.8</td>\n",
       "      <td>24.2</td>\n",
       "      <td>24.2</td>\n",
       "      <td>24.3</td>\n",
       "      <td>24.3</td>\n",
       "      <td>24.0</td>\n",
       "      <td>24.1</td>\n",
       "      <td>24.5</td>\n",
       "      <td>24.6</td>\n",
       "    </tr>\n",
       "  </tbody>\n",
       "</table>\n",
       "</div>"
      ],
      "text/plain": [
       "              Datetime  T01_Trafo-Gehäuse_min  T01_Trafo-Gehäuse_max  \\\n",
       "0  2021/05/05 10:43:20                   23.8                   23.8   \n",
       "1  2021/05/05 10:43:30                   23.8                   23.8   \n",
       "2  2021/05/05 10:43:40                   23.8                   23.8   \n",
       "3  2021/05/05 10:43:50                   23.8                   23.8   \n",
       "4  2021/05/05 10:44:00                   23.8                   23.8   \n",
       "\n",
       "   T02_Gehäuse_innen_min  T02_Gehäuse_innen_max  T03_Gehäuse_Rückseite_min  \\\n",
       "0                   24.2                   24.2                       24.3   \n",
       "1                   24.2                   24.2                       24.3   \n",
       "2                   24.2                   24.2                       24.3   \n",
       "3                   24.2                   24.2                       24.3   \n",
       "4                   24.2                   24.2                       24.3   \n",
       "\n",
       "   T03_Gehäuse_Rückseite_max  T04_Gehäuse_oben_min  T04_Gehäuse_oben_max  \\\n",
       "0                       24.3                  24.1                  24.1   \n",
       "1                       24.3                  24.0                  24.1   \n",
       "2                       24.3                  24.0                  24.0   \n",
       "3                       24.3                  24.0                  24.1   \n",
       "4                       24.3                  24.0                  24.1   \n",
       "\n",
       "   T05_Umgebung_min  T05_Umgebung_max  \n",
       "0              24.5              24.5  \n",
       "1              24.5              24.5  \n",
       "2              24.5              24.5  \n",
       "3              24.5              24.6  \n",
       "4              24.5              24.6  "
      ]
     },
     "execution_count": 8,
     "metadata": {},
     "output_type": "execute_result"
    }
   ],
   "source": [
    "# Convert strings to floats in dataframe and replace german decimal ',' with international '.'\n",
    "for col in df_clean.columns:\n",
    "    if ( (col != 'Datetime') and\n",
    "         (df_clean[col].dtypes != 'float64') ):\n",
    "        df_clean[col] = df_clean[col].str.replace(',', '.').astype(float)\n",
    "\n",
    "df_clean.head(5)"
   ]
  },
  {
   "cell_type": "code",
   "execution_count": 9,
   "id": "af3413dc-8576-461f-8a26-eb10bc9f6a86",
   "metadata": {},
   "outputs": [
    {
     "data": {
      "text/plain": [
       "Datetime                     datetime64[ns]\n",
       "T01_Trafo-Gehäuse_min               float64\n",
       "T01_Trafo-Gehäuse_max               float64\n",
       "T02_Gehäuse_innen_min               float64\n",
       "T02_Gehäuse_innen_max               float64\n",
       "T03_Gehäuse_Rückseite_min           float64\n",
       "T03_Gehäuse_Rückseite_max           float64\n",
       "T04_Gehäuse_oben_min                float64\n",
       "T04_Gehäuse_oben_max                float64\n",
       "T05_Umgebung_min                    float64\n",
       "T05_Umgebung_max                    float64\n",
       "dtype: object"
      ]
     },
     "execution_count": 9,
     "metadata": {},
     "output_type": "execute_result"
    }
   ],
   "source": [
    "# Convert column 'Datetime' to variable type datetime64\n",
    "df_clean['Datetime'] = pd.to_datetime(df_clean['Datetime'])\n",
    "\n",
    "df_clean.dtypes"
   ]
  },
  {
   "cell_type": "markdown",
   "id": "d9cd4537-734e-46db-9772-427db6e4e461",
   "metadata": {},
   "source": [
    "df_3_wHeatSinksAndFan## Display / Plot data from dataframe"
   ]
  },
  {
   "cell_type": "code",
   "execution_count": 10,
   "id": "76bd63a1-d94b-416e-9332-7f85b37e9c9a",
   "metadata": {},
   "outputs": [],
   "source": [
    "import matplotlib.pyplot as plt\n",
    "import matplotlib.dates as mdates\n",
    "\n",
    "%matplotlib inline\n",
    "\n",
    "# FutureWarning: Using an implicitly registered datetime converter for a matplotlib plotting method. The converter was registered by pandas on import. \n",
    "# Future versions of pandas will require you to explicitly register matplotlib converters.\n",
    "from pandas.plotting import register_matplotlib_converters\n",
    "register_matplotlib_converters()"
   ]
  },
  {
   "cell_type": "code",
   "execution_count": 11,
   "id": "5402bee8-5d7f-4555-95f0-e199d6bfb845",
   "metadata": {},
   "outputs": [
    {
     "data": {
      "image/png": "[encoded data removed]",
      "text/plain": [
       "<Figure size 1600x800 with 1 Axes>"
      ]
     },
     "metadata": {},
     "output_type": "display_data"
    }
   ],
   "source": [
    "# figsize: a tuple (width, height) in inches\n",
    "plt.figure(num=0, figsize=(20, 10), dpi=80, facecolor='w', edgecolor='k')\n",
    "axes = plt.gca()\n",
    "\n",
    "xfmt = mdates.DateFormatter('%Y-%m-%d %H:%M:%S')\n",
    "axes.xaxis.set_major_formatter(xfmt)\n",
    "\n",
    "plt.title('Erwärmungsprüfung im Nennbetrieb')\n",
    "\n",
    "plt.plot(df_clean['Datetime'], df_clean['T01_Trafo-Gehäuse_max'], '-', label='Temperatur Trafo Gehäuse [°C]')\n",
    "plt.plot(df_clean['Datetime'], df_clean['T02_Gehäuse_innen_max'], '-', label='Temperatur Gehäuse innen [°C]')\n",
    "plt.plot(df_clean['Datetime'], df_clean['T03_Gehäuse_Rückseite_max'], '-', label='Temperatur Gehäuse Rückseite [°C]')\n",
    "plt.plot(df_clean['Datetime'], df_clean['T04_Gehäuse_oben_max'], '-', label='Temperatur Gehäuse oben [°C]')\n",
    "plt.plot(df_clean['Datetime'], df_clean['T05_Umgebung_max'], '-', label='Temperatur Umgebung [°C]')\n",
    "\n",
    "plt.xlabel('Absolute Zeit')\n",
    "plt.ylabel('Temperatur [°C]')\n",
    "\n",
    "plt.ylim(0, 150)\n",
    "\n",
    "plt.grid(True)\n",
    "\n",
    "plt.setp(plt.gca().xaxis.get_majorticklabels(), 'rotation', 50)\n",
    "\n",
    "plt.legend()\n",
    "plt.show()"
   ]
  },
  {
   "cell_type": "code",
   "execution_count": 12,
   "id": "90dcbee0-26ce-49f9-a24f-4de910beb404",
   "metadata": {},
   "outputs": [
    {
     "data": {
      "text/plain": [
       "Datetime                     datetime64[ns]\n",
       "T01_Trafo-Gehäuse_min               float64\n",
       "T01_Trafo-Gehäuse_max               float64\n",
       "T02_Gehäuse_innen_min               float64\n",
       "T02_Gehäuse_innen_max               float64\n",
       "T03_Gehäuse_Rückseite_min           float64\n",
       "T03_Gehäuse_Rückseite_max           float64\n",
       "T04_Gehäuse_oben_min                float64\n",
       "T04_Gehäuse_oben_max                float64\n",
       "T05_Umgebung_min                    float64\n",
       "T05_Umgebung_max                    float64\n",
       "dtype: object"
      ]
     },
     "execution_count": 12,
     "metadata": {},
     "output_type": "execute_result"
    }
   ],
   "source": [
    "df_clean.dtypes"
   ]
  },
  {
   "cell_type": "code",
   "execution_count": null,
   "id": "2d4cb17f-5d2c-4e93-9557-d7202659f567",
   "metadata": {},
   "outputs": [],
   "source": []
  }
 ],
 "metadata": {
  "kernelspec": {
   "display_name": "Python 3 (ipykernel)",
   "language": "python",
   "name": "python3"
  },
  "language_info": {
   "codemirror_mode": {
    "name": "ipython",
    "version": 3
   },
   "file_extension": ".py",
   "mimetype": "text/x-python",
   "name": "python",
   "nbconvert_exporter": "python",
   "pygments_lexer": "ipython3",
   "version": "3.7.3"
  },
  "toc-autonumbering": true
 },
 "nbformat": 4,
 "nbformat_minor": 5
}
