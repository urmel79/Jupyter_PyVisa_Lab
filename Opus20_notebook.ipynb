{
 "cells": [
  {
   "cell_type": "markdown",
   "id": "b06a8f0e",
   "metadata": {},
   "source": [
    "# OPUS20 THIP: Launching the room climate data logger via ethernet\n",
    "\n",
    "This is a application notebook to query the temperature / humidity / air pressure logging device [OPUS20 THIP](https://www.lufft.com/products/in-room-measurements-291/opus-20-thip-1983/) produced by Lufft.\n",
    "\n",
    "![OPUS20 THIP by Lufft](images/opus20-thip_climatelogger.jpg)  \n",
    "OPUS20 THIP by Lufft\n",
    "\n",
    "To read the climate data from the OPUS20 the Python package **opus20** is used. This can be found here: [https://github.com/pklaus/opus20](https://github.com/pklaus/opus20)."
   ]
  },
  {
   "cell_type": "markdown",
   "id": "870c96bf",
   "metadata": {},
   "source": [
    "## Installation of required Python libraries\n",
    "\n",
    "The installation takes place in a Python environment:\n",
    "```\n",
    "$ source ~/jupyter-env/bin/activate\n",
    "$ pip install opus20\n",
    "```"
   ]
  },
  {
   "cell_type": "markdown",
   "id": "7e3a03ff",
   "metadata": {},
   "source": [
    "## Test function to verify the successful installation of the OPUS20"
   ]
  },
  {
   "cell_type": "markdown",
   "id": "8668b722",
   "metadata": {},
   "source": [
    "Import class **opus20** and connect to OPUS20 via it's IP:"
   ]
  },
  {
   "cell_type": "code",
   "execution_count": 1,
   "id": "3f0b39c6",
   "metadata": {},
   "outputs": [],
   "source": [
    "from opus20 import Opus20, OPUS20_CHANNEL_SPEC, Opus20ConnectionException\n",
    "\n",
    "try:\n",
    "    o20 = Opus20('192.168.10.157')\n",
    "    \n",
    "except Opus20ConnectionException as e:\n",
    "    str(e)"
   ]
  },
  {
   "cell_type": "markdown",
   "id": "966ff4bc",
   "metadata": {},
   "source": [
    "Get all available logger channels:"
   ]
  },
  {
   "cell_type": "code",
   "execution_count": 2,
   "id": "34630b5a",
   "metadata": {},
   "outputs": [
    {
     "name": "stdout",
     "output_type": "stream",
     "text": [
      "Channel   100 (0x0064): CUR temperature         unit: °C    offset: ±10.0  logging: no\n",
      "Channel   120 (0x0078): MIN temperature         unit: °C    offset: ±10.0  logging: no\n",
      "Channel   140 (0x008C): MAX temperature         unit: °C    offset: ±10.0  logging: no\n",
      "Channel   160 (0x00A0): AVG temperature         unit: °C    offset: ±10.0  logging: yes\n",
      "Channel   105 (0x0069): CUR temperature         unit: °F    offset: 0.0    logging: no\n",
      "Channel   125 (0x007D): MIN temperature         unit: °F    offset: 0.0    logging: no\n",
      "Channel   145 (0x0091): MAX temperature         unit: °F    offset: 0.0    logging: no\n",
      "Channel   165 (0x00A5): AVG temperature         unit: °F    offset: 0.0    logging: no\n",
      "Channel   200 (0x00C8): CUR relative humidity   unit: %     offset: ±30.0  logging: no\n",
      "Channel   220 (0x00DC): MIN relative humidity   unit: %     offset: ±30.0  logging: no\n",
      "Channel   240 (0x00F0): MAX relative humidity   unit: %     offset: ±30.0  logging: no\n",
      "Channel   260 (0x0104): AVG relative humidity   unit: %     offset: ±30.0  logging: yes\n",
      "Channel   205 (0x00CD): CUR absolute humidity   unit: g/m³  offset: 0.0    logging: no\n",
      "Channel   225 (0x00E1): MIN absolute humidity   unit: g/m³  offset: 0.0    logging: no\n",
      "Channel   245 (0x00F5): MAX absolute humidity   unit: g/m³  offset: 0.0    logging: no\n",
      "Channel   265 (0x0109): AVG absolute humidity   unit: g/m³  offset: 0.0    logging: no\n",
      "Channel   110 (0x006E): CUR dewpoint            unit: °C    offset: 0.0    logging: no\n",
      "Channel   130 (0x0082): MIN dewpoint            unit: °C    offset: 0.0    logging: no\n",
      "Channel   150 (0x0096): MAX dewpoint            unit: °C    offset: 0.0    logging: no\n",
      "Channel   170 (0x00AA): AVG dewpoint            unit: °C    offset: 0.0    logging: no\n",
      "Channel   115 (0x0073): CUR dewpoint            unit: °F    offset: 0.0    logging: no\n",
      "Channel   135 (0x0087): MIN dewpoint            unit: °F    offset: 0.0    logging: no\n",
      "Channel   155 (0x009B): MAX dewpoint            unit: °F    offset: 0.0    logging: no\n",
      "Channel   175 (0x00AF): AVG dewpoint            unit: °F    offset: 0.0    logging: no\n",
      "Channel   300 (0x012C): CUR abs. air pressure   unit: hPa   offset: ±10.0  logging: no\n",
      "Channel   320 (0x0140): MIN abs. air pressure   unit: hPa   offset: ±10.0  logging: no\n",
      "Channel   340 (0x0154): MAX abs. air pressure   unit: hPa   offset: ±10.0  logging: no\n",
      "Channel   360 (0x0168): AVG abs. air pressure   unit: hPa   offset: ±10.0  logging: no\n",
      "Channel   305 (0x0131): CUR abs. air pressure   unit: hPa   offset: 0.0    logging: no\n",
      "Channel   325 (0x0145): MIN abs. air pressure   unit: hPa   offset: 0.0    logging: no\n",
      "Channel   345 (0x0159): MAX abs. air pressure   unit: hPa   offset: 0.0    logging: no\n",
      "Channel   365 (0x016D): AVG abs. air pressure   unit: hPa   offset: 0.0    logging: yes\n",
      "Channel 10020 (0x2724): CUR battery voltage     unit: V     offset: 0.0    logging: no\n",
      "Channel 10040 (0x2738): MIN battery voltage     unit: V     offset: 0.0    logging: no\n",
      "Channel 10060 (0x274C): MAX battery voltage     unit: V     offset: 0.0    logging: no\n",
      "Channel 10080 (0x2760): AVG battery voltage     unit: V     offset: 0.0    logging: no\n"
     ]
    }
   ],
   "source": [
    "for channel in o20.available_channels:\n",
    "    log_enabled = o20.get_channel_logging_state(channel)\n",
    "    log_enabled = 'yes' if log_enabled else 'no'\n",
    "    fmt = \"Channel {:5d} (0x{:04X}): {name:22s}  unit: {unit:4s}  offset: {offset:5s}  logging: {log_enabled}\"\n",
    "    print(fmt.format(channel, channel, log_enabled=log_enabled, **OPUS20_CHANNEL_SPEC[channel]))"
   ]
  },
  {
   "cell_type": "code",
   "execution_count": 4,
   "id": "b7e852cf",
   "metadata": {},
   "outputs": [
    {
     "name": "stdout",
     "output_type": "stream",
     "text": [
      "<2022-03-22 16:34:32> Temperature: 23.592 °C, Humidity: 25.597 % rH, Pressure: 1017.850 hPa\n"
     ]
    }
   ],
   "source": [
    "import time\n",
    "\n",
    "channels_dict = { 'CHAN_TEMP_CURR':  100,\n",
    "                  'CHAN_HUM_CURR':   200,\n",
    "                  'CHAN_PRESS_CURR': 300 }\n",
    "\n",
    "values_arr = [0, 0, 0]\n",
    "\n",
    "idx = 0\n",
    "for channel_val in o20.multi_channel_value(channels_dict.values()):\n",
    "    #print(\"{:.3f}\".format(channel_val))\n",
    "    values_arr[idx] = channel_val\n",
    "    idx += 1\n",
    "    \n",
    "print(\"<{time:s}> Temperature: {temperature:.3f} °C, Humidity: {humidity:.3f} % rH, Pressure: {pressure:.3f} hPa\"\n",
    "      .format(time=time.strftime('%Y-%m-%d %H:%M:%S'), \n",
    "              temperature=values_arr[0], \n",
    "              humidity=values_arr[1],\n",
    "              pressure=values_arr[2] ))"
   ]
  },
  {
   "cell_type": "code",
   "execution_count": 5,
   "id": "034c176b",
   "metadata": {},
   "outputs": [],
   "source": [
    "temp_o20 = o20.multi_channel_value([100])"
   ]
  },
  {
   "cell_type": "code",
   "execution_count": 6,
   "id": "5e1004f8",
   "metadata": {},
   "outputs": [
    {
     "data": {
      "text/plain": [
       "23.592411041259766"
      ]
     },
     "execution_count": 6,
     "metadata": {},
     "output_type": "execute_result"
    }
   ],
   "source": [
    "temp_o20[0]"
   ]
  },
  {
   "cell_type": "markdown",
   "id": "6e6fef40",
   "metadata": {},
   "source": [
    "The OPUS20 takes it very badly if the connection is not disconnected cleanly ... so do it everytime!"
   ]
  },
  {
   "cell_type": "code",
   "execution_count": 7,
   "id": "92ff856a",
   "metadata": {},
   "outputs": [],
   "source": [
    "o20.disconnect()"
   ]
  },
  {
   "cell_type": "code",
   "execution_count": 8,
   "id": "3c2ec27a",
   "metadata": {
    "scrolled": true
   },
   "outputs": [
    {
     "name": "stdout",
     "output_type": "stream",
     "text": [
      "<2022-03-22 16:35:12> Temperature: 23.58 °C, Humidity: 24.92 % rH, Pressure: 1017.84 hPa\n",
      "<2022-03-22 16:35:13> Temperature: 23.58 °C, Humidity: 24.92 % rH, Pressure: 1017.84 hPa\n",
      "<2022-03-22 16:35:14> Temperature: 23.58 °C, Humidity: 24.92 % rH, Pressure: 1017.84 hPa\n",
      "<2022-03-22 16:35:15> Temperature: 23.58 °C, Humidity: 24.92 % rH, Pressure: 1017.84 hPa\n",
      "<2022-03-22 16:35:16> Temperature: 23.58 °C, Humidity: 24.92 % rH, Pressure: 1017.84 hPa\n",
      "<2022-03-22 16:35:17> Temperature: 23.58 °C, Humidity: 24.92 % rH, Pressure: 1017.84 hPa\n",
      "<2022-03-22 16:35:18> Temperature: 23.58 °C, Humidity: 24.92 % rH, Pressure: 1017.84 hPa\n",
      "<2022-03-22 16:35:19> Temperature: 23.58 °C, Humidity: 24.92 % rH, Pressure: 1017.84 hPa\n",
      "<2022-03-22 16:35:20> Temperature: 23.58 °C, Humidity: 24.92 % rH, Pressure: 1017.84 hPa\n",
      "<2022-03-22 16:35:21> Temperature: 23.58 °C, Humidity: 24.92 % rH, Pressure: 1017.84 hPa\n",
      "<2022-03-22 16:35:22> Temperature: 23.58 °C, Humidity: 24.92 % rH, Pressure: 1017.84 hPa\n",
      "<2022-03-22 16:35:23> Temperature: 23.58 °C, Humidity: 24.92 % rH, Pressure: 1017.84 hPa\n",
      "<2022-03-22 16:35:24> Temperature: 23.58 °C, Humidity: 24.92 % rH, Pressure: 1017.84 hPa\n",
      "<2022-03-22 16:35:25> Temperature: 23.58 °C, Humidity: 24.92 % rH, Pressure: 1017.84 hPa\n",
      "<2022-03-22 16:35:26> Temperature: 23.58 °C, Humidity: 24.92 % rH, Pressure: 1017.84 hPa\n",
      "<2022-03-22 16:35:27> Temperature: 23.58 °C, Humidity: 24.92 % rH, Pressure: 1017.84 hPa\n",
      "<2022-03-22 16:35:28> Temperature: 23.58 °C, Humidity: 24.92 % rH, Pressure: 1017.84 hPa\n",
      "<2022-03-22 16:35:29> Temperature: 23.58 °C, Humidity: 24.92 % rH, Pressure: 1017.84 hPa\n",
      "<2022-03-22 16:35:30> Temperature: 23.58 °C, Humidity: 24.92 % rH, Pressure: 1017.84 hPa\n",
      "<2022-03-22 16:35:31> Temperature: 23.58 °C, Humidity: 24.92 % rH, Pressure: 1017.84 hPa\n",
      "<2022-03-22 16:35:32> Temperature: 23.58 °C, Humidity: 24.92 % rH, Pressure: 1017.84 hPa\n",
      "<2022-03-22 16:35:33> Temperature: 23.58 °C, Humidity: 24.92 % rH, Pressure: 1017.84 hPa\n",
      "<2022-03-22 16:35:34> Temperature: 23.58 °C, Humidity: 24.92 % rH, Pressure: 1017.84 hPa\n",
      "<2022-03-22 16:35:35> Temperature: 23.58 °C, Humidity: 24.92 % rH, Pressure: 1017.84 hPa\n",
      "<2022-03-22 16:35:36> Temperature: 23.58 °C, Humidity: 24.92 % rH, Pressure: 1017.84 hPa\n",
      "<2022-03-22 16:35:37> Temperature: 23.58 °C, Humidity: 24.92 % rH, Pressure: 1017.84 hPa\n",
      "<2022-03-22 16:35:38> Temperature: 23.58 °C, Humidity: 24.92 % rH, Pressure: 1017.84 hPa\n",
      "<2022-03-22 16:35:39> Temperature: 23.58 °C, Humidity: 24.92 % rH, Pressure: 1017.84 hPa\n",
      "<2022-03-22 16:35:40> Temperature: 23.58 °C, Humidity: 24.92 % rH, Pressure: 1017.84 hPa\n",
      "<2022-03-22 16:35:41> Temperature: 23.58 °C, Humidity: 24.92 % rH, Pressure: 1017.84 hPa\n",
      "<2022-03-22 16:35:42> Temperature: 23.58 °C, Humidity: 24.92 % rH, Pressure: 1017.84 hPa\n",
      "<2022-03-22 16:35:43> Temperature: 23.58 °C, Humidity: 24.92 % rH, Pressure: 1017.84 hPa\n",
      "<2022-03-22 16:35:44> Temperature: 23.58 °C, Humidity: 24.92 % rH, Pressure: 1017.84 hPa\n",
      "<2022-03-22 16:35:45> Temperature: 23.58 °C, Humidity: 24.92 % rH, Pressure: 1017.84 hPa\n",
      "<2022-03-22 16:35:46> Temperature: 23.58 °C, Humidity: 24.92 % rH, Pressure: 1017.84 hPa\n",
      "<2022-03-22 16:35:47> Temperature: 23.58 °C, Humidity: 24.92 % rH, Pressure: 1017.84 hPa\n",
      "<2022-03-22 16:35:48> Temperature: 23.58 °C, Humidity: 24.92 % rH, Pressure: 1017.84 hPa\n",
      "<2022-03-22 16:35:49> Temperature: 23.58 °C, Humidity: 24.92 % rH, Pressure: 1017.84 hPa\n",
      "<2022-03-22 16:35:50> Temperature: 23.58 °C, Humidity: 24.92 % rH, Pressure: 1017.84 hPa\n",
      "<2022-03-22 16:35:51> Temperature: 23.58 °C, Humidity: 24.92 % rH, Pressure: 1017.84 hPa\n",
      "<2022-03-22 16:35:52> Temperature: 23.52 °C, Humidity: 24.93 % rH, Pressure: 1017.84 hPa\n",
      "<2022-03-22 16:35:53> Temperature: 23.52 °C, Humidity: 24.93 % rH, Pressure: 1017.84 hPa\n",
      "<2022-03-22 16:35:54> Temperature: 23.52 °C, Humidity: 24.93 % rH, Pressure: 1017.84 hPa\n",
      "<2022-03-22 16:35:55> Temperature: 23.52 °C, Humidity: 24.93 % rH, Pressure: 1017.84 hPa\n",
      "Keyboard Interrupt ^C detected.\n",
      "Bye.\n"
     ]
    }
   ],
   "source": [
    "from opus20 import Opus20, OPUS20_CHANNEL_SPEC\n",
    "import time\n",
    "\n",
    "OPUS20_IP = '192.168.10.157'\n",
    "\n",
    "o20 = Opus20(OPUS20_IP)\n",
    "\n",
    "INTERVAL = 1.0\n",
    "\n",
    "channels_dict = { 'CHAN_TEMP_CURR':  100,\n",
    "                  'CHAN_HUM_CURR':   200,\n",
    "                  'CHAN_PRESS_CURR': 300 }\n",
    "\n",
    "values_arr = [0, 0, 0]\n",
    "\n",
    "while True:\n",
    "    try:\n",
    "        idx = 0\n",
    "        for channel_val in o20.multi_channel_value(channels_dict.values()):\n",
    "            #print(\"{:.3f}\".format(channel_val))\n",
    "            values_arr[idx] = channel_val\n",
    "            idx += 1\n",
    "\n",
    "        print(\"<{time:s}> Temperature: {temperature:.2f} °C, Humidity: {humidity:.2f} % rH, Pressure: {pressure:.2f} hPa\"\n",
    "              .format(time=time.strftime('%Y-%m-%d %H:%M:%S'), \n",
    "                      temperature=values_arr[0], \n",
    "                      humidity=values_arr[1],\n",
    "                      pressure=values_arr[2] ))\n",
    "        \n",
    "        time.sleep(INTERVAL)\n",
    "\n",
    "    except:\n",
    "        # The OPUS20 takes it very badly if the connection is not disconnected cleanly ...\n",
    "        o20.disconnect()\n",
    "        print(\"Keyboard Interrupt ^C detected.\")\n",
    "        print(\"Bye.\")\n",
    "        break"
   ]
  },
  {
   "cell_type": "code",
   "execution_count": null,
   "id": "382168db",
   "metadata": {},
   "outputs": [],
   "source": []
  }
 ],
 "metadata": {
  "kernelspec": {
   "display_name": "Python 3 (ipykernel)",
   "language": "python",
   "name": "python3"
  },
  "language_info": {
   "codemirror_mode": {
    "name": "ipython",
    "version": 3
   },
   "file_extension": ".py",
   "mimetype": "text/x-python",
   "name": "python",
   "nbconvert_exporter": "python",
   "pygments_lexer": "ipython3",
   "version": "3.7.3"
  }
 },
 "nbformat": 4,
 "nbformat_minor": 5
}
