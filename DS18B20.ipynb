{
 "cells": [
  {
   "cell_type": "markdown",
   "id": "866f3ab6-1e6b-48e1-a7d1-29d145e26407",
   "metadata": {},
   "source": [
    "# DS18B20: Bring up and basic usage of the temperature sensor\n",
    "\n",
    "*Important:*  \n",
    "The **DS18B20** is a digital thermometer and provides 9-bit to 12-bit Celsius temperature measurements. It has an alarm function with nonvolatile user-programmable upper and lower trigger points. The DS18B20 communicates over a **1-Wire** bus that by definition requires only one data line (and ground) for communication with a central microprocessor.\n",
    "\n",
    "- Data sheet: [https://datasheets.maximintegrated.com/en/ds/DS18B20.pdf](https://datasheets.maximintegrated.com/en/ds/DS18B20.pdf)\n",
    "- Python **hidapi** library: [https://pypi.org/project/hidapi/}(https://pypi.org/project/hidapi/) <span style=\"color:green\">[works]</span>\n",
    "- Python **hid** library: [https://pypi.org/project/hid/](https://pypi.org/project/hid/) <span style=\"color:red\">[does NOT work]</span>\n"
   ]
  },
  {
   "cell_type": "markdown",
   "id": "62e307bb-5a23-4e52-804f-decfffe01c81",
   "metadata": {},
   "source": [
    "## Installation of required development libraries\n",
    "\n",
    "```\n",
    "$ sudo apt install python-dev libusb-1.0-0-dev libudev-dev\n",
    "```"
   ]
  },
  {
   "cell_type": "markdown",
   "id": "a8d124c3-388d-402c-bd78-f0b92233ee20",
   "metadata": {},
   "source": [
    "## Installation of required Python libraries\n",
    "\n",
    "The installation takes place in a Python environment:\n",
    "```\n",
    "$ source ~/jupyter-env/bin/activate\n",
    "$ pip install hidapi\n",
    "```"
   ]
  },
  {
   "cell_type": "markdown",
   "id": "132abd71-104e-4fc7-9221-86dcf4dfa0d1",
   "metadata": {},
   "source": [
    "## Udev rule\n",
    "\n",
    "To be able to address the device, you need to create a rule file in udev rules directory. Make sure that your current user belongs to the *plugdev* group.\n",
    "```\n",
    "$ sudo echo 'SUBSYSTEM==\"usb\", ATTRS{idVendor}==\"16c0\", ATTRS{idProduct}==\"0480\", MODE=\"0660\", GROUP=\"plugdev\"' > /etc/udev/rules.d/99-tempsensor.rules\n",
    "```\n",
    "\n",
    "Activate the new rule by calling\n",
    "```\n",
    "$ sudo udevadm control --reload-rules\n",
    "```"
   ]
  },
  {
   "cell_type": "markdown",
   "id": "c1b9b46d-c99d-415e-a5bc-59fc418310c1",
   "metadata": {},
   "source": [
    "## Sample usage code"
   ]
  },
  {
   "cell_type": "markdown",
   "id": "a38d32b2-8638-446b-9447-1ecbcae5f112",
   "metadata": {},
   "source": [
    "Use the enumerate() function to return information about accessible HID devices on USB:"
   ]
  },
  {
   "cell_type": "code",
   "execution_count": 15,
   "id": "3af28fdc-1f30-4d59-b568-bfaf425eb70e",
   "metadata": {},
   "outputs": [
    {
     "name": "stdout",
     "output_type": "stream",
     "text": [
      "interface_number : 0\n",
      "manufacturer_string : DIAMEX GmbH\n",
      "path : b'1-1.4:1.0'\n",
      "product_id : 1152\n",
      "product_string : Temp-Sensor-Tester\n",
      "release_number : 256\n",
      "serial_number : \n",
      "usage : 0\n",
      "usage_page : 0\n",
      "vendor_id : 5824\n",
      "\n"
     ]
    }
   ],
   "source": [
    "import hid\n",
    "\n",
    "for device_dict in hid.enumerate():\n",
    "    keys = list(device_dict.keys())\n",
    "    keys.sort()\n",
    "    for key in keys:\n",
    "        print(\"%s : %s\" % (key, device_dict[key]))\n",
    "    print()"
   ]
  },
  {
   "cell_type": "markdown",
   "id": "caf71522-95b5-405c-9058-6c4ddec51f13",
   "metadata": {},
   "source": [
    "The details about a HID device can be printed with following code:"
   ]
  },
  {
   "cell_type": "code",
   "execution_count": 16,
   "id": "3c6eedba-0e83-4885-b849-67dad38041ec",
   "metadata": {},
   "outputs": [
    {
     "name": "stdout",
     "output_type": "stream",
     "text": [
      "Manufacturer: DIAMEX GmbH\n",
      "Product: Temp-Sensor-Tester\n",
      "Serial No: Љ\n"
     ]
    }
   ],
   "source": [
    "vid = 0x16c0 # Change it for your device\n",
    "pid = 0x0480 # Change it for your device\n",
    "\n",
    "h = hid.device()\n",
    "h.open(vid, pid)\n",
    "#h.open_path(b'1-1.4:1.0')\n",
    "\n",
    "print(\"Manufacturer: %s\" % h.get_manufacturer_string())\n",
    "print(\"Product: %s\" % h.get_product_string())\n",
    "print(\"Serial No: %s\" % h.get_serial_number_string())\n",
    "\n",
    "h.close()"
   ]
  },
  {
   "cell_type": "code",
   "execution_count": 14,
   "id": "1ba1e0b8-cb6a-4992-ab70-b723acfcfd30",
   "metadata": {
    "scrolled": true,
    "tags": []
   },
   "outputs": [
    {
     "name": "stdout",
     "output_type": "stream",
     "text": [
      "Device Info:\n",
      "\t Manufacturer: DIAMEX GmbH\n",
      "\t Product: Temp-Sensor-Tester\n",
      "<22:39:12> Sensor: 1 of 2, Temperature: 10.60 °C, ID: 28 64 8e 75 d0 01 3c 81 \n",
      "<22:39:13> Sensor: 2 of 2, Temperature: 8.80 °C, ID: 28 84 28 e2 2c 20 01 10 \n",
      "<22:39:14> Sensor: 1 of 2, Temperature: 10.60 °C, ID: 28 64 8e 75 d0 01 3c 81 \n",
      "<22:39:15> Sensor: 2 of 2, Temperature: 8.80 °C, ID: 28 84 28 e2 2c 20 01 10 \n",
      "<22:39:16> Sensor: 1 of 2, Temperature: 10.60 °C, ID: 28 64 8e 75 d0 01 3c 81 \n",
      "<22:39:17> Sensor: 2 of 2, Temperature: 8.80 °C, ID: 28 84 28 e2 2c 20 01 10 \n",
      "<22:39:18> Sensor: 1 of 2, Temperature: 10.50 °C, ID: 28 64 8e 75 d0 01 3c 81 \n",
      "<22:39:19> Sensor: 2 of 2, Temperature: 8.80 °C, ID: 28 84 28 e2 2c 20 01 10 \n",
      "<22:39:20> Sensor: 1 of 2, Temperature: 10.60 °C, ID: 28 64 8e 75 d0 01 3c 81 \n",
      "<22:39:21> Sensor: 2 of 2, Temperature: 8.80 °C, ID: 28 84 28 e2 2c 20 01 10 \n",
      "<22:39:22> Sensor: 1 of 2, Temperature: 10.60 °C, ID: 28 64 8e 75 d0 01 3c 81 \n",
      "<22:39:23> Sensor: 2 of 2, Temperature: 8.80 °C, ID: 28 84 28 e2 2c 20 01 10 \n",
      "<22:39:24> Sensor: 1 of 2, Temperature: 10.50 °C, ID: 28 64 8e 75 d0 01 3c 81 \n",
      "<22:39:25> Sensor: 2 of 2, Temperature: 8.80 °C, ID: 28 84 28 e2 2c 20 01 10 \n",
      "<22:39:26> Sensor: 1 of 2, Temperature: 10.60 °C, ID: 28 64 8e 75 d0 01 3c 81 \n",
      "<22:39:27> Sensor: 2 of 2, Temperature: 8.80 °C, ID: 28 84 28 e2 2c 20 01 10 \n",
      "<22:39:28> Sensor: 1 of 2, Temperature: 10.50 °C, ID: 28 64 8e 75 d0 01 3c 81 \n",
      "<22:39:29> Sensor: 2 of 2, Temperature: 8.80 °C, ID: 28 84 28 e2 2c 20 01 10 \n",
      "<22:39:30> Sensor: 1 of 2, Temperature: 10.50 °C, ID: 28 64 8e 75 d0 01 3c 81 \n",
      "<22:39:31> Sensor: 2 of 2, Temperature: 8.80 °C, ID: 28 84 28 e2 2c 20 01 10 \n",
      "<22:39:32> Sensor: 1 of 2, Temperature: 10.60 °C, ID: 28 64 8e 75 d0 01 3c 81 \n",
      "<22:39:33> Sensor: 2 of 2, Temperature: 8.80 °C, ID: 28 84 28 e2 2c 20 01 10 \n",
      "<22:39:34> Sensor: 1 of 2, Temperature: 10.50 °C, ID: 28 64 8e 75 d0 01 3c 81 \n",
      "<22:39:35> Sensor: 2 of 2, Temperature: 8.80 °C, ID: 28 84 28 e2 2c 20 01 10 \n",
      "<22:39:36> Sensor: 1 of 2, Temperature: 10.50 °C, ID: 28 64 8e 75 d0 01 3c 81 \n",
      "<22:39:37> Sensor: 2 of 2, Temperature: 8.80 °C, ID: 28 84 28 e2 2c 20 01 10 \n",
      "<22:39:38> Sensor: 1 of 2, Temperature: 10.50 °C, ID: 28 64 8e 75 d0 01 3c 81 \n",
      "<22:39:39> Sensor: 2 of 2, Temperature: 8.80 °C, ID: 28 84 28 e2 2c 20 01 10 \n",
      "<22:39:40> Sensor: 1 of 2, Temperature: 10.60 °C, ID: 28 64 8e 75 d0 01 3c 81 \n",
      "<22:39:41> Sensor: 2 of 2, Temperature: 8.80 °C, ID: 28 84 28 e2 2c 20 01 10 \n",
      "<22:39:42> Sensor: 1 of 2, Temperature: 10.60 °C, ID: 28 64 8e 75 d0 01 3c 81 \n",
      "<22:39:43> Sensor: 2 of 2, Temperature: 8.80 °C, ID: 28 84 28 e2 2c 20 01 10 \n",
      "<22:39:44> Sensor: 1 of 2, Temperature: 10.60 °C, ID: 28 64 8e 75 d0 01 3c 81 \n",
      "<22:39:45> Sensor: 2 of 2, Temperature: 8.80 °C, ID: 28 84 28 e2 2c 20 01 10 \n",
      "<22:39:46> Sensor: 1 of 2, Temperature: 10.60 °C, ID: 28 64 8e 75 d0 01 3c 81 \n",
      "<22:39:47> Sensor: 2 of 2, Temperature: 8.80 °C, ID: 28 84 28 e2 2c 20 01 10 \n",
      "<22:39:48> Sensor: 1 of 2, Temperature: 10.60 °C, ID: 28 64 8e 75 d0 01 3c 81 \n",
      "<22:39:49> Sensor: 2 of 2, Temperature: 8.80 °C, ID: 28 84 28 e2 2c 20 01 10 \n",
      "<22:39:50> Sensor: 1 of 2, Temperature: 10.60 °C, ID: 28 64 8e 75 d0 01 3c 81 \n",
      "<22:39:51> Sensor: 2 of 2, Temperature: 8.80 °C, ID: 28 84 28 e2 2c 20 01 10 \n",
      "<22:39:52> Sensor: 1 of 2, Temperature: 10.60 °C, ID: 28 64 8e 75 d0 01 3c 81 \n",
      "<22:39:53> Sensor: 2 of 2, Temperature: 8.80 °C, ID: 28 84 28 e2 2c 20 01 10 \n",
      "<22:39:54> Sensor: 1 of 2, Temperature: 10.60 °C, ID: 28 64 8e 75 d0 01 3c 81 \n",
      "<22:39:55> Sensor: 2 of 2, Temperature: 8.80 °C, ID: 28 84 28 e2 2c 20 01 10 \n",
      "<22:39:56> Sensor: 1 of 2, Temperature: 10.60 °C, ID: 28 64 8e 75 d0 01 3c 81 \n",
      "<22:39:57> Sensor: 2 of 2, Temperature: 8.80 °C, ID: 28 84 28 e2 2c 20 01 10 \n",
      "<22:39:58> Sensor: 1 of 2, Temperature: 10.60 °C, ID: 28 64 8e 75 d0 01 3c 81 \n",
      "<22:39:59> Sensor: 2 of 2, Temperature: 8.80 °C, ID: 28 84 28 e2 2c 20 01 10 \n",
      "<22:40:00> Sensor: 1 of 2, Temperature: 10.50 °C, ID: 28 64 8e 75 d0 01 3c 81 \n",
      "<22:40:01> Sensor: 2 of 2, Temperature: 8.80 °C, ID: 28 84 28 e2 2c 20 01 10 \n",
      "<22:40:02> Sensor: 1 of 2, Temperature: 10.60 °C, ID: 28 64 8e 75 d0 01 3c 81 \n",
      "<22:40:03> Sensor: 2 of 2, Temperature: 8.80 °C, ID: 28 84 28 e2 2c 20 01 10 \n",
      "<22:40:04> Sensor: 1 of 2, Temperature: 10.60 °C, ID: 28 64 8e 75 d0 01 3c 81 \n",
      "<22:40:05> Sensor: 2 of 2, Temperature: 8.80 °C, ID: 28 84 28 e2 2c 20 01 10 \n",
      "<22:40:06> Sensor: 1 of 2, Temperature: 10.60 °C, ID: 28 64 8e 75 d0 01 3c 81 \n",
      "<22:40:07> Sensor: 2 of 2, Temperature: 8.80 °C, ID: 28 84 28 e2 2c 20 01 10 \n",
      "<22:40:08> Sensor: 1 of 2, Temperature: 10.50 °C, ID: 28 64 8e 75 d0 01 3c 81 \n",
      "<22:40:09> Sensor: 2 of 2, Temperature: 8.80 °C, ID: 28 84 28 e2 2c 20 01 10 \n",
      "<22:40:10> Sensor: 1 of 2, Temperature: 10.60 °C, ID: 28 64 8e 75 d0 01 3c 81 \n",
      "<22:40:11> Sensor: 2 of 2, Temperature: 8.80 °C, ID: 28 84 28 e2 2c 20 01 10 \n",
      "<22:40:12> Sensor: 1 of 2, Temperature: 10.60 °C, ID: 28 64 8e 75 d0 01 3c 81 \n",
      "<22:40:13> Sensor: 2 of 2, Temperature: 8.80 °C, ID: 28 84 28 e2 2c 20 01 10 \n",
      "<22:40:14> Sensor: 1 of 2, Temperature: 10.60 °C, ID: 28 64 8e 75 d0 01 3c 81 \n",
      "<22:40:15> Sensor: 2 of 2, Temperature: 8.80 °C, ID: 28 84 28 e2 2c 20 01 10 \n",
      "<22:40:16> Sensor: 1 of 2, Temperature: 10.60 °C, ID: 28 64 8e 75 d0 01 3c 81 \n",
      "<22:40:17> Sensor: 2 of 2, Temperature: 8.80 °C, ID: 28 84 28 e2 2c 20 01 10 \n",
      "<22:40:18> Sensor: 1 of 2, Temperature: 10.60 °C, ID: 28 64 8e 75 d0 01 3c 81 \n",
      "<22:40:19> Sensor: 2 of 2, Temperature: 8.80 °C, ID: 28 84 28 e2 2c 20 01 10 \n",
      "<22:40:20> Sensor: 1 of 2, Temperature: 10.60 °C, ID: 28 64 8e 75 d0 01 3c 81 \n",
      "<22:40:21> Sensor: 2 of 2, Temperature: 8.80 °C, ID: 28 84 28 e2 2c 20 01 10 \n",
      "<22:40:22> Sensor: 1 of 2, Temperature: 10.60 °C, ID: 28 64 8e 75 d0 01 3c 81 \n",
      "<22:40:23> Sensor: 2 of 2, Temperature: 8.80 °C, ID: 28 84 28 e2 2c 20 01 10 \n",
      "<22:40:24> Sensor: 1 of 2, Temperature: 10.60 °C, ID: 28 64 8e 75 d0 01 3c 81 \n",
      "<22:40:25> Sensor: 2 of 2, Temperature: 8.80 °C, ID: 28 84 28 e2 2c 20 01 10 \n",
      "<22:40:26> Sensor: 1 of 2, Temperature: 10.60 °C, ID: 28 64 8e 75 d0 01 3c 81 \n",
      "<22:40:27> Sensor: 2 of 2, Temperature: 8.80 °C, ID: 28 84 28 e2 2c 20 01 10 \n",
      "<22:40:28> Sensor: 1 of 2, Temperature: 10.60 °C, ID: 28 64 8e 75 d0 01 3c 81 \n",
      "<22:40:29> Sensor: 2 of 2, Temperature: 8.80 °C, ID: 28 84 28 e2 2c 20 01 10 \n",
      "<22:40:30> Sensor: 1 of 2, Temperature: 10.60 °C, ID: 28 64 8e 75 d0 01 3c 81 \n",
      "<22:40:31> Sensor: 2 of 2, Temperature: 8.80 °C, ID: 28 84 28 e2 2c 20 01 10 \n",
      "<22:40:32> Sensor: 1 of 2, Temperature: 10.60 °C, ID: 28 64 8e 75 d0 01 3c 81 \n",
      "<22:40:33> Sensor: 2 of 2, Temperature: 8.80 °C, ID: 28 84 28 e2 2c 20 01 10 \n",
      "<22:40:34> Sensor: 1 of 2, Temperature: 10.60 °C, ID: 28 64 8e 75 d0 01 3c 81 \n",
      "<22:40:35> Sensor: 2 of 2, Temperature: 8.80 °C, ID: 28 84 28 e2 2c 20 01 10 \n",
      "<22:40:36> Sensor: 1 of 2, Temperature: 10.60 °C, ID: 28 64 8e 75 d0 01 3c 81 \n",
      "<22:40:37> Sensor: 2 of 2, Temperature: 8.80 °C, ID: 28 84 28 e2 2c 20 01 10 \n",
      "<22:40:38> Sensor: 1 of 2, Temperature: 10.60 °C, ID: 28 64 8e 75 d0 01 3c 81 \n",
      "<22:40:39> Sensor: 2 of 2, Temperature: 8.80 °C, ID: 28 84 28 e2 2c 20 01 10 \n",
      "<22:40:40> Sensor: 1 of 2, Temperature: 10.60 °C, ID: 28 64 8e 75 d0 01 3c 81 \n",
      "<22:40:41> Sensor: 2 of 2, Temperature: 8.80 °C, ID: 28 84 28 e2 2c 20 01 10 \n",
      "<22:40:42> Sensor: 1 of 2, Temperature: 10.60 °C, ID: 28 64 8e 75 d0 01 3c 81 \n",
      "<22:40:43> Sensor: 2 of 2, Temperature: 8.80 °C, ID: 28 84 28 e2 2c 20 01 10 \n",
      "<22:40:44> Sensor: 1 of 2, Temperature: 10.60 °C, ID: 28 64 8e 75 d0 01 3c 81 \n",
      "<22:40:45> Sensor: 2 of 2, Temperature: 8.80 °C, ID: 28 84 28 e2 2c 20 01 10 \n",
      "<22:40:46> Sensor: 1 of 2, Temperature: 10.60 °C, ID: 28 64 8e 75 d0 01 3c 81 \n",
      "<22:40:47> Sensor: 2 of 2, Temperature: 8.80 °C, ID: 28 84 28 e2 2c 20 01 10 \n",
      "<22:40:48> Sensor: 1 of 2, Temperature: 10.60 °C, ID: 28 64 8e 75 d0 01 3c 81 \n",
      "<22:40:49> Sensor: 2 of 2, Temperature: 8.80 °C, ID: 28 84 28 e2 2c 20 01 10 \n",
      "<22:40:50> Sensor: 1 of 2, Temperature: 10.60 °C, ID: 28 64 8e 75 d0 01 3c 81 \n",
      "<22:40:51> Sensor: 2 of 2, Temperature: 8.80 °C, ID: 28 84 28 e2 2c 20 01 10 \n",
      "<22:40:52> Sensor: 1 of 2, Temperature: 10.60 °C, ID: 28 64 8e 75 d0 01 3c 81 \n",
      "<22:40:53> Sensor: 2 of 2, Temperature: 8.80 °C, ID: 28 84 28 e2 2c 20 01 10 \n",
      "<22:40:54> Sensor: 1 of 2, Temperature: 10.60 °C, ID: 28 64 8e 75 d0 01 3c 81 \n",
      "<22:40:55> Sensor: 2 of 2, Temperature: 8.80 °C, ID: 28 84 28 e2 2c 20 01 10 \n",
      "<22:40:56> Sensor: 1 of 2, Temperature: 10.60 °C, ID: 28 64 8e 75 d0 01 3c 81 \n",
      "<22:40:57> Sensor: 2 of 2, Temperature: 8.80 °C, ID: 28 84 28 e2 2c 20 01 10 \n",
      "<22:40:58> Sensor: 1 of 2, Temperature: 10.60 °C, ID: 28 64 8e 75 d0 01 3c 81 \n",
      "<22:40:59> Sensor: 2 of 2, Temperature: 8.80 °C, ID: 28 84 28 e2 2c 20 01 10 \n",
      "Keyboard Interrupt ^C detected.\n",
      "Bye.\n"
     ]
    }
   ],
   "source": [
    "import hid\n",
    "import time\n",
    "\n",
    "INTERVAL = 1.0\n",
    "VID = 0x16c0 # vendor id of usb device\n",
    "PID = 0x0480 # product id of usb device\n",
    "\n",
    "try:\n",
    "    h = hid.device()\n",
    "    h.open(VID, PID)\n",
    "    print(\"Device Info:\")\n",
    "    print(\"\\t Manufacturer: %s\" % h.get_manufacturer_string())\n",
    "    print(\"\\t Product: %s\" % h.get_product_string())\n",
    "\n",
    "except Exception as ex:\n",
    "    print(\"Connecting with the device raised the error: '{}'\".format(ex))\n",
    "    raise\n",
    "\n",
    "while True:\n",
    "    try:\n",
    "        d = h.read(64)\n",
    "\n",
    "        if d:\n",
    "            sensor_id = ''\n",
    "            # get sensor ID with the bytes 8 to 16 from character buffer\n",
    "            for i in range(8, 16, 1):\n",
    "                # convert integer from byte list to string with padding\n",
    "                hex_string = '{:02x}'.format(d[i])\n",
    "                sensor_id = sensor_id + hex_string + ' '\n",
    "\n",
    "            # combine high and low byte of temperature value and convert to float\n",
    "            temp = float(d[5] << 8 | d[4]) / 10\n",
    "\n",
    "            print(\"<{:s}> Sensor: {:d} of {:d}, Temperature: {:.2f} °C, ID: {}\".format(time.strftime('%H:%M:%S'), d[1], d[0], temp, sensor_id))\n",
    "\n",
    "        else:\n",
    "            print(\"Could not read from device!\")\n",
    "            break\n",
    "    \n",
    "        time.sleep(INTERVAL)\n",
    "        \n",
    "    except:\n",
    "        print(\"Keyboard Interrupt ^C detected.\")\n",
    "        print(\"Bye.\")\n",
    "        h.close()\n",
    "        break"
   ]
  },
  {
   "cell_type": "code",
   "execution_count": null,
   "id": "330f2a24-b774-479b-9ee3-8f4a8f98a101",
   "metadata": {},
   "outputs": [],
   "source": []
  },
  {
   "cell_type": "code",
   "execution_count": null,
   "id": "37e6f8fe-21cd-43be-969e-0241d3162341",
   "metadata": {},
   "outputs": [],
   "source": []
  }
 ],
 "metadata": {
  "kernelspec": {
   "display_name": "Python 3",
   "language": "python",
   "name": "python3"
  },
  "language_info": {
   "codemirror_mode": {
    "name": "ipython",
    "version": 3
   },
   "file_extension": ".py",
   "mimetype": "text/x-python",
   "name": "python",
   "nbconvert_exporter": "python",
   "pygments_lexer": "ipython3",
   "version": "3.7.3"
  }
 },
 "nbformat": 4,
 "nbformat_minor": 5
}
