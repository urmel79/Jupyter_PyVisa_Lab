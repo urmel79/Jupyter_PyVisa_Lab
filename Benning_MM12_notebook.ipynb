{
 "cells": [
  {
   "cell_type": "markdown",
   "id": "e1ec5012-1cc8-4249-a120-f971ae93aaaa",
   "metadata": {
    "tags": []
   },
   "source": [
    "# Digital handheld multimeter (DMM) **Benning MM12**\n",
    "\n",
    "The aim of this notebook is to introduce a possibility to communicate in Python with the Digital handheld multimeter (DMM) **Benning MM12** via the supplied infrared USB cable.\n",
    "\n",
    "![Front view of the Benning MM12](images/Benning_MM12_front_view_small.jpeg)  \n",
    "Front view of the Benning MM12\n",
    "\n",
    "The technical data of the multimeter can be found on the manufacturer's website at: [Logging Multimeter Benning MM 12](https://www.benning.de/products-en/testing-measuring-and-safety-equipment/digital-multimeter/logging-multimeter-mm-12.html).\n",
    "\n",
    "**Caution:**  \n",
    "In the technical specifications, Benning states a **basic accuracy** of only **0.5%** for the entire measuring device including all measuring functions. Due to the identical design with the [Appa 506B](https://www.appatech.com/en/product-553883/APPA-500-SERIES-MULTIMETERS-APPA-506-APPA-506B.html), this seems to be one of the worst values for AC voltage. The DC voltage measuring range, on the other hand, is given with a basic accuracy of **±(0.03% + 2 digit)**. Compare also with section 7.1 \"Voltage ranges\" in [Benning MM12 manual, 2020-02-19](https://www.benning.de/products-en/testing-measuring-and-safety-equipment/digital-multimeter/logging-multimeter-mm-12.html?file=files/benning/global_content/downloads/instruction_manuals/benning_mm12_manual.pdf&cid=41915).\n",
    "\n",
    "![Voltage ranges and accuracy of Benning MM12 (source: Benning MM12 manual, 2020-02-19)](images/Benning_MM12_voltage_ranges_accuracy.png)  \n",
    "Voltage ranges and accuracy of Benning MM12 (source: [Benning MM12 manual, 2020-02-19](https://www.benning.de/products-en/testing-measuring-and-safety-equipment/digital-multimeter/logging-multimeter-mm-12.html?file=files/benning/global_content/downloads/instruction_manuals/benning_mm12_manual.pdf&cid=41915))"
   ]
  },
  {
   "cell_type": "markdown",
   "id": "a062d4bd-06c9-47b3-859d-43ae4b1e726b",
   "metadata": {
    "tags": [],
    "toc-hr-collapsed": true
   },
   "source": [
    "## Communication with the Benning MM12\n",
    "\n",
    "Communication with the Benning MM12 is done via Bluetooth or via the supplied infrared USB cable.\n",
    "\n",
    "### Connection via Bluetooth\n",
    "\n",
    "For communication via Bluetooth, the app *BENNING MM-CM Link* for Android and iOS is required. The Bluetooth connection is established independently via the app. This is unusual in that the Bluetooth connection is not managed via the central settings (e.g. in iOS) as is usual with other Bluetooth devices.\n",
    "\n",
    "The app itself is kept very simple: a graphic display of the current measured values - but without a labeled timescale. It is possible to export the recorded data to CSV files.\n",
    "\n",
    "Establishing a Bluetooth connection under Linux has so far been unsuccessful. The connection was always rejected by MM12 with the reference to incorrect authentication.\n",
    "\n",
    "### Connection via Infrared-USB-Cable\n",
    "\n",
    "![Top view of the Benning MM12 with IR connection port](images/Benning_MM12_top_view_small.jpeg)  \n",
    "Top view of the Benning MM12 with IR connection port\n",
    "\n",
    "The MM12 is supplied with the infrared USB cable [Appa IC-300U](https://sigrok.org/wiki/Device_cables#APPA_IC-300U) for plugging into the optical interface, shown in the following pictures:\n",
    "\n",
    "![Infrared USB cable supplied with MM12](images/Benning_MM12_IR-USB-cable_small.jpeg)  \n",
    "Infrared USB cable supplied with MM12\n",
    "\n",
    "![Plug showing the IR LEDs of Infrared USB cable](images/Benning_MM12_IR-USB-cable_plug_small.jpeg)  \n",
    "Plug showing the IR LEDs of Infrared USB cable\n",
    "\n",
    "In **Windows** a driver for the USB to serial converter *[CP2102 USB to UART Bridge Controller](https://www.silabs.com/developers/usb-to-uart-bridge-vcp-drivers)* has to be installed.\n",
    "\n",
    "Under **Linux** (e.g. Ubuntu or Raspberry Pi OS) the kernel module for the *CP2102* is already installed. After connecting the MM12 via the infrared USB cable a serial interface `/dev/ttyUSB0` or `/dev/ttyUSB1` is immediately available."
   ]
  },
  {
   "cell_type": "markdown",
   "id": "94c0f5a7-edd5-4fdd-b03c-db22f6c4612c",
   "metadata": {},
   "source": [
    "## Software\n",
    "\n",
    "### Benning PC-Win MM 12\n",
    "\n",
    "Benning supplies the Windows software *Benning PC-Win MM 12* on CD with the device. Alternatively it can be downloaded here: [Benning PC-Win MM 12 (Version 1.2.2) (170.8 MiB)](https://www.benning.de/products-en/testing-measuring-and-safety-equipment/digital-multimeter/logging-multimeter-mm-12.html?file=files/benning/global_content/downloads/software_and_terms_of_warranty/digital_multimeter/software_pc_win_benning_mm12.zip&cid=117242). \n",
    "\n",
    "The software itself is functionally reduced to the most necessary and essentially displays the current measured values graphically. A CSV export of the recorded data is also possible - however, the export function is extremely hidden and thus not intuitively accessible.\n",
    "\n",
    "### Sigrok and Appa-Driver \n",
    "\n",
    "There are also open source projects that develop application software for the **Benning MM12** and other nearly identical devices such as the **Appa 506B** or the **Voltcraft VC-950**. Here, first of all, the project *[Sigrok](https://sigrok.org/wiki/Main_Page)* should be mentioned, whose aim is to develop a portable, cross-platform, Free/Libre/Open Source signal analysis software suite that supports various types of devices (e.g. multimeters, logic analysers, oscilloscopes and many more).\n",
    "\n",
    "The modular structure of *Sigrok* makes it possible to constantly expand the software with new application modules as well as driver modules for an ever increasing number of measuring devices. So there is also a driver for the device series **Appa 500**, which should also support the **Benning MM12** at the same time. The following Sigrok Wiki pages are interesting for this:\n",
    "\n",
    "- [Benning MM 12](https://sigrok.org/wiki/BENNING_MM_12)\n",
    "- [Appa 500 Series](https://sigrok.org/wiki/APPA_500_Series)\n",
    "- [Appa Multimeters](https://sigrok.org/wiki/APPA_Multimeters)\n",
    "\n",
    "The Sigrok driver is not yet included in the mainline, as it still has the status \"in progress\" (as of 2022-05-15). So it has to be built manually from the Github sources: [Cymaphore /\n",
    "libsigrok](https://github.com/Cymaphore/libsigrok).\n",
    "\n",
    "Due to the many software dependencies to consider when compiling Sigrok and its modules (see here: [Sigrok Build requirements](http://sigrok.org/wiki/Building)) and the not yet stable development stage of the Appa driver, I have not yet succeeded in building a runnable version of Sigrok with the Appa driver enabled. The program `sigrok-cli` crashes with strange error messages ..."
   ]
  },
  {
   "cell_type": "markdown",
   "id": "7407c7f5-b792-46de-9a72-5e6cf48f74cd",
   "metadata": {},
   "source": [
    "# Control via Python and PySerial\n",
    "\n",
    "For communication with the MM12 a serial bytecode protocol is used, which is roughly based on the [Interface protocol of the Voltcraft VC-950](https://asset.conrad.com/media10/add/160267/c1/-/en/000124705DS01/datenblatt-124705-voltcraft-vc950-hand-multimeter-digital-datenlogger-cat-iii-1000-v-cat-iv-600-v-anzeige-counts-100000.pdf).\n",
    "\n",
    "However, compared to the MM12 protocol there are considerable differences in the individual byte sequences of the commands and the evaluation of the byte sequences of the responses. Benning has not yet published a protocol description suitable for the MM12. A friendly email request to the [Technical Support](mailto:helpdesk@benning.de) helped. They immediately sent me the appropriate protocol documentation *Multimeter Benning MM 12 / Clamp Meter Benning CM 12-series Communication Protocol, Version 2.6, Status 2016-02-16*.\n",
    "\n",
    "In the following implementation in Python I restrict myself exclusively to serial communication via the infrared USB interface. According to the documentation above, the serial protocol should also work for a communication via a serial Bluetooth interface. Unfortunately, I have not yet succeeded in establishing this Bluetooth connection to the Benning MM12."
   ]
  },
  {
   "cell_type": "markdown",
   "id": "49ab90d8-f351-4934-a01f-957b6d374797",
   "metadata": {},
   "source": [
    "## Direct communication via bytecode protocol\n",
    "\n",
    "The following code sections show how to communicate directly with the MM12 using the bytecode protocol.\n",
    "\n",
    "### Global imports and definitions"
   ]
  },
  {
   "cell_type": "code",
   "execution_count": 1,
   "id": "74864248-453a-4e87-99bb-6c62af05e07d",
   "metadata": {
    "tags": []
   },
   "outputs": [],
   "source": [
    "import serial\n",
    "import time\n",
    "\n",
    "SERIAL_PORT = \"/dev/ttyUSB0\"\n",
    "\n",
    "MM12_READ_INFOS   = '55 55 00 00 AA'\n",
    "MM12_READ_DISPLAY = '55 55 01 00 AB'"
   ]
  },
  {
   "cell_type": "markdown",
   "id": "32e7e712-2fd2-4691-b871-5e496a73bd81",
   "metadata": {},
   "source": [
    "### Global functions\n",
    "\n",
    "Define a function to convert byte strings to byte:"
   ]
  },
  {
   "cell_type": "code",
   "execution_count": 2,
   "id": "882bd88f-1284-4b9a-b58a-38521f0b472c",
   "metadata": {},
   "outputs": [],
   "source": [
    "def func_convert_byteString_2_bytes(str_in):\n",
    "    # remove whitespaces separating the hex bytes\n",
    "    hex_str = str_in.replace(\" \", \"\")\n",
    "\n",
    "    hex_bytes = bytes.fromhex(hex_str)\n",
    "    \n",
    "    return hex_bytes"
   ]
  },
  {
   "cell_type": "markdown",
   "id": "3a744b7f-2446-4e7e-aa99-96312a171bc8",
   "metadata": {},
   "source": [
    "Define a function to convert hex strings to human readable ones:"
   ]
  },
  {
   "cell_type": "code",
   "execution_count": 3,
   "id": "1b44e7a9-e878-48c5-91b6-c62c3280521e",
   "metadata": {},
   "outputs": [],
   "source": [
    "def func_convert_hex_str_human_readable(str_in):\n",
    "    hex_string = str_in.hex()\n",
    "    # fill string with spaces for better reading of the hex string\n",
    "    hex_string_wSpaces = \" \".join(hex_string[i-1:i+1] for i, c in enumerate(hex_string) if i%2)\n",
    "    return hex_string_wSpaces"
   ]
  },
  {
   "cell_type": "markdown",
   "id": "baafce98-f206-4722-a1ff-406180f335ce",
   "metadata": {},
   "source": [
    "Define a function to convert hex strings to ASCII:"
   ]
  },
  {
   "cell_type": "code",
   "execution_count": 4,
   "id": "d900489f-c756-4ccc-88c9-317c352930a5",
   "metadata": {},
   "outputs": [],
   "source": [
    "def func_convert_hex2ascii(hex_str):\n",
    "    # convert hex string to bytes object\n",
    "    bytes_object = bytes.fromhex(hex_str)\n",
    "\n",
    "    # convert bytes object to ASCII representation\n",
    "    ascii_str = bytes_object.decode(\"ASCII\")\n",
    "\n",
    "    # replace unnecessary characters\n",
    "    ascii_str = ascii_str.replace(\"\\x00\", \"\")\n",
    "    # strip leading and trailing whitespaces\n",
    "    ascii_str = ascii_str.strip()\n",
    "    \n",
    "    return ascii_str"
   ]
  },
  {
   "cell_type": "markdown",
   "id": "216af20f-9b62-445a-8fa8-7d6505e51aed",
   "metadata": {},
   "source": [
    "Define a function to convert hex strings to integers:"
   ]
  },
  {
   "cell_type": "code",
   "execution_count": 5,
   "id": "d6c9b641-8d4c-4d92-b944-40f486ffd1bb",
   "metadata": {},
   "outputs": [],
   "source": [
    "def func_convert_hex2int(hex_str):\n",
    "    # convert hex string to bytes object\n",
    "    bytes_object = bytes.fromhex(hex_str)\n",
    "    \n",
    "    # convert hex bytes to integer\n",
    "    out_int = int.from_bytes(bytes_object, 'little', signed=False)\n",
    "    \n",
    "    return out_int"
   ]
  },
  {
   "cell_type": "markdown",
   "id": "ff8f8efc-a050-443a-aac4-d09496eda7da",
   "metadata": {},
   "source": [
    "### Open serial port to MM12"
   ]
  },
  {
   "cell_type": "code",
   "execution_count": 6,
   "id": "2d603ed4-08cf-44d3-9991-6a31e5d865f2",
   "metadata": {},
   "outputs": [],
   "source": [
    "try:\n",
    "    serial = serial.Serial(port=SERIAL_PORT, baudrate=9600, bytesize=8, parity='N', stopbits=1, timeout=2)\n",
    "\n",
    "except serial.SerialException:\n",
    "    print(\"Could not open serial port '{0}'!\".format(SERIAL_PORT))\n",
    "    raise"
   ]
  },
  {
   "cell_type": "markdown",
   "id": "9f0791ff-49e6-419b-88d6-96716df87df4",
   "metadata": {},
   "source": [
    "### Read device information\n",
    "\n",
    "Send `Read information` command to MM12:"
   ]
  },
  {
   "cell_type": "code",
   "execution_count": 7,
   "id": "79f9bc9f-03bf-4a6c-bf70-ef35a1a489bd",
   "metadata": {},
   "outputs": [
    {
     "name": "stdout",
     "output_type": "stream",
     "text": [
      "Command '55 55 00 00 aa' written, consisting of 5 bytes\n"
     ]
    }
   ],
   "source": [
    "# flush input buffer, discarding all its contents\n",
    "serial.reset_input_buffer()\n",
    "\n",
    "# convert byte string of command to bytes\n",
    "hex_bytes = func_convert_byteString_2_bytes(MM12_READ_INFOS)\n",
    "ret = serial.write(hex_bytes)\n",
    "\n",
    "hex_bytes_str = func_convert_hex_str_human_readable(hex_bytes)\n",
    "\n",
    "print(\"Command '{}' written, consisting of {} bytes\".format(hex_bytes_str, ret))"
   ]
  },
  {
   "cell_type": "markdown",
   "id": "a2c932b9-18e2-4409-b3de-c929c8f17ee5",
   "metadata": {},
   "source": [
    "Read back the 57 byte response of the MM12:"
   ]
  },
  {
   "cell_type": "code",
   "execution_count": 8,
   "id": "ddc1d34d-6fe9-4717-8fc8-9f2af52a443a",
   "metadata": {},
   "outputs": [
    {
     "name": "stdout",
     "output_type": "stream",
     "text": [
      "55 55 00 34 42 45 4e 4e 49 4e 47 20 4d 4d 31 32 20 20 20 20 00 00 00 00 00 00 00 00 00 00 00 00 00 00 00 00 20 20 20 20 20 20 20 20 32 38 36 30 30 30 38 32 06 00 73 00 8f\n"
     ]
    }
   ],
   "source": [
    "hex_string = serial.read(57)\n",
    "#hex_string\n",
    "\n",
    "print(func_convert_hex_str_human_readable(hex_string))\n",
    "\n",
    "# convert byte string to hex string\n",
    "hex_bytes = hex_string.hex()"
   ]
  },
  {
   "cell_type": "markdown",
   "id": "4246a977-fe65-412c-8fea-a2e4d6bbef59",
   "metadata": {},
   "source": [
    "Evaluate the **bytes 0..31** of the data payload as they represent the **model name**:"
   ]
  },
  {
   "cell_type": "code",
   "execution_count": 10,
   "id": "574b6211-868f-422f-8daf-7a9320efc73d",
   "metadata": {},
   "outputs": [
    {
     "name": "stdout",
     "output_type": "stream",
     "text": [
      "Model name: BENNING MM12\n"
     ]
    }
   ],
   "source": [
    "# bytes 0..31 from data payload represent the model name\n",
    "model_name_hex = hex_bytes[8:72]\n",
    "\n",
    "model_name_str = func_convert_hex2ascii(model_name_hex)\n",
    "\n",
    "# init dictionary for storing the device information\n",
    "dict_dmm_infos = {}\n",
    "\n",
    "dict_dmm_infos['model'] = ('Model name', model_name_str)\n",
    "\n",
    "print(\"{}: {}\".format(dict_dmm_infos['model'][0], dict_dmm_infos['model'][1]))"
   ]
  },
  {
   "cell_type": "markdown",
   "id": "724bee1f-aa6e-403f-88e5-3e02e3f366d9",
   "metadata": {},
   "source": [
    "Evaluate the **bytes 32..47** of the data payload as they represent the **serial number**:"
   ]
  },
  {
   "cell_type": "code",
   "execution_count": 11,
   "id": "006fcd51-38e0-4ad1-adb4-36cc89154af3",
   "metadata": {},
   "outputs": [
    {
     "name": "stdout",
     "output_type": "stream",
     "text": [
      "Serial number: 28600082\n"
     ]
    }
   ],
   "source": [
    "# bytes 32..47 from data payload represent the serial number\n",
    "serial_number_hex = hex_bytes[72:104]\n",
    "\n",
    "serial_number_str = func_convert_hex2ascii(serial_number_hex)\n",
    "\n",
    "dict_dmm_infos['serial'] = ('Serial number', serial_number_str)\n",
    "\n",
    "print(\"{}: {}\".format(dict_dmm_infos['serial'][0], dict_dmm_infos['serial'][1]))"
   ]
  },
  {
   "cell_type": "markdown",
   "id": "f0f919f5-bd20-4fad-8343-63844c577ef0",
   "metadata": {},
   "source": [
    "Evaluate the **bytes 48..49** of the data payload as they represent the **model ID**:"
   ]
  },
  {
   "cell_type": "code",
   "execution_count": 12,
   "id": "135640cd-9e5c-4303-988f-c65ab0103e05",
   "metadata": {},
   "outputs": [
    {
     "name": "stdout",
     "output_type": "stream",
     "text": [
      "Model ID: 6\n"
     ]
    }
   ],
   "source": [
    "# bytes 48..49 from data payload represent the model ID\n",
    "model_ID_hex = hex_bytes[104:108]\n",
    "\n",
    "model_ID_int = func_convert_hex2int(model_ID_hex)\n",
    "\n",
    "dict_dmm_infos['id'] = ('Model ID', model_ID_int)\n",
    "\n",
    "print(\"{}: {}\".format(dict_dmm_infos['id'][0], dict_dmm_infos['id'][1]))"
   ]
  },
  {
   "cell_type": "markdown",
   "id": "1374d323-b207-4d2f-ad5d-d35cba71af4e",
   "metadata": {},
   "source": [
    "Evaluate the **bytes 50..51** of the data payload as they represent the **firmware version**:"
   ]
  },
  {
   "cell_type": "code",
   "execution_count": 13,
   "id": "13972190-ee99-4b38-94f1-cebed1573df2",
   "metadata": {},
   "outputs": [
    {
     "name": "stdout",
     "output_type": "stream",
     "text": [
      "FW version: 1.15\n"
     ]
    }
   ],
   "source": [
    "# bytes 50..51 from data payload represent the firmware version\n",
    "firmware_version_hex = hex_bytes[108:112]\n",
    "\n",
    "firmware_version_int = func_convert_hex2int(firmware_version_hex)\n",
    "\n",
    "dict_dmm_infos['fw'] = ('FW version', firmware_version_int/100)\n",
    "\n",
    "print(\"{}: {}\".format(dict_dmm_infos['fw'][0], dict_dmm_infos['fw'][1]))"
   ]
  },
  {
   "cell_type": "markdown",
   "id": "62c561d5-a099-4c83-8ccb-c03e5ec6f642",
   "metadata": {},
   "source": [
    "Print the dictionary of stored **device information**:"
   ]
  },
  {
   "cell_type": "code",
   "execution_count": 14,
   "id": "5038ddf6-3752-49de-bbc4-b070ff594cf7",
   "metadata": {},
   "outputs": [
    {
     "name": "stdout",
     "output_type": "stream",
     "text": [
      "Model name:\tBENNING MM12\n",
      "Serial number:\t28600082\n",
      "Model ID:\t6\n",
      "FW version:\t1.15\n"
     ]
    }
   ],
   "source": [
    "for key, val in dict_dmm_infos.items():\n",
    "    print(\"{}:\\t{}\".format(val[0], val[1]))"
   ]
  },
  {
   "cell_type": "markdown",
   "id": "6b2b8a6c-20a5-4818-ab25-ca396d1019d8",
   "metadata": {},
   "source": [
    "### Read display information (measuring values and units)\n",
    "\n",
    "Send `Read display` command to MM12:"
   ]
  },
  {
   "cell_type": "code",
   "execution_count": 15,
   "id": "c61084e3-55b5-4654-8b0b-b98bab2dd863",
   "metadata": {},
   "outputs": [
    {
     "name": "stdout",
     "output_type": "stream",
     "text": [
      "Command '55 55 01 00 ab' written, consisting of 5 bytes\n"
     ]
    }
   ],
   "source": [
    "# flush input buffer, discarding all its contents\n",
    "serial.reset_input_buffer()\n",
    "\n",
    "# convert byte string of command to bytes\n",
    "hex_bytes = func_convert_byteString_2_bytes(MM12_READ_DISPLAY)\n",
    "ret = serial.write(hex_bytes)\n",
    "\n",
    "hex_bytes_str = func_convert_hex_str_human_readable(hex_bytes)\n",
    "\n",
    "print(\"Command '{}' written, consisting of {} bytes\".format(hex_bytes_str, ret))"
   ]
  },
  {
   "cell_type": "code",
   "execution_count": 16,
   "id": "b6c7c24e-58d4-418d-8c21-504e4e679d76",
   "metadata": {},
   "outputs": [
    {
     "name": "stdout",
     "output_type": "stream",
     "text": [
      "55 55 01 0c 0d 00 e2 00 00 91 00 00 00 70 00 00 a7\n"
     ]
    }
   ],
   "source": [
    "hex_string = serial.read(17)\n",
    "\n",
    "print(func_convert_hex_str_human_readable(hex_string))\n",
    "\n",
    "hex_bytes = hex_string.hex()"
   ]
  },
  {
   "cell_type": "markdown",
   "id": "1d6ae420-7e4a-400b-918f-25676fc30559",
   "metadata": {},
   "source": [
    "The evaluation of the individual byte sequences of the data payload is rather complex - therefore this simple example does without it.\n",
    "\n",
    "The complete evaluation is done in the newly created wrapper class **Benning_MM12_Serial** in the Python file ``Benning_MM12_class.py``."
   ]
  },
  {
   "cell_type": "markdown",
   "id": "02c284ae-2844-47df-892f-197667a931b8",
   "metadata": {},
   "source": [
    "## Using the wrapper class **Benning_MM12_Serial**\n",
    "\n",
    "The new wrapper class **Benning_MM12_Serial** in the Python file ```Benning_MM12_class.py``` implements the communication with the digital multimeter (DMM) **Benning MM12** in my home lab. The communication is done via the shipped infrared USB cable using a serial protocol in byte codes.\n",
    "\n",
    "### Connect and disconnect to the MM12"
   ]
  },
  {
   "cell_type": "code",
   "execution_count": 17,
   "id": "ea6d9ba9-8526-4d40-9688-e3a463ff2c7c",
   "metadata": {},
   "outputs": [],
   "source": [
    "# import wrapper class Benning_MM12_Serial from python file Benning_MM12_class.py\n",
    "from Benning_MM12_class import Benning_MM12_Serial"
   ]
  },
  {
   "cell_type": "code",
   "execution_count": 18,
   "id": "812bb90e-bf75-4254-8e96-fdcea36bc97d",
   "metadata": {},
   "outputs": [],
   "source": [
    "SERIAL_PORT = \"/dev/ttyUSB0\"\n",
    "\n",
    "# create new device object for the DMM Benning MM12\n",
    "dmm_mm12 = Benning_MM12_Serial(port=SERIAL_PORT)"
   ]
  },
  {
   "cell_type": "code",
   "execution_count": 19,
   "id": "228e6bbe-cc82-48e4-b3fb-96677c7ca73f",
   "metadata": {},
   "outputs": [
    {
     "data": {
      "text/plain": [
       "'Connected'"
      ]
     },
     "execution_count": 19,
     "metadata": {},
     "output_type": "execute_result"
    }
   ],
   "source": [
    "# read connection state to the Benning MM12\n",
    "dmm_mm12.status"
   ]
  },
  {
   "cell_type": "code",
   "execution_count": 20,
   "id": "f8879bcc-1909-4fd6-9b5b-9886c43aea5f",
   "metadata": {},
   "outputs": [
    {
     "data": {
      "text/plain": [
       "'Benning MM12 over USB'"
      ]
     },
     "execution_count": 20,
     "metadata": {},
     "output_type": "execute_result"
    }
   ],
   "source": [
    "# read connection details\n",
    "dmm_mm12.connected_with"
   ]
  },
  {
   "cell_type": "code",
   "execution_count": 47,
   "id": "3949f4bd-fb7a-4ee0-af5b-0f70e7a786f2",
   "metadata": {},
   "outputs": [],
   "source": [
    "# close the connection to the Benning MM12\n",
    "dmm_mm12.closeConnection()"
   ]
  },
  {
   "cell_type": "code",
   "execution_count": 50,
   "id": "bb4445bc-da7e-4e1a-bd77-3abc70ac755b",
   "metadata": {},
   "outputs": [],
   "source": [
    "# open the connection again\n",
    "dmm_mm12.openConnection(port=SERIAL_PORT)"
   ]
  },
  {
   "cell_type": "markdown",
   "id": "4e458678-8d96-49b2-be63-9afe510854f8",
   "metadata": {},
   "source": [
    "### Read device information "
   ]
  },
  {
   "cell_type": "code",
   "execution_count": 21,
   "id": "222a6814-3c84-455f-b4b3-5f25b0eb19fd",
   "metadata": {},
   "outputs": [
    {
     "name": "stdout",
     "output_type": "stream",
     "text": [
      "Model name:\tBENNING MM12\n",
      "Serial number:\t28600082\n",
      "Model ID:\t6\n",
      "FW version:\t1.15\n"
     ]
    }
   ],
   "source": [
    "# get device infos\n",
    "dict_dmm_infos = dmm_mm12.getDeviceInfos()\n",
    "\n",
    "for key, val in dict_dmm_infos.items():\n",
    "    print(\"{}:\\t{}\".format(val[0], val[1]))"
   ]
  },
  {
   "cell_type": "markdown",
   "id": "861aa909-6d2d-489b-ad4a-f1e0d94451e3",
   "metadata": {},
   "source": [
    "### Read display information (measuring values and units)\n",
    "\n",
    "Get measurements converted in **SI base units**:"
   ]
  },
  {
   "cell_type": "code",
   "execution_count": 22,
   "id": "d0d317db-b20a-4b9e-b587-c78816a4422b",
   "metadata": {},
   "outputs": [
    {
     "name": "stdout",
     "output_type": "stream",
     "text": [
      "Display value in mode '°C': 22.6 °C\n"
     ]
    }
   ],
   "source": [
    "dict_dmm_measurement_base = dmm_mm12.getMeasurement_baseUnits()\n",
    "\n",
    "if len(dict_dmm_measurement_base) != 0:\n",
    "    print(\"Display value in mode '{}': {} {}\".format(dict_dmm_measurement_base['function'], dict_dmm_measurement_base['value'], dict_dmm_measurement_base['unit']))"
   ]
  },
  {
   "cell_type": "markdown",
   "id": "dc2ab6e7-3dbf-41a3-ab9b-5b7e661efdae",
   "metadata": {},
   "source": [
    "Get measurements converted in **human readable units**:"
   ]
  },
  {
   "cell_type": "code",
   "execution_count": 23,
   "id": "0963f4a2-4a18-4643-8b0a-aee15112b807",
   "metadata": {},
   "outputs": [
    {
     "name": "stdout",
     "output_type": "stream",
     "text": [
      "Display value: 22.6 °C\n"
     ]
    }
   ],
   "source": [
    "dict_dmm_measurement_human = dmm_mm12.getMeasurement_humanUnits()\n",
    "\n",
    "if len(dict_dmm_measurement_human) != 0:\n",
    "    print(\"Display value: {} {}\".format(dict_dmm_measurement_human['value'], dict_dmm_measurement_human['unit']))"
   ]
  },
  {
   "cell_type": "code",
   "execution_count": null,
   "id": "ef29b694-2a1a-40dd-8c13-48eeb7a5bed8",
   "metadata": {},
   "outputs": [],
   "source": []
  }
 ],
 "metadata": {
  "kernelspec": {
   "display_name": "Python 3 (ipykernel)",
   "language": "python",
   "name": "python3"
  },
  "language_info": {
   "codemirror_mode": {
    "name": "ipython",
    "version": 3
   },
   "file_extension": ".py",
   "mimetype": "text/x-python",
   "name": "python",
   "nbconvert_exporter": "python",
   "pygments_lexer": "ipython3",
   "version": "3.7.3"
  },
  "toc-autonumbering": true,
  "toc-showtags": false
 },
 "nbformat": 4,
 "nbformat_minor": 5
}
