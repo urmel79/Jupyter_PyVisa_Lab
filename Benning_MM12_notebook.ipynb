{
 "cells": [
  {
   "cell_type": "code",
   "execution_count": 137,
   "id": "74864248-453a-4e87-99bb-6c62af05e07d",
   "metadata": {},
   "outputs": [],
   "source": [
    "import serial\n",
    "import time\n",
    "\n",
    "SERIAL_PORT = \"/dev/ttyUSB1\"\n",
    "# after writing commands a pause is needed\n",
    "CMD_WRITE_PAUSE = 0.2\n",
    "\n",
    "MM12_READ_INFOS   = b'\\x55\\x55\\x00\\x00\\xaa'\n",
    "MM12_READ_DISPLAY = b'\\x55\\x55\\x01\\x00\\xab'\n",
    "\n",
    "try:\n",
    "    serial = serial.Serial(port=SERIAL_PORT, baudrate=9600, bytesize=8, parity='N', stopbits=1, timeout=2)\n",
    "\n",
    "except serial.SerialException:\n",
    "    print(\"Could not open serial port '{0}'!\".format(SERIAL_PORT))\n",
    "    raise"
   ]
  },
  {
   "cell_type": "code",
   "execution_count": 218,
   "id": "7e6f022e-1577-44e4-914e-70e9f934b2bc",
   "metadata": {
    "tags": []
   },
   "outputs": [],
   "source": [
    "# function codes of Benning MM12 (table 6 in communication datasheet)\n",
    "# the codes 0x32 ... 0x3E have not been included at the moment, because they are rarely used\n",
    "list_function_codes = {\n",
    "    0x00 : 'None',\n",
    "    0x01 : 'AC V',\n",
    "    0x02 : 'DC V',\n",
    "    0x03 : 'AC mV',\n",
    "    0x04 : 'DC mV',\n",
    "    0x05 : 'Ohm',\n",
    "    0x06 : 'Continuity',\n",
    "    0x07 : 'Diode',\n",
    "    0x08 : 'Capacitor',\n",
    "    0x09 : 'AC A',\n",
    "    0x0A : 'DC A',\n",
    "    0x0B : 'AC mA',\n",
    "    0x0C : 'DC mA',\n",
    "    0x0D : '°C',\n",
    "    0x0E : '°F',\n",
    "    0x0F : 'Frequency',\n",
    "    0x10 : 'Duty',\n",
    "    0x11 : 'Hz (V)',\n",
    "    0x12 : 'Hz (mV)',\n",
    "    0x13 : 'Hz (A)',\n",
    "    0x14 : 'Hz (mA)',\n",
    "    0x15 : 'AC+DC (V)',\n",
    "    0x16 : 'AC+DC (mV)',\n",
    "    0x17 : 'AC+DC (A)',\n",
    "    0x18 : 'AC+DC (mA)',\n",
    "    0x19 : 'LPF (V)',\n",
    "    0x1A : 'LPF (mV)',\n",
    "    0x1B : 'LPF (A)',\n",
    "    0x1C : 'LPF (mA)',\n",
    "    0x1D : 'AC uA',\n",
    "    0x1E : 'DC uA',\n",
    "    0x1F : 'DC A out',\n",
    "    0x20 : 'DC A out (Slow Linear)',\n",
    "    0x21 : 'DC A out (Fast Linear)',\n",
    "    0x22 : 'DC A out (Slow Step)',\n",
    "    0x23 : 'DC A out (Fast Step)',\n",
    "    0x24 : 'Loop Power',\n",
    "    0x25 : '250 Ohm HART',\n",
    "    0x26 : 'Voltage Sense',\n",
    "    0x27 : 'Peak Hold (V)',\n",
    "    0x28 : 'Peak Hold (mV)',\n",
    "    0x29 : 'Peak Hold (A)',\n",
    "    0x2A : 'Peak Hold (mA)',\n",
    "    0x2B : 'LoZ AC V',\n",
    "    0x2C : 'LoZ DC V',\n",
    "    0x2D : 'LoZ AC+DC (V)',\n",
    "    0x2E : 'LoZ LPF (V)',\n",
    "    0x2F : 'LoZ Hz (V)',\n",
    "    0x30 : 'LoZ Peak Hold (V)',\n",
    "    0x31 : 'Battery',\n",
    "    \n",
    "    0xAC : 'LoZ Auto Sense' # it's 0x2C, but in Auto Sense mode (Bit 7 is set)\n",
    "}\n",
    "\n",
    "#list_function_codes"
   ]
  },
  {
   "cell_type": "code",
   "execution_count": 237,
   "id": "a3871e08-e147-4c57-8abe-0d22fa1ec911",
   "metadata": {},
   "outputs": [
    {
     "name": "stdout",
     "output_type": "stream",
     "text": [
      "b'UU\\x01\\x00\\xab'\n"
     ]
    }
   ],
   "source": [
    "#message_bytes = bytes.fromhex(MM12_READ_INFOS)\n",
    "\n",
    "#MM12_READ_INFOS   = b'\\x55\\x55\\x00\\x00\\xaa'\n",
    "print(MM12_READ_DISPLAY)\n",
    "\n",
    "serial.write(MM12_READ_DISPLAY)\n",
    "time.sleep(CMD_WRITE_PAUSE)"
   ]
  },
  {
   "cell_type": "code",
   "execution_count": 238,
   "id": "b6c7c24e-58d4-418d-8c21-504e4e679d76",
   "metadata": {},
   "outputs": [
    {
     "name": "stdout",
     "output_type": "stream",
     "text": [
      "55 55 01 0c 04 80 41 fc ff 13 00 00 00 70 00 00 fa\n"
     ]
    }
   ],
   "source": [
    "hex_string = serial.read(17).hex()\n",
    "\n",
    "# fill string with spaces for better reading of the hex string\n",
    "hex_string_wSpaces = \" \".join(hex_string[i-1:i+1] for i, c in enumerate(hex_string) if i%2)\n",
    "\n",
    "print(hex_string_wSpaces)"
   ]
  },
  {
   "cell_type": "code",
   "execution_count": 239,
   "id": "5520f46a-978b-4868-b914-bebd5c5864de",
   "metadata": {},
   "outputs": [
    {
     "name": "stdout",
     "output_type": "stream",
     "text": [
      "DC mV\n"
     ]
    }
   ],
   "source": [
    "# byte 0 from data payload is the function code\n",
    "func_code = hex_string[8:10]\n",
    "# convert from hex to int\n",
    "func_code_int = int(func_code, 16)\n",
    "\n",
    "print(list_function_codes[func_code_int])"
   ]
  },
  {
   "cell_type": "code",
   "execution_count": 241,
   "id": "1029ad5c-4462-40a1-a5aa-1751fe228c98",
   "metadata": {},
   "outputs": [
    {
     "name": "stdout",
     "output_type": "stream",
     "text": [
      "Function: Manual Test\n"
     ]
    }
   ],
   "source": [
    "# check if MSB (Bit 7) is set\n",
    "if func_code_int & 0b10000000:\n",
    "    print('Function: Auto Test')\n",
    "else:\n",
    "    print('Function: Manual Test')"
   ]
  },
  {
   "cell_type": "code",
   "execution_count": null,
   "id": "daf46df3-d2a9-451d-b581-391315ff0bc9",
   "metadata": {},
   "outputs": [],
   "source": []
  }
 ],
 "metadata": {
  "kernelspec": {
   "display_name": "Python 3 (ipykernel)",
   "language": "python",
   "name": "python3"
  },
  "language_info": {
   "codemirror_mode": {
    "name": "ipython",
    "version": 3
   },
   "file_extension": ".py",
   "mimetype": "text/x-python",
   "name": "python",
   "nbconvert_exporter": "python",
   "pygments_lexer": "ipython3",
   "version": "3.9.12"
  }
 },
 "nbformat": 4,
 "nbformat_minor": 5
}
