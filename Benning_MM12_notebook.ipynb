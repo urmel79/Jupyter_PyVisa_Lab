{
 "cells": [
  {
   "cell_type": "code",
   "execution_count": 2,
   "id": "74864248-453a-4e87-99bb-6c62af05e07d",
   "metadata": {},
   "outputs": [],
   "source": [
    "import serial\n",
    "import time\n",
    "\n",
    "SERIAL_PORT = \"/dev/ttyUSB0\"\n",
    "# after writing commands a pause is needed\n",
    "CMD_WRITE_PAUSE = 0.2\n",
    "\n",
    "MM12_READ_INFOS   = b'\\x55\\x55\\x00\\x00\\xaa'\n",
    "MM12_READ_DISPLAY = b'\\x55\\x55\\x01\\x00\\xab'\n",
    "\n",
    "try:\n",
    "    serial = serial.Serial(port=SERIAL_PORT, baudrate=9600, bytesize=8, parity='N', stopbits=1, timeout=2)\n",
    "\n",
    "except serial.SerialException:\n",
    "    print(\"Could not open serial port '{0}'!\".format(SERIAL_PORT))\n",
    "    raise"
   ]
  },
  {
   "cell_type": "code",
   "execution_count": 3,
   "id": "7e6f022e-1577-44e4-914e-70e9f934b2bc",
   "metadata": {
    "tags": []
   },
   "outputs": [],
   "source": [
    "# function codes of Benning MM12 (table 6 in communication datasheet)\n",
    "# the codes 0x32 ... 0x3E have not been included at the moment, because they are rarely used\n",
    "list_function_codes = {\n",
    "    0x00 : 'None',\n",
    "    0x01 : 'AC V',\n",
    "    0x02 : 'DC V',\n",
    "    0x03 : 'AC mV',\n",
    "    0x04 : 'DC mV',\n",
    "    0x05 : 'Ohm',\n",
    "    0x06 : 'Continuity',\n",
    "    0x07 : 'Diode',\n",
    "    0x08 : 'Capacitor',\n",
    "    0x09 : 'AC A',\n",
    "    0x0A : 'DC A',\n",
    "    0x0B : 'AC mA',\n",
    "    0x0C : 'DC mA',\n",
    "    0x0D : '°C',\n",
    "    0x0E : '°F',\n",
    "    0x0F : 'Frequency',\n",
    "    0x10 : 'Duty',\n",
    "    0x11 : 'Hz (V)',\n",
    "    0x12 : 'Hz (mV)',\n",
    "    0x13 : 'Hz (A)',\n",
    "    0x14 : 'Hz (mA)',\n",
    "    0x15 : 'AC+DC (V)',\n",
    "    0x16 : 'AC+DC (mV)',\n",
    "    0x17 : 'AC+DC (A)',\n",
    "    0x18 : 'AC+DC (mA)',\n",
    "    0x19 : 'LPF (V)',\n",
    "    0x1A : 'LPF (mV)',\n",
    "    0x1B : 'LPF (A)',\n",
    "    0x1C : 'LPF (mA)',\n",
    "    0x1D : 'AC uA',\n",
    "    0x1E : 'DC uA',\n",
    "    0x1F : 'DC A out',\n",
    "    0x20 : 'DC A out (Slow Linear)',\n",
    "    0x21 : 'DC A out (Fast Linear)',\n",
    "    0x22 : 'DC A out (Slow Step)',\n",
    "    0x23 : 'DC A out (Fast Step)',\n",
    "    0x24 : 'Loop Power',\n",
    "    0x25 : '250 Ohm HART',\n",
    "    0x26 : 'Voltage Sense',\n",
    "    0x27 : 'Peak Hold (V)',\n",
    "    0x28 : 'Peak Hold (mV)',\n",
    "    0x29 : 'Peak Hold (A)',\n",
    "    0x2A : 'Peak Hold (mA)',\n",
    "    0x2B : 'LoZ AC V',\n",
    "    0x2C : 'LoZ DC V',\n",
    "    0x2D : 'LoZ AC+DC (V)',\n",
    "    0x2E : 'LoZ LPF (V)',\n",
    "    0x2F : 'LoZ Hz (V)',\n",
    "    0x30 : 'LoZ Peak Hold (V)',\n",
    "    0x31 : 'Battery',\n",
    "    \n",
    "    0xAC : 'LoZ Auto Sense' # it's 0x2C, but in Auto Sense mode (Bit 7 is set)\n",
    "}\n",
    "\n",
    "#list_function_codes"
   ]
  },
  {
   "cell_type": "code",
   "execution_count": 193,
   "id": "8d807e97-ae6e-4694-b8ef-47ea362fcbbb",
   "metadata": {},
   "outputs": [],
   "source": [
    "# range codes of Benning MM12 (table 7.1 and 7.2 in communication datasheet)\n",
    "list_range_multiplier_ohm = {\n",
    "    0x00 : 0.01,\n",
    "    0x01 : 0.1,\n",
    "    0x02 : 1,\n",
    "    0x03 : 10,\n",
    "    0x04 : 100,\n",
    "    0x05 : 1000\n",
    "}\n",
    "\n",
    "list_range_multiplier_temp = {\n",
    "    0x00 : 0.1\n",
    "}\n",
    "\n",
    "list_range_multiplier_voltage = {\n",
    "    0x00 : 0.0001,\n",
    "    0x01 : 0.001,\n",
    "    0x02 : 0.01,\n",
    "    0x03 : 0.1\n",
    "}"
   ]
  },
  {
   "cell_type": "code",
   "execution_count": 237,
   "id": "ccca20f2-6274-4463-8926-ef806aeae2ee",
   "metadata": {},
   "outputs": [],
   "source": [
    "def func_mask_autoRangeBit(byte_in):\n",
    "    byte_out = byte_in & 0b01111111\n",
    "    return byte_out"
   ]
  },
  {
   "cell_type": "code",
   "execution_count": 250,
   "id": "a3871e08-e147-4c57-8abe-0d22fa1ec911",
   "metadata": {},
   "outputs": [
    {
     "name": "stdout",
     "output_type": "stream",
     "text": [
      "b'UU\\x01\\x00\\xab'\n"
     ]
    },
    {
     "data": {
      "text/plain": [
       "5"
      ]
     },
     "execution_count": 250,
     "metadata": {},
     "output_type": "execute_result"
    }
   ],
   "source": [
    "#message_bytes = bytes.fromhex(MM12_READ_INFOS)\n",
    "\n",
    "#MM12_READ_INFOS   = b'\\x55\\x55\\x00\\x00\\xaa'\n",
    "print(MM12_READ_DISPLAY)\n",
    "\n",
    "serial.write(MM12_READ_DISPLAY)\n",
    "#time.sleep(CMD_WRITE_PAUSE)"
   ]
  },
  {
   "cell_type": "code",
   "execution_count": 251,
   "id": "b6c7c24e-58d4-418d-8c21-504e4e679d76",
   "metadata": {},
   "outputs": [
    {
     "name": "stdout",
     "output_type": "stream",
     "text": [
      "55 55 01 0c 0e 00 e2 02 00 99 00 00 00 70 00 00 b2\n"
     ]
    }
   ],
   "source": [
    "hex_string = serial.read(17).hex()\n",
    "\n",
    "# fill string with spaces for better reading of the hex string\n",
    "hex_string_wSpaces = \" \".join(hex_string[i-1:i+1] for i, c in enumerate(hex_string) if i%2)\n",
    "\n",
    "print(hex_string_wSpaces)"
   ]
  },
  {
   "cell_type": "code",
   "execution_count": 252,
   "id": "5520f46a-978b-4868-b914-bebd5c5864de",
   "metadata": {},
   "outputs": [
    {
     "name": "stdout",
     "output_type": "stream",
     "text": [
      "°F\n"
     ]
    }
   ],
   "source": [
    "# byte 0 from data payload is the function code\n",
    "func_code = hex_string[8:10]\n",
    "# convert from hex to int\n",
    "func_code_int = int(func_code, 16)\n",
    "func_str = list_function_codes[func_code_int]\n",
    "\n",
    "print(func_str)"
   ]
  },
  {
   "cell_type": "code",
   "execution_count": 253,
   "id": "b5709805-8e67-4dfc-8844-3ae973f59ab6",
   "metadata": {},
   "outputs": [
    {
     "name": "stdout",
     "output_type": "stream",
     "text": [
      "0.1\n"
     ]
    }
   ],
   "source": [
    "# byte 1 from data payload is the range code\n",
    "range_code = hex_string[10:12]\n",
    "# convert from hex to int\n",
    "range_code_int = int(range_code, 16)\n",
    "\n",
    "# mask the MSB that identifies the auto or manual range\n",
    "range_code_int = func_mask_autoRangeBit(range_code_int)\n",
    "\n",
    "# function: Ohm\n",
    "if func_code_int == 0x05:\n",
    "    range_int = list_range_multiplier_ohm[range_code_int]\n",
    "# function: Temp (°C or °F)\n",
    "elif ( func_code_int == 0x0D or \n",
    "        func_code_int == 0x0E ):\n",
    "    range_int = list_range_multiplier_temp[range_code_int]\n",
    "# function: Voltage (AC V, LPF (V), Peak Hold (V), DC V, AC+DC (V))\n",
    "elif ( func_code_int == 0x01 or\n",
    "        func_code_int == 0x19 or\n",
    "        func_code_int == 0x27 or\n",
    "        func_code_int == 0x02 or\n",
    "        func_code_int == 0x15 ):\n",
    "    range_int = list_range_multiplier_voltage[range_code_int]\n",
    "    \n",
    "print(range_int)"
   ]
  },
  {
   "cell_type": "code",
   "execution_count": 254,
   "id": "daf46df3-d2a9-451d-b581-391315ff0bc9",
   "metadata": {},
   "outputs": [
    {
     "data": {
      "text/plain": [
       "738"
      ]
     },
     "execution_count": 254,
     "metadata": {},
     "output_type": "execute_result"
    }
   ],
   "source": [
    "disp_value_hex = bytes.fromhex(hex_string[12:18])\n",
    "#disp_value_hex\n",
    "\n",
    "disp_value_sint = int.from_bytes(disp_value_hex, 'little', signed=True)\n",
    "disp_value_sint"
   ]
  },
  {
   "cell_type": "code",
   "execution_count": 255,
   "id": "9599a730-f8bd-4ac2-a958-b23ab8b836a3",
   "metadata": {},
   "outputs": [
    {
     "name": "stdout",
     "output_type": "stream",
     "text": [
      "Display value: 73.8 °F\n"
     ]
    }
   ],
   "source": [
    "print(\"Display value: {} {}\".format(disp_value_sint*range_int, func_str))"
   ]
  },
  {
   "cell_type": "code",
   "execution_count": null,
   "id": "83b5a7b3-d3e3-47c7-8e75-c43b692c687d",
   "metadata": {},
   "outputs": [],
   "source": []
  }
 ],
 "metadata": {
  "kernelspec": {
   "display_name": "Python 3 (ipykernel)",
   "language": "python",
   "name": "python3"
  },
  "language_info": {
   "codemirror_mode": {
    "name": "ipython",
    "version": 3
   },
   "file_extension": ".py",
   "mimetype": "text/x-python",
   "name": "python",
   "nbconvert_exporter": "python",
   "pygments_lexer": "ipython3",
   "version": "3.9.12"
  }
 },
 "nbformat": 4,
 "nbformat_minor": 5
}
