{
 "cells": [
  {
   "cell_type": "code",
   "execution_count": 1,
   "id": "74864248-453a-4e87-99bb-6c62af05e07d",
   "metadata": {},
   "outputs": [],
   "source": [
    "import serial\n",
    "import time\n",
    "\n",
    "SERIAL_PORT = \"/dev/ttyUSB0\"\n",
    "# after writing commands a pause is needed\n",
    "CMD_WRITE_PAUSE = 0.2\n",
    "\n",
    "MM12_READ_INFOS   = b'\\x55\\x55\\x00\\x00\\xaa'\n",
    "MM12_READ_DISPLAY = b'\\x55\\x55\\x01\\x00\\xab'\n",
    "\n",
    "try:\n",
    "    serial = serial.Serial(port=SERIAL_PORT, baudrate=9600, bytesize=8, parity='N', stopbits=1, timeout=2)\n",
    "\n",
    "except serial.SerialException:\n",
    "    print(\"Could not open serial port '{0}'!\".format(SERIAL_PORT))\n",
    "    raise"
   ]
  },
  {
   "cell_type": "code",
   "execution_count": 2,
   "id": "7e6f022e-1577-44e4-914e-70e9f934b2bc",
   "metadata": {
    "tags": []
   },
   "outputs": [],
   "source": [
    "# function codes of Benning MM12 (table 6 in communication datasheet)\n",
    "# the codes 0x32 ... 0x3E have not been included at the moment, because they are rarely used\n",
    "# dictionary holds measuring modes and the corresponding SI base units\n",
    "dict_function_codes_units = {\n",
    "    0x00 : ('None', 'None'),\n",
    "    0x01 : ('AC V', 'V'),\n",
    "    0x02 : ('DC V', 'V'),\n",
    "    0x03 : ('AC mV', 'mV'),\n",
    "    0x04 : ('DC mV', 'mV'),\n",
    "    0x05 : ('Ohm', 'Ohm'),\n",
    "    0x06 : ('Continuity', 'Ohm'),\n",
    "    0x07 : ('Diode', 'V'),\n",
    "    0x08 : ('Capacitor', 'uF'),\n",
    "    0x09 : ('AC A', 'A'),\n",
    "    0x0A : ('DC A', 'A'),\n",
    "    0x0B : ('AC mA', 'mA'),\n",
    "    0x0C : ('DC mA', 'mA'),\n",
    "    0x0D : ('°C', '°C'),\n",
    "    0x0E : ('°F', '°F'),\n",
    "    0x0F : ('Frequency', 'Hz'),\n",
    "    0x10 : ('Duty', 'sec'),\n",
    "    0x11 : ('Hz (V)', 'Hz'),\n",
    "    0x12 : ('Hz (mV)', 'Hz'),\n",
    "    0x13 : ('Hz (A)', 'Hz'),\n",
    "    0x14 : ('Hz (mA)', 'Hz'),\n",
    "    0x15 : ('AC+DC (V)', 'V'),\n",
    "    0x16 : ('AC+DC (mV)', 'mV'),\n",
    "    0x17 : ('AC+DC (A)', 'A'),\n",
    "    0x18 : ('AC+DC (mA)', 'mA'),\n",
    "    0x19 : ('LPF (V)', 'V'),\n",
    "    0x1A : ('LPF (mV)', 'mV'),\n",
    "    0x1B : ('LPF (A)', 'A'),\n",
    "    0x1C : ('LPF (mA)', 'mA'),\n",
    "    0x1D : ('AC uA', 'uA'),\n",
    "    0x1E : ('DC uA', 'uA'),\n",
    "    0x1F : ('DC A out', 'A'),\n",
    "    0x20 : ('DC A out (Slow Linear)', 'A'),\n",
    "    0x21 : ('DC A out (Fast Linear)', 'A'),\n",
    "    0x22 : ('DC A out (Slow Step)', 'A'),\n",
    "    0x23 : ('DC A out (Fast Step)', 'A'),\n",
    "    0x24 : ('Loop Power', 'W'),\n",
    "    0x25 : ('250 Ohm HART', 'Ohm'),\n",
    "    0x26 : ('Voltage Sense', 'V'),\n",
    "    0x27 : ('Peak Hold (V)', 'V'),\n",
    "    0x28 : ('Peak Hold (mV)', 'mV'),\n",
    "    0x29 : ('Peak Hold (A)', 'A'),\n",
    "    0x2A : ('Peak Hold (mA)', 'mA'),\n",
    "    0x2B : ('LoZ AC V', 'V'),\n",
    "    0x2C : ('LoZ DC V', 'V'),\n",
    "    0x2D : ('LoZ AC+DC (V)', 'V'),\n",
    "    0x2E : ('LoZ LPF (V)', 'V'),\n",
    "    0x2F : ('LoZ Hz (V)', 'V'),\n",
    "    0x30 : ('LoZ Peak Hold (V)', 'V'),\n",
    "    0x31 : ('Battery', '%')\n",
    "}\n",
    "\n",
    "#dict_function_codes_units"
   ]
  },
  {
   "cell_type": "code",
   "execution_count": 234,
   "id": "8d807e97-ae6e-4694-b8ef-47ea362fcbbb",
   "metadata": {},
   "outputs": [],
   "source": [
    "# range codes of Benning MM12 (table 7.1 and 7.2 in communication datasheet)\n",
    "list_range_multiplier_ohm = {\n",
    "    0x00 : 0.01,\n",
    "    0x01 : 0.1,\n",
    "    0x02 : 1,\n",
    "    0x03 : 10,\n",
    "    0x04 : 100,\n",
    "    0x05 : 1000\n",
    "}\n",
    "\n",
    "list_range_multiplier_temp = {\n",
    "    0x00 : 0.1\n",
    "}\n",
    "\n",
    "list_range_multiplier_voltage = {\n",
    "    0x00 : 0.0001,\n",
    "    0x01 : 0.001,\n",
    "    0x02 : 0.01,\n",
    "    0x03 : 0.1\n",
    "}\n",
    "\n",
    "# Attention: these hexadecimal values are actually implemented like this in the DMM firmware!\n",
    "list_range_multiplier_LoZ_voltage = {\n",
    "    0x02 : 0.01,\n",
    "    0x03 : 0.1\n",
    "}\n",
    "\n",
    "list_range_multiplier_millivoltage = {\n",
    "    0x00 : 0.001,\n",
    "    0x01 : 0.01\n",
    "}\n",
    "\n",
    "# Attention: these hexadecimal values are actually implemented like this in the DMM firmware!\n",
    "list_range_multiplier_current = {\n",
    "    0x02 : 0.0001,\n",
    "    0x03 : 0.001\n",
    "}\n",
    "\n",
    "list_range_multiplier_millicurrent = {\n",
    "    0x00 : 0.001,\n",
    "    0x01 : 0.01\n",
    "}\n",
    "\n",
    "list_range_multiplier_capacity = {\n",
    "    0x00 : 0.00001,\n",
    "    0x01 : 0.0001,\n",
    "    0x02 : 0.001,\n",
    "    0x03 : 0.01,\n",
    "    0x04 : 0.1,\n",
    "    0x05 : 1,\n",
    "    0x06 : 10\n",
    "}\n",
    "\n",
    "list_range_multiplier_frequency = {\n",
    "    0x00 : 0.01,\n",
    "    0x01 : 0.1,\n",
    "    0x02 : 1,\n",
    "    0x03 : 10\n",
    "}\n",
    "\n",
    "list_range_multiplier_continuity = {\n",
    "    0x00 : 0.01\n",
    "}\n",
    "\n",
    "list_range_multiplier_diode = {\n",
    "    0x00 : 0.001\n",
    "}\n",
    "\n",
    "list_range_multiplier_NONE = {\n",
    "    0x00 : 1\n",
    "}"
   ]
  },
  {
   "cell_type": "code",
   "execution_count": 108,
   "id": "886866e5-6e05-4c90-953f-5637b3ea98af",
   "metadata": {},
   "outputs": [],
   "source": [
    "# scope codes of Benning MM12 (table 2 in communication datasheet)\n",
    "# bits 7..3 represent the unit\n",
    "list_scope_unit = {\n",
    "    0x00 : 'None',\n",
    "    0x01 : 'V',\n",
    "    0x02 : 'mV',\n",
    "    0x03 : 'A',\n",
    "    0x04 : 'mA',\n",
    "    0x05 : 'dB',\n",
    "    0x06 : 'dBm',\n",
    "    0x07 : 'mF',\n",
    "    0x08 : 'uF',\n",
    "    0x09 : 'nF',\n",
    "    0x0A : 'GOhm',\n",
    "    0x0B : 'MOhm',\n",
    "    0x0C : 'kOhm',\n",
    "    0x0D : 'Ohm',\n",
    "    0x0E : '%',\n",
    "    0x0F : 'MHz',\n",
    "    0x10 : 'kHz',\n",
    "    0x11 : 'Hz',\n",
    "    0x12 : '°C',\n",
    "    0x13 : '°F',\n",
    "    0x14 : 'sec',\n",
    "    0x15 : 'ms',\n",
    "    0x16 : 'us',\n",
    "    0x17 : 'ns',\n",
    "    0x18 : 'uA',\n",
    "    0x19 : 'min',\n",
    "    0x1A : 'kW',\n",
    "    0x1B : 'PF'\n",
    "}\n",
    "\n",
    "# bits 2..0 represent the multiplier\n",
    "list_scope_multiplier = {\n",
    "    0x00 : None,\n",
    "    0x01 : 0.1,\n",
    "    0x02 : 0.01,\n",
    "    0x03 : 0.001,\n",
    "    0x04 : 0.0001\n",
    "}"
   ]
  },
  {
   "cell_type": "code",
   "execution_count": 134,
   "id": "ccca20f2-6274-4463-8926-ef806aeae2ee",
   "metadata": {},
   "outputs": [],
   "source": [
    "def func_mask_MSB(byte_in):\n",
    "    byte_out = byte_in & 0b01111111\n",
    "    return byte_out"
   ]
  },
  {
   "cell_type": "code",
   "execution_count": 226,
   "id": "a3871e08-e147-4c57-8abe-0d22fa1ec911",
   "metadata": {},
   "outputs": [
    {
     "name": "stdout",
     "output_type": "stream",
     "text": [
      "b'UU\\x01\\x00\\xab'\n"
     ]
    },
    {
     "data": {
      "text/plain": [
       "5"
      ]
     },
     "execution_count": 226,
     "metadata": {},
     "output_type": "execute_result"
    }
   ],
   "source": [
    "#message_bytes = bytes.fromhex(MM12_READ_INFOS)\n",
    "\n",
    "#MM12_READ_INFOS   = b'\\x55\\x55\\x00\\x00\\xaa'\n",
    "print(MM12_READ_DISPLAY)\n",
    "\n",
    "# flush input buffer, discarding all its contents\n",
    "serial.reset_input_buffer()\n",
    "\n",
    "serial.write(MM12_READ_DISPLAY)\n",
    "#time.sleep(CMD_WRITE_PAUSE)"
   ]
  },
  {
   "cell_type": "code",
   "execution_count": 227,
   "id": "b6c7c24e-58d4-418d-8c21-504e4e679d76",
   "metadata": {},
   "outputs": [
    {
     "name": "stdout",
     "output_type": "stream",
     "text": [
      "55 55 01 0c 08 83 03 0d 00 42 00 00 00 70 00 00 04\n"
     ]
    }
   ],
   "source": [
    "hex_string = serial.read(17).hex()\n",
    "\n",
    "# fill string with spaces for better reading of the hex string\n",
    "hex_string_wSpaces = \" \".join(hex_string[i-1:i+1] for i, c in enumerate(hex_string) if i%2)\n",
    "\n",
    "print(hex_string_wSpaces)"
   ]
  },
  {
   "cell_type": "code",
   "execution_count": 228,
   "id": "5520f46a-978b-4868-b914-bebd5c5864de",
   "metadata": {},
   "outputs": [
    {
     "name": "stdout",
     "output_type": "stream",
     "text": [
      "('Capacitor', 'uF')\n"
     ]
    }
   ],
   "source": [
    "# byte 0 from data payload is the function code\n",
    "func_code = hex_string[8:10]\n",
    "# convert from hex to int\n",
    "func_code_int = int(func_code, 16)\n",
    "\n",
    "# mask the MSB that identifies the auto or manual test\n",
    "func_code_int = func_mask_MSB(func_code_int)\n",
    "\n",
    "func_unit_str = dict_function_codes_units[func_code_int]\n",
    "\n",
    "print(func_unit_str)"
   ]
  },
  {
   "cell_type": "code",
   "execution_count": 235,
   "id": "b5709805-8e67-4dfc-8844-3ae973f59ab6",
   "metadata": {},
   "outputs": [
    {
     "name": "stdout",
     "output_type": "stream",
     "text": [
      "0.01\n"
     ]
    }
   ],
   "source": [
    "# byte 1 from data payload is the range code\n",
    "range_code = hex_string[10:12]\n",
    "# convert from hex to int\n",
    "range_code_int = int(range_code, 16)\n",
    "\n",
    "# mask the MSB that identifies the auto or manual range\n",
    "range_code_int = func_mask_MSB(range_code_int)\n",
    "\n",
    "# function: Ohm\n",
    "if func_code_int == 0x05:\n",
    "    range_float = list_range_multiplier_ohm[range_code_int]\n",
    "\n",
    "# function: Temperature (°C or °F)\n",
    "elif ( func_code_int == 0x0D or \n",
    "        func_code_int == 0x0E ):\n",
    "    range_float = list_range_multiplier_temp[range_code_int]\n",
    "\n",
    "# function: Voltage (AC V, LPF (V), Peak Hold (V), DC V, AC+DC (V))\n",
    "elif ( func_code_int == 0x01 or\n",
    "        func_code_int == 0x19 or\n",
    "        func_code_int == 0x27 or\n",
    "        func_code_int == 0x02 or\n",
    "        func_code_int == 0x15 ):\n",
    "    range_float = list_range_multiplier_voltage[range_code_int]\n",
    "\n",
    "# function: Millivoltage (AC mV, LPF (mV), Peak Hold (mV), DC mV, AC+DC (mV))\n",
    "elif ( func_code_int == 0x03 or\n",
    "        func_code_int == 0x1A or\n",
    "        func_code_int == 0x28 or\n",
    "        func_code_int == 0x04 or\n",
    "        func_code_int == 0x16 ):\n",
    "    range_float = list_range_multiplier_millivoltage[range_code_int]\n",
    "\n",
    "# function: LoZ Voltage (LoZ AC V, LoZ DC V)\n",
    "elif ( func_code_int == 0x2B or\n",
    "        func_code_int == 0x2C ):\n",
    "    range_float = list_range_multiplier_LoZ_voltage[range_code_int]\n",
    "\n",
    "# function: Current (AC A, DC A, AC+DC (A), LPF (A), Peak Hold (A))\n",
    "elif ( func_code_int == 0x09 or\n",
    "        func_code_int == 0x0A or\n",
    "        func_code_int == 0x17 or\n",
    "        func_code_int == 0x1B or\n",
    "        func_code_int == 0x29 ):\n",
    "    range_float = list_range_multiplier_current[range_code_int]\n",
    "\n",
    "# function: Millicurrent (AC mA, DC mA, AC+DC (mA), LPF (mA), Peak Hold (mA))\n",
    "elif ( func_code_int == 0x0B or\n",
    "        func_code_int == 0x0C or\n",
    "        func_code_int == 0x18 or\n",
    "        func_code_int == 0x1C or\n",
    "        func_code_int == 0x2A ):\n",
    "    range_float = list_range_multiplier_millicurrent[range_code_int]\n",
    "\n",
    "# function: Capacitor (in µF)\n",
    "elif func_code_int == 0x08:\n",
    "    range_float = list_range_multiplier_capacity[range_code_int]\n",
    "\n",
    "# function: Frequency (Hz (V), Hz (mV), Hz (A), Hz (mA))\n",
    "elif ( func_code_int == 0x11 or\n",
    "        func_code_int == 0x12 or\n",
    "        func_code_int == 0x13 or\n",
    "        func_code_int == 0x14 ):\n",
    "    range_float = list_range_multiplier_frequency[range_code_int]\n",
    "\n",
    "# function: Continuity (Ohm)\n",
    "elif func_code_int == 0x06:\n",
    "    range_float = list_range_multiplier_continuity[range_code_int]\n",
    "\n",
    "# function: Diode (V)\n",
    "elif func_code_int == 0x07:\n",
    "    range_float = list_range_multiplier_continuity[range_code_int]\n",
    "\n",
    "# function: NONE\n",
    "elif func_code_int == 0x00:\n",
    "    range_float = list_range_multiplier_NONE[range_code_int]\n",
    "\n",
    "print(range_float)"
   ]
  },
  {
   "cell_type": "code",
   "execution_count": 236,
   "id": "daf46df3-d2a9-451d-b581-391315ff0bc9",
   "metadata": {},
   "outputs": [
    {
     "data": {
      "text/plain": [
       "3331"
      ]
     },
     "execution_count": 236,
     "metadata": {},
     "output_type": "execute_result"
    }
   ],
   "source": [
    "# bytes 2..4 from data payload are the measuring value (24bit signed integer)\n",
    "disp_value_hex = bytes.fromhex(hex_string[12:18])\n",
    "#disp_value_hex\n",
    "\n",
    "# convert bytes to 24bit signed integer, LSB to MSB (little endian)\n",
    "disp_value_sint = int.from_bytes(disp_value_hex, 'little', signed=True)\n",
    "disp_value_sint"
   ]
  },
  {
   "cell_type": "code",
   "execution_count": 237,
   "id": "9599a730-f8bd-4ac2-a958-b23ab8b836a3",
   "metadata": {},
   "outputs": [
    {
     "name": "stdout",
     "output_type": "stream",
     "text": [
      "Display value in mode 'Capacitor': 33.31 uF\n"
     ]
    }
   ],
   "source": [
    "print(\"Display value in mode '{}': {} {}\".format(func_unit_str[0], disp_value_sint*range_float, func_unit_str[1]))"
   ]
  },
  {
   "cell_type": "code",
   "execution_count": 238,
   "id": "89860030-36d5-404d-8bf9-7f4e59efe3e9",
   "metadata": {},
   "outputs": [
    {
     "name": "stdout",
     "output_type": "stream",
     "text": [
      "uF\n",
      "0.01\n"
     ]
    }
   ],
   "source": [
    "# byte 5 from data payload represent the scope code\n",
    "scope_code_hex = hex_string[18:20]\n",
    "# convert from hex to int\n",
    "scope_code_int = int(scope_code_hex, 16)\n",
    "\n",
    "# bits 7..3 represent the unit\n",
    "unit_code = scope_code_int >> 3\n",
    "unit_str = list_scope_unit[unit_code]\n",
    "print(unit_str)\n",
    "\n",
    "# bits 2..0 represent the multiplier\n",
    "multiplier_code = scope_code_int & 0b00000111\n",
    "multiplier_float = list_scope_multiplier[multiplier_code]\n",
    "print(multiplier_float)"
   ]
  },
  {
   "cell_type": "code",
   "execution_count": 239,
   "id": "76e58129-0586-4ded-9615-fdd0701ad3b1",
   "metadata": {},
   "outputs": [
    {
     "name": "stdout",
     "output_type": "stream",
     "text": [
      "Display value: 33.3100 uF\n"
     ]
    }
   ],
   "source": [
    "print(\"Display value: {:.4f} {}\".format(disp_value_sint*multiplier_float, unit_str))"
   ]
  },
  {
   "cell_type": "code",
   "execution_count": null,
   "id": "79f9bc9f-03bf-4a6c-bf70-ef35a1a489bd",
   "metadata": {},
   "outputs": [],
   "source": []
  }
 ],
 "metadata": {
  "kernelspec": {
   "display_name": "Python 3 (ipykernel)",
   "language": "python",
   "name": "python3"
  },
  "language_info": {
   "codemirror_mode": {
    "name": "ipython",
    "version": 3
   },
   "file_extension": ".py",
   "mimetype": "text/x-python",
   "name": "python",
   "nbconvert_exporter": "python",
   "pygments_lexer": "ipython3",
   "version": "3.9.12"
  }
 },
 "nbformat": 4,
 "nbformat_minor": 5
}
