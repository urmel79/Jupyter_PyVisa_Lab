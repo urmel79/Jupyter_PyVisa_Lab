{
 "cells": [
  {
   "cell_type": "markdown",
   "metadata": {},
   "source": [
    "# BME280: Launching the sensor via an USB-to-I2C adapter\n",
    "\n",
    "*Important:*  \n",
    "The BM**P**280 is only a pressure sensor; the BM**E**280 is the technical upgrade and additionally measures temperature and humidity!\n",
    "\n",
    "- Data sheet: [https://raw.githubusercontent.com/rm-hull/bme280/master/doc/tech-spec/BME280.pdf](https://raw.githubusercontent.com/rm-hull/bme280/master/doc/tech-spec/BME280.pdf)\n",
    "- Python library for Raspberry Pi: [https://pypi.org/project/RPi.bme280/](https://pypi.org/project/RPi.bme280/)\n"
   ]
  },
  {
   "cell_type": "markdown",
   "metadata": {},
   "source": [
    "## Installation of required Python libraries\n",
    "\n",
    "The installation takes place in a Python environment:\n",
    "```\n",
    "$ source ~/jupyter-env/bin/activate\n",
    "$ pip install smbus2 RPi.bme280\n",
    "```"
   ]
  },
  {
   "cell_type": "markdown",
   "metadata": {},
   "source": [
    "## Installing the driver for the USB-to-I2C adapter\n",
    "\n",
    "![USB-to-I2C adapter based on the CH341 chip](images/i2c-to-usb_ch341_kl.jpg)  \n",
    "USB-to-I2C adapter based on the CH341 chip\n",
    "\n",
    "When using a USB-to-I2C adapter based on the CH341 chip, the appropriate kernel module must be compiled and loaded.\n",
    "There are 2 different implementations, but only one of them works:\n",
    "\n",
    "- [https://github.com/allanbian1017/i2c-ch341-usb](https://github.com/allanbian1017/i2c-ch341-usb) <span style=\"color:green\">[works]</span>\n",
    "- [https://github.com/gschorcht/i2c-ch341-usb](https://github.com/gschorcht/i2c-ch341-usb) <span style=\"color:red\">[does NOT work]</span>"
   ]
  },
  {
   "cell_type": "markdown",
   "metadata": {
    "tags": []
   },
   "source": [
    "### Prerequisites\n",
    "\n",
    "To compile the driver, you must have installed current kernel header files.\n",
    "\n",
    "Even though it is not mandatory, it is highly recommended to use DKMS (dynamic kernel module support) for the installation of the driver. DKMS allows to manage kernel modules whose sources reside outside the kernel source tree. Such modules are then automatically rebuilt when a new kernel version is installed.\n",
    "\n",
    "To use DKMS, it has to be installed before, e.g., with following command on Debian based systems. The current kernel header files will be installed automatically.\n",
    "\n",
    "```\n",
    "# apt update\n",
    "# apt install dkms\n",
    "```"
   ]
  },
  {
   "cell_type": "markdown",
   "metadata": {},
   "source": [
    "### Compile the kernel module and load it\n",
    "\n",
    "```\n",
    "$ mkdir ~/drivers && cd ~/drivers\n",
    "$ git clone https://github.com/allanbian1017/i2c-ch341-usb.git\n",
    "$ cd i2c-ch341-usb\n",
    "$ make\n",
    "```"
   ]
  },
  {
   "cell_type": "markdown",
   "metadata": {
    "tags": []
   },
   "source": [
    "### Subsequent work\n",
    "\n",
    "Which kernel modules are loaded?\n",
    "\n",
    "```\n",
    "$ lsmod | grep -i i2c\n",
    "$ lsmod | grep -i ch341\n",
    "```\n",
    "\n",
    "By default the kernel module ```ch341``` is loaded and used by the module ```usbserial```. This uses only the UART function of the CH341 chip and thus creates a conflict with I2C function. This can be recognized with the following command:\n",
    "\n",
    "```\n",
    "$dmesg\n",
    "\n",
    "...\n",
    "[  225.466832] ch341 1-1.2:1.0: ch341-uart converter detected\n",
    "[  225.469053] usb 1-1.2: ch341-uart converter now attached to ttyUSB0\n",
    "...\n",
    "```\n",
    "\n",
    "Therefore, this module is first unloaded and then the I2C module ```i2c-ch341-usb``` is loaded - if not already done automatically.\n",
    "\n",
    "Unloading and loading of the modules:\n",
    "\n",
    "```\n",
    "$ sudo rmmod ch341\n",
    "$ sudo insmod ~/drivers/i2c-ch341-usb/i2c-ch341-usb.ko\n",
    "```\n",
    "\n",
    "If this worked without error message ```dmesg``` should print the following:\n",
    "\n",
    "```\n",
    "...\n",
    "[853500.947478] usbserial: USB Serial deregistering driver ch341-uart\n",
    "[853500.948171] ch341-uart ttyUSB0: ch341-uart converter now disconnected from ttyUSB0\n",
    "[853500.948306] usbcore: deregistering interface driver ch341\n",
    "[853500.948571] ch341 1-1.3:1.0: device disconnected\n",
    "[853517.654069] i2c_ch341_usb: loading out-of-tree module taints kernel.\n",
    "[853517.655007] i2c i2c-22: connected i2c-ch341-usb device\n",
    "[853517.655145] usbcore: registered new interface driver i2c-ch341-usb\n",
    "...\n",
    "```"
   ]
  },
  {
   "cell_type": "markdown",
   "metadata": {},
   "source": [
    "### Function control\n",
    "\n",
    "Now besides the Raspberry Pi's own I2C bus (```/dev/i2c-1```) another bus device file should be available (e.g. ```/dev/i2c-11```). I2C devices connected here can be recognized on the bus and used further on (here e.g. the sensor BME280 with address 0x76):\n",
    "\n",
    "```\n",
    "$ i2cdetect -y 11\n",
    "\n",
    "     0  1  2  3  4  5  6  7  8  9  a  b  c  d  e  f\n",
    "00:          -- -- -- -- -- -- -- -- -- -- -- -- -- \n",
    "10: -- -- -- -- -- -- -- -- -- -- -- -- -- -- -- -- \n",
    "20: -- -- -- -- -- -- -- -- -- -- -- -- -- -- -- -- \n",
    "30: -- -- -- -- -- -- -- -- -- -- -- -- -- -- -- -- \n",
    "40: -- -- -- -- -- -- -- -- -- -- -- -- -- -- -- -- \n",
    "50: -- -- -- -- -- -- -- -- -- -- -- -- -- -- -- -- \n",
    "60: -- -- -- -- -- -- -- -- -- -- -- -- -- -- -- -- \n",
    "70: -- -- -- -- -- -- 76 --\n",
    "```"
   ]
  },
  {
   "cell_type": "markdown",
   "metadata": {},
   "source": [
    "### Automatic unloading / loading of kernel modules at boot time (Attention: does not work yet!)\n",
    "\n",
    "```\n",
    "$ sudo nano /etc/udev/rules.d/20-i2c-usb.rules\n",
    "\n",
    "#CH341 I2C to USB adapter\n",
    "ACTION==\"add\", SUBSYSTEM==\"i2c-dev\", ATTRS{idVendor}==\"1a86\", ATTRS{idProduct}==\"5512\", RUN+=\"/sbin/modprobe i2c-ch341-usb\"\n",
    "```\n",
    "\n",
    "Restart of the ```udev``` daemon:\n",
    "\n",
    "```\n",
    "$ sudo systemctl restart udev.service\n",
    "```"
   ]
  },
  {
   "cell_type": "markdown",
   "metadata": {},
   "source": [
    "# Test function to verify the successful installation of the BME280"
   ]
  },
  {
   "cell_type": "code",
   "execution_count": 3,
   "metadata": {
    "scrolled": true,
    "tags": []
   },
   "outputs": [
    {
     "name": "stdout",
     "output_type": "stream",
     "text": [
      "2022-03-08 18:07:35 Temperature: 18.84 °C, Pressure: 990.31 hPa, Humidity: 35.21 % rH\n",
      "2022-03-08 18:07:36 Temperature: 18.85 °C, Pressure: 990.33 hPa, Humidity: 35.17 % rH\n",
      "2022-03-08 18:07:37 Temperature: 18.85 °C, Pressure: 990.32 hPa, Humidity: 35.18 % rH\n",
      "2022-03-08 18:07:38 Temperature: 18.85 °C, Pressure: 990.37 hPa, Humidity: 35.22 % rH\n",
      "2022-03-08 18:07:39 Temperature: 18.85 °C, Pressure: 990.33 hPa, Humidity: 35.21 % rH\n",
      "2022-03-08 18:07:40 Temperature: 18.85 °C, Pressure: 990.35 hPa, Humidity: 35.18 % rH\n",
      "2022-03-08 18:07:41 Temperature: 18.86 °C, Pressure: 990.34 hPa, Humidity: 35.17 % rH\n",
      "2022-03-08 18:07:42 Temperature: 18.86 °C, Pressure: 990.34 hPa, Humidity: 35.15 % rH\n",
      "2022-03-08 18:07:43 Temperature: 18.87 °C, Pressure: 990.33 hPa, Humidity: 35.15 % rH\n",
      "2022-03-08 18:07:44 Temperature: 18.86 °C, Pressure: 990.28 hPa, Humidity: 35.18 % rH\n",
      "2022-03-08 18:07:45 Temperature: 18.87 °C, Pressure: 990.35 hPa, Humidity: 35.21 % rH\n",
      "2022-03-08 18:07:46 Temperature: 18.87 °C, Pressure: 990.35 hPa, Humidity: 35.23 % rH\n",
      "2022-03-08 18:07:47 Temperature: 18.86 °C, Pressure: 990.29 hPa, Humidity: 35.27 % rH\n",
      "2022-03-08 18:07:48 Temperature: 18.88 °C, Pressure: 990.32 hPa, Humidity: 35.24 % rH\n",
      "2022-03-08 18:07:49 Temperature: 18.87 °C, Pressure: 990.30 hPa, Humidity: 35.24 % rH\n",
      "2022-03-08 18:07:50 Temperature: 18.87 °C, Pressure: 990.33 hPa, Humidity: 35.24 % rH\n",
      "2022-03-08 18:07:51 Temperature: 18.86 °C, Pressure: 990.26 hPa, Humidity: 35.26 % rH\n",
      "2022-03-08 18:07:52 Temperature: 18.88 °C, Pressure: 990.42 hPa, Humidity: 35.23 % rH\n",
      "2022-03-08 18:07:53 Temperature: 18.87 °C, Pressure: 990.35 hPa, Humidity: 35.17 % rH\n",
      "2022-03-08 18:07:54 Temperature: 18.87 °C, Pressure: 990.31 hPa, Humidity: 35.12 % rH\n",
      "2022-03-08 18:07:55 Temperature: 18.87 °C, Pressure: 990.35 hPa, Humidity: 35.08 % rH\n",
      "2022-03-08 18:07:56 Temperature: 18.87 °C, Pressure: 990.36 hPa, Humidity: 35.11 % rH\n",
      "2022-03-08 18:07:57 Temperature: 18.87 °C, Pressure: 990.36 hPa, Humidity: 35.16 % rH\n",
      "2022-03-08 18:07:58 Temperature: 18.88 °C, Pressure: 990.32 hPa, Humidity: 35.20 % rH\n",
      "2022-03-08 18:07:59 Temperature: 18.87 °C, Pressure: 990.33 hPa, Humidity: 35.18 % rH\n",
      "2022-03-08 18:08:00 Temperature: 18.87 °C, Pressure: 990.30 hPa, Humidity: 35.22 % rH\n",
      "2022-03-08 18:08:02 Temperature: 18.87 °C, Pressure: 990.31 hPa, Humidity: 35.22 % rH\n",
      "2022-03-08 18:08:03 Temperature: 18.87 °C, Pressure: 990.31 hPa, Humidity: 35.17 % rH\n",
      "2022-03-08 18:08:04 Temperature: 18.88 °C, Pressure: 990.29 hPa, Humidity: 35.16 % rH\n",
      "2022-03-08 18:08:05 Temperature: 18.88 °C, Pressure: 990.38 hPa, Humidity: 35.16 % rH\n",
      "2022-03-08 18:08:06 Temperature: 18.88 °C, Pressure: 990.42 hPa, Humidity: 35.19 % rH\n",
      "2022-03-08 18:08:07 Temperature: 18.86 °C, Pressure: 990.34 hPa, Humidity: 35.20 % rH\n",
      "2022-03-08 18:08:08 Temperature: 18.87 °C, Pressure: 990.31 hPa, Humidity: 35.19 % rH\n",
      "2022-03-08 18:08:09 Temperature: 18.86 °C, Pressure: 990.31 hPa, Humidity: 35.18 % rH\n",
      "2022-03-08 18:08:10 Temperature: 18.88 °C, Pressure: 990.35 hPa, Humidity: 35.18 % rH\n",
      "2022-03-08 18:08:11 Temperature: 18.87 °C, Pressure: 990.36 hPa, Humidity: 35.20 % rH\n",
      "2022-03-08 18:08:12 Temperature: 18.87 °C, Pressure: 990.31 hPa, Humidity: 35.26 % rH\n",
      "2022-03-08 18:08:13 Temperature: 18.87 °C, Pressure: 990.35 hPa, Humidity: 35.31 % rH\n",
      "2022-03-08 18:08:14 Temperature: 18.87 °C, Pressure: 990.30 hPa, Humidity: 35.26 % rH\n",
      "2022-03-08 18:08:15 Temperature: 18.87 °C, Pressure: 990.33 hPa, Humidity: 35.18 % rH\n",
      "2022-03-08 18:08:16 Temperature: 18.88 °C, Pressure: 990.34 hPa, Humidity: 35.16 % rH\n",
      "2022-03-08 18:08:17 Temperature: 18.87 °C, Pressure: 990.36 hPa, Humidity: 35.24 % rH\n",
      "2022-03-08 18:08:18 Temperature: 18.89 °C, Pressure: 990.28 hPa, Humidity: 35.30 % rH\n",
      "2022-03-08 18:08:19 Temperature: 18.90 °C, Pressure: 990.33 hPa, Humidity: 35.31 % rH\n",
      "2022-03-08 18:08:20 Temperature: 18.90 °C, Pressure: 990.32 hPa, Humidity: 35.32 % rH\n",
      "2022-03-08 18:08:21 Temperature: 18.88 °C, Pressure: 990.27 hPa, Humidity: 35.33 % rH\n",
      "2022-03-08 18:08:22 Temperature: 18.90 °C, Pressure: 990.35 hPa, Humidity: 35.30 % rH\n",
      "2022-03-08 18:08:23 Temperature: 18.89 °C, Pressure: 990.34 hPa, Humidity: 35.28 % rH\n",
      "2022-03-08 18:08:24 Temperature: 18.89 °C, Pressure: 990.34 hPa, Humidity: 35.33 % rH\n",
      "2022-03-08 18:08:25 Temperature: 18.90 °C, Pressure: 990.35 hPa, Humidity: 35.22 % rH\n",
      "2022-03-08 18:08:26 Temperature: 18.89 °C, Pressure: 990.34 hPa, Humidity: 35.13 % rH\n",
      "2022-03-08 18:08:27 Temperature: 18.90 °C, Pressure: 990.40 hPa, Humidity: 35.11 % rH\n",
      "2022-03-08 18:08:28 Temperature: 18.91 °C, Pressure: 990.37 hPa, Humidity: 35.12 % rH\n",
      "2022-03-08 18:08:29 Temperature: 18.90 °C, Pressure: 990.35 hPa, Humidity: 35.11 % rH\n",
      "2022-03-08 18:08:30 Temperature: 18.91 °C, Pressure: 990.34 hPa, Humidity: 35.14 % rH\n",
      "2022-03-08 18:08:31 Temperature: 18.90 °C, Pressure: 990.33 hPa, Humidity: 35.14 % rH\n",
      "2022-03-08 18:08:32 Temperature: 18.91 °C, Pressure: 990.34 hPa, Humidity: 35.14 % rH\n",
      "2022-03-08 18:08:33 Temperature: 18.91 °C, Pressure: 990.37 hPa, Humidity: 35.16 % rH\n",
      "2022-03-08 18:08:34 Temperature: 18.91 °C, Pressure: 990.37 hPa, Humidity: 35.16 % rH\n",
      "2022-03-08 18:08:35 Temperature: 18.91 °C, Pressure: 990.39 hPa, Humidity: 35.17 % rH\n",
      "2022-03-08 18:08:36 Temperature: 18.91 °C, Pressure: 990.42 hPa, Humidity: 35.17 % rH\n",
      "2022-03-08 18:08:37 Temperature: 18.92 °C, Pressure: 990.28 hPa, Humidity: 35.19 % rH\n",
      "2022-03-08 18:08:38 Temperature: 18.92 °C, Pressure: 990.36 hPa, Humidity: 35.19 % rH\n",
      "2022-03-08 18:08:39 Temperature: 18.92 °C, Pressure: 990.33 hPa, Humidity: 35.20 % rH\n",
      "2022-03-08 18:08:40 Temperature: 18.91 °C, Pressure: 990.31 hPa, Humidity: 35.19 % rH\n",
      "2022-03-08 18:08:41 Temperature: 18.92 °C, Pressure: 990.36 hPa, Humidity: 35.20 % rH\n",
      "2022-03-08 18:08:42 Temperature: 18.91 °C, Pressure: 990.37 hPa, Humidity: 35.21 % rH\n",
      "2022-03-08 18:08:43 Temperature: 18.91 °C, Pressure: 990.37 hPa, Humidity: 35.25 % rH\n",
      "2022-03-08 18:08:44 Temperature: 18.92 °C, Pressure: 990.33 hPa, Humidity: 35.29 % rH\n",
      "2022-03-08 18:08:45 Temperature: 18.92 °C, Pressure: 990.38 hPa, Humidity: 35.30 % rH\n",
      "Keyboard Interrupt ^C detected.\n",
      "Bye.\n"
     ]
    }
   ],
   "source": [
    "import smbus2\n",
    "import bme280\n",
    "import time\n",
    "\n",
    "# i2c bus on /dev/i2c-11 or /dev/i2c-22\n",
    "port = 22\n",
    "# i2c address of BME280\n",
    "address = 0x76\n",
    "bus = smbus2.SMBus(port)\n",
    "\n",
    "INTERVAL = 1.0\n",
    "\n",
    "calibration_params = bme280.load_calibration_params(bus, address)\n",
    "\n",
    "while True:\n",
    "    try:\n",
    "        # the sample method will take a single reading and return\n",
    "        # a compensated_reading object\n",
    "        data = bme280.sample(bus, address, calibration_params)\n",
    "\n",
    "        # the compensated_reading class has the following attributes\n",
    "        #print(data.id)\n",
    "        #print(data.timestamp)\n",
    "        #print(data.temperature)\n",
    "        #print(data.pressure)\n",
    "        #print(data.humidity)\n",
    "\n",
    "        print(\"{time:s} Temperature: {temperature:.2f} °C, Pressure: {pressure:.2f} hPa, Humidity: {humidity:.2f} % rH\".format(time=data.timestamp.strftime('%Y-%m-%d %H:%M:%S'), temperature=data.temperature, pressure=data.pressure, humidity=data.humidity))\n",
    "    \n",
    "        time.sleep(INTERVAL)\n",
    "\n",
    "    except:\n",
    "        print(\"Keyboard Interrupt ^C detected.\")\n",
    "        print(\"Bye.\")\n",
    "        break\n",
    "        \n",
    "# there is a handy string representation too\n",
    "#print(data)"
   ]
  },
  {
   "cell_type": "code",
   "execution_count": 2,
   "metadata": {},
   "outputs": [
    {
     "name": "stdout",
     "output_type": "stream",
     "text": [
      "compensated_reading(id=bfbe9ce3-6b92-4aae-9834-fc30f73f470e, timestamp=2021-06-15 12:21:47.415474, temp=24.634 °C, pressure=1005.60 hPa, humidity=41.73 % rH)\n"
     ]
    }
   ],
   "source": [
    "print(data)"
   ]
  },
  {
   "cell_type": "code",
   "execution_count": null,
   "metadata": {},
   "outputs": [],
   "source": []
  }
 ],
 "metadata": {
  "kernelspec": {
   "display_name": "Python 3 (ipykernel)",
   "language": "python",
   "name": "python3"
  },
  "language_info": {
   "codemirror_mode": {
    "name": "ipython",
    "version": 3
   },
   "file_extension": ".py",
   "mimetype": "text/x-python",
   "name": "python",
   "nbconvert_exporter": "python",
   "pygments_lexer": "ipython3",
   "version": "3.7.3"
  },
  "latex_metadata": {
   "affiliation": "BG ETEM",
   "author": "Björn Kasper",
   "email": "bjoern.kasper@online.de",
   "title": "BME280: Launching and reading the sensor values"
  }
 },
 "nbformat": 4,
 "nbformat_minor": 4
}
