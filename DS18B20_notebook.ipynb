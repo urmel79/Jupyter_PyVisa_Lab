{
 "cells": [
  {
   "cell_type": "markdown",
   "id": "866f3ab6-1e6b-48e1-a7d1-29d145e26407",
   "metadata": {},
   "source": [
    "# DS18B20: Bring up and basic usage of the temperature sensor\n",
    "\n",
    "*Important:*  \n",
    "The **DS18B20** is a digital thermometer and provides 9-bit to 12-bit Celsius temperature measurements. It has an alarm function with nonvolatile user-programmable upper and lower trigger points. The DS18B20 communicates over a **1-Wire** bus that by definition requires only one data line (and ground) for communication with a central microprocessor.\n",
    "\n",
    "- Data sheet: [https://datasheets.maximintegrated.com/en/ds/DS18B20.pdf](https://datasheets.maximintegrated.com/en/ds/DS18B20.pdf)\n",
    "- Python **hidapi** library: [https://pypi.org/project/hidapi/}(https://pypi.org/project/hidapi/) <span style=\"color:green\">[works]</span>\n",
    "- Python **hid** library: [https://pypi.org/project/hid/](https://pypi.org/project/hid/) <span style=\"color:red\">[does NOT work]</span>\n"
   ]
  },
  {
   "cell_type": "markdown",
   "id": "62e307bb-5a23-4e52-804f-decfffe01c81",
   "metadata": {},
   "source": [
    "## Installation of required development libraries\n",
    "\n",
    "```\n",
    "$ sudo apt install python-dev libusb-1.0-0-dev libudev-dev\n",
    "```"
   ]
  },
  {
   "cell_type": "markdown",
   "id": "a8d124c3-388d-402c-bd78-f0b92233ee20",
   "metadata": {},
   "source": [
    "## Installation of required Python libraries\n",
    "\n",
    "The installation takes place in a Python environment:\n",
    "```\n",
    "$ source ~/jupyter-env/bin/activate\n",
    "$ pip install hidapi\n",
    "```"
   ]
  },
  {
   "cell_type": "markdown",
   "id": "132abd71-104e-4fc7-9221-86dcf4dfa0d1",
   "metadata": {},
   "source": [
    "## Udev rule\n",
    "\n",
    "To be able to address the device, you need to create a rule file in udev rules directory. Make sure that your current user belongs to the *plugdev* group.\n",
    "```\n",
    "$ sudo echo 'SUBSYSTEM==\"usb\", ATTRS{idVendor}==\"16c0\", ATTRS{idProduct}==\"0480\", MODE=\"0660\", GROUP=\"plugdev\"' > /etc/udev/rules.d/99-tempsensor.rules\n",
    "```\n",
    "\n",
    "Activate the new rule by calling\n",
    "```\n",
    "$ sudo udevadm control --reload-rules\n",
    "```"
   ]
  },
  {
   "cell_type": "markdown",
   "id": "c1b9b46d-c99d-415e-a5bc-59fc418310c1",
   "metadata": {},
   "source": [
    "## Sample usage code"
   ]
  },
  {
   "cell_type": "markdown",
   "id": "a38d32b2-8638-446b-9447-1ecbcae5f112",
   "metadata": {},
   "source": [
    "Use the enumerate() function to return information about accessible HID devices on USB:"
   ]
  },
  {
   "cell_type": "code",
   "execution_count": 15,
   "id": "3af28fdc-1f30-4d59-b568-bfaf425eb70e",
   "metadata": {},
   "outputs": [
    {
     "name": "stdout",
     "output_type": "stream",
     "text": [
      "interface_number : 0\n",
      "manufacturer_string : DIAMEX GmbH\n",
      "path : b'1-1.4:1.0'\n",
      "product_id : 1152\n",
      "product_string : Temp-Sensor-Tester\n",
      "release_number : 256\n",
      "serial_number : \n",
      "usage : 0\n",
      "usage_page : 0\n",
      "vendor_id : 5824\n",
      "\n"
     ]
    }
   ],
   "source": [
    "import hid\n",
    "\n",
    "for device_dict in hid.enumerate():\n",
    "    keys = list(device_dict.keys())\n",
    "    keys.sort()\n",
    "    for key in keys:\n",
    "        print(\"%s : %s\" % (key, device_dict[key]))\n",
    "    print()"
   ]
  },
  {
   "cell_type": "markdown",
   "id": "caf71522-95b5-405c-9058-6c4ddec51f13",
   "metadata": {},
   "source": [
    "The details about a HID device can be printed with following code:"
   ]
  },
  {
   "cell_type": "code",
   "execution_count": 20,
   "id": "3c6eedba-0e83-4885-b849-67dad38041ec",
   "metadata": {},
   "outputs": [
    {
     "name": "stdout",
     "output_type": "stream",
     "text": [
      "Manufacturer: DIAMEX GmbH\n",
      "Product: Temp-Sensor-Tester\n",
      "Serial No: Љ\n"
     ]
    }
   ],
   "source": [
    "vid = 0x16c0 # Change it for your device\n",
    "pid = 0x0480 # Change it for your device\n",
    "\n",
    "h = hid.device()\n",
    "h.open(vid, pid)\n",
    "#h.open_path(b'1-1.4:1.0')\n",
    "\n",
    "print(\"Manufacturer: %s\" % h.get_manufacturer_string())\n",
    "print(\"Product: %s\" % h.get_product_string())\n",
    "print(\"Serial No: %s\" % h.get_serial_number_string())\n",
    "\n",
    "#h.close()"
   ]
  },
  {
   "cell_type": "code",
   "execution_count": 38,
   "id": "e3586737-c995-4f96-b47c-b230520c7a6b",
   "metadata": {},
   "outputs": [
    {
     "data": {
      "text/plain": [
       "'Temp-Sensor-Tester (DIAMEX GmbH) with idVendor=0x16c0 and idProduct=0x0480 over USB'"
      ]
     },
     "execution_count": 38,
     "metadata": {},
     "output_type": "execute_result"
    }
   ],
   "source": [
    "connected_with = '{:s} ({:s}) with idVendor={:#06x} and idProduct={:#06x} over USB'.format(h.get_product_string(), h.get_manufacturer_string(), vid, pid)\n",
    "connected_with"
   ]
  },
  {
   "cell_type": "code",
   "execution_count": 56,
   "id": "1ba1e0b8-cb6a-4992-ab70-b723acfcfd30",
   "metadata": {
    "tags": []
   },
   "outputs": [
    {
     "name": "stdout",
     "output_type": "stream",
     "text": [
      "Device Info:\n",
      "\t Manufacturer: DIAMEX GmbH\n",
      "\t Product: Temp-Sensor-Tester\n",
      "<19:36:06> Sensor: 2 of 2, Temperature: 21.20 °C, ID: 28 84 28 e2 2c 20 01 10 \n",
      "<19:36:07> Sensor: 1 of 2, Temperature: 21.50 °C, ID: 28 64 8e 75 d0 01 3c 81 \n",
      "<19:36:08> Sensor: 2 of 2, Temperature: 21.20 °C, ID: 28 84 28 e2 2c 20 01 10 \n",
      "Keyboard Interrupt ^C detected.\n",
      "Bye.\n"
     ]
    }
   ],
   "source": [
    "import hid\n",
    "import time\n",
    "\n",
    "INTERVAL = 1.0\n",
    "VID = 0x16c0 # vendor id of usb device\n",
    "PID = 0x0480 # product id of usb device\n",
    "\n",
    "try:\n",
    "    h = hid.device()\n",
    "    h.open(VID, PID)\n",
    "    print(\"Device Info:\")\n",
    "    print(\"\\t Manufacturer: %s\" % h.get_manufacturer_string())\n",
    "    print(\"\\t Product: %s\" % h.get_product_string())\n",
    "\n",
    "except Exception as ex:\n",
    "    print(\"Connecting with the device raised the error: '{}'\".format(ex))\n",
    "    raise\n",
    "\n",
    "while True:\n",
    "    try:\n",
    "        d = h.read(64)\n",
    "\n",
    "        if d:\n",
    "            sensor_id = ''\n",
    "            # get sensor ID with the bytes 8 to 16 from character buffer\n",
    "            for i in range(8, 16, 1):\n",
    "                # convert integer from byte list to string with padding\n",
    "                hex_string = '{:02x}'.format(d[i])\n",
    "                sensor_id = sensor_id + hex_string + ' '\n",
    "\n",
    "            # combine high and low byte of temperature value and convert to float\n",
    "            temp = float(d[5] << 8 | d[4]) / 10\n",
    "\n",
    "            print(\"<{:s}> Sensor: {:d} of {:d}, Temperature: {:.2f} °C, ID: {}\".format(time.strftime('%H:%M:%S'), d[1], d[0], temp, sensor_id))\n",
    "\n",
    "        else:\n",
    "            print(\"Could not read from device!\")\n",
    "            break\n",
    "    \n",
    "        time.sleep(INTERVAL)\n",
    "        \n",
    "    except:\n",
    "        print(\"Keyboard Interrupt ^C detected.\")\n",
    "        print(\"Bye.\")\n",
    "        h.close()\n",
    "        break"
   ]
  },
  {
   "cell_type": "markdown",
   "id": "efb54e2c-8498-4a8f-8051-26253555317d",
   "metadata": {},
   "source": [
    "## Using the wrapper class 'DS18B20_over_USB'\n",
    "\n",
    "The new wrapper class **DS18B20_over_USB** in the python file *DS18B20_class.py* implements the communication with the the temperature sensor DS18B20 via USB interface board *Temp-Sensor-Tester* from *DIAMEX GmbH*. This interface board displays the connected DS18B20 temperature sensor(s) and their readings as a Human Interface Device (HID) device. The communication with the HID device is realized with the cython package *hidapi*."
   ]
  },
  {
   "cell_type": "code",
   "execution_count": 1,
   "id": "37e6f8fe-21cd-43be-969e-0241d3162341",
   "metadata": {},
   "outputs": [],
   "source": [
    "# import wrapper class DS18B20_class from python file DS18B20_over_USB.py\n",
    "from DS18B20_class import DS18B20_over_USB"
   ]
  },
  {
   "cell_type": "code",
   "execution_count": 2,
   "id": "5ea54036-39cb-4beb-b366-fd0133ec8f63",
   "metadata": {},
   "outputs": [],
   "source": [
    "# create new device object for the USB interface board\n",
    "if_board = DS18B20_over_USB(vid = 0x16c0, pid = 0x0480)"
   ]
  },
  {
   "cell_type": "code",
   "execution_count": 3,
   "id": "a4a7ee9e-c0fd-4f8f-b086-a3870d3951bc",
   "metadata": {},
   "outputs": [
    {
     "data": {
      "text/plain": [
       "'Connected'"
      ]
     },
     "execution_count": 3,
     "metadata": {},
     "output_type": "execute_result"
    }
   ],
   "source": [
    "# read connection state to the USB interface board\n",
    "if_board.status"
   ]
  },
  {
   "cell_type": "code",
   "execution_count": 4,
   "id": "c7444488-65d7-4402-bcc7-1904adbfdf83",
   "metadata": {},
   "outputs": [
    {
     "data": {
      "text/plain": [
       "'Temp-Sensor-Tester (DIAMEX GmbH) with idVendor=0x16c0 and idProduct=0x0480 over USB'"
      ]
     },
     "execution_count": 4,
     "metadata": {},
     "output_type": "execute_result"
    }
   ],
   "source": [
    "# read connection details\n",
    "if_board.connected_with"
   ]
  },
  {
   "cell_type": "code",
   "execution_count": 18,
   "id": "707d13d4-8c63-4b67-8406-e557f4cc4060",
   "metadata": {},
   "outputs": [],
   "source": [
    "# close the connection to the USB interface board\n",
    "if_board.closeConnection()"
   ]
  },
  {
   "cell_type": "code",
   "execution_count": 4,
   "id": "f7c6111b-f279-4b59-89fc-d850d438ea2b",
   "metadata": {},
   "outputs": [],
   "source": [
    "# open the connection again\n",
    "if_board.openConnection(vid = 0x16c0, pid = 0x0480)"
   ]
  },
  {
   "cell_type": "code",
   "execution_count": 7,
   "id": "94113e30-7a7e-4d93-b301-b9d9b0f6ad29",
   "metadata": {},
   "outputs": [
    {
     "data": {
      "text/plain": [
       "['28 64 8e 75 d0 01 3c 81', '28 84 28 e2 2c 20 01 10']"
      ]
     },
     "execution_count": 7,
     "metadata": {},
     "output_type": "execute_result"
    }
   ],
   "source": [
    "# get an array of sensor id(s)\n",
    "if_board.getSensorIDs()"
   ]
  },
  {
   "cell_type": "code",
   "execution_count": 15,
   "id": "bf9aa8ae-a409-4618-9e57-1a7e70de5560",
   "metadata": {},
   "outputs": [
    {
     "data": {
      "text/plain": [
       "{'28 84 28 e2 2c 20 01 10': 21.7, '28 64 8e 75 d0 01 3c 81': 22.1}"
      ]
     },
     "execution_count": 15,
     "metadata": {},
     "output_type": "execute_result"
    }
   ],
   "source": [
    "# read sensor values to dictionary\n",
    "temp_dict = if_board.getTemperature_dict()\n",
    "temp_dict"
   ]
  },
  {
   "cell_type": "code",
   "execution_count": 16,
   "id": "792d36bc-850c-4faf-a720-f3cf4e9a41fb",
   "metadata": {},
   "outputs": [
    {
     "data": {
      "text/plain": [
       "21.7"
      ]
     },
     "execution_count": 16,
     "metadata": {},
     "output_type": "execute_result"
    }
   ],
   "source": [
    "temp_dict['28 84 28 e2 2c 20 01 10']"
   ]
  },
  {
   "cell_type": "code",
   "execution_count": 17,
   "id": "0723bc68-0632-49a0-9ca7-a22d6f6cc549",
   "metadata": {},
   "outputs": [
    {
     "data": {
      "text/plain": [
       "22.1"
      ]
     },
     "execution_count": 17,
     "metadata": {},
     "output_type": "execute_result"
    }
   ],
   "source": [
    "temp_dict['28 64 8e 75 d0 01 3c 81']"
   ]
  },
  {
   "cell_type": "code",
   "execution_count": 8,
   "id": "c322bb10-d162-4a7e-a92b-53dd935939e2",
   "metadata": {
    "scrolled": true,
    "tags": []
   },
   "outputs": [
    {
     "name": "stdout",
     "output_type": "stream",
     "text": [
      "<22:00:01> Sensor: 1 of 2, Temperature: 22.10 °C, ID: 28 64 8e 75 d0 01 3c 81\n",
      "<22:00:01> Sensor: 2 of 2, Temperature: 21.60 °C, ID: 28 84 28 e2 2c 20 01 10\n",
      "<22:00:04> Sensor: 1 of 2, Temperature: 22.10 °C, ID: 28 64 8e 75 d0 01 3c 81\n",
      "<22:00:04> Sensor: 2 of 2, Temperature: 21.60 °C, ID: 28 84 28 e2 2c 20 01 10\n",
      "<22:00:07> Sensor: 1 of 2, Temperature: 22.10 °C, ID: 28 64 8e 75 d0 01 3c 81\n",
      "<22:00:07> Sensor: 2 of 2, Temperature: 21.60 °C, ID: 28 84 28 e2 2c 20 01 10\n",
      "<22:00:10> Sensor: 1 of 2, Temperature: 22.10 °C, ID: 28 64 8e 75 d0 01 3c 81\n",
      "<22:00:10> Sensor: 2 of 2, Temperature: 21.60 °C, ID: 28 84 28 e2 2c 20 01 10\n",
      "<22:00:13> Sensor: 1 of 2, Temperature: 22.10 °C, ID: 28 64 8e 75 d0 01 3c 81\n",
      "<22:00:13> Sensor: 2 of 2, Temperature: 21.60 °C, ID: 28 84 28 e2 2c 20 01 10\n",
      "<22:00:16> Sensor: 1 of 2, Temperature: 22.10 °C, ID: 28 64 8e 75 d0 01 3c 81\n",
      "<22:00:16> Sensor: 2 of 2, Temperature: 21.60 °C, ID: 28 84 28 e2 2c 20 01 10\n",
      "<22:00:19> Sensor: 1 of 2, Temperature: 22.10 °C, ID: 28 64 8e 75 d0 01 3c 81\n",
      "<22:00:19> Sensor: 2 of 2, Temperature: 21.60 °C, ID: 28 84 28 e2 2c 20 01 10\n",
      "<22:00:22> Sensor: 1 of 2, Temperature: 22.10 °C, ID: 28 64 8e 75 d0 01 3c 81\n",
      "<22:00:22> Sensor: 2 of 2, Temperature: 21.60 °C, ID: 28 84 28 e2 2c 20 01 10\n",
      "<22:00:25> Sensor: 1 of 2, Temperature: 22.10 °C, ID: 28 64 8e 75 d0 01 3c 81\n",
      "<22:00:25> Sensor: 2 of 2, Temperature: 21.60 °C, ID: 28 84 28 e2 2c 20 01 10\n",
      "<22:00:28> Sensor: 1 of 2, Temperature: 22.10 °C, ID: 28 64 8e 75 d0 01 3c 81\n",
      "<22:00:28> Sensor: 2 of 2, Temperature: 21.60 °C, ID: 28 84 28 e2 2c 20 01 10\n",
      "<22:00:31> Sensor: 1 of 2, Temperature: 22.10 °C, ID: 28 64 8e 75 d0 01 3c 81\n",
      "<22:00:31> Sensor: 2 of 2, Temperature: 21.60 °C, ID: 28 84 28 e2 2c 20 01 10\n",
      "<22:00:34> Sensor: 1 of 2, Temperature: 22.10 °C, ID: 28 64 8e 75 d0 01 3c 81\n",
      "<22:00:34> Sensor: 2 of 2, Temperature: 21.60 °C, ID: 28 84 28 e2 2c 20 01 10\n",
      "<22:00:37> Sensor: 1 of 2, Temperature: 22.10 °C, ID: 28 64 8e 75 d0 01 3c 81\n",
      "<22:00:37> Sensor: 2 of 2, Temperature: 21.60 °C, ID: 28 84 28 e2 2c 20 01 10\n",
      "<22:00:40> Sensor: 1 of 2, Temperature: 22.10 °C, ID: 28 64 8e 75 d0 01 3c 81\n",
      "<22:00:40> Sensor: 2 of 2, Temperature: 21.60 °C, ID: 28 84 28 e2 2c 20 01 10\n",
      "<22:00:43> Sensor: 1 of 2, Temperature: 22.10 °C, ID: 28 64 8e 75 d0 01 3c 81\n",
      "<22:00:43> Sensor: 2 of 2, Temperature: 21.60 °C, ID: 28 84 28 e2 2c 20 01 10\n",
      "<22:00:46> Sensor: 1 of 2, Temperature: 22.10 °C, ID: 28 64 8e 75 d0 01 3c 81\n",
      "<22:00:46> Sensor: 2 of 2, Temperature: 21.60 °C, ID: 28 84 28 e2 2c 20 01 10\n",
      "Keyboard Interrupt ^C detected.\n",
      "Bye.\n"
     ]
    }
   ],
   "source": [
    "import time\n",
    "\n",
    "# import wrapper class DS18B20_class from python file DS18B20_over_USB.py\n",
    "from DS18B20_class import DS18B20_over_USB\n",
    "\n",
    "INTERVAL = 1.0\n",
    "VID = 0x16c0 # vendor id of usb device\n",
    "PID = 0x0480 # product id of usb device\n",
    "\n",
    "# create new device object for the USB interface board\n",
    "if_board = DS18B20_over_USB(VID, PID)\n",
    "\n",
    "# get an ordered array of sensor id(s)\n",
    "sensor_ids_array = if_board.getSensorIDs()\n",
    "sensor_ids_cnt = len(sensor_ids_array)\n",
    "\n",
    "while True:\n",
    "    try:\n",
    "        temp_dict = if_board.getTemperature_dict()\n",
    "\n",
    "        for i in range(0, sensor_ids_cnt, 1):\n",
    "            sensor_id = sensor_ids_array[i]\n",
    "            sensor_temp = temp_dict[sensor_id]\n",
    "\n",
    "            print(\"<{:s}> Sensor: {:d} of {:d}, Temperature: {:.1f} °C, ID: {}\".format(time.strftime('%H:%M:%S'), i+1, sensor_ids_cnt, sensor_temp, sensor_id))\n",
    "\n",
    "        time.sleep(INTERVAL)\n",
    "        \n",
    "    except:\n",
    "        print(\"Keyboard Interrupt ^C detected.\")\n",
    "        print(\"Bye.\")\n",
    "        # close the connection to the USB interface board\n",
    "        if_board.closeConnection()\n",
    "        break"
   ]
  },
  {
   "cell_type": "code",
   "execution_count": null,
   "id": "8e06de17-fcad-4962-a681-060fee9794b2",
   "metadata": {},
   "outputs": [],
   "source": []
  }
 ],
 "metadata": {
  "kernelspec": {
   "display_name": "Python 3",
   "language": "python",
   "name": "python3"
  },
  "language_info": {
   "codemirror_mode": {
    "name": "ipython",
    "version": 3
   },
   "file_extension": ".py",
   "mimetype": "text/x-python",
   "name": "python",
   "nbconvert_exporter": "python",
   "pygments_lexer": "ipython3",
   "version": "3.7.3"
  }
 },
 "nbformat": 4,
 "nbformat_minor": 5
}
