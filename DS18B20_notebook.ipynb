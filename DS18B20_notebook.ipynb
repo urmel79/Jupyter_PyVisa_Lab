{
 "cells": [
  {
   "cell_type": "markdown",
   "id": "866f3ab6-1e6b-48e1-a7d1-29d145e26407",
   "metadata": {},
   "source": [
    "# DS18B20: Bring up and basic usage of the temperature sensor\n",
    "\n",
    "*Important:*  \n",
    "The **DS18B20** is a digital thermometer and provides 9-bit to 12-bit Celsius temperature measurements. It has an alarm function with nonvolatile user-programmable upper and lower trigger points. The DS18B20 communicates over a **1-Wire** bus that by definition requires only one data line (and ground) for communication with a central microprocessor.\n",
    "\n",
    "- Data sheet: [https://datasheets.maximintegrated.com/en/ds/DS18B20.pdf](https://datasheets.maximintegrated.com/en/ds/DS18B20.pdf)"
   ]
  },
  {
   "cell_type": "markdown",
   "id": "ed73bef2-5eec-42d6-8778-e35c45963be2",
   "metadata": {},
   "source": [
    "## Variant 1: Using USB interface board Temp-Sensor-Tester\n",
    "\n",
    "The communication with the the temperature sensor(s) DS18B20 takes place via an USB interface board *Temp-Sensor-Tester* from *DIAMEX GmbH*. This interface board displays the connected DS18B20 temperature sensor(s) and their readings as a Human Interface Device (HID) device.\n",
    "\n",
    "![USB-Temperatur-Sensor-Tester für DS18B20, Rev. C (Diamex)](images/Diamex_TempSensorBoard.jpg)  \n",
    "USB-Temperatur-Sensor-Tester für DS18B20, Rev. C (Diamex)\n",
    "\n",
    "\n",
    "Gerneral bringup information:\n",
    "- USB-Temperature-Sensor-Tester for DS18B20, Rev. C: [https://www.diamex.de/dxshop/USB-Temperatur-Sensor-Tester-fuer-DS18B20-Rev-C](https://www.diamex.de/dxshop/USB-Temperatur-Sensor-Tester-fuer-DS18B20-Rev-C) or [https://www.led-genial.de/USB-Temperatur-Sensor-Tester-fuer-DS18B20-Rev-C](https://www.led-genial.de/USB-Temperatur-Sensor-Tester-fuer-DS18B20-Rev-C)\n",
    "- Manual and software: [https://www.diamex.de/dxshop/mediafiles//Sonstiges/TempSensorTester.zip](https://www.diamex.de/dxshop/mediafiles//Sonstiges/TempSensorTester.zip) or [https://www.led-genial.de/mediafiles//Sonstiges/TempSensorTester.zip](https://www.led-genial.de/mediafiles//Sonstiges/TempSensorTester.zip)\n",
    "- Diamex Temp-Sensor-Tester für DS18B20 unter Ubuntu Linux 20.04 (in german): [https://www.docollipics.de/diamex-temp-sensor-tester-fuer-ds18b20-unter-ubuntu-linux-20-04/](https://www.docollipics.de/diamex-temp-sensor-tester-fuer-ds18b20-unter-ubuntu-linux-20-04/)\n",
    "- **tempsense** (command line utilty): [https://github.com/kybernetyk/tempsense](https://github.com/kybernetyk/tempsense)\n",
    "\n",
    "Python libraries under consideration:\n",
    "- Python **hidapi** library: [https://pypi.org/project/hidapi/}(https://pypi.org/project/hidapi/) <span style=\"color:green\">[works]</span>\n",
    "- Python **hid** library: [https://pypi.org/project/hid/](https://pypi.org/project/hid/) <span style=\"color:red\">[does NOT work]</span>\n",
    "\n",
    "Eventually, the communication with the HID device is realized with the cython package **hidapi** because of the good test results."
   ]
  },
  {
   "cell_type": "markdown",
   "id": "62e307bb-5a23-4e52-804f-decfffe01c81",
   "metadata": {},
   "source": [
    "### Installation of required development libraries\n",
    "\n",
    "```\n",
    "$ sudo apt install python-dev libusb-1.0-0-dev libudev-dev\n",
    "```"
   ]
  },
  {
   "cell_type": "markdown",
   "id": "a8d124c3-388d-402c-bd78-f0b92233ee20",
   "metadata": {},
   "source": [
    "### Installation of required Python libraries\n",
    "\n",
    "The installation takes place in a Python environment:\n",
    "```\n",
    "$ source ~/jupyter-env/bin/activate\n",
    "$ pip install hidapi\n",
    "```"
   ]
  },
  {
   "cell_type": "markdown",
   "id": "132abd71-104e-4fc7-9221-86dcf4dfa0d1",
   "metadata": {},
   "source": [
    "### Udev rule\n",
    "\n",
    "To be able to address the device, you need to create a rule file in udev rules directory. Make sure that your current user belongs to the *plugdev* group.\n",
    "```\n",
    "$ sudo echo 'SUBSYSTEM==\"usb\", ATTRS{idVendor}==\"16c0\", ATTRS{idProduct}==\"0480\", MODE=\"0660\", GROUP=\"plugdev\"' > /etc/udev/rules.d/99-tempsensor.rules\n",
    "```\n",
    "\n",
    "Activate the new rule by calling\n",
    "```\n",
    "$ sudo udevadm control --reload-rules\n",
    "```"
   ]
  },
  {
   "cell_type": "markdown",
   "id": "c1b9b46d-c99d-415e-a5bc-59fc418310c1",
   "metadata": {},
   "source": [
    "### Sample usage of the *hidapi* library"
   ]
  },
  {
   "cell_type": "markdown",
   "id": "a38d32b2-8638-446b-9447-1ecbcae5f112",
   "metadata": {},
   "source": [
    "Use the ```enumerate()``` function to return information about accessible HID devices on USB:"
   ]
  },
  {
   "cell_type": "code",
   "execution_count": 15,
   "id": "3af28fdc-1f30-4d59-b568-bfaf425eb70e",
   "metadata": {},
   "outputs": [
    {
     "name": "stdout",
     "output_type": "stream",
     "text": [
      "interface_number : 0\n",
      "manufacturer_string : DIAMEX GmbH\n",
      "path : b'1-1.4:1.0'\n",
      "product_id : 1152\n",
      "product_string : Temp-Sensor-Tester\n",
      "release_number : 256\n",
      "serial_number : \n",
      "usage : 0\n",
      "usage_page : 0\n",
      "vendor_id : 5824\n",
      "\n"
     ]
    }
   ],
   "source": [
    "import hid\n",
    "\n",
    "for device_dict in hid.enumerate():\n",
    "    keys = list(device_dict.keys())\n",
    "    keys.sort()\n",
    "    for key in keys:\n",
    "        print(\"%s : %s\" % (key, device_dict[key]))\n",
    "    print()"
   ]
  },
  {
   "cell_type": "markdown",
   "id": "caf71522-95b5-405c-9058-6c4ddec51f13",
   "metadata": {},
   "source": [
    "The details about a HID device can be printed with following code:"
   ]
  },
  {
   "cell_type": "code",
   "execution_count": 20,
   "id": "3c6eedba-0e83-4885-b849-67dad38041ec",
   "metadata": {},
   "outputs": [
    {
     "name": "stdout",
     "output_type": "stream",
     "text": [
      "Manufacturer: DIAMEX GmbH\n",
      "Product: Temp-Sensor-Tester\n",
      "Serial No: Љ\n"
     ]
    }
   ],
   "source": [
    "vid = 0x16c0 # Change it for your device\n",
    "pid = 0x0480 # Change it for your device\n",
    "\n",
    "h = hid.device()\n",
    "h.open(vid, pid)\n",
    "#h.open_path(b'1-1.4:1.0')\n",
    "\n",
    "print(\"Manufacturer: %s\" % h.get_manufacturer_string())\n",
    "print(\"Product: %s\" % h.get_product_string())\n",
    "print(\"Serial No: %s\" % h.get_serial_number_string())\n",
    "\n",
    "#h.close()"
   ]
  },
  {
   "cell_type": "code",
   "execution_count": 38,
   "id": "e3586737-c995-4f96-b47c-b230520c7a6b",
   "metadata": {},
   "outputs": [
    {
     "data": {
      "text/plain": [
       "'Temp-Sensor-Tester (DIAMEX GmbH) with idVendor=0x16c0 and idProduct=0x0480 over USB'"
      ]
     },
     "execution_count": 38,
     "metadata": {},
     "output_type": "execute_result"
    }
   ],
   "source": [
    "connected_with = '{:s} ({:s}) with idVendor={:#06x} and idProduct={:#06x} over USB'.format(h.get_product_string(), h.get_manufacturer_string(), vid, pid)\n",
    "connected_with"
   ]
  },
  {
   "cell_type": "markdown",
   "id": "821de1e7-a95f-4cd3-8769-a8a9f4e78ff5",
   "metadata": {},
   "source": [
    "### Automation in a sample program"
   ]
  },
  {
   "cell_type": "code",
   "execution_count": 59,
   "id": "1ba1e0b8-cb6a-4992-ab70-b723acfcfd30",
   "metadata": {
    "scrolled": true,
    "tags": []
   },
   "outputs": [
    {
     "name": "stdout",
     "output_type": "stream",
     "text": [
      "Device Info:\n",
      "\t Manufacturer: DIAMEX GmbH\n",
      "\t Product: Temp-Sensor-Tester\n",
      "<00:27:40> Sensor: 1 of 2, Temperature: 24.20 °C, ID: 28 64 8e 75 d0 01 3c 81 \n",
      "<00:27:41> Sensor: 2 of 2, Temperature: 21.80 °C, ID: 28 84 28 e2 2c 20 01 10 \n",
      "<00:27:42> Sensor: 1 of 2, Temperature: 24.20 °C, ID: 28 64 8e 75 d0 01 3c 81 \n",
      "<00:27:43> Sensor: 2 of 2, Temperature: 21.80 °C, ID: 28 84 28 e2 2c 20 01 10 \n",
      "<00:27:44> Sensor: 1 of 2, Temperature: 24.30 °C, ID: 28 64 8e 75 d0 01 3c 81 \n",
      "<00:27:45> Sensor: 2 of 2, Temperature: 21.80 °C, ID: 28 84 28 e2 2c 20 01 10 \n",
      "<00:27:46> Sensor: 1 of 2, Temperature: 24.20 °C, ID: 28 64 8e 75 d0 01 3c 81 \n",
      "<00:27:47> Sensor: 2 of 2, Temperature: 21.80 °C, ID: 28 84 28 e2 2c 20 01 10 \n",
      "<00:27:48> Sensor: 1 of 2, Temperature: 24.30 °C, ID: 28 64 8e 75 d0 01 3c 81 \n",
      "<00:27:49> Sensor: 2 of 2, Temperature: 21.80 °C, ID: 28 84 28 e2 2c 20 01 10 \n",
      "<00:27:50> Sensor: 1 of 2, Temperature: 24.20 °C, ID: 28 64 8e 75 d0 01 3c 81 \n",
      "<00:27:51> Sensor: 2 of 2, Temperature: 21.80 °C, ID: 28 84 28 e2 2c 20 01 10 \n",
      "<00:27:52> Sensor: 1 of 2, Temperature: 24.20 °C, ID: 28 64 8e 75 d0 01 3c 81 \n",
      "<00:27:53> Sensor: 2 of 2, Temperature: 21.80 °C, ID: 28 84 28 e2 2c 20 01 10 \n",
      "<00:27:54> Sensor: 1 of 2, Temperature: 24.20 °C, ID: 28 64 8e 75 d0 01 3c 81 \n",
      "<00:27:55> Sensor: 2 of 2, Temperature: 21.80 °C, ID: 28 84 28 e2 2c 20 01 10 \n",
      "<00:27:56> Sensor: 1 of 2, Temperature: 24.30 °C, ID: 28 64 8e 75 d0 01 3c 81 \n",
      "<00:27:57> Sensor: 2 of 2, Temperature: 21.80 °C, ID: 28 84 28 e2 2c 20 01 10 \n",
      "<00:27:58> Sensor: 1 of 2, Temperature: 24.20 °C, ID: 28 64 8e 75 d0 01 3c 81 \n",
      "<00:27:59> Sensor: 2 of 2, Temperature: 21.80 °C, ID: 28 84 28 e2 2c 20 01 10 \n",
      "<00:28:00> Sensor: 1 of 2, Temperature: 24.20 °C, ID: 28 64 8e 75 d0 01 3c 81 \n",
      "<00:28:01> Sensor: 2 of 2, Temperature: 21.80 °C, ID: 28 84 28 e2 2c 20 01 10 \n",
      "<00:28:02> Sensor: 1 of 2, Temperature: 24.20 °C, ID: 28 64 8e 75 d0 01 3c 81 \n",
      "<00:28:03> Sensor: 2 of 2, Temperature: 21.80 °C, ID: 28 84 28 e2 2c 20 01 10 \n",
      "<00:28:04> Sensor: 1 of 2, Temperature: 24.30 °C, ID: 28 64 8e 75 d0 01 3c 81 \n",
      "<00:28:05> Sensor: 2 of 2, Temperature: 21.80 °C, ID: 28 84 28 e2 2c 20 01 10 \n",
      "<00:28:06> Sensor: 1 of 2, Temperature: 24.20 °C, ID: 28 64 8e 75 d0 01 3c 81 \n",
      "Keyboard Interrupt ^C detected.\n",
      "Bye.\n"
     ]
    }
   ],
   "source": [
    "import hid\n",
    "import time\n",
    "\n",
    "INTERVAL = 1.0\n",
    "VID = 0x16c0 # vendor id of usb device\n",
    "PID = 0x0480 # product id of usb device\n",
    "\n",
    "try:\n",
    "    h = hid.device()\n",
    "    h.open(VID, PID)\n",
    "    print(\"Device Info:\")\n",
    "    print(\"\\t Manufacturer: %s\" % h.get_manufacturer_string())\n",
    "    print(\"\\t Product: %s\" % h.get_product_string())\n",
    "\n",
    "except Exception as ex:\n",
    "    print(\"Connecting with the device raised the error: '{}'\".format(ex))\n",
    "    raise\n",
    "\n",
    "while True:\n",
    "    try:\n",
    "        d = h.read(64)\n",
    "\n",
    "        if d:\n",
    "            sensor_id = ''\n",
    "            # get sensor ID with the bytes 8 to 16 from character buffer\n",
    "            for i in range(8, 16, 1):\n",
    "                # convert integer from byte list to string with padding\n",
    "                hex_string = '{:02x}'.format(d[i])\n",
    "                sensor_id = sensor_id + hex_string + ' '\n",
    "\n",
    "            # combine high and low byte of temperature value and convert to float\n",
    "            temp = float(d[5] << 8 | d[4]) / 10\n",
    "\n",
    "            print(\"<{:s}> Sensor: {:d} of {:d}, Temperature: {:.2f} °C, ID: {}\".format(time.strftime('%H:%M:%S'), d[1], d[0], temp, sensor_id))\n",
    "\n",
    "        else:\n",
    "            print(\"Could not read from device!\")\n",
    "            break\n",
    "    \n",
    "        time.sleep(INTERVAL)\n",
    "        \n",
    "    except:\n",
    "        print(\"Keyboard Interrupt ^C detected.\")\n",
    "        print(\"Bye.\")\n",
    "        h.close()\n",
    "        break"
   ]
  },
  {
   "cell_type": "markdown",
   "id": "efb54e2c-8498-4a8f-8051-26253555317d",
   "metadata": {},
   "source": [
    "### Using the wrapper class 'DS18B20_over_USB'\n",
    "\n",
    "The new wrapper class **DS18B20_over_USB** in the python file ```DS18B20_class.py``` implements the communication with the the temperature sensor DS18B20 via USB interface board *Temp-Sensor-Tester* from *DIAMEX GmbH*. This interface board displays the connected DS18B20 temperature sensor(s) and their readings as a Human Interface Device (HID) device. The communication with the HID device is realized with the cython package *hidapi*."
   ]
  },
  {
   "cell_type": "code",
   "execution_count": 1,
   "id": "37e6f8fe-21cd-43be-969e-0241d3162341",
   "metadata": {},
   "outputs": [],
   "source": [
    "# import wrapper class DS18B20_class from python file DS18B20_over_USB.py\n",
    "from DS18B20_class import DS18B20_over_USB"
   ]
  },
  {
   "cell_type": "code",
   "execution_count": 2,
   "id": "5ea54036-39cb-4beb-b366-fd0133ec8f63",
   "metadata": {},
   "outputs": [],
   "source": [
    "# create new device object for the USB interface board\n",
    "if_board = DS18B20_over_USB(vid = 0x16c0, pid = 0x0480)"
   ]
  },
  {
   "cell_type": "code",
   "execution_count": 3,
   "id": "a4a7ee9e-c0fd-4f8f-b086-a3870d3951bc",
   "metadata": {},
   "outputs": [
    {
     "data": {
      "text/plain": [
       "'Connected'"
      ]
     },
     "execution_count": 3,
     "metadata": {},
     "output_type": "execute_result"
    }
   ],
   "source": [
    "# read connection state to the USB interface board\n",
    "if_board.status"
   ]
  },
  {
   "cell_type": "code",
   "execution_count": 4,
   "id": "c7444488-65d7-4402-bcc7-1904adbfdf83",
   "metadata": {},
   "outputs": [
    {
     "data": {
      "text/plain": [
       "'Temp-Sensor-Tester (DIAMEX GmbH) with idVendor=0x16c0 and idProduct=0x0480 over USB'"
      ]
     },
     "execution_count": 4,
     "metadata": {},
     "output_type": "execute_result"
    }
   ],
   "source": [
    "# read connection details\n",
    "if_board.connected_with"
   ]
  },
  {
   "cell_type": "code",
   "execution_count": 18,
   "id": "707d13d4-8c63-4b67-8406-e557f4cc4060",
   "metadata": {},
   "outputs": [],
   "source": [
    "# close the connection to the USB interface board\n",
    "if_board.closeConnection()"
   ]
  },
  {
   "cell_type": "code",
   "execution_count": 4,
   "id": "f7c6111b-f279-4b59-89fc-d850d438ea2b",
   "metadata": {},
   "outputs": [],
   "source": [
    "# open the connection again\n",
    "if_board.openConnection(vid = 0x16c0, pid = 0x0480)"
   ]
  },
  {
   "cell_type": "code",
   "execution_count": 7,
   "id": "94113e30-7a7e-4d93-b301-b9d9b0f6ad29",
   "metadata": {},
   "outputs": [
    {
     "data": {
      "text/plain": [
       "['28 64 8e 75 d0 01 3c 81', '28 84 28 e2 2c 20 01 10']"
      ]
     },
     "execution_count": 7,
     "metadata": {},
     "output_type": "execute_result"
    }
   ],
   "source": [
    "# get an array of sensor id(s)\n",
    "if_board.getSensorIDs()"
   ]
  },
  {
   "cell_type": "code",
   "execution_count": 15,
   "id": "bf9aa8ae-a409-4618-9e57-1a7e70de5560",
   "metadata": {},
   "outputs": [
    {
     "data": {
      "text/plain": [
       "{'28 84 28 e2 2c 20 01 10': 21.7, '28 64 8e 75 d0 01 3c 81': 22.1}"
      ]
     },
     "execution_count": 15,
     "metadata": {},
     "output_type": "execute_result"
    }
   ],
   "source": [
    "# read sensor values to dictionary\n",
    "temp_dict = if_board.getTemperature_dict()\n",
    "temp_dict"
   ]
  },
  {
   "cell_type": "code",
   "execution_count": 16,
   "id": "792d36bc-850c-4faf-a720-f3cf4e9a41fb",
   "metadata": {},
   "outputs": [
    {
     "data": {
      "text/plain": [
       "21.7"
      ]
     },
     "execution_count": 16,
     "metadata": {},
     "output_type": "execute_result"
    }
   ],
   "source": [
    "temp_dict['28 84 28 e2 2c 20 01 10']"
   ]
  },
  {
   "cell_type": "code",
   "execution_count": 17,
   "id": "0723bc68-0632-49a0-9ca7-a22d6f6cc549",
   "metadata": {},
   "outputs": [
    {
     "data": {
      "text/plain": [
       "22.1"
      ]
     },
     "execution_count": 17,
     "metadata": {},
     "output_type": "execute_result"
    }
   ],
   "source": [
    "temp_dict['28 64 8e 75 d0 01 3c 81']"
   ]
  },
  {
   "cell_type": "code",
   "execution_count": 65,
   "id": "c322bb10-d162-4a7e-a92b-53dd935939e2",
   "metadata": {
    "scrolled": true,
    "tags": []
   },
   "outputs": [
    {
     "name": "stdout",
     "output_type": "stream",
     "text": [
      "<00:37:30> Sensor: 1 of 2, Temperature: 24.1 °C, ID: 28 64 8e 75 d0 01 3c 81\n",
      "<00:37:30> Sensor: 2 of 2, Temperature: 21.7 °C, ID: 28 84 28 e2 2c 20 01 10\n",
      "<00:37:33> Sensor: 1 of 2, Temperature: 24.1 °C, ID: 28 64 8e 75 d0 01 3c 81\n",
      "<00:37:33> Sensor: 2 of 2, Temperature: 21.7 °C, ID: 28 84 28 e2 2c 20 01 10\n",
      "<00:37:36> Sensor: 1 of 2, Temperature: 24.1 °C, ID: 28 64 8e 75 d0 01 3c 81\n",
      "<00:37:36> Sensor: 2 of 2, Temperature: 21.7 °C, ID: 28 84 28 e2 2c 20 01 10\n",
      "<00:37:39> Sensor: 1 of 2, Temperature: 24.1 °C, ID: 28 64 8e 75 d0 01 3c 81\n",
      "<00:37:39> Sensor: 2 of 2, Temperature: 21.7 °C, ID: 28 84 28 e2 2c 20 01 10\n",
      "<00:37:42> Sensor: 1 of 2, Temperature: 24.1 °C, ID: 28 64 8e 75 d0 01 3c 81\n",
      "<00:37:42> Sensor: 2 of 2, Temperature: 21.7 °C, ID: 28 84 28 e2 2c 20 01 10\n",
      "<00:37:45> Sensor: 1 of 2, Temperature: 24.1 °C, ID: 28 64 8e 75 d0 01 3c 81\n",
      "<00:37:45> Sensor: 2 of 2, Temperature: 21.7 °C, ID: 28 84 28 e2 2c 20 01 10\n",
      "<00:37:48> Sensor: 1 of 2, Temperature: 24.1 °C, ID: 28 64 8e 75 d0 01 3c 81\n",
      "<00:37:48> Sensor: 2 of 2, Temperature: 21.7 °C, ID: 28 84 28 e2 2c 20 01 10\n",
      "<00:37:51> Sensor: 1 of 2, Temperature: 24.1 °C, ID: 28 64 8e 75 d0 01 3c 81\n",
      "<00:37:51> Sensor: 2 of 2, Temperature: 21.7 °C, ID: 28 84 28 e2 2c 20 01 10\n",
      "<00:37:54> Sensor: 1 of 2, Temperature: 24.1 °C, ID: 28 64 8e 75 d0 01 3c 81\n",
      "<00:37:54> Sensor: 2 of 2, Temperature: 21.7 °C, ID: 28 84 28 e2 2c 20 01 10\n",
      "<00:37:57> Sensor: 1 of 2, Temperature: 24.1 °C, ID: 28 64 8e 75 d0 01 3c 81\n",
      "<00:37:57> Sensor: 2 of 2, Temperature: 21.7 °C, ID: 28 84 28 e2 2c 20 01 10\n",
      "<00:38:00> Sensor: 1 of 2, Temperature: 24.1 °C, ID: 28 64 8e 75 d0 01 3c 81\n",
      "<00:38:00> Sensor: 2 of 2, Temperature: 21.6 °C, ID: 28 84 28 e2 2c 20 01 10\n",
      "<00:38:03> Sensor: 1 of 2, Temperature: 24.1 °C, ID: 28 64 8e 75 d0 01 3c 81\n",
      "<00:38:03> Sensor: 2 of 2, Temperature: 21.6 °C, ID: 28 84 28 e2 2c 20 01 10\n",
      "<00:38:06> Sensor: 1 of 2, Temperature: 24.1 °C, ID: 28 64 8e 75 d0 01 3c 81\n",
      "<00:38:06> Sensor: 2 of 2, Temperature: 21.6 °C, ID: 28 84 28 e2 2c 20 01 10\n",
      "<00:38:09> Sensor: 1 of 2, Temperature: 24.1 °C, ID: 28 64 8e 75 d0 01 3c 81\n",
      "<00:38:09> Sensor: 2 of 2, Temperature: 21.6 °C, ID: 28 84 28 e2 2c 20 01 10\n",
      "<00:38:12> Sensor: 1 of 2, Temperature: 24.1 °C, ID: 28 64 8e 75 d0 01 3c 81\n",
      "<00:38:12> Sensor: 2 of 2, Temperature: 21.6 °C, ID: 28 84 28 e2 2c 20 01 10\n",
      "<00:38:15> Sensor: 1 of 2, Temperature: 24.1 °C, ID: 28 64 8e 75 d0 01 3c 81\n",
      "<00:38:15> Sensor: 2 of 2, Temperature: 21.6 °C, ID: 28 84 28 e2 2c 20 01 10\n",
      "<00:38:18> Sensor: 1 of 2, Temperature: 24.1 °C, ID: 28 64 8e 75 d0 01 3c 81\n",
      "<00:38:18> Sensor: 2 of 2, Temperature: 21.6 °C, ID: 28 84 28 e2 2c 20 01 10\n",
      "<00:38:21> Sensor: 1 of 2, Temperature: 24.1 °C, ID: 28 64 8e 75 d0 01 3c 81\n",
      "<00:38:21> Sensor: 2 of 2, Temperature: 21.6 °C, ID: 28 84 28 e2 2c 20 01 10\n",
      "<00:38:24> Sensor: 1 of 2, Temperature: 24.1 °C, ID: 28 64 8e 75 d0 01 3c 81\n",
      "<00:38:24> Sensor: 2 of 2, Temperature: 21.6 °C, ID: 28 84 28 e2 2c 20 01 10\n",
      "<00:38:27> Sensor: 1 of 2, Temperature: 24.1 °C, ID: 28 64 8e 75 d0 01 3c 81\n",
      "<00:38:27> Sensor: 2 of 2, Temperature: 21.6 °C, ID: 28 84 28 e2 2c 20 01 10\n",
      "<00:38:30> Sensor: 1 of 2, Temperature: 24.1 °C, ID: 28 64 8e 75 d0 01 3c 81\n",
      "<00:38:30> Sensor: 2 of 2, Temperature: 21.6 °C, ID: 28 84 28 e2 2c 20 01 10\n",
      "<00:38:33> Sensor: 1 of 2, Temperature: 24.1 °C, ID: 28 64 8e 75 d0 01 3c 81\n",
      "<00:38:33> Sensor: 2 of 2, Temperature: 21.6 °C, ID: 28 84 28 e2 2c 20 01 10\n",
      "<00:38:36> Sensor: 1 of 2, Temperature: 24.1 °C, ID: 28 64 8e 75 d0 01 3c 81\n",
      "<00:38:36> Sensor: 2 of 2, Temperature: 21.6 °C, ID: 28 84 28 e2 2c 20 01 10\n",
      "<00:38:39> Sensor: 1 of 2, Temperature: 24.0 °C, ID: 28 64 8e 75 d0 01 3c 81\n",
      "<00:38:39> Sensor: 2 of 2, Temperature: 21.6 °C, ID: 28 84 28 e2 2c 20 01 10\n",
      "<00:38:42> Sensor: 1 of 2, Temperature: 24.0 °C, ID: 28 64 8e 75 d0 01 3c 81\n",
      "<00:38:42> Sensor: 2 of 2, Temperature: 21.6 °C, ID: 28 84 28 e2 2c 20 01 10\n",
      "<00:38:45> Sensor: 1 of 2, Temperature: 24.0 °C, ID: 28 64 8e 75 d0 01 3c 81\n",
      "<00:38:45> Sensor: 2 of 2, Temperature: 21.6 °C, ID: 28 84 28 e2 2c 20 01 10\n",
      "<00:38:48> Sensor: 1 of 2, Temperature: 24.0 °C, ID: 28 64 8e 75 d0 01 3c 81\n",
      "<00:38:48> Sensor: 2 of 2, Temperature: 21.6 °C, ID: 28 84 28 e2 2c 20 01 10\n",
      "<00:38:51> Sensor: 1 of 2, Temperature: 24.0 °C, ID: 28 64 8e 75 d0 01 3c 81\n",
      "<00:38:51> Sensor: 2 of 2, Temperature: 21.6 °C, ID: 28 84 28 e2 2c 20 01 10\n",
      "<00:38:54> Sensor: 1 of 2, Temperature: 24.0 °C, ID: 28 64 8e 75 d0 01 3c 81\n",
      "<00:38:54> Sensor: 2 of 2, Temperature: 21.6 °C, ID: 28 84 28 e2 2c 20 01 10\n",
      "<00:38:57> Sensor: 1 of 2, Temperature: 24.0 °C, ID: 28 64 8e 75 d0 01 3c 81\n",
      "<00:38:57> Sensor: 2 of 2, Temperature: 21.6 °C, ID: 28 84 28 e2 2c 20 01 10\n",
      "<00:39:00> Sensor: 1 of 2, Temperature: 23.9 °C, ID: 28 64 8e 75 d0 01 3c 81\n",
      "<00:39:00> Sensor: 2 of 2, Temperature: 21.6 °C, ID: 28 84 28 e2 2c 20 01 10\n",
      "<00:39:03> Sensor: 1 of 2, Temperature: 24.0 °C, ID: 28 64 8e 75 d0 01 3c 81\n",
      "<00:39:03> Sensor: 2 of 2, Temperature: 21.6 °C, ID: 28 84 28 e2 2c 20 01 10\n",
      "<00:39:06> Sensor: 1 of 2, Temperature: 24.0 °C, ID: 28 64 8e 75 d0 01 3c 81\n",
      "<00:39:06> Sensor: 2 of 2, Temperature: 21.6 °C, ID: 28 84 28 e2 2c 20 01 10\n",
      "Keyboard Interrupt ^C detected.\n",
      "Bye.\n"
     ]
    }
   ],
   "source": [
    "import time\n",
    "\n",
    "# import wrapper class DS18B20_class from python file DS18B20_over_USB.py\n",
    "from DS18B20_class import DS18B20_over_USB\n",
    "\n",
    "INTERVAL = 1.0\n",
    "VID = 0x16c0 # vendor id of usb device\n",
    "PID = 0x0480 # product id of usb device\n",
    "\n",
    "# create new device object for the USB interface board\n",
    "if_board = DS18B20_over_USB(VID, PID)\n",
    "\n",
    "# get an ordered array of sensor id(s)\n",
    "sensor_ids_array = if_board.getSensorIDs()\n",
    "sensor_ids_cnt = len(sensor_ids_array)\n",
    "\n",
    "while True:\n",
    "    try:\n",
    "        temp_dict = if_board.getTemperature_dict()\n",
    "\n",
    "        for i in range(0, sensor_ids_cnt, 1):\n",
    "            sensor_id = sensor_ids_array[i]\n",
    "            sensor_temp = temp_dict[sensor_id]\n",
    "\n",
    "            print(\"<{:s}> Sensor: {:d} of {:d}, Temperature: {:.1f} °C, ID: {}\".format(time.strftime('%H:%M:%S'), i+1, sensor_ids_cnt, sensor_temp, sensor_id))\n",
    "\n",
    "        time.sleep(INTERVAL)\n",
    "        \n",
    "    except:\n",
    "        print(\"Keyboard Interrupt ^C detected.\")\n",
    "        print(\"Bye.\")\n",
    "        # close the connection to the USB interface board\n",
    "        if_board.closeConnection()\n",
    "        break"
   ]
  },
  {
   "cell_type": "markdown",
   "id": "4762ee6c-da01-4479-84c5-9d07a1841e1c",
   "metadata": {},
   "source": [
    "## Variant 2: Directly through the GPIOs of the RPi\n",
    "\n",
    "The temperature sensor(s) DS18B20 are directly connected to the GPIOs of the Raspberry Pi. In the following it is assumed that the temperature sensor(s) DS18B20 is connected with the data pin to GPIO 4 of the Raspberry Pi. The separately required pull-up resistor can be omitted if a small interface board especially for 1-wire bus is connected in between. The following picture shows the 1-wire interface board I use.\n",
    "\n",
    "![1-wire interface board with internal pullup resistors](images/1-wire_InterfaceBoard.jpg)  \n",
    "1-wire interface board with internal pullup resistors\n"
   ]
  },
  {
   "cell_type": "markdown",
   "id": "cfebee49-c30b-4769-876d-5693fa22e46c",
   "metadata": {},
   "source": [
    "### Activation of the 1-wire bus on the Raspberry Pi\n",
    "\n",
    "The activation of the 1-wire bus can be done either with the tool *raspi-config* or by manual editing of the file ```/boot/config.txt```.\n",
    "\n",
    "When using the *raspi-config* tool, however, ```/boot/config.txt``` should still be checked and the entry for 1-wire adjusted as follows if necessary:\n",
    "\n",
    "```\n",
    "# configure 1-wire prtocol with data input on gpio pin 4\n",
    "dtoverlay=w1-gpio,gpiopin=4\n",
    "```\n",
    "\n",
    "After a reboot, the following kernel modules should have been loaded for the 1-wire bus:\n",
    "\n",
    "```\n",
    "$ lsmod | grep -i w1\n",
    "w1_therm               28672  0\n",
    "w1_gpio                16384  0\n",
    "wire                   36864  2 w1_gpio,w1_therm\n",
    "```\n",
    "\n",
    "The DS18B20 sensors connected to GPIO 4 are addressable in the ```/sys``` file system below ```/sys/bus/w1/devices/```. A separate subdirectory structure with the respective sensor ID is created for each detected sensor.\n",
    "\n",
    "For example, you can read the current temperature in the file ```/sys/bus/w1/devices/28-01202ceb55a3/temperature``` (divide value by 1000). Since the sensor supports a variable resolution of 9 to 12 bits, one can write the desired resolution into the file ```/sys/bus/w1/devices/28-01202ceb55a3/resolution```.\n",
    "\n",
    "Further literature can be found here, for example:\n",
    "\n",
    "- Temperatur-Sensor DS1820 am Raspberry Pi mit Python: [https://webnist.de/temperatur-sensor-ds1820-am-raspberry-pi-mit-python/](https://webnist.de/temperatur-sensor-ds1820-am-raspberry-pi-mit-python/)\n",
    "- Raspberry Pi: 1-Wire Temperatursensor DS1820: [http://www.netzmafia.de/skripten/hardware/RasPi/Projekt-Onewire/index.html](http://www.netzmafia.de/skripten/hardware/RasPi/Projekt-Onewire/index.html)\n",
    "- Raspberry Pi – Temperaturmessung mit DS18B20 1-Wire Sensor: [http://www.it-adviser.net/raspberry-pi-temperaturmessung-mit-ds18b20-1-wire-sensor/](http://www.it-adviser.net/raspberry-pi-temperaturmessung-mit-ds18b20-1-wire-sensor/)"
   ]
  },
  {
   "cell_type": "markdown",
   "id": "ace505ee-56d0-4378-a635-cbd7485779d3",
   "metadata": {},
   "source": [
    "### Automation in a sample program for only one sensor"
   ]
  },
  {
   "cell_type": "code",
   "execution_count": 63,
   "id": "a74f3fbd-9dc4-473d-add4-1ac462552d13",
   "metadata": {
    "scrolled": true,
    "tags": []
   },
   "outputs": [
    {
     "name": "stdout",
     "output_type": "stream",
     "text": [
      "<00:35:29> Temperature: 22.687 °C\n",
      "<00:35:30> Temperature: 22.687 °C\n",
      "<00:35:31> Temperature: 22.687 °C\n",
      "<00:35:32> Temperature: 22.687 °C\n",
      "<00:35:33> Temperature: 22.687 °C\n",
      "<00:35:34> Temperature: 22.687 °C\n",
      "<00:35:35> Temperature: 22.687 °C\n",
      "<00:35:37> Temperature: 22.687 °C\n",
      "<00:35:38> Temperature: 22.687 °C\n",
      "<00:35:39> Temperature: 22.687 °C\n",
      "<00:35:40> Temperature: 22.687 °C\n",
      "<00:35:41> Temperature: 22.687 °C\n",
      "<00:35:42> Temperature: 22.687 °C\n",
      "Keyboard Interrupt ^C detected.\n",
      "Bye.\n"
     ]
    }
   ],
   "source": [
    "import os, sys, time\n",
    "\n",
    "INTERVAL = 0.2\n",
    "DEVICE_ID = '28-012116c9fc70'\n",
    "#DEVICE_ID = '28-01202ceb55a3'\n",
    "\n",
    "# temperature offset [K]\n",
    "temp_offset = 0.0\n",
    "\n",
    "def currentTemperature():\n",
    "    # Read temperature from 1-wire slave of DS18B20\n",
    "    # file = open('/sys/bus/w1/devices/28-01202ceb55a3/w1_slave')\n",
    "    file = open('/sys/bus/w1/devices/'+ DEVICE_ID + '/temperature')\n",
    "    filecontent = file.read()\n",
    "    file.close()\n",
    "\n",
    "    # Get temperature values and convert them\n",
    "    # stringvalue = filecontent.split(\"\\n\")[1].split(\" \")[9]\n",
    "    # temperature = float(stringvalue[2:]) / 1000\n",
    "    temperature = float(filecontent) / 1000\n",
    "\n",
    "    # Return temperature\n",
    "    # ret_val = '%6.4f' % temperature \n",
    "    return(temperature)\n",
    "\n",
    "while True:\n",
    "    try:\n",
    "        temp = currentTemperature()\n",
    "        temp_corr = temp + temp_offset\n",
    "\n",
    "        print(\"<{:s}> Temperature: {:.3f} °C\".format(time.strftime('%H:%M:%S'), temp_corr))\n",
    "\n",
    "        time.sleep(INTERVAL)\n",
    "    \n",
    "    except:\n",
    "        print(\"Keyboard Interrupt ^C detected.\")\n",
    "        print(\"Bye.\")\n",
    "        break"
   ]
  },
  {
   "cell_type": "markdown",
   "id": "a86538c0-dc9b-438d-a0c3-e0b22848a637",
   "metadata": {},
   "source": [
    "### Detection of connected sensors\n",
    "\n",
    "The detection and subsequent readout of multiple DS18B20 sensors requires a recursive search of the directory structures below ```/sys/bus/w1/devices/```.\n",
    "\n",
    "Literature:\n",
    "\n",
    "- Mehrere DS1820 Sensoren am Raspberry Pi mit Python einlesen: [http://webnist.de/mehrere-ds1820-sensoren-am-raspberry-pi-mit-python-einlesen/](http://webnist.de/mehrere-ds1820-sensoren-am-raspberry-pi-mit-python-einlesen/)\n",
    "- List all subdirectories in a directory in Python: [https://www.techiedelight.com/list-all-subdirectories-in-directory-python/](https://www.techiedelight.com/list-all-subdirectories-in-directory-python/)"
   ]
  },
  {
   "cell_type": "code",
   "execution_count": 28,
   "id": "75b37fe2-0531-4bd4-95c2-66e060c75b83",
   "metadata": {},
   "outputs": [],
   "source": [
    "import os\n",
    "\n",
    "device_path = '/sys/bus/w1/devices/'\n",
    "sensor_id_list = []\n",
    "\n",
    "for obj in os.scandir(device_path):\n",
    "    # sensor IDs start with '28'\n",
    "    if obj.is_dir() and obj.name.split(\"-\")[0] == \"28\":\n",
    "        sensor_id_list.append(obj.name)"
   ]
  },
  {
   "cell_type": "code",
   "execution_count": 29,
   "id": "945b94d5-d0f0-43e2-bc43-b70090aeb3a2",
   "metadata": {},
   "outputs": [
    {
     "data": {
      "text/plain": [
       "['28-012116c9fc70', '28-01202ceb55a3']"
      ]
     },
     "execution_count": 29,
     "metadata": {},
     "output_type": "execute_result"
    }
   ],
   "source": [
    "sensor_id_list"
   ]
  },
  {
   "cell_type": "markdown",
   "id": "cd6a7fc1-3d72-4b8f-aa73-8131eb77a0bf",
   "metadata": {},
   "source": [
    "### Automation in a sample program for multiple sensors"
   ]
  },
  {
   "cell_type": "code",
   "execution_count": 66,
   "id": "799a70d1-ac30-4a45-b044-a65952fde672",
   "metadata": {
    "scrolled": true,
    "tags": []
   },
   "outputs": [
    {
     "name": "stdout",
     "output_type": "stream",
     "text": [
      "<00:39:32> Sensor: 1 of 2, Temperature: 22.125 °C, ID: 28-012116c9fc70\n",
      "<00:39:32> Sensor: 2 of 2, Temperature: 21.687 °C, ID: 28-01202ceb55a3\n",
      "<00:39:34> Sensor: 1 of 2, Temperature: 22.125 °C, ID: 28-012116c9fc70\n",
      "<00:39:34> Sensor: 2 of 2, Temperature: 21.687 °C, ID: 28-01202ceb55a3\n",
      "<00:39:35> Sensor: 1 of 2, Temperature: 22.125 °C, ID: 28-012116c9fc70\n",
      "<00:39:36> Sensor: 2 of 2, Temperature: 21.687 °C, ID: 28-01202ceb55a3\n",
      "<00:39:37> Sensor: 1 of 2, Temperature: 22.125 °C, ID: 28-012116c9fc70\n",
      "<00:39:37> Sensor: 2 of 2, Temperature: 21.750 °C, ID: 28-01202ceb55a3\n",
      "<00:39:39> Sensor: 1 of 2, Temperature: 22.125 °C, ID: 28-012116c9fc70\n",
      "<00:39:39> Sensor: 2 of 2, Temperature: 21.750 °C, ID: 28-01202ceb55a3\n",
      "<00:39:41> Sensor: 1 of 2, Temperature: 22.125 °C, ID: 28-012116c9fc70\n",
      "<00:39:41> Sensor: 2 of 2, Temperature: 21.687 °C, ID: 28-01202ceb55a3\n",
      "<00:39:43> Sensor: 1 of 2, Temperature: 22.125 °C, ID: 28-012116c9fc70\n",
      "<00:39:43> Sensor: 2 of 2, Temperature: 21.687 °C, ID: 28-01202ceb55a3\n",
      "<00:39:45> Sensor: 1 of 2, Temperature: 22.125 °C, ID: 28-012116c9fc70\n",
      "<00:39:45> Sensor: 2 of 2, Temperature: 21.687 °C, ID: 28-01202ceb55a3\n",
      "<00:39:47> Sensor: 1 of 2, Temperature: 22.125 °C, ID: 28-012116c9fc70\n",
      "<00:39:47> Sensor: 2 of 2, Temperature: 21.687 °C, ID: 28-01202ceb55a3\n",
      "<00:39:49> Sensor: 1 of 2, Temperature: 22.125 °C, ID: 28-012116c9fc70\n",
      "<00:39:49> Sensor: 2 of 2, Temperature: 21.750 °C, ID: 28-01202ceb55a3\n",
      "<00:39:51> Sensor: 1 of 2, Temperature: 22.125 °C, ID: 28-012116c9fc70\n",
      "<00:39:51> Sensor: 2 of 2, Temperature: 21.687 °C, ID: 28-01202ceb55a3\n",
      "<00:39:53> Sensor: 1 of 2, Temperature: 22.125 °C, ID: 28-012116c9fc70\n",
      "<00:39:53> Sensor: 2 of 2, Temperature: 21.687 °C, ID: 28-01202ceb55a3\n",
      "<00:39:55> Sensor: 1 of 2, Temperature: 22.125 °C, ID: 28-012116c9fc70\n",
      "<00:39:55> Sensor: 2 of 2, Temperature: 21.687 °C, ID: 28-01202ceb55a3\n",
      "<00:39:57> Sensor: 1 of 2, Temperature: 22.125 °C, ID: 28-012116c9fc70\n",
      "<00:39:57> Sensor: 2 of 2, Temperature: 21.750 °C, ID: 28-01202ceb55a3\n",
      "<00:39:59> Sensor: 1 of 2, Temperature: 22.125 °C, ID: 28-012116c9fc70\n",
      "<00:39:59> Sensor: 2 of 2, Temperature: 21.687 °C, ID: 28-01202ceb55a3\n",
      "<00:40:01> Sensor: 1 of 2, Temperature: 22.125 °C, ID: 28-012116c9fc70\n",
      "<00:40:01> Sensor: 2 of 2, Temperature: 21.687 °C, ID: 28-01202ceb55a3\n",
      "<00:40:02> Sensor: 1 of 2, Temperature: 22.062 °C, ID: 28-012116c9fc70\n",
      "<00:40:02> Sensor: 2 of 2, Temperature: 21.687 °C, ID: 28-01202ceb55a3\n",
      "<00:40:04> Sensor: 1 of 2, Temperature: 22.062 °C, ID: 28-012116c9fc70\n",
      "<00:40:04> Sensor: 2 of 2, Temperature: 21.687 °C, ID: 28-01202ceb55a3\n",
      "<00:40:06> Sensor: 1 of 2, Temperature: 22.062 °C, ID: 28-012116c9fc70\n",
      "<00:40:06> Sensor: 2 of 2, Temperature: 21.687 °C, ID: 28-01202ceb55a3\n",
      "<00:40:08> Sensor: 1 of 2, Temperature: 22.062 °C, ID: 28-012116c9fc70\n",
      "<00:40:08> Sensor: 2 of 2, Temperature: 21.687 °C, ID: 28-01202ceb55a3\n",
      "<00:40:10> Sensor: 1 of 2, Temperature: 22.062 °C, ID: 28-012116c9fc70\n",
      "<00:40:10> Sensor: 2 of 2, Temperature: 21.687 °C, ID: 28-01202ceb55a3\n",
      "<00:40:12> Sensor: 1 of 2, Temperature: 22.062 °C, ID: 28-012116c9fc70\n",
      "<00:40:12> Sensor: 2 of 2, Temperature: 21.687 °C, ID: 28-01202ceb55a3\n",
      "<00:40:14> Sensor: 1 of 2, Temperature: 22.062 °C, ID: 28-012116c9fc70\n",
      "<00:40:14> Sensor: 2 of 2, Temperature: 21.687 °C, ID: 28-01202ceb55a3\n",
      "<00:40:16> Sensor: 1 of 2, Temperature: 22.062 °C, ID: 28-012116c9fc70\n",
      "<00:40:16> Sensor: 2 of 2, Temperature: 21.687 °C, ID: 28-01202ceb55a3\n",
      "<00:40:18> Sensor: 1 of 2, Temperature: 22.062 °C, ID: 28-012116c9fc70\n",
      "<00:40:18> Sensor: 2 of 2, Temperature: 21.687 °C, ID: 28-01202ceb55a3\n",
      "<00:40:20> Sensor: 1 of 2, Temperature: 22.062 °C, ID: 28-012116c9fc70\n",
      "<00:40:20> Sensor: 2 of 2, Temperature: 21.687 °C, ID: 28-01202ceb55a3\n",
      "<00:40:22> Sensor: 1 of 2, Temperature: 22.062 °C, ID: 28-012116c9fc70\n",
      "<00:40:22> Sensor: 2 of 2, Temperature: 21.687 °C, ID: 28-01202ceb55a3\n",
      "<00:40:24> Sensor: 1 of 2, Temperature: 22.062 °C, ID: 28-012116c9fc70\n",
      "<00:40:24> Sensor: 2 of 2, Temperature: 21.687 °C, ID: 28-01202ceb55a3\n",
      "<00:40:26> Sensor: 1 of 2, Temperature: 22.062 °C, ID: 28-012116c9fc70\n",
      "<00:40:26> Sensor: 2 of 2, Temperature: 21.687 °C, ID: 28-01202ceb55a3\n",
      "<00:40:28> Sensor: 1 of 2, Temperature: 22.000 °C, ID: 28-012116c9fc70\n",
      "<00:40:28> Sensor: 2 of 2, Temperature: 21.687 °C, ID: 28-01202ceb55a3\n",
      "<00:40:30> Sensor: 1 of 2, Temperature: 22.062 °C, ID: 28-012116c9fc70\n",
      "<00:40:30> Sensor: 2 of 2, Temperature: 21.687 °C, ID: 28-01202ceb55a3\n",
      "<00:40:31> Sensor: 1 of 2, Temperature: 22.062 °C, ID: 28-012116c9fc70\n",
      "<00:40:31> Sensor: 2 of 2, Temperature: 21.687 °C, ID: 28-01202ceb55a3\n",
      "<00:40:33> Sensor: 1 of 2, Temperature: 22.062 °C, ID: 28-012116c9fc70\n",
      "<00:40:33> Sensor: 2 of 2, Temperature: 21.687 °C, ID: 28-01202ceb55a3\n",
      "<00:40:35> Sensor: 1 of 2, Temperature: 22.000 °C, ID: 28-012116c9fc70\n",
      "<00:40:35> Sensor: 2 of 2, Temperature: 21.687 °C, ID: 28-01202ceb55a3\n",
      "<00:40:37> Sensor: 1 of 2, Temperature: 22.000 °C, ID: 28-012116c9fc70\n",
      "<00:40:37> Sensor: 2 of 2, Temperature: 21.625 °C, ID: 28-01202ceb55a3\n",
      "<00:40:39> Sensor: 1 of 2, Temperature: 22.000 °C, ID: 28-012116c9fc70\n",
      "<00:40:39> Sensor: 2 of 2, Temperature: 21.625 °C, ID: 28-01202ceb55a3\n",
      "Keyboard Interrupt ^C detected.\n",
      "Bye.\n"
     ]
    }
   ],
   "source": [
    "import os, sys, time\n",
    "\n",
    "INTERVAL = 0.2\n",
    "\n",
    "device_path = '/sys/bus/w1/devices/'\n",
    "sensor_id_list = []\n",
    "sensor_value_list = []\n",
    "\n",
    "# temperature offset [K]\n",
    "temp_offset = 0.0\n",
    "\n",
    "def detectSensors():\n",
    "    global sensor_id_list\n",
    "    \n",
    "    try:\n",
    "        for obj in os.scandir(device_path):\n",
    "            # sensor IDs start with '28'\n",
    "            if obj.is_dir() and obj.name.split(\"-\")[0] == \"28\":\n",
    "                sensor_id_list.append(obj.name)\n",
    "                \n",
    "    except Exception as ex:\n",
    "        print(\"Searching for sensors raised the error: '{}'\".format(ex))\n",
    "        raise\n",
    "        \n",
    "\n",
    "def readoutSensors():\n",
    "    global sensor_id_list, sensor_value_list\n",
    "    \n",
    "    # initialize list\n",
    "    sensor_value_list = []\n",
    "    \n",
    "    # iterate over the sensor ID list\n",
    "    for sensor_id in sensor_id_list:\n",
    "        # read temperature from 1-wire slave of DS18B20\n",
    "        file = open(device_path + sensor_id + '/temperature')\n",
    "        filecontent = file.read()\n",
    "        file.close()\n",
    "\n",
    "        # Get temperature values and convert them\n",
    "        temperature = float(filecontent) / 1000\n",
    "        sensor_value_list.append(temperature)\n",
    "\n",
    "    # return temperature list\n",
    "    return(sensor_value_list)\n",
    "            \n",
    "detectSensors()\n",
    "\n",
    "while True:\n",
    "    try:\n",
    "        readoutSensors()\n",
    "        \n",
    "        i = 0\n",
    "        for sensor_value in sensor_value_list:\n",
    "            temp_corr = sensor_value + temp_offset\n",
    "        \n",
    "            print(\"<{:s}> Sensor: {:d} of {:d}, Temperature: {:.3f} °C, ID: {}\".format(time.strftime('%H:%M:%S'), i+1, len(sensor_id_list), temp_corr, sensor_id_list[i]))\n",
    "            \n",
    "            i = i + 1\n",
    "\n",
    "        time.sleep(INTERVAL)\n",
    "    \n",
    "    except:\n",
    "        print(\"Keyboard Interrupt ^C detected.\")\n",
    "        print(\"Bye.\")\n",
    "        break"
   ]
  },
  {
   "cell_type": "code",
   "execution_count": null,
   "id": "ee29f2d0-ce83-4dbb-9f3a-e2d64247a2ec",
   "metadata": {},
   "outputs": [],
   "source": []
  }
 ],
 "metadata": {
  "kernelspec": {
   "display_name": "Python 3",
   "language": "python",
   "name": "python3"
  },
  "language_info": {
   "codemirror_mode": {
    "name": "ipython",
    "version": 3
   },
   "file_extension": ".py",
   "mimetype": "text/x-python",
   "name": "python",
   "nbconvert_exporter": "python",
   "pygments_lexer": "ipython3",
   "version": "3.7.3"
  }
 },
 "nbformat": 4,
 "nbformat_minor": 5
}
