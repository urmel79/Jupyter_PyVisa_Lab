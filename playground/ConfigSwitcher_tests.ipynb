{
 "cells": [
  {
   "cell_type": "code",
   "execution_count": 173,
   "id": "47d9f88e-1b23-4647-a94d-46941d83c565",
   "metadata": {},
   "outputs": [],
   "source": [
    "class ConfigSwitcher:\n",
    "    \"\"\" Class for saving the configuration parameters for the measuring functions \n",
    "        and methods for cycling between the configurations \"\"\"\n",
    "\n",
    "    def __init__(self, configs_dict):\n",
    "        self._configs = configs_dict\n",
    "        self._index = 0\n",
    "        self._key = \"\"\n",
    "        self._value = \"\"\n",
    "\n",
    "    def get_config(self):\n",
    "        self._value = self._configs[list(sorted(self._configs))[self._index]]\n",
    "        return self._value\n",
    "    \n",
    "    def set_config(self, conf_str):\n",
    "        self._index = list(self._configs.keys()).index(conf_str)\n",
    "\n",
    "    def get_key(self):\n",
    "        self.get_config()\n",
    "        self._key = list(self._configs.keys())[list(self._configs.values()).index(self._value)]\n",
    "        return self._key\n",
    "    \n",
    "    def get_all_keys(self):\n",
    "        return list(self._configs.keys())\n",
    "\n",
    "    def cycle_configs(self):\n",
    "        self._index += 1\n",
    "\n",
    "        if self._index >= len(self._configs):\n",
    "            self._index = 0"
   ]
  },
  {
   "cell_type": "code",
   "execution_count": 174,
   "id": "6bc20a7e-e59f-40f9-8eb0-0e31a5d9aa47",
   "metadata": {},
   "outputs": [],
   "source": [
    "temp_configs_dict = { \"00_PT100_2WIRE\":   (\"RTD\",  100),         # PT100,   100 Ohm, 2-wire\n",
    "                      \"01_PT100_4WIRE\":   (\"FRTD\", 100),         # PT100,   100 Ohm, 4-wire\n",
    "                      \"02_PT1000_2WIRE\":  (\"RTD\",  1000),        # PT1000, 1000 Ohm, 2-wire\n",
    "                      \"03_PT1000_4WIRE\":  (\"FRTD\", 1000),        # PT1000, 1000 Ohm, 4-wire\n",
    "                      \"04_NTC_5K_2WIRE\":  (\"THER\", 5000),        # thermistor (NTC),  5 kOhm, 2-wire\n",
    "                      \"05_NTC_5K_4WIRE\":  (\"FTH\",  5000),        # thermistor (NTC),  5 kOhm, 4-wire\n",
    "                      \"06_NTC_10K_2WIRE\": (\"THER\", 10000),       # thermistor (NTC), 10 kOhm, 2-wire\n",
    "                      \"07_NTC_10K_4WIRE\": (\"FTH\",  10000),       # thermistor (NTC), 10 kOhm, 4-wire\n",
    "                      \"08_TC_J_INT\":      (\"TC\",   \"J\",  \"INT\"), # thermocouple, type J, internal reference temperature\n",
    "                      \"09_TC_K_INT\":      (\"TC\",   \"K\",  \"INT\"), # thermocouple, type K, internal reference temperature\n",
    "                      \"10_TC_E_INT\":      (\"TC\",   \"E\",  \"INT\"), # thermocouple, type E, internal reference temperature\n",
    "                      \"11_TC_T_INT\":      (\"TC\",   \"T\",  \"INT\"), # thermocouple, type T, internal reference temperature\n",
    "                      \"12_TC_N_INT\":      (\"TC\",   \"N\",  \"INT\"), # thermocouple, type N, internal reference temperature\n",
    "                      \"13_TC_R_INT\":      (\"TC\",   \"R\",  \"INT\"), # thermocouple, type R, internal reference temperature\n",
    "                      \"14_TC_J_FIX\":      (\"TC\",   \"J\",  \"FIX\"), # thermocouple, type J, external reference temperature\n",
    "                      \"15_TC_K_FIX\":      (\"TC\",   \"K\",  \"FIX\"), # thermocouple, type K, external reference temperature\n",
    "                      \"16_TC_E_FIX\":      (\"TC\",   \"E\",  \"FIX\"), # thermocouple, type E, external reference temperature\n",
    "                      \"17_TC_T_FIX\":      (\"TC\",   \"T\",  \"FIX\"), # thermocouple, type T, external reference temperature\n",
    "                      \"18_TC_N_FIX\":      (\"TC\",   \"N\",  \"FIX\"), # thermocouple, type N, external reference temperature\n",
    "                      \"19_TC_R_FIX\":      (\"TC\",   \"R\",  \"FIX\")  # thermocouple, type R, external reference temperature\n",
    "                    }"
   ]
  },
  {
   "cell_type": "code",
   "execution_count": 175,
   "id": "e9993e23-1c4f-4404-9bad-5d6061b20dd8",
   "metadata": {},
   "outputs": [],
   "source": [
    "config_temp = ConfigSwitcher(temp_configs_dict)"
   ]
  },
  {
   "cell_type": "code",
   "execution_count": 181,
   "id": "66b04174-47d0-45ed-826a-ddf8f5bd40d8",
   "metadata": {},
   "outputs": [
    {
     "data": {
      "text/plain": [
       "'17_TC_T_FIX'"
      ]
     },
     "execution_count": 181,
     "metadata": {},
     "output_type": "execute_result"
    }
   ],
   "source": [
    "config_temp.get_key()"
   ]
  },
  {
   "cell_type": "code",
   "execution_count": 182,
   "id": "c96b4249-9145-4e52-a048-dc4a9e17fd62",
   "metadata": {},
   "outputs": [
    {
     "data": {
      "text/plain": [
       "('TC', 'T', 'FIX')"
      ]
     },
     "execution_count": 182,
     "metadata": {},
     "output_type": "execute_result"
    }
   ],
   "source": [
    "config_temp.get_config()"
   ]
  },
  {
   "cell_type": "code",
   "execution_count": 180,
   "id": "5e8792b1-3e4d-4892-9941-3c69a59c9fe7",
   "metadata": {},
   "outputs": [],
   "source": [
    "config_temp.cycle_configs()"
   ]
  },
  {
   "cell_type": "code",
   "execution_count": 148,
   "id": "88cc3999-8195-4c55-b937-2439d404ad4a",
   "metadata": {},
   "outputs": [],
   "source": [
    "temp_configs_dict_keys = config_temp.get_all_keys()"
   ]
  },
  {
   "cell_type": "code",
   "execution_count": 149,
   "id": "379a75be-0d58-4f49-8dc0-0923c626ee35",
   "metadata": {},
   "outputs": [
    {
     "name": "stdout",
     "output_type": "stream",
     "text": [
      "00_PT100_2WIRE\n",
      "01_PT100_4WIRE\n",
      "02_PT1000_2WIRE\n",
      "03_PT1000_4WIRE\n",
      "04_NTC_5K_2WIRE\n",
      "05_NTC_5K_4WIRE\n",
      "06_NTC_10K_2WIRE\n",
      "07_NTC_10K_4WIRE\n",
      "08_TC_J_INT\n",
      "09_TC_K_INT\n",
      "10_TC_E_INT\n",
      "11_TC_T_INT\n",
      "12_TC_N_INT\n",
      "13_TC_R_INT\n",
      "14_TC_J_FIX\n",
      "15_TC_K_FIX\n",
      "16_TC_E_FIX\n",
      "17_TC_T_FIX\n",
      "18_TC_N_FIX\n",
      "19_TC_R_FIX\n"
     ]
    }
   ],
   "source": [
    "for item in temp_configs_dict_keys:\n",
    "    print(item)"
   ]
  },
  {
   "cell_type": "code",
   "execution_count": 157,
   "id": "98c67dee-9ef6-4f97-b1b3-c5164f7168b4",
   "metadata": {},
   "outputs": [
    {
     "name": "stdout",
     "output_type": "stream",
     "text": [
      "Key 00_PT100_2WIRE is contained in the dictionary\n"
     ]
    }
   ],
   "source": [
    "dict_key = \"00_PT100_2WIRE\"\n",
    "\n",
    "if dict_key not in temp_configs_dict:\n",
    "    print(\"Key {} is NOT contained in the dictionary\".format(dict_key))\n",
    "else:\n",
    "    print(\"Key {} is contained in the dictionary\".format(dict_key))"
   ]
  },
  {
   "cell_type": "code",
   "execution_count": 187,
   "id": "dcf779dd-3e65-476f-8f8b-8970393ede2d",
   "metadata": {},
   "outputs": [
    {
     "data": {
      "text/plain": [
       "'TC'"
      ]
     },
     "execution_count": 187,
     "metadata": {},
     "output_type": "execute_result"
    }
   ],
   "source": [
    "temp_configs_dict[\"16_TC_E_FIX\"][0]"
   ]
  },
  {
   "cell_type": "code",
   "execution_count": 177,
   "id": "1269ed16-345e-43d5-9807-5965b1f593bb",
   "metadata": {},
   "outputs": [],
   "source": [
    "config_temp.set_config(\"16_TC_E_FIX\")"
   ]
  },
  {
   "cell_type": "code",
   "execution_count": null,
   "id": "a2bea6d7-7490-4f57-877f-86c0594344df",
   "metadata": {},
   "outputs": [],
   "source": []
  }
 ],
 "metadata": {
  "kernelspec": {
   "display_name": "Python 3",
   "language": "python",
   "name": "python3"
  },
  "language_info": {
   "codemirror_mode": {
    "name": "ipython",
    "version": 3
   },
   "file_extension": ".py",
   "mimetype": "text/x-python",
   "name": "python",
   "nbconvert_exporter": "python",
   "pygments_lexer": "ipython3",
   "version": "3.7.3"
  }
 },
 "nbformat": 4,
 "nbformat_minor": 5
}
