{
 "cells": [
  {
   "cell_type": "markdown",
   "id": "1cd6d6c5-79b2-45ac-a2b4-fbc2a06bad78",
   "metadata": {},
   "source": [
    "# Test of several approaches to download files from websites"
   ]
  },
  {
   "cell_type": "code",
   "execution_count": 1,
   "id": "94daa9a4-8528-4878-81f0-43b39b4b0219",
   "metadata": {},
   "outputs": [],
   "source": [
    "import requests\n",
    "\n",
    "def download_file(url):\n",
    "    local_filename = url.split('/')[-1]\n",
    "    # NOTE the stream=True parameter below\n",
    "    with requests.get(url, stream=True) as r:\n",
    "        r.raise_for_status()\n",
    "        with open(local_filename, 'wb') as f:\n",
    "            for chunk in r.iter_content(chunk_size=8192): \n",
    "                # If you have chunk encoded response uncomment if\n",
    "                # and set chunk_size parameter to None.\n",
    "                #if chunk: \n",
    "                f.write(chunk)\n",
    "    return local_filename"
   ]
  },
  {
   "cell_type": "code",
   "execution_count": 2,
   "id": "0706191e-3b4e-4738-a6b9-411c061bfe44",
   "metadata": {},
   "outputs": [],
   "source": [
    "url_of_file = 'https://upload.wikimedia.org/wikipedia/en/thumb/c/cb/Raspberry_Pi_Logo.svg/188px-Raspberry_Pi_Logo.svg.png'"
   ]
  },
  {
   "cell_type": "code",
   "execution_count": 6,
   "id": "bd5df75d-1628-4ad2-8658-c3e628bc315c",
   "metadata": {},
   "outputs": [],
   "source": [
    "ret = download_file(url_of_file)"
   ]
  },
  {
   "cell_type": "code",
   "execution_count": 5,
   "id": "660fa0d9-44f4-40d6-aae4-dd2cb50ae6b5",
   "metadata": {},
   "outputs": [
    {
     "data": {
      "text/plain": [
       "'188px-Raspberry_Pi_Logo.svg.png'"
      ]
     },
     "execution_count": 5,
     "metadata": {},
     "output_type": "execute_result"
    }
   ],
   "source": [
    "ret"
   ]
  },
  {
   "cell_type": "code",
   "execution_count": 8,
   "id": "e4ddd25b-bd39-4253-b13c-ebc6cefaeff2",
   "metadata": {},
   "outputs": [
    {
     "data": {
      "text/plain": [
       "'http://192.168.10.207/DRV0/DATA0/000138_230221_135410.GTD'"
      ]
     },
     "execution_count": 8,
     "metadata": {},
     "output_type": "execute_result"
    }
   ],
   "source": [
    "ip_of_gp10 = '192.168.10.207'\n",
    "str_file_name = '000138_230221_135410.GTD'\n",
    "# Expand the download URI by file name\n",
    "file_url = 'http://' + ip_of_gp10 + '/DRV0/DATA0/'\n",
    "file_url = file_url + str_file_name\n",
    "\n",
    "file_url"
   ]
  },
  {
   "cell_type": "code",
   "execution_count": 9,
   "id": "02916907-0b56-40bb-bf73-0706635e3afc",
   "metadata": {},
   "outputs": [],
   "source": [
    "ret = download_file(file_url)"
   ]
  },
  {
   "cell_type": "code",
   "execution_count": 10,
   "id": "c3f17864-9a52-4d48-8293-68e88db1a413",
   "metadata": {},
   "outputs": [
    {
     "data": {
      "text/plain": [
       "'000138_230221_135410.GTD'"
      ]
     },
     "execution_count": 10,
     "metadata": {},
     "output_type": "execute_result"
    }
   ],
   "source": [
    "ret"
   ]
  },
  {
   "cell_type": "code",
   "execution_count": null,
   "id": "af98fae9-d318-473c-b337-1b8861b9d977",
   "metadata": {},
   "outputs": [],
   "source": []
  }
 ],
 "metadata": {
  "kernelspec": {
   "display_name": "Python 3 (ipykernel)",
   "language": "python",
   "name": "python3"
  },
  "language_info": {
   "codemirror_mode": {
    "name": "ipython",
    "version": 3
   },
   "file_extension": ".py",
   "mimetype": "text/x-python",
   "name": "python",
   "nbconvert_exporter": "python",
   "pygments_lexer": "ipython3",
   "version": "3.9.13"
  }
 },
 "nbformat": 4,
 "nbformat_minor": 5
}
