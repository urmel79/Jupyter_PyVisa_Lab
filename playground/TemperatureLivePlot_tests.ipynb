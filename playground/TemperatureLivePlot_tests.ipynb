{
 "cells": [
  {
   "cell_type": "code",
   "execution_count": 1,
   "id": "eb2f1266-2aa4-4a2b-8440-b0fc0c31ab2e",
   "metadata": {},
   "outputs": [],
   "source": [
    "# import wrapper class PyVisa_Keysight_34465A from python file PyVisa_Keysight_34465A_class.py\n",
    "# from ../PyVisa_Keysight_34465A_class.py import PyVisa_Keysight_34465A\n",
    "\n",
    "# classe PyVisa_Keysight_34465A has to imported via importlib due to different path of notebook and class file\n",
    "import importlib.util\n",
    "\n",
    "spec = importlib.util.spec_from_file_location(\"PyVisa_Keysight_34465A\", \"../PyVisa_Keysight_34465A_class.py\")\n",
    "keysight_class = importlib.util.module_from_spec(spec)\n",
    "spec.loader.exec_module(keysight_class)"
   ]
  },
  {
   "cell_type": "code",
   "execution_count": 2,
   "id": "6f27195d-9831-4c58-8cbe-749e8bff27e2",
   "metadata": {},
   "outputs": [],
   "source": [
    "# IP of devices\n",
    "ip_str = '192.168.12.150'\n",
    "#ip_str = '192.168.10.113'\n",
    "\n",
    "# create new device object for the digital multimeter (DMM) Keysight 34465A\n",
    "dmm = keysight_class.PyVisa_Keysight_34465A(tcp_ip = ip_str)\n",
    "#dmm = PyVisa_Keysight_34465A(tcp_ip = ip_str)"
   ]
  },
  {
   "cell_type": "code",
   "execution_count": 3,
   "id": "a0423de2-34a1-43d2-a118-9d3d216d8987",
   "metadata": {},
   "outputs": [
    {
     "data": {
      "text/plain": [
       "'Connected'"
      ]
     },
     "execution_count": 3,
     "metadata": {},
     "output_type": "execute_result"
    }
   ],
   "source": [
    "# read connection state of the device\n",
    "dmm.status"
   ]
  },
  {
   "cell_type": "code",
   "execution_count": 4,
   "id": "0059d64a-7b0e-4015-ae39-514202ef2fd2",
   "metadata": {},
   "outputs": [
    {
     "data": {
      "text/plain": [
       "'LAN over 192.168.12.150'"
      ]
     },
     "execution_count": 4,
     "metadata": {},
     "output_type": "execute_result"
    }
   ],
   "source": [
    "# read connection path (at the moment there is only TCP/IP implemented)\n",
    "dmm.connected_with"
   ]
  },
  {
   "cell_type": "code",
   "execution_count": 5,
   "id": "9bd15c2f-4c0c-4b2a-9081-82c3c58ae03a",
   "metadata": {},
   "outputs": [],
   "source": [
    "# configure DMM for temperature measurement with a valid configuration\n",
    "dmm.confTempMeasure('01_PT100_4WIRE')"
   ]
  },
  {
   "cell_type": "code",
   "execution_count": 7,
   "id": "78a30fec-5f7c-4c4b-a903-49dd43b9a132",
   "metadata": {
    "scrolled": true,
    "tags": []
   },
   "outputs": [
    {
     "name": "stdout",
     "output_type": "stream",
     "text": [
      "<20:22:59> Temperature: 19.4482341 °C\n",
      "<20:23:00> Temperature: 19.4476427 °C\n",
      "<20:23:01> Temperature: 19.4478729 °C\n",
      "<20:23:02> Temperature: 19.4479732 °C\n",
      "Keyboard Interrupt ^C detected.\n",
      "Bye.\n"
     ]
    }
   ],
   "source": [
    "import time\n",
    "\n",
    "while True:\n",
    "    try:\n",
    "        # retrieve temperature value\n",
    "        temp = dmm.getMeasurement()\n",
    "        print(\"<{:s}> Temperature: {:.7f} °C\".format(time.strftime('%H:%M:%S'), temp))\n",
    "        time.sleep(0.5)\n",
    "    \n",
    "    except:\n",
    "        print(\"Keyboard Interrupt ^C detected.\")\n",
    "        print(\"Bye.\")\n",
    "\n",
    "        break"
   ]
  },
  {
   "cell_type": "code",
   "execution_count": 9,
   "id": "25ae2bda-a2f1-43ec-a7f9-b6b734fdb7c0",
   "metadata": {},
   "outputs": [],
   "source": [
    "import datetime\n",
    "#import matplotlib\n",
    "#matplotlib.use(\"tkAgg\")\n",
    "import matplotlib.pyplot as plt\n",
    "%matplotlib inline\n",
    "import time"
   ]
  },
  {
   "cell_type": "code",
   "execution_count": 10,
   "id": "a4b076f4-c4b2-40d3-bbe8-ea0d4744ea79",
   "metadata": {},
   "outputs": [
    {
     "data": {
      "image/png": "[encoded data removed]",
      "text/plain": [
       "<Figure size 1600x800 with 1 Axes>"
      ]
     },
     "metadata": {},
     "output_type": "display_data"
    }
   ],
   "source": [
    "# You probably won't need this if you're embedding things in a tkinter plot...\n",
    "plt.ion()\n",
    "\n",
    "# Initialization of the value arrays with 30 zeros as start (especially important for moving average)\n",
    "window_avg = 30\n",
    "x_var = [0] * window_avg\n",
    "y_var = [0] * window_avg\n",
    "pd_mavg = [0] * window_avg\n",
    "#cpm_var = [0] * window_avg\n",
    "\n",
    "fig = plt.figure(num=1, figsize=(20, 10), dpi=80, facecolor='w', edgecolor='k')\n",
    "axes = plt.gca()\n",
    "\n",
    "xlim_left = 0\n",
    "xlim_right = 300\n",
    "xlim_scroll = 290 #290\n",
    "axes.set_xlim(xlim_left, xlim_right)\n",
    "\n",
    "line, = axes.plot(x_var, y_var, 'bo-', label='Temperature readings (PT100, 4-wire)')\n",
    "#line_avg, = axes.plot(x_var, pd_mavg, color='orange', linestyle='solid', label='Moving average over 30s')\n",
    "#line_cpm, = axes.plot(x_var, cpm_var, color='green', linestyle='solid', label='Counts per minute')\n",
    "\n",
    "title_string='Temperature readings for different types of sensors'\n",
    "axes.set_title(title_string)\n",
    "axes.grid(True)\n",
    "axes.set_xlabel('Time [s]')\n",
    "axes.set_ylabel('Temperature [°C]')\n",
    "plt.legend()\n",
    "plt.show()\n",
    "\n",
    "time_index = 0"
   ]
  },
  {
   "cell_type": "code",
   "execution_count": 11,
   "id": "7ccfe215-3190-432d-b9d9-f11b3d9ac9ea",
   "metadata": {},
   "outputs": [
    {
     "ename": "KeyboardInterrupt",
     "evalue": "",
     "output_type": "error",
     "traceback": [
      "\u001b[0;31m---------------------------------------------------------------------------\u001b[0m",
      "\u001b[0;31mKeyboardInterrupt\u001b[0m                         Traceback (most recent call last)",
      "\u001b[0;32m<ipython-input-11-d02a0dd23a17>\u001b[0m in \u001b[0;36m<module>\u001b[0;34m\u001b[0m\n\u001b[1;32m     35\u001b[0m     \u001b[0;31m#print(\"##### WAS HERE ... #####\")\u001b[0m\u001b[0;34m\u001b[0m\u001b[0;34m\u001b[0m\u001b[0;34m\u001b[0m\u001b[0m\n\u001b[1;32m     36\u001b[0m \u001b[0;34m\u001b[0m\u001b[0m\n\u001b[0;32m---> 37\u001b[0;31m     \u001b[0mtime\u001b[0m\u001b[0;34m.\u001b[0m\u001b[0msleep\u001b[0m\u001b[0;34m(\u001b[0m\u001b[0;36m1\u001b[0m\u001b[0;34m)\u001b[0m\u001b[0;34m\u001b[0m\u001b[0;34m\u001b[0m\u001b[0m\n\u001b[0m\u001b[1;32m     38\u001b[0m \u001b[0;34m\u001b[0m\u001b[0m\n\u001b[1;32m     39\u001b[0m     \u001b[0;31m#except:\u001b[0m\u001b[0;34m\u001b[0m\u001b[0;34m\u001b[0m\u001b[0;34m\u001b[0m\u001b[0m\n",
      "\u001b[0;31mKeyboardInterrupt\u001b[0m: "
     ]
    }
   ],
   "source": [
    "while True:\n",
    "    #try:\n",
    "    \n",
    "    # retrieve temperature value\n",
    "    temp_flt = dmm.getMeasurement()\n",
    "\n",
    "    #print(\"<{:s}> Temperature: {:.7f} °C\".format(time.strftime('%H:%M:%S'), temp_flt))\n",
    "\n",
    "    time_index = time_index + 1\n",
    "\n",
    "    # kurz bevor der rechte Rand erreicht wird, soll das Canvas nach links weiterscrollen\n",
    "    if (time_index >= xlim_scroll):\n",
    "        xlim_left = xlim_left + 1\n",
    "        xlim_right = xlim_right + 1\n",
    "        axes.set_xlim(xlim_left, xlim_right)\n",
    "\n",
    "    x_var.append(time_index)\n",
    "    y_var.append(temp_flt)\n",
    "\n",
    "    # Arrays auf sichtbaren Bereich beschneiden (besonders wichtig für Autoskalierung der y-Achse)\n",
    "    x_var_display = x_var[xlim_left:xlim_right]\n",
    "    y_var_display = y_var[xlim_left:xlim_right]\n",
    "\n",
    "    # neue Werte plotten\n",
    "    line.set_xdata(x_var_display)\n",
    "    line.set_ydata(y_var_display)\n",
    "\n",
    "    axes.relim()\n",
    "    axes.autoscale_view()\n",
    "    fig.canvas.draw()\n",
    "    fig.canvas.flush_events()\n",
    "    \n",
    "    #plt.show()\n",
    "\n",
    "    #print(\"##### WAS HERE ... #####\")\n",
    "\n",
    "    time.sleep(1)\n",
    "        \n",
    "    #except:\n",
    "    #    print(\"Keyboard Interrupt ^C detected.\")\n",
    "    #    print(\"Bye.\")\n",
    "\n",
    "    #    break"
   ]
  },
  {
   "cell_type": "code",
   "execution_count": 5,
   "id": "3f0e4641-d6bc-4250-804c-86630ca80281",
   "metadata": {
    "tags": []
   },
   "outputs": [
    {
     "ename": "KeyboardInterrupt",
     "evalue": "",
     "output_type": "error",
     "traceback": [
      "\u001b[0;31m---------------------------------------------------------------------------\u001b[0m",
      "\u001b[0;31mKeyboardInterrupt\u001b[0m                         Traceback (most recent call last)",
      "\u001b[0;32m<ipython-input-5-456804e4f911>\u001b[0m in \u001b[0;36m<module>\u001b[0;34m\u001b[0m\n\u001b[1;32m     38\u001b[0m     \u001b[0mclear_output\u001b[0m\u001b[0;34m(\u001b[0m\u001b[0mwait\u001b[0m \u001b[0;34m=\u001b[0m \u001b[0;32mTrue\u001b[0m\u001b[0;34m)\u001b[0m\u001b[0;34m\u001b[0m\u001b[0;34m\u001b[0m\u001b[0m\n\u001b[1;32m     39\u001b[0m \u001b[0;34m\u001b[0m\u001b[0m\n\u001b[0;32m---> 40\u001b[0;31m     \u001b[0mtime\u001b[0m\u001b[0;34m.\u001b[0m\u001b[0msleep\u001b[0m\u001b[0;34m(\u001b[0m\u001b[0;36m0.5\u001b[0m\u001b[0;34m)\u001b[0m\u001b[0;34m\u001b[0m\u001b[0;34m\u001b[0m\u001b[0m\n\u001b[0m",
      "\u001b[0;31mKeyboardInterrupt\u001b[0m: "
     ]
    },
    {
     "data": {
      "image/png": "[encoded data removed]",
      "text/plain": [
       "<Figure size 432x288 with 1 Axes>"
      ]
     },
     "metadata": {
      "needs_background": "light"
     },
     "output_type": "display_data"
    }
   ],
   "source": [
    "import numpy as np\n",
    "import time\n",
    "import matplotlib.pyplot as plt\n",
    "%matplotlib inline\n",
    "from IPython.display import display, clear_output\n",
    "\n",
    "x = np.linspace(0, 10, 100)\n",
    "y = np.cos(x)\n",
    "\n",
    "#plt.ion()\n",
    "\n",
    "#figure, axes = plt.subplots(figsize=(8,6))\n",
    "\n",
    "figure = plt.figure()\n",
    "ax = figure.add_subplot(1, 1, 1)\n",
    "\n",
    "line1, = ax.plot(x, y)\n",
    "\n",
    "plt.title(\"Dynamic Plot of sin(x)\",fontsize=22)\n",
    "\n",
    "plt.xlabel(\"x\",fontsize=18)\n",
    "plt.ylabel(\"sin(x)\",fontsize=18)\n",
    "\n",
    "for p in range(100):\n",
    "    updated_y = np.cos(x-0.05*p)\n",
    "    \n",
    "    line1.set_xdata(x)\n",
    "    line1.set_ydata(updated_y)\n",
    "    \n",
    "    ax.cla()\n",
    "    #ax.plot(x, updated_y)\n",
    "    \n",
    "    figure.canvas.draw()\n",
    "    \n",
    "    figure.canvas.flush_events()\n",
    "    \n",
    "    display(figure)    \n",
    "    clear_output(wait = True)\n",
    "    \n",
    "    time.sleep(0.5)\n"
   ]
  },
  {
   "cell_type": "code",
   "execution_count": 14,
   "id": "2ec1cace-9e03-4062-929a-5afc7aca4470",
   "metadata": {
    "collapsed": true,
    "jupyter": {
     "outputs_hidden": true,
     "source_hidden": true
    },
    "tags": []
   },
   "outputs": [
    {
     "data": {
      "image/png": "[encoded data removed]",
      "text/plain": [
       "<Figure size 432x288 with 1 Axes>"
      ]
     },
     "metadata": {},
     "output_type": "display_data"
    },
    {
     "name": "stdout",
     "output_type": "stream",
     "text": [
      "[1, 2, 3, 4, 5, 6]\n"
     ]
    }
   ],
   "source": [
    "import matplotlib.pyplot as plt\n",
    "import time\n",
    "%matplotlib inline\n",
    "fig = plt.figure()\n",
    "axes = fig.add_subplot(111)\n",
    "\n",
    "hfig = display(fig, display_id=True)\n",
    "values = [1,2,3,4,5,6]\n",
    "\n",
    "def draw():\n",
    "    #fig.clf()\n",
    "    axes.plot(values, [v*v for v in values])\n",
    "    fig.canvas.draw()\n",
    "    hfig.update(fig)\n",
    "    time.sleep(1)\n",
    "\n",
    "def update():\n",
    "    print(str(values))\n",
    "    axes.cla()\n",
    "    axes.plot(values, [v*(v+1) for v in values])\n",
    "    fig.canvas.draw()\n",
    "    hfig.update(fig)\n",
    "\n",
    "draw()\n",
    "time.sleep(1)\n",
    "update()\n",
    "plt.close(fig)"
   ]
  },
  {
   "cell_type": "code",
   "execution_count": 22,
   "id": "ae288af8-4c1d-447d-82a2-88d67252be89",
   "metadata": {},
   "outputs": [
    {
     "data": {
      "image/png": "[encoded data removed]",
      "text/plain": [
       "<Figure size 432x288 with 1 Axes>"
      ]
     },
     "metadata": {
      "needs_background": "light"
     },
     "output_type": "display_data"
    }
   ],
   "source": [
    "# Import Libraries\n",
    "\n",
    "import numpy as np\n",
    "import matplotlib.pyplot as plt\n",
    "from IPython.display import display, clear_output\n",
    "\n",
    "# Create figure and subplot\n",
    "\n",
    "fig = plt.figure()\n",
    "ax = fig.add_subplot(1, 1, 1) \n",
    "\n",
    "# Define and update plot\n",
    "\n",
    "for i in range(20):\n",
    "    x = np.linspace(0, i, 100);\n",
    "    y = np.cos(x) \n",
    "    ax.set_xlim(0, i)    \n",
    "    ax.cla()\n",
    "    ax.plot(x, y)\n",
    "    display(fig)    \n",
    "    clear_output(wait = True)\n",
    "    #plt.pause(0.1)\n",
    "    time.sleep(0.5)"
   ]
  },
  {
   "cell_type": "code",
   "execution_count": null,
   "id": "875b5b12-4b34-455f-9420-b19bbf7daf97",
   "metadata": {},
   "outputs": [],
   "source": []
  }
 ],
 "metadata": {
  "kernelspec": {
   "display_name": "Python 3",
   "language": "python",
   "name": "python3"
  },
  "language_info": {
   "codemirror_mode": {
    "name": "ipython",
    "version": 3
   },
   "file_extension": ".py",
   "mimetype": "text/x-python",
   "name": "python",
   "nbconvert_exporter": "python",
   "pygments_lexer": "ipython3",
   "version": "3.7.3"
  }
 },
 "nbformat": 4,
 "nbformat_minor": 5
}
