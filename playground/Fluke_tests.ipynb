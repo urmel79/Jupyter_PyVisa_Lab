{
 "cells": [
  {
   "cell_type": "markdown",
   "id": "0b87cd91-c166-4eac-88e8-724325c53f88",
   "metadata": {},
   "source": [
    "inspired by: [ModuleForKeithley](https://gist.github.com/rinitha/0844a61a82006fe92c78)"
   ]
  },
  {
   "cell_type": "code",
   "execution_count": 1,
   "id": "8867f848-9a55-4ed5-8f32-53c10c82f3af",
   "metadata": {},
   "outputs": [],
   "source": [
    "import socket"
   ]
  },
  {
   "cell_type": "code",
   "execution_count": 12,
   "id": "353cb139-be85-4ee6-ac48-fa163e29269a",
   "metadata": {},
   "outputs": [],
   "source": [
    "#dmm_ip = \"192.168.10.134\"\n",
    "dmm_ip = \"192.168.12.134\"\n",
    "\n",
    "dmm_port = 3490\n",
    "\n",
    "try:\n",
    "    dmm_sock = socket.socket(socket.AF_INET, socket.SOCK_STREAM)\n",
    "    dmm_sock.connect((dmm_ip, dmm_port))\n",
    "    \n",
    "except Exception as e: \n",
    "    print(\"Something's wrong with %s:%d. Exception is %s\" % (dmm_ip, dmm_port, e))"
   ]
  },
  {
   "cell_type": "code",
   "execution_count": 13,
   "id": "c3e3b47e-859a-49f9-9bba-3a080aec4c15",
   "metadata": {},
   "outputs": [],
   "source": [
    "# set timeout on blocking socket operations in [s]\n",
    "dmm_sock.settimeout(0.5)"
   ]
  },
  {
   "cell_type": "code",
   "execution_count": 18,
   "id": "16a9c071-df75-4c47-88ed-fcc26564d229",
   "metadata": {},
   "outputs": [],
   "source": [
    "scpi_msg = \"*IDN?\\n\"\n",
    "dmm_sock.sendall(scpi_msg.encode('utf-8'))"
   ]
  },
  {
   "cell_type": "code",
   "execution_count": 19,
   "id": "4a7b2c5b-ec76-41c7-9d11-eae960fa39d1",
   "metadata": {},
   "outputs": [
    {
     "name": "stdout",
     "output_type": "stream",
     "text": [
      "FLUKE,8846A,2034021,08/02/10-11:53\n"
     ]
    }
   ],
   "source": [
    "reading = dmm_sock.recv(128) # buffer size is 128 bytes\n",
    "print(reading.decode().strip())"
   ]
  },
  {
   "cell_type": "code",
   "execution_count": 10,
   "id": "7215292e-e881-4d73-a7ca-af0b6bf18dc2",
   "metadata": {},
   "outputs": [],
   "source": [
    "dmm_sock.close()"
   ]
  },
  {
   "cell_type": "code",
   "execution_count": 20,
   "id": "06f8905f-21ed-46ab-ada3-f208eadd4fe7",
   "metadata": {},
   "outputs": [],
   "source": [
    "scpi_msg = \"*RST\\n\"\n",
    "dmm_sock.sendall(scpi_msg.encode('utf-8'))"
   ]
  },
  {
   "cell_type": "code",
   "execution_count": 21,
   "id": "6e7ef8a6-d3db-4d05-bd61-49c3f07b9c80",
   "metadata": {},
   "outputs": [],
   "source": [
    "scpi_msg = \"SYST:REM\\n\"\n",
    "dmm_sock.sendall(scpi_msg.encode('utf-8'))"
   ]
  },
  {
   "cell_type": "code",
   "execution_count": 22,
   "id": "7d4eb97a-bd07-4922-b370-a63e868e66ef",
   "metadata": {},
   "outputs": [],
   "source": [
    "scpi_msg = \"CONF:RES DEF\\n\"\n",
    "dmm_sock.sendall(scpi_msg.encode('utf-8'))"
   ]
  },
  {
   "cell_type": "code",
   "execution_count": 23,
   "id": "28a6cfe2-03f6-4fa8-a0fa-2dfcc93ba79c",
   "metadata": {},
   "outputs": [],
   "source": [
    "scpi_msg = \"READ?\\n\"\n",
    "dmm_sock.sendall(scpi_msg.encode('utf-8'))"
   ]
  },
  {
   "cell_type": "code",
   "execution_count": 24,
   "id": "f8cb73e9-73ae-45cf-98a2-47b89d3b67dd",
   "metadata": {},
   "outputs": [
    {
     "name": "stdout",
     "output_type": "stream",
     "text": [
      "+1.50022800E+03\n"
     ]
    }
   ],
   "source": [
    "reading = dmm_sock.recv(64) # buffer size is 64 bytes\n",
    "print(reading.decode().strip())"
   ]
  },
  {
   "cell_type": "code",
   "execution_count": 25,
   "id": "5ed31483-db2d-4e18-ba77-8da56417fb17",
   "metadata": {},
   "outputs": [
    {
     "name": "stdout",
     "output_type": "stream",
     "text": [
      "Resistor: 1500.23 Ohm\n"
     ]
    }
   ],
   "source": [
    "res_flt = float(reading.decode().strip())\n",
    "\n",
    "print(\"Resistor: {:.2f} Ohm\".format(res_flt))"
   ]
  },
  {
   "cell_type": "code",
   "execution_count": null,
   "id": "42c622bd-9dfb-4880-9cf8-321893b38608",
   "metadata": {},
   "outputs": [],
   "source": []
  }
 ],
 "metadata": {
  "kernelspec": {
   "display_name": "Python 3 (ipykernel)",
   "language": "python",
   "name": "python3"
  },
  "language_info": {
   "codemirror_mode": {
    "name": "ipython",
    "version": 3
   },
   "file_extension": ".py",
   "mimetype": "text/x-python",
   "name": "python",
   "nbconvert_exporter": "python",
   "pygments_lexer": "ipython3",
   "version": "3.7.3"
  }
 },
 "nbformat": 4,
 "nbformat_minor": 5
}
