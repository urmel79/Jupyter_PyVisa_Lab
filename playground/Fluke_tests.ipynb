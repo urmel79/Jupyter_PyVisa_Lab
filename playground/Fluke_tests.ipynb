{
 "cells": [
  {
   "cell_type": "markdown",
   "id": "0b87cd91-c166-4eac-88e8-724325c53f88",
   "metadata": {},
   "source": [
    "inspired by: [ModuleForKeithley](https://gist.github.com/rinitha/0844a61a82006fe92c78)"
   ]
  },
  {
   "cell_type": "code",
   "execution_count": 1,
   "id": "8867f848-9a55-4ed5-8f32-53c10c82f3af",
   "metadata": {},
   "outputs": [],
   "source": [
    "import socket"
   ]
  },
  {
   "cell_type": "code",
   "execution_count": 10,
   "id": "353cb139-be85-4ee6-ac48-fa163e29269a",
   "metadata": {},
   "outputs": [],
   "source": [
    "dmm_sock = socket.socket(socket.AF_INET, socket.SOCK_STREAM)\n",
    "dmm_sock.connect((\"192.168.10.134\", 3490))"
   ]
  },
  {
   "cell_type": "code",
   "execution_count": 30,
   "id": "c3e3b47e-859a-49f9-9bba-3a080aec4c15",
   "metadata": {},
   "outputs": [],
   "source": [
    "# set timeout on blocking socket operations in [s]\n",
    "dmm_sock.settimeout(0.5)"
   ]
  },
  {
   "cell_type": "code",
   "execution_count": 47,
   "id": "16a9c071-df75-4c47-88ed-fcc26564d229",
   "metadata": {},
   "outputs": [],
   "source": [
    "scpi_msg = \"*IDN?\\n\"\n",
    "dmm_sock.sendall(scpi_msg.encode('utf-8'))"
   ]
  },
  {
   "cell_type": "code",
   "execution_count": 48,
   "id": "4a7b2c5b-ec76-41c7-9d11-eae960fa39d1",
   "metadata": {},
   "outputs": [
    {
     "name": "stdout",
     "output_type": "stream",
     "text": [
      "FLUKE,8846A,2034021,08/02/10-11:53\n",
      "\n"
     ]
    }
   ],
   "source": [
    "reading = dmm_sock.recv(512) # buffer size is 512 bytes\n",
    "print(reading.decode())"
   ]
  },
  {
   "cell_type": "code",
   "execution_count": 59,
   "id": "7215292e-e881-4d73-a7ca-af0b6bf18dc2",
   "metadata": {},
   "outputs": [],
   "source": [
    "dmm_sock.close()"
   ]
  },
  {
   "cell_type": "code",
   "execution_count": 37,
   "id": "06f8905f-21ed-46ab-ada3-f208eadd4fe7",
   "metadata": {},
   "outputs": [],
   "source": [
    "scpi_msg = \"*RST\\n\"\n",
    "dmm_sock.sendall(scpi_msg.encode('utf-8'))"
   ]
  },
  {
   "cell_type": "code",
   "execution_count": 38,
   "id": "6e7ef8a6-d3db-4d05-bd61-49c3f07b9c80",
   "metadata": {},
   "outputs": [],
   "source": [
    "scpi_msg = \"SYST:REM\\n\"\n",
    "dmm_sock.sendall(scpi_msg.encode('utf-8'))"
   ]
  },
  {
   "cell_type": "code",
   "execution_count": 39,
   "id": "7d4eb97a-bd07-4922-b370-a63e868e66ef",
   "metadata": {},
   "outputs": [],
   "source": [
    "scpi_msg = \"CONF:RES DEF\\n\"\n",
    "dmm_sock.sendall(scpi_msg.encode('utf-8'))"
   ]
  },
  {
   "cell_type": "code",
   "execution_count": 49,
   "id": "28a6cfe2-03f6-4fa8-a0fa-2dfcc93ba79c",
   "metadata": {},
   "outputs": [],
   "source": [
    "scpi_msg = \"READ?\\n\"\n",
    "dmm_sock.sendall(scpi_msg.encode('utf-8'))"
   ]
  },
  {
   "cell_type": "code",
   "execution_count": 50,
   "id": "f8cb73e9-73ae-45cf-98a2-47b89d3b67dd",
   "metadata": {},
   "outputs": [
    {
     "name": "stdout",
     "output_type": "stream",
     "text": [
      "+4.68614400E+02\n",
      "\n"
     ]
    }
   ],
   "source": [
    "reading = dmm_sock.recv(512) # buffer size is 512 bytes\n",
    "print(reading.decode())"
   ]
  },
  {
   "cell_type": "code",
   "execution_count": 54,
   "id": "816cc9ee-1042-4cb2-b4dd-c8d070316250",
   "metadata": {},
   "outputs": [
    {
     "data": {
      "text/plain": [
       "'+4.68614400E+02\\r\\n'"
      ]
     },
     "execution_count": 54,
     "metadata": {},
     "output_type": "execute_result"
    }
   ],
   "source": [
    "reading.decode().strip()"
   ]
  },
  {
   "cell_type": "code",
   "execution_count": 58,
   "id": "5ed31483-db2d-4e18-ba77-8da56417fb17",
   "metadata": {},
   "outputs": [
    {
     "name": "stdout",
     "output_type": "stream",
     "text": [
      "Resistor: 468.61 Ohm\n"
     ]
    }
   ],
   "source": [
    "res_flt = float(reading.decode().strip())\n",
    "\n",
    "print(\"Resistor: {:.2f} Ohm\".format(res_flt))"
   ]
  },
  {
   "cell_type": "code",
   "execution_count": null,
   "id": "42c622bd-9dfb-4880-9cf8-321893b38608",
   "metadata": {},
   "outputs": [],
   "source": []
  }
 ],
 "metadata": {
  "kernelspec": {
   "display_name": "Python 3 (ipykernel)",
   "language": "python",
   "name": "python3"
  },
  "language_info": {
   "codemirror_mode": {
    "name": "ipython",
    "version": 3
   },
   "file_extension": ".py",
   "mimetype": "text/x-python",
   "name": "python",
   "nbconvert_exporter": "python",
   "pygments_lexer": "ipython3",
   "version": "3.7.3"
  }
 },
 "nbformat": 4,
 "nbformat_minor": 5
}
