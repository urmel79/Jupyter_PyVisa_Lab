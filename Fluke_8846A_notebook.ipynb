{
 "cells": [
  {
   "cell_type": "markdown",
   "id": "4b4ee61f-bdc5-48f1-a97a-3a6abe28d8e2",
   "metadata": {
    "tags": []
   },
   "source": [
    "# Introduction and short technical overview of the Fluke 8846A\n",
    "\n",
    "The aim of this notebook is to introduce the driver class *Fluke_8846A* utilizing the programmable digital multimeter (DMM) **Fluke 8846A** in my lab.\n",
    "\n",
    "The **Fluke 8846A** comes with graphical color display for displaying measurement curves, histograms, bar graphs, statistics and mathematical functions. The **Fluke 8846A** 6.5 digit precision multimeter provides the accuracy and flexibility required for demanding measurements for laboratory and system applications.\n",
    "\n",
    "More information on technical details, specifications and downloadable documentation can be found here:\n",
    "\n",
    "- [8845A/8846A 6.5 Digit Precision Multimeters](https://us.flukecal.com/products/data-acquisition-and-test-equipment/bench-multimeters/8845a8846a-65-digit-precision-multime)\n",
    "\n",
    "![Front view of the Fluke 8846A](images/fluke_8846a_front.jpg)  \n",
    "Front view of the Fluke 8846A\n",
    "\n",
    "The following **programming manual** was helpful in understanding how to communicate with the DMM via its SCPI commands:\n",
    "\n",
    "- [8845A/8846A Programmers Manual (Eng) (923.05 KB)](https://download.flukecal.com/pub/literature/8845A___pmeng0300.pdf)"
   ]
  },
  {
   "cell_type": "markdown",
   "id": "2621d152-2a95-41f8-9dea-df79bb89a953",
   "metadata": {
    "tags": []
   },
   "source": [
    "# Possibilities of communication with the Fluke 8846A\n",
    "\n",
    "## Telnet-based communication (without Python)\n",
    "\n",
    "As described in the programming manual, it is possible to communicate with the **Fluke 8846A** directly via the Telnet protocol. The connection is established by specifying the SCPI port:\n",
    "\n",
    "```bash\n",
    "$ telnet 192.168.12.134 3490\n",
    "\n",
    "Trying 192.168.12.134...\n",
    "Connected to 192.168.12.134.\n",
    "Escape character is '^]'.\n",
    "*IDN?\n",
    "FLUKE,8846A,2034021,08/02/10-11:53\n",
    "*RST\n",
    "SYST:REM\n",
    "CONF:TEMP:RTD\n",
    "READ?\n",
    "+1.72179000E+01\n",
    "^]\n",
    "telnet> Connection closed.\n",
    "```\n",
    "\n",
    "The SCPI or Telnet connection is terminated via `STRG+]` and then `STRG+D`."
   ]
  },
  {
   "cell_type": "markdown",
   "id": "ad037567-01d4-45d9-a781-a10e5fb194a1",
   "metadata": {},
   "source": [
    "## Socket-based communication (in Python)\n",
    "\n",
    "For the class implementation for the **Rigol DP832A** and the DMM **Keysight 34465A** I already had very good experiences with the Python library *PyVisa*. Also because of the support of the standardized SCPI commands by the DMM **Fluke 8846A** *PyVisa* would have been my 1st choice.\n",
    "\n",
    "However, unlike the Rigol and Keysight device, the Fluke DMM does not support the `INSTR` TCP stream - probably the Fluke firmware is just too old (it is from 2010 according to system information!). A newer firmware as well as instructions for firmware upgrade could not be found on the official Fluke pages so far. That's what I call a really weak product support!\n",
    "\n",
    "Alternatively, *PyVisa* provides a socket stream for TCP connections (see [VISA Resource Syntax and Examples](https://pyvisa.readthedocs.io/en/1.8/names.html#visa-resource-syntax-and-examples)), e.g.:\n",
    "\n",
    "```python\n",
    "rm = ResourceManager('@py')\n",
    "dmm_socket = rm.open_resource('TCPIP0::192.168.12.134::3490::SOCKET')\n",
    "```\n",
    "\n",
    "Writing SCPI commands worked with it, if they were terminated appropriately with `\\n`. However, reading the return values ended with the error: `VisaIOError: VI_ERROR_TMO (-1073807339): Timeout expired before operation completed.`.  \n",
    "Therefore I decided not to use *PyVisa* and to implement the communication via raw sockets with the Python library *socket* (as of 2022-06-02). The following section demonstrates the socket-based communication.\n",
    "\n",
    "Among other sources, the use of raw sockets was inspired by: [ModuleForKeithley](https://gist.github.com/rinitha/0844a61a82006fe92c78)\n",
    "\n",
    "### Basic example"
   ]
  },
  {
   "cell_type": "code",
   "execution_count": 1,
   "id": "8867f848-9a55-4ed5-8f32-53c10c82f3af",
   "metadata": {},
   "outputs": [],
   "source": [
    "import socket"
   ]
  },
  {
   "cell_type": "code",
   "execution_count": 2,
   "id": "353cb139-be85-4ee6-ac48-fa163e29269a",
   "metadata": {},
   "outputs": [],
   "source": [
    "#dmm_ip = \"192.168.10.117\"\n",
    "dmm_ip = \"192.168.12.134\"\n",
    "\n",
    "# port for SCPI connection\n",
    "dmm_port = 3490\n",
    "\n",
    "try:\n",
    "    dmm_sock = socket.socket(socket.AF_INET, socket.SOCK_STREAM)\n",
    "    dmm_sock.connect((dmm_ip, dmm_port))\n",
    "    \n",
    "except Exception as e: \n",
    "    print(\"Something's wrong with %s:%d. Exception is %s\" % (dmm_ip, dmm_port, e))"
   ]
  },
  {
   "cell_type": "code",
   "execution_count": 3,
   "id": "c3e3b47e-859a-49f9-9bba-3a080aec4c15",
   "metadata": {},
   "outputs": [],
   "source": [
    "# set timeout on blocking socket operations in [s]\n",
    "dmm_sock.settimeout(0.5)"
   ]
  },
  {
   "cell_type": "code",
   "execution_count": 4,
   "id": "16a9c071-df75-4c47-88ed-fcc26564d229",
   "metadata": {},
   "outputs": [],
   "source": [
    "# get device information\n",
    "scpi_msg = \"*IDN?\\n\"\n",
    "dmm_sock.sendall(scpi_msg.encode('utf-8'))"
   ]
  },
  {
   "cell_type": "code",
   "execution_count": 5,
   "id": "4a7b2c5b-ec76-41c7-9d11-eae960fa39d1",
   "metadata": {},
   "outputs": [
    {
     "name": "stdout",
     "output_type": "stream",
     "text": [
      "FLUKE,8846A,2034021,08/02/10-11:53\n"
     ]
    }
   ],
   "source": [
    "reading = dmm_sock.recv(128) # buffer size is 128 bytes\n",
    "print(reading.decode().strip())"
   ]
  },
  {
   "cell_type": "code",
   "execution_count": 19,
   "id": "7215292e-e881-4d73-a7ca-af0b6bf18dc2",
   "metadata": {},
   "outputs": [],
   "source": [
    "# close the connection to the device\n",
    "dmm_sock.close()"
   ]
  },
  {
   "cell_type": "code",
   "execution_count": 6,
   "id": "06f8905f-21ed-46ab-ada3-f208eadd4fe7",
   "metadata": {},
   "outputs": [],
   "source": [
    "# reset the device\n",
    "scpi_msg = \"*RST\\n\"\n",
    "dmm_sock.sendall(scpi_msg.encode('utf-8'))"
   ]
  },
  {
   "cell_type": "code",
   "execution_count": 7,
   "id": "6e7ef8a6-d3db-4d05-bd61-49c3f07b9c80",
   "metadata": {},
   "outputs": [],
   "source": [
    "# get device into remote mode\n",
    "scpi_msg = \"SYST:REM\\n\"\n",
    "dmm_sock.sendall(scpi_msg.encode('utf-8'))"
   ]
  },
  {
   "cell_type": "code",
   "execution_count": 8,
   "id": "7d4eb97a-bd07-4922-b370-a63e868e66ef",
   "metadata": {},
   "outputs": [],
   "source": [
    "# configure device to resistance measurement\n",
    "scpi_msg = \"CONF:RES DEF\\n\"\n",
    "dmm_sock.sendall(scpi_msg.encode('utf-8'))"
   ]
  },
  {
   "cell_type": "code",
   "execution_count": 9,
   "id": "28a6cfe2-03f6-4fa8-a0fa-2dfcc93ba79c",
   "metadata": {},
   "outputs": [],
   "source": [
    "# read measurement value\n",
    "scpi_msg = \"READ?\\n\"\n",
    "dmm_sock.sendall(scpi_msg.encode('utf-8'))"
   ]
  },
  {
   "cell_type": "code",
   "execution_count": 10,
   "id": "f8cb73e9-73ae-45cf-98a2-47b89d3b67dd",
   "metadata": {},
   "outputs": [
    {
     "name": "stdout",
     "output_type": "stream",
     "text": [
      "+1.09975210E+02\n"
     ]
    }
   ],
   "source": [
    "reading = dmm_sock.recv(64) # buffer size is 64 bytes\n",
    "print(reading.decode().strip())"
   ]
  },
  {
   "cell_type": "code",
   "execution_count": 11,
   "id": "5ed31483-db2d-4e18-ba77-8da56417fb17",
   "metadata": {},
   "outputs": [
    {
     "name": "stdout",
     "output_type": "stream",
     "text": [
      "Resistor: 109.98 Ohm\n"
     ]
    }
   ],
   "source": [
    "# decode byte stream, strip whitespaces and newline characters from string and cast to float\n",
    "res_flt = float(reading.decode().strip())\n",
    "\n",
    "print(\"Resistor: {:.2f} Ohm\".format(res_flt))"
   ]
  },
  {
   "cell_type": "markdown",
   "id": "f09d3e3d-f2b7-4d88-901d-7e92f275e847",
   "metadata": {},
   "source": [
    "### Example with use of the secondary display"
   ]
  },
  {
   "cell_type": "code",
   "execution_count": 12,
   "id": "7128d823-c75d-4e82-972f-0f5adc97ca27",
   "metadata": {},
   "outputs": [],
   "source": [
    "# configure device to temperature measurement\n",
    "# configure secondary display to read corresponding resistance value\n",
    "scpi_msg = 'FUNC1 \"TEMP:RTD\"; FUNC2 \"RES\"\\n'\n",
    "dmm_sock.sendall(scpi_msg.encode('utf-8'))"
   ]
  },
  {
   "cell_type": "code",
   "execution_count": 13,
   "id": "447def59-3cfd-4770-ba67-b791f46e86f4",
   "metadata": {},
   "outputs": [],
   "source": [
    "# read out primary and secondary displays simultaneously\n",
    "scpi_msg = \"READ?;FETCH2?\\n\"\n",
    "dmm_sock.sendall(scpi_msg.encode('utf-8'))"
   ]
  },
  {
   "cell_type": "code",
   "execution_count": 14,
   "id": "c35a86d6-9221-4921-822e-a5c35ad6cdd0",
   "metadata": {},
   "outputs": [],
   "source": [
    "reading = dmm_sock.recv(64) # buffer size is 64 bytes"
   ]
  },
  {
   "cell_type": "code",
   "execution_count": 15,
   "id": "df07e984-b492-4852-9b43-09b4c31c2ba0",
   "metadata": {
    "tags": []
   },
   "outputs": [],
   "source": [
    "# decode byte stream, strip whitespaces and newline characters from string and split into list of values\n",
    "ret_val_list = reading.decode().strip().split(';')"
   ]
  },
  {
   "cell_type": "code",
   "execution_count": 16,
   "id": "8001770e-6ea2-4fec-a385-8957653bb709",
   "metadata": {},
   "outputs": [],
   "source": [
    "# iterate through the list and cast elements to float\n",
    "for idx, val in enumerate(ret_val_list):\n",
    "    ret_val_list[idx] = float(ret_val_list[idx])"
   ]
  },
  {
   "cell_type": "code",
   "execution_count": 18,
   "id": "f92a6444-b731-4aea-a812-d7dc935c6839",
   "metadata": {},
   "outputs": [
    {
     "name": "stdout",
     "output_type": "stream",
     "text": [
      "Temperature: 25.5638000 °C, resistance 109.9533000 Ohm\n"
     ]
    }
   ],
   "source": [
    "print(\"Temperature: {:.7f} °C, resistance {:.7f} Ohm\".format(ret_val_list[0], ret_val_list[1]))"
   ]
  },
  {
   "cell_type": "markdown",
   "id": "870e3e5c-e927-4f20-a918-773151f6dedc",
   "metadata": {},
   "source": [
    "## Socket-based wrapper class `Fluke_8846A`\n",
    "\n",
    "The new wrapper class **Fluke_8846A** in the python file *Fluke_8846A_class.py* implements the communication with the DMM Fluke 8846A via LAN interface and SCPI commands using TCP sockets."
   ]
  },
  {
   "cell_type": "code",
   "execution_count": 20,
   "id": "63c21b9e-5b74-4c44-9e34-7635d0e5c9e2",
   "metadata": {
    "tags": []
   },
   "outputs": [],
   "source": [
    "# import wrapper class Fluke_8846A from python file Fluke_8846A_class.py\n",
    "from Fluke_8846A_class import Fluke_8846A\n",
    "\n",
    "import time"
   ]
  },
  {
   "cell_type": "code",
   "execution_count": 21,
   "id": "ecd4b930-b4d4-4497-a6fd-2b75e6a74b56",
   "metadata": {
    "tags": []
   },
   "outputs": [],
   "source": [
    "# IP of devices\n",
    "#dmm_ip = \"192.168.10.117\"\n",
    "dmm_ip = \"192.168.12.134\"\n",
    "\n",
    "# port for SCPI connection\n",
    "dmm_port = 3490\n",
    "\n",
    "# create new device object for the digital multimeter (DMM) Fluke 8846A\n",
    "dmm = Fluke_8846A(tcp_ip = dmm_ip, tcp_port = dmm_port)"
   ]
  },
  {
   "cell_type": "code",
   "execution_count": 22,
   "id": "2f89be13-9faa-42be-a6d0-4e028c292090",
   "metadata": {},
   "outputs": [
    {
     "data": {
      "text/plain": [
       "'Connected'"
      ]
     },
     "execution_count": 22,
     "metadata": {},
     "output_type": "execute_result"
    }
   ],
   "source": [
    "# read connection state of the device\n",
    "dmm.status"
   ]
  },
  {
   "cell_type": "code",
   "execution_count": 23,
   "id": "88502a26-fa98-476e-ae8b-753890d643db",
   "metadata": {},
   "outputs": [
    {
     "data": {
      "text/plain": [
       "'FLUKE 8846A over LAN on 192.168.12.134, port 3490'"
      ]
     },
     "execution_count": 23,
     "metadata": {},
     "output_type": "execute_result"
    }
   ],
   "source": [
    "# read connection path (at the moment there is only TCP/IP implemented)\n",
    "dmm.connected_with"
   ]
  },
  {
   "cell_type": "code",
   "execution_count": 24,
   "id": "9d464b08-a878-4503-9e53-5c0832c4b654",
   "metadata": {},
   "outputs": [
    {
     "data": {
      "text/plain": [
       "['FLUKE', '8846A', '2034021', '08/02/10-11:53']"
      ]
     },
     "execution_count": 24,
     "metadata": {},
     "output_type": "execute_result"
    }
   ],
   "source": [
    "# get device information\n",
    "dmm.getDevInfos()"
   ]
  },
  {
   "cell_type": "code",
   "execution_count": 38,
   "id": "93c64f40-e27f-40d3-a1c8-910ff6c14730",
   "metadata": {
    "tags": []
   },
   "outputs": [],
   "source": [
    "# close the connection to the device\n",
    "dmm.closeConnection()"
   ]
  },
  {
   "cell_type": "code",
   "execution_count": 26,
   "id": "2c620dac-7349-4e03-a982-9301a19f668f",
   "metadata": {},
   "outputs": [],
   "source": [
    "# open the connection again\n",
    "dmm.openConnection(tcp_ip = dmm_ip, tcp_port = dmm_port)"
   ]
  },
  {
   "cell_type": "code",
   "execution_count": 27,
   "id": "8314f19f-e842-4486-8b24-50d42740da2b",
   "metadata": {},
   "outputs": [
    {
     "data": {
      "text/plain": [
       "['00_RES',\n",
       " '01_FRES',\n",
       " '02_RTD',\n",
       " '03_FRTD',\n",
       " '04_RTD_RES',\n",
       " '05_FRTD_RES',\n",
       " '06_VOLT_AC',\n",
       " '07_VOLT_AC_FREQ',\n",
       " '08_VOLT_DC',\n",
       " '09_CURR_AC',\n",
       " '10_CURR_AC_FREQ',\n",
       " '11_CURR_DC',\n",
       " '12_CONT',\n",
       " '13_CAP']"
      ]
     },
     "execution_count": 27,
     "metadata": {},
     "output_type": "execute_result"
    }
   ],
   "source": [
    "# get a list of valid configurations for temperature measurement\n",
    "list(dmm.conf_measurement_dict.keys())"
   ]
  },
  {
   "cell_type": "code",
   "execution_count": 28,
   "id": "6aafbf59-9570-4710-9ca1-9354d998e9c6",
   "metadata": {},
   "outputs": [],
   "source": [
    "# configure DMM for measurement with a valid configuration\n",
    "dmm.confMeasurement('01_FRES')"
   ]
  },
  {
   "cell_type": "code",
   "execution_count": 34,
   "id": "a5250af5-f884-4d32-9a62-0308e13f7703",
   "metadata": {},
   "outputs": [],
   "source": [
    "# configure DMM for measurement with a valid configuration\n",
    "dmm.confMeasurement('04_RTD_RES')"
   ]
  },
  {
   "cell_type": "code",
   "execution_count": 30,
   "id": "a30738dc-809a-4535-b74c-8316381edfd5",
   "metadata": {},
   "outputs": [],
   "source": [
    "# configure DMM for measurement with a valid configuration\n",
    "dmm.confMeasurement('08_VOLT_DC')"
   ]
  },
  {
   "cell_type": "code",
   "execution_count": 31,
   "id": "2e183009-f2f7-4ae2-8720-7a160fec8565",
   "metadata": {},
   "outputs": [],
   "source": [
    "# configure DMM for measurement with a valid configuration\n",
    "dmm.confMeasurement('09_CURR_AC')"
   ]
  },
  {
   "cell_type": "code",
   "execution_count": 32,
   "id": "8fcb5a9c-650a-4e8c-9247-0e324ee5c8a8",
   "metadata": {},
   "outputs": [],
   "source": [
    "# configure DMM for measurement with a valid configuration\n",
    "dmm.confMeasurement('12_CONT')"
   ]
  },
  {
   "cell_type": "code",
   "execution_count": 33,
   "id": "47e58b11-07e1-4cfe-812d-1e2c8e796539",
   "metadata": {},
   "outputs": [],
   "source": [
    "# configure DMM for measurement with a valid configuration\n",
    "dmm.confMeasurement('13_CAP')"
   ]
  },
  {
   "cell_type": "code",
   "execution_count": 35,
   "id": "8239a4aa-7a72-4805-8723-46cc8ea29401",
   "metadata": {},
   "outputs": [
    {
     "data": {
      "text/plain": [
       "'\"TEMP:RTD +0.000000E+00,+1.000000E-03\"'"
      ]
     },
     "execution_count": 35,
     "metadata": {},
     "output_type": "execute_result"
    }
   ],
   "source": [
    "# get current configuration\n",
    "dmm.getConfig()"
   ]
  },
  {
   "cell_type": "code",
   "execution_count": 36,
   "id": "2eef0091-8d25-4642-8629-4997433be9f3",
   "metadata": {},
   "outputs": [
    {
     "data": {
      "text/plain": [
       "{'temperature_value': 25.5309,\n",
       " 'temperature_unit': '°C',\n",
       " 'resistance_value': 109.9406,\n",
       " 'resistance_unit': 'Ohm'}"
      ]
     },
     "execution_count": 36,
     "metadata": {},
     "output_type": "execute_result"
    }
   ],
   "source": [
    "# get measurement with current configuration\n",
    "dmm.getMeasurement()"
   ]
  },
  {
   "cell_type": "markdown",
   "id": "7a3ec6c9-44d9-40d0-9143-8df63b77e676",
   "metadata": {},
   "source": [
    "## Using the wrapper class in an example program for temperature measurement\n",
    "\n",
    "In this sample program, a temperature sensor Pt100 is read out continuously using the wrapper class `Fluke_8846A`:"
   ]
  },
  {
   "cell_type": "code",
   "execution_count": 39,
   "id": "e6fea56b-6444-4eb8-9d65-54ada43b59cc",
   "metadata": {
    "scrolled": true,
    "tags": []
   },
   "outputs": [
    {
     "name": "stdout",
     "output_type": "stream",
     "text": [
      "<23:26:43> Temperature: 25.526 °C, Resistance: 109.939 Ohm\n",
      "<23:26:44> Temperature: 25.524 °C, Resistance: 109.938 Ohm\n",
      "<23:26:45> Temperature: 25.529 °C, Resistance: 109.940 Ohm\n",
      "<23:26:46> Temperature: 25.531 °C, Resistance: 109.941 Ohm\n",
      "<23:26:47> Temperature: 25.528 °C, Resistance: 109.939 Ohm\n",
      "<23:26:48> Temperature: 25.528 °C, Resistance: 109.939 Ohm\n",
      "<23:26:49> Temperature: 26.430 °C, Resistance: 110.289 Ohm\n",
      "<23:26:50> Temperature: 28.331 °C, Resistance: 111.026 Ohm\n",
      "<23:26:51> Temperature: 29.364 °C, Resistance: 111.427 Ohm\n",
      "<23:26:52> Temperature: 30.081 °C, Resistance: 111.704 Ohm\n",
      "<23:26:53> Temperature: 30.629 °C, Resistance: 111.916 Ohm\n",
      "<23:26:54> Temperature: 31.072 °C, Resistance: 112.088 Ohm\n",
      "<23:26:55> Temperature: 31.334 °C, Resistance: 112.189 Ohm\n",
      "<23:26:56> Temperature: 31.695 °C, Resistance: 112.329 Ohm\n",
      "<23:26:56> Temperature: 32.026 °C, Resistance: 112.458 Ohm\n",
      "<23:26:57> Temperature: 32.303 °C, Resistance: 112.564 Ohm\n",
      "<23:26:58> Temperature: 32.541 °C, Resistance: 112.657 Ohm\n",
      "<23:26:59> Temperature: 32.754 °C, Resistance: 112.739 Ohm\n",
      "<23:27:00> Temperature: 32.943 °C, Resistance: 112.812 Ohm\n",
      "<23:27:01> Temperature: 33.113 °C, Resistance: 112.878 Ohm\n",
      "<23:27:02> Temperature: 33.274 °C, Resistance: 112.941 Ohm\n",
      "<23:27:03> Temperature: 33.349 °C, Resistance: 112.970 Ohm\n",
      "<23:27:04> Temperature: 33.278 °C, Resistance: 112.942 Ohm\n",
      "<23:27:05> Temperature: 33.195 °C, Resistance: 112.910 Ohm\n",
      "<23:27:06> Temperature: 33.104 °C, Resistance: 112.875 Ohm\n",
      "<23:27:07> Temperature: 33.019 °C, Resistance: 112.842 Ohm\n",
      "<23:27:08> Temperature: 32.940 °C, Resistance: 112.811 Ohm\n",
      "<23:27:09> Temperature: 32.868 °C, Resistance: 112.783 Ohm\n",
      "<23:27:10> Temperature: 32.789 °C, Resistance: 112.753 Ohm\n",
      "<23:27:11> Temperature: 32.719 °C, Resistance: 112.726 Ohm\n",
      "<23:27:12> Temperature: 32.648 °C, Resistance: 112.698 Ohm\n",
      "Keyboard Interrupt ^C detected.\n",
      "Bye.\n"
     ]
    }
   ],
   "source": [
    "import time\n",
    "\n",
    "# import wrapper class Fluke_8846A from python file Fluke_8846A_class.py\n",
    "from Fluke_8846A_class import Fluke_8846A\n",
    "\n",
    "INTERVAL = 0.2\n",
    "\n",
    "# IP of devices\n",
    "#dmm_ip = \"192.168.10.117\"\n",
    "dmm_ip = \"192.168.12.134\"\n",
    "\n",
    "# port for SCPI connection\n",
    "dmm_port = 3490\n",
    "\n",
    "# create new device object for the digital multimeter (DMM) Fluke 8846A\n",
    "dmm = Fluke_8846A(tcp_ip = dmm_ip, tcp_port = dmm_port)\n",
    "\n",
    "# get device information\n",
    "dmm.getDevInfos()\n",
    "\n",
    "# configure DMM for temperature measurement with sensor type Pt100\n",
    "# with its corresponding resistance value on the secondary display\n",
    "dmm.confMeasurement('04_RTD_RES')\n",
    "\n",
    "while True:\n",
    "    try:\n",
    "        # get measurement with current configuration\n",
    "        ret_dict = dmm.getMeasurement()\n",
    "        \n",
    "        print(\"<{:s}> Temperature: {:.3f} {}, Resistance: {:.3f} {}\".format(time.strftime('%H:%M:%S'), \n",
    "                                                                            ret_dict['temperature_value'], \n",
    "                                                                            ret_dict['temperature_unit'],\n",
    "                                                                            ret_dict['resistance_value'],\n",
    "                                                                            ret_dict['resistance_unit']))\n",
    "            \n",
    "        time.sleep(INTERVAL)\n",
    "        \n",
    "    except:\n",
    "        print(\"Keyboard Interrupt ^C detected.\")\n",
    "        print(\"Bye.\")\n",
    "        # close the connection to the device\n",
    "        dmm.closeConnection()\n",
    "        break"
   ]
  },
  {
   "cell_type": "markdown",
   "id": "7eb4a97d-8df9-4889-ad41-b64ef0bb768d",
   "metadata": {},
   "source": [
    "## PyVisa based communication (update)\n",
    "\n",
    "**Update (2022-06-12):**  \n",
    "Found the solution now: *PyVisa* must be made aware of the device-specific end-of-line terminations. The **Fluke 8846A** expects `\\n` termination of SCPI commands for both directions (read and write) according to the programming manual.\n",
    "The following documentation was helpful here:\n",
    "\n",
    "- [PyVisa: Termination characters](https://pyvisa.readthedocs.io/en/latest/introduction/resources.html#termination-characters)\n",
    "- [PyVisa: Getting the instrument configuration right](https://pyvisa.readthedocs.io/en/latest/introduction/communication.html#getting-the-instrument-configuration-right)\n",
    "- [Python: Connect device using Visa TCP Socket connection](https://stackoverflow.com/questions/65630897/python-connect-device-using-visa-tcp-socket-connection)"
   ]
  },
  {
   "cell_type": "code",
   "execution_count": 47,
   "id": "9b8af737-47b7-4727-8d9a-0a87d097c744",
   "metadata": {},
   "outputs": [
    {
     "name": "stdout",
     "output_type": "stream",
     "text": [
      "Open Successful!\n"
     ]
    }
   ],
   "source": [
    "import pyvisa\n",
    " \n",
    "try:  \n",
    "  rm = pyvisa.ResourceManager('@py') \n",
    "  pyvisa.log_to_screen\n",
    "  dmm_socket = 'TCPIP0::192.168.12.134::3490::SOCKET'\n",
    "  dmm = rm.open_resource(dmm_socket)\n",
    "  print('Open Successful!')\n",
    " \n",
    "except Exception as e:\n",
    "\n",
    "    print('[!] Exception:' +str(e))"
   ]
  },
  {
   "cell_type": "code",
   "execution_count": 53,
   "id": "1f3fc12f-adfa-44d3-8945-6810afa3d8d1",
   "metadata": {},
   "outputs": [],
   "source": [
    "# close connection\n",
    "dmm.close()"
   ]
  },
  {
   "cell_type": "code",
   "execution_count": 48,
   "id": "c3208f3f-e063-44fb-aaeb-2ffd0cd6dbbe",
   "metadata": {},
   "outputs": [
    {
     "name": "stdout",
     "output_type": "stream",
     "text": [
      "IDN:FLUKE,8846A,2034021,08/02/10-11:53\n"
     ]
    }
   ],
   "source": [
    "# inspired by https://stackoverflow.com/questions/65630897/python-connect-device-using-visa-tcp-socket-connection\n",
    "dmm.read_termination = '\\n'\n",
    "dmm.write_termination = '\\n'\n",
    "\n",
    "print('IDN:' +str(dmm.query('*IDN?')))"
   ]
  },
  {
   "cell_type": "code",
   "execution_count": 49,
   "id": "6d9ca8d9-9d90-4d4b-8d5b-fa386ef12ff8",
   "metadata": {},
   "outputs": [
    {
     "data": {
      "text/plain": [
       "5"
      ]
     },
     "execution_count": 49,
     "metadata": {},
     "output_type": "execute_result"
    }
   ],
   "source": [
    "# reset device\n",
    "cmd = '*RST'\n",
    "dmm.write(cmd)"
   ]
  },
  {
   "cell_type": "code",
   "execution_count": 50,
   "id": "54fe1ec1-1261-40b5-b6f9-980b4e996a9a",
   "metadata": {},
   "outputs": [
    {
     "data": {
      "text/plain": [
       "9"
      ]
     },
     "execution_count": 50,
     "metadata": {},
     "output_type": "execute_result"
    }
   ],
   "source": [
    "# get device into remote mode\n",
    "cmd = \"SYST:REM\"\n",
    "dmm.write(cmd)"
   ]
  },
  {
   "cell_type": "code",
   "execution_count": 51,
   "id": "71d1afed-682a-4d46-b335-8031b4eeeed0",
   "metadata": {},
   "outputs": [
    {
     "data": {
      "text/plain": [
       "14"
      ]
     },
     "execution_count": 51,
     "metadata": {},
     "output_type": "execute_result"
    }
   ],
   "source": [
    "# select temperature measurement\n",
    "cmd = \"CONF:TEMP:RTD\"\n",
    "dmm.write(cmd)"
   ]
  },
  {
   "cell_type": "code",
   "execution_count": 52,
   "id": "553b87f1-0ff3-4584-b6b4-2e557811e806",
   "metadata": {},
   "outputs": [
    {
     "name": "stdout",
     "output_type": "stream",
     "text": [
      "Temperature: 27.729100 °C\n"
     ]
    }
   ],
   "source": [
    "# get measurement\n",
    "cmd = 'READ?'\n",
    "ret_val = dmm.query(cmd)\n",
    "\n",
    "# strip whitespaces and newline characters from string and cast to float\n",
    "ret_val = ret_val.strip()\n",
    "ret_val = float(ret_val)\n",
    "\n",
    "print(\"Temperature: {:.6f} °C\".format(ret_val))"
   ]
  },
  {
   "cell_type": "code",
   "execution_count": null,
   "id": "98448b94-c7e4-42e1-b341-4b2cfcf3b084",
   "metadata": {},
   "outputs": [],
   "source": []
  }
 ],
 "metadata": {
  "kernelspec": {
   "display_name": "Python 3 (ipykernel)",
   "language": "python",
   "name": "python3"
  },
  "language_info": {
   "codemirror_mode": {
    "name": "ipython",
    "version": 3
   },
   "file_extension": ".py",
   "mimetype": "text/x-python",
   "name": "python",
   "nbconvert_exporter": "python",
   "pygments_lexer": "ipython3",
   "version": "3.7.3"
  }
 },
 "nbformat": 4,
 "nbformat_minor": 5
}
