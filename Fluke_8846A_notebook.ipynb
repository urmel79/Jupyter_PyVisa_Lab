{
 "cells": [
  {
   "cell_type": "markdown",
   "id": "4b4ee61f-bdc5-48f1-a97a-3a6abe28d8e2",
   "metadata": {
    "tags": []
   },
   "source": [
    "# Introduction and short technical overview of the Fluke 8846A\n",
    "\n",
    "The aim of this notebook is to introduce the driver class *Fluke_8846A* utilizing the programmable digital multimeter (DMM) **Fluke 8846A** in my lab.\n",
    "\n",
    "The **Fluke 8846A** comes with graphical color display for displaying measurement curves, histograms, bar graphs, statistics and mathematical functions. The **Fluke 8846A** 6.5 digit precision multimeter provides the accuracy and flexibility required for demanding measurements for laboratory and system applications.\n",
    "\n",
    "More information on technical details, specifications and downloadable documentation can be found here:\n",
    "\n",
    "- [8845A/8846A 6.5 Digit Precision Multimeters](https://us.flukecal.com/products/data-acquisition-and-test-equipment/bench-multimeters/8845a8846a-65-digit-precision-multime)\n",
    "\n",
    "![Front view of the Fluke 8846A](images/fluke_8846a_front.jpg)  \n",
    "Front view of the Fluke 8846A\n",
    "\n",
    "The following **programming manual** was helpful in understanding how to communicate with the DMM via its SCPI commands:\n",
    "\n",
    "- [8845A/8846A Programmers Manual (Eng) (923.05 KB)](https://download.flukecal.com/pub/literature/8845A___pmeng0300.pdf)"
   ]
  },
  {
   "cell_type": "markdown",
   "id": "2621d152-2a95-41f8-9dea-df79bb89a953",
   "metadata": {
    "tags": []
   },
   "source": [
    "# Possibilities of communication with the Fluke 8846A\n",
    "\n",
    "## Telnet-based communication (without Python)\n",
    "\n",
    "As described in the programming manual, it is possible to communicate with the **Fluke 8846A** directly via the Telnet protocol. The connection is established by specifying the SCPI port:\n",
    "\n",
    "```bash\n",
    "$ telnet 192.168.12.134 3490\n",
    "\n",
    "Trying 192.168.12.134...\n",
    "Connected to 192.168.12.134.\n",
    "Escape character is '^]'.\n",
    "*IDN?\n",
    "FLUKE,8846A,2034021,08/02/10-11:53\n",
    "*RST\n",
    "SYST:REM\n",
    "CONF:TEMP:RTD\n",
    "READ?\n",
    "+1.72179000E+01\n",
    "^]\n",
    "telnet> Connection closed.\n",
    "```\n",
    "\n",
    "The SCPI or Telnet connection is terminated via `STRG+]` and then `STRG+D`."
   ]
  },
  {
   "cell_type": "markdown",
   "id": "ad037567-01d4-45d9-a781-a10e5fb194a1",
   "metadata": {},
   "source": [
    "## Socket-based communication (in Python)\n",
    "\n",
    "For the class implementation for the **Rigol DP832A** and the DMM **Keysight 34465A** I already had very good experiences with the Python library *PyVisa*. Also because of the support of the standardized SCPI commands by the DMM **Fluke 8846A** *PyVisa* would have been my 1st choice.\n",
    "\n",
    "However, unlike the Rigol and Keysight device, the Fluke DMM does not support the `INSTR` TCP stream - probably the Fluke firmware is just too old (it is from 2010 according to system information!). A newer firmware as well as instructions for firmware upgrade could not be found on the official Fluke pages so far. That's what I call a really weak product support!\n",
    "\n",
    "Alternatively, *PyVisa* provides a socket stream for TCP connections (see [VISA Resource Syntax and Examples](https://pyvisa.readthedocs.io/en/1.8/names.html#visa-resource-syntax-and-examples)), e.g.:\n",
    "\n",
    "```python\n",
    "rm = ResourceManager('@py')\n",
    "dmm_socket = rm.open_resource('TCPIP0::192.168.12.134::3490::SOCKET')\n",
    "```\n",
    "\n",
    "Writing SCPI commands worked with it, if they were terminated appropriately with `\\n`. However, reading the return values ended with the error: `VisaIOError: VI_ERROR_TMO (-1073807339): Timeout expired before operation completed.`.  \n",
    "Therefore I decided not to use *PyVisa* and to implement the communication via raw sockets with the Python library *socket* (as of 2022-06-02). The following section demonstrates the socket-based communication.\n",
    "\n",
    "Among other sources, the use of raw sockets was inspired by: [ModuleForKeithley](https://gist.github.com/rinitha/0844a61a82006fe92c78)\n",
    "\n",
    "### Basic example"
   ]
  },
  {
   "cell_type": "code",
   "execution_count": 1,
   "id": "8867f848-9a55-4ed5-8f32-53c10c82f3af",
   "metadata": {},
   "outputs": [],
   "source": [
    "import socket"
   ]
  },
  {
   "cell_type": "code",
   "execution_count": 2,
   "id": "353cb139-be85-4ee6-ac48-fa163e29269a",
   "metadata": {},
   "outputs": [],
   "source": [
    "#dmm_ip = \"192.168.10.117\"\n",
    "dmm_ip = \"192.168.12.134\"\n",
    "\n",
    "# port for SCPI connection\n",
    "dmm_port = 3490\n",
    "\n",
    "try:\n",
    "    dmm_sock = socket.socket(socket.AF_INET, socket.SOCK_STREAM)\n",
    "    dmm_sock.connect((dmm_ip, dmm_port))\n",
    "    \n",
    "except Exception as e: \n",
    "    print(\"Something's wrong with %s:%d. Exception is %s\" % (dmm_ip, dmm_port, e))"
   ]
  },
  {
   "cell_type": "code",
   "execution_count": 3,
   "id": "c3e3b47e-859a-49f9-9bba-3a080aec4c15",
   "metadata": {},
   "outputs": [],
   "source": [
    "# set timeout on blocking socket operations in [s]\n",
    "dmm_sock.settimeout(0.5)"
   ]
  },
  {
   "cell_type": "code",
   "execution_count": 4,
   "id": "16a9c071-df75-4c47-88ed-fcc26564d229",
   "metadata": {},
   "outputs": [],
   "source": [
    "# get device information\n",
    "scpi_msg = \"*IDN?\\n\"\n",
    "dmm_sock.sendall(scpi_msg.encode('utf-8'))"
   ]
  },
  {
   "cell_type": "code",
   "execution_count": 5,
   "id": "4a7b2c5b-ec76-41c7-9d11-eae960fa39d1",
   "metadata": {},
   "outputs": [
    {
     "name": "stdout",
     "output_type": "stream",
     "text": [
      "FLUKE,8846A,2034021,08/02/10-11:53\n"
     ]
    }
   ],
   "source": [
    "reading = dmm_sock.recv(128) # buffer size is 128 bytes\n",
    "print(reading.decode().strip())"
   ]
  },
  {
   "cell_type": "code",
   "execution_count": 19,
   "id": "7215292e-e881-4d73-a7ca-af0b6bf18dc2",
   "metadata": {},
   "outputs": [],
   "source": [
    "# close the connection to the device\n",
    "dmm_sock.close()"
   ]
  },
  {
   "cell_type": "code",
   "execution_count": 6,
   "id": "06f8905f-21ed-46ab-ada3-f208eadd4fe7",
   "metadata": {},
   "outputs": [],
   "source": [
    "# reset the device\n",
    "scpi_msg = \"*RST\\n\"\n",
    "dmm_sock.sendall(scpi_msg.encode('utf-8'))"
   ]
  },
  {
   "cell_type": "code",
   "execution_count": 7,
   "id": "6e7ef8a6-d3db-4d05-bd61-49c3f07b9c80",
   "metadata": {},
   "outputs": [],
   "source": [
    "# get device into remote mode\n",
    "scpi_msg = \"SYST:REM\\n\"\n",
    "dmm_sock.sendall(scpi_msg.encode('utf-8'))"
   ]
  },
  {
   "cell_type": "code",
   "execution_count": 8,
   "id": "7d4eb97a-bd07-4922-b370-a63e868e66ef",
   "metadata": {},
   "outputs": [],
   "source": [
    "# configure device to resistance measurement\n",
    "scpi_msg = \"CONF:RES DEF\\n\"\n",
    "dmm_sock.sendall(scpi_msg.encode('utf-8'))"
   ]
  },
  {
   "cell_type": "code",
   "execution_count": 9,
   "id": "28a6cfe2-03f6-4fa8-a0fa-2dfcc93ba79c",
   "metadata": {},
   "outputs": [],
   "source": [
    "# read measurement value\n",
    "scpi_msg = \"READ?\\n\"\n",
    "dmm_sock.sendall(scpi_msg.encode('utf-8'))"
   ]
  },
  {
   "cell_type": "code",
   "execution_count": 10,
   "id": "f8cb73e9-73ae-45cf-98a2-47b89d3b67dd",
   "metadata": {},
   "outputs": [
    {
     "name": "stdout",
     "output_type": "stream",
     "text": [
      "+1.09975210E+02\n"
     ]
    }
   ],
   "source": [
    "reading = dmm_sock.recv(64) # buffer size is 64 bytes\n",
    "print(reading.decode().strip())"
   ]
  },
  {
   "cell_type": "code",
   "execution_count": 11,
   "id": "5ed31483-db2d-4e18-ba77-8da56417fb17",
   "metadata": {},
   "outputs": [
    {
     "name": "stdout",
     "output_type": "stream",
     "text": [
      "Resistor: 109.98 Ohm\n"
     ]
    }
   ],
   "source": [
    "# decode byte stream, strip whitespaces and newline characters from string and cast to float\n",
    "res_flt = float(reading.decode().strip())\n",
    "\n",
    "print(\"Resistor: {:.2f} Ohm\".format(res_flt))"
   ]
  },
  {
   "cell_type": "markdown",
   "id": "f09d3e3d-f2b7-4d88-901d-7e92f275e847",
   "metadata": {},
   "source": [
    "### Example with use of the secondary display"
   ]
  },
  {
   "cell_type": "code",
   "execution_count": 12,
   "id": "7128d823-c75d-4e82-972f-0f5adc97ca27",
   "metadata": {},
   "outputs": [],
   "source": [
    "# configure device to temperature measurement\n",
    "# configure secondary display to read corresponding resistance value\n",
    "scpi_msg = 'FUNC1 \"TEMP:RTD\"; FUNC2 \"RES\"\\n'\n",
    "dmm_sock.sendall(scpi_msg.encode('utf-8'))"
   ]
  },
  {
   "cell_type": "code",
   "execution_count": 13,
   "id": "447def59-3cfd-4770-ba67-b791f46e86f4",
   "metadata": {},
   "outputs": [],
   "source": [
    "# read out primary and secondary displays simultaneously\n",
    "scpi_msg = \"READ?;FETCH2?\\n\"\n",
    "dmm_sock.sendall(scpi_msg.encode('utf-8'))"
   ]
  },
  {
   "cell_type": "code",
   "execution_count": 14,
   "id": "c35a86d6-9221-4921-822e-a5c35ad6cdd0",
   "metadata": {},
   "outputs": [],
   "source": [
    "reading = dmm_sock.recv(64) # buffer size is 64 bytes"
   ]
  },
  {
   "cell_type": "code",
   "execution_count": 15,
   "id": "df07e984-b492-4852-9b43-09b4c31c2ba0",
   "metadata": {
    "tags": []
   },
   "outputs": [],
   "source": [
    "# decode byte stream, strip whitespaces and newline characters from string and split into list of values\n",
    "ret_val_list = reading.decode().strip().split(';')"
   ]
  },
  {
   "cell_type": "code",
   "execution_count": 16,
   "id": "8001770e-6ea2-4fec-a385-8957653bb709",
   "metadata": {},
   "outputs": [],
   "source": [
    "# iterate through the list and cast elements to float\n",
    "for idx, val in enumerate(ret_val_list):\n",
    "    ret_val_list[idx] = float(ret_val_list[idx])"
   ]
  },
  {
   "cell_type": "code",
   "execution_count": 18,
   "id": "f92a6444-b731-4aea-a812-d7dc935c6839",
   "metadata": {},
   "outputs": [
    {
     "name": "stdout",
     "output_type": "stream",
     "text": [
      "Temperature: 25.5638000 °C, resistance 109.9533000 Ohm\n"
     ]
    }
   ],
   "source": [
    "print(\"Temperature: {:.7f} °C, resistance {:.7f} Ohm\".format(ret_val_list[0], ret_val_list[1]))"
   ]
  },
  {
   "cell_type": "markdown",
   "id": "870e3e5c-e927-4f20-a918-773151f6dedc",
   "metadata": {},
   "source": [
    "### Socket-based wrapper class `Fluke_8846A`\n",
    "\n",
    "The new wrapper class **Fluke_8846A** in the python file *Fluke_8846A_class.py* implements the communication with the DMM Fluke 8846A via LAN interface and SCPI commands using TCP sockets."
   ]
  },
  {
   "cell_type": "code",
   "execution_count": 20,
   "id": "63c21b9e-5b74-4c44-9e34-7635d0e5c9e2",
   "metadata": {
    "tags": []
   },
   "outputs": [],
   "source": [
    "# import wrapper class Fluke_8846A from python file Fluke_8846A_class.py\n",
    "from Fluke_8846A_class import Fluke_8846A\n",
    "\n",
    "import time"
   ]
  },
  {
   "cell_type": "code",
   "execution_count": 21,
   "id": "ecd4b930-b4d4-4497-a6fd-2b75e6a74b56",
   "metadata": {
    "tags": []
   },
   "outputs": [],
   "source": [
    "# IP of devices\n",
    "#dmm_ip = \"192.168.10.117\"\n",
    "dmm_ip = \"192.168.12.134\"\n",
    "\n",
    "# port for SCPI connection\n",
    "dmm_port = 3490\n",
    "\n",
    "# create new device object for the digital multimeter (DMM) Fluke 8846A\n",
    "dmm = Fluke_8846A(tcp_ip = dmm_ip, tcp_port = dmm_port)"
   ]
  },
  {
   "cell_type": "code",
   "execution_count": 22,
   "id": "2f89be13-9faa-42be-a6d0-4e028c292090",
   "metadata": {},
   "outputs": [
    {
     "data": {
      "text/plain": [
       "'Connected'"
      ]
     },
     "execution_count": 22,
     "metadata": {},
     "output_type": "execute_result"
    }
   ],
   "source": [
    "# read connection state of the device\n",
    "dmm.status"
   ]
  },
  {
   "cell_type": "code",
   "execution_count": 23,
   "id": "88502a26-fa98-476e-ae8b-753890d643db",
   "metadata": {},
   "outputs": [
    {
     "data": {
      "text/plain": [
       "'FLUKE 8846A over LAN on 192.168.12.134, port 3490'"
      ]
     },
     "execution_count": 23,
     "metadata": {},
     "output_type": "execute_result"
    }
   ],
   "source": [
    "# read connection path (at the moment there is only TCP/IP implemented)\n",
    "dmm.connected_with"
   ]
  },
  {
   "cell_type": "code",
   "execution_count": 24,
   "id": "9d464b08-a878-4503-9e53-5c0832c4b654",
   "metadata": {
    "tags": []
   },
   "outputs": [
    {
     "data": {
      "text/plain": [
       "['FLUKE', '8846A', '2034021', '08/02/10-11:53']"
      ]
     },
     "execution_count": 24,
     "metadata": {},
     "output_type": "execute_result"
    }
   ],
   "source": [
    "# get device information\n",
    "dmm.getDevInfos()"
   ]
  },
  {
   "cell_type": "code",
   "execution_count": 38,
   "id": "93c64f40-e27f-40d3-a1c8-910ff6c14730",
   "metadata": {
    "tags": []
   },
   "outputs": [],
   "source": [
    "# close the connection to the device\n",
    "dmm.closeConnection()"
   ]
  },
  {
   "cell_type": "code",
   "execution_count": 26,
   "id": "2c620dac-7349-4e03-a982-9301a19f668f",
   "metadata": {},
   "outputs": [],
   "source": [
    "# open the connection again\n",
    "dmm.openConnection(tcp_ip = dmm_ip, tcp_port = dmm_port)"
   ]
  },
  {
   "cell_type": "code",
   "execution_count": 27,
   "id": "8314f19f-e842-4486-8b24-50d42740da2b",
   "metadata": {},
   "outputs": [
    {
     "data": {
      "text/plain": [
       "['00_RES',\n",
       " '01_FRES',\n",
       " '02_RTD',\n",
       " '03_FRTD',\n",
       " '04_RTD_RES',\n",
       " '05_FRTD_RES',\n",
       " '06_VOLT_AC',\n",
       " '07_VOLT_AC_FREQ',\n",
       " '08_VOLT_DC',\n",
       " '09_CURR_AC',\n",
       " '10_CURR_AC_FREQ',\n",
       " '11_CURR_DC',\n",
       " '12_CONT',\n",
       " '13_CAP']"
      ]
     },
     "execution_count": 27,
     "metadata": {},
     "output_type": "execute_result"
    }
   ],
   "source": [
    "# get a list of valid configurations for temperature measurement\n",
    "list(dmm.conf_measurement_dict.keys())"
   ]
  },
  {
   "cell_type": "code",
   "execution_count": 28,
   "id": "6aafbf59-9570-4710-9ca1-9354d998e9c6",
   "metadata": {},
   "outputs": [],
   "source": [
    "# configure DMM for measurement with a valid configuration\n",
    "dmm.confMeasurement('01_FRES')"
   ]
  },
  {
   "cell_type": "code",
   "execution_count": 34,
   "id": "a5250af5-f884-4d32-9a62-0308e13f7703",
   "metadata": {},
   "outputs": [],
   "source": [
    "# configure DMM for measurement with a valid configuration\n",
    "dmm.confMeasurement('04_RTD_RES')"
   ]
  },
  {
   "cell_type": "code",
   "execution_count": 30,
   "id": "a30738dc-809a-4535-b74c-8316381edfd5",
   "metadata": {},
   "outputs": [],
   "source": [
    "# configure DMM for measurement with a valid configuration\n",
    "dmm.confMeasurement('08_VOLT_DC')"
   ]
  },
  {
   "cell_type": "code",
   "execution_count": 31,
   "id": "2e183009-f2f7-4ae2-8720-7a160fec8565",
   "metadata": {},
   "outputs": [],
   "source": [
    "# configure DMM for measurement with a valid configuration\n",
    "dmm.confMeasurement('09_CURR_AC')"
   ]
  },
  {
   "cell_type": "code",
   "execution_count": 32,
   "id": "8fcb5a9c-650a-4e8c-9247-0e324ee5c8a8",
   "metadata": {},
   "outputs": [],
   "source": [
    "# configure DMM for measurement with a valid configuration\n",
    "dmm.confMeasurement('12_CONT')"
   ]
  },
  {
   "cell_type": "code",
   "execution_count": 33,
   "id": "47e58b11-07e1-4cfe-812d-1e2c8e796539",
   "metadata": {},
   "outputs": [],
   "source": [
    "# configure DMM for measurement with a valid configuration\n",
    "dmm.confMeasurement('13_CAP')"
   ]
  },
  {
   "cell_type": "code",
   "execution_count": 35,
   "id": "8239a4aa-7a72-4805-8723-46cc8ea29401",
   "metadata": {},
   "outputs": [
    {
     "data": {
      "text/plain": [
       "'\"TEMP:RTD +0.000000E+00,+1.000000E-03\"'"
      ]
     },
     "execution_count": 35,
     "metadata": {},
     "output_type": "execute_result"
    }
   ],
   "source": [
    "# get current configuration\n",
    "dmm.getConfig()"
   ]
  },
  {
   "cell_type": "code",
   "execution_count": 36,
   "id": "2eef0091-8d25-4642-8629-4997433be9f3",
   "metadata": {},
   "outputs": [
    {
     "data": {
      "text/plain": [
       "{'temperature_value': 25.5309,\n",
       " 'temperature_unit': '°C',\n",
       " 'resistance_value': 109.9406,\n",
       " 'resistance_unit': 'Ohm'}"
      ]
     },
     "execution_count": 36,
     "metadata": {},
     "output_type": "execute_result"
    }
   ],
   "source": [
    "# get measurement with current configuration\n",
    "dmm.getMeasurement()"
   ]
  },
  {
   "cell_type": "markdown",
   "id": "7a3ec6c9-44d9-40d0-9143-8df63b77e676",
   "metadata": {},
   "source": [
    "### Sample application for temperature measurement\n",
    "\n",
    "In this sample program, a temperature sensor Pt100 is read out continuously using the wrapper class `Fluke_8846A`.\n",
    "\n",
    "The class `MeasExecTimeOfProgram` is additionally used for performance measurement."
   ]
  },
  {
   "cell_type": "code",
   "execution_count": 2,
   "id": "e6fea56b-6444-4eb8-9d65-54ada43b59cc",
   "metadata": {
    "scrolled": true,
    "tags": []
   },
   "outputs": [
    {
     "name": "stdout",
     "output_type": "stream",
     "text": [
      "<22:17:00> Temperature: 30.114 °C, Resistance: 111.717 Ohm, Execution time: 936.740160\n",
      "<22:17:01> Temperature: 30.117 °C, Resistance: 111.718 Ohm, Execution time: 626.561403\n",
      "<22:17:02> Temperature: 30.116 °C, Resistance: 111.718 Ohm, Execution time: 627.581120\n",
      "<22:17:03> Temperature: 30.117 °C, Resistance: 111.718 Ohm, Execution time: 627.056122\n",
      "<22:17:03> Temperature: 30.118 °C, Resistance: 111.719 Ohm, Execution time: 626.888037\n",
      "<22:17:04> Temperature: 30.119 °C, Resistance: 111.719 Ohm, Execution time: 626.461029\n",
      "<22:17:05> Temperature: 30.117 °C, Resistance: 111.718 Ohm, Execution time: 626.589298\n",
      "<22:17:06> Temperature: 30.119 °C, Resistance: 111.719 Ohm, Execution time: 626.571178\n",
      "<22:17:07> Temperature: 30.117 °C, Resistance: 111.718 Ohm, Execution time: 628.631592\n",
      "<22:17:08> Temperature: 30.117 °C, Resistance: 111.718 Ohm, Execution time: 626.412153\n",
      "<22:17:08> Temperature: 30.117 °C, Resistance: 111.718 Ohm, Execution time: 626.295328\n",
      "<22:17:09> Temperature: 30.113 °C, Resistance: 111.717 Ohm, Execution time: 626.549959\n",
      "<22:17:10> Temperature: 30.114 °C, Resistance: 111.717 Ohm, Execution time: 626.219273\n",
      "Keyboard Interrupt ^C detected.\n",
      "Bye.\n"
     ]
    }
   ],
   "source": [
    "import time\n",
    "\n",
    "# import wrapper class Fluke_8846A from python file Fluke_8846A_class.py\n",
    "from Fluke_8846A_class import Fluke_8846A\n",
    "\n",
    "# import class MeasExecTimeOfProgram from python file MeasExecTimeOfProgramclass.py\n",
    "from MeasExecTimeOfProgram_class import MeasExecTimeOfProgram\n",
    "\n",
    "INTERVAL = 0.2\n",
    "\n",
    "# IP of devices\n",
    "#dmm_ip = \"192.168.10.117\"\n",
    "dmm_ip = \"192.168.12.134\"\n",
    "\n",
    "# port for SCPI connection\n",
    "dmm_port = 3490\n",
    "\n",
    "# create new device object for the digital multimeter (DMM) Fluke 8846A\n",
    "dmm = Fluke_8846A(tcp_ip = dmm_ip, tcp_port = dmm_port)\n",
    "\n",
    "# initiate measuring execution time\n",
    "execTime = MeasExecTimeOfProgram()\n",
    "execTime.initLogger()\n",
    "\n",
    "# get device information\n",
    "dmm.getDevInfos()\n",
    "\n",
    "# configure DMM for temperature measurement with sensor type Pt100\n",
    "# with its corresponding resistance value on the secondary display\n",
    "dmm.confMeasurement('04_RTD_RES')\n",
    "\n",
    "while True:\n",
    "    try:\n",
    "        execTime.start()\n",
    "        \n",
    "        # get measurement with current configuration\n",
    "        ret_dict = dmm.getMeasurement()\n",
    "        \n",
    "        deltaTime = execTime.stop()\n",
    "        execTime.addSample(deltaTime)\n",
    "        \n",
    "        print(\"<{:s}> Temperature: {:.3f} {}, Resistance: {:.3f} {}, Execution time: {:.6f}\".format(time.strftime('%H:%M:%S'), \n",
    "                                                                                                    ret_dict['temperature_value'], \n",
    "                                                                                                    ret_dict['temperature_unit'],\n",
    "                                                                                                    ret_dict['resistance_value'],\n",
    "                                                                                                    ret_dict['resistance_unit'],\n",
    "                                                                                                    deltaTime))\n",
    "            \n",
    "        time.sleep(INTERVAL)\n",
    "        \n",
    "    except:\n",
    "        print(\"Keyboard Interrupt ^C detected.\")\n",
    "        print(\"Bye.\")\n",
    "        # close the connection to the device\n",
    "        dmm.closeConnection()\n",
    "        break"
   ]
  },
  {
   "cell_type": "code",
   "execution_count": 3,
   "id": "12ffcdc7-ef18-47f7-bb07-cd6eb95a92c7",
   "metadata": {
    "tags": []
   },
   "outputs": [
    {
     "data": {
      "text/html": [
       "<div>\n",
       "<style scoped>\n",
       "    .dataframe tbody tr th:only-of-type {\n",
       "        vertical-align: middle;\n",
       "    }\n",
       "\n",
       "    .dataframe tbody tr th {\n",
       "        vertical-align: top;\n",
       "    }\n",
       "\n",
       "    .dataframe thead th {\n",
       "        text-align: right;\n",
       "    }\n",
       "</style>\n",
       "<table border=\"1\" class=\"dataframe\">\n",
       "  <thead>\n",
       "    <tr style=\"text-align: right;\">\n",
       "      <th></th>\n",
       "      <th>Time samples [ms]</th>\n",
       "    </tr>\n",
       "  </thead>\n",
       "  <tbody>\n",
       "    <tr>\n",
       "      <th>0</th>\n",
       "      <td>936.740160</td>\n",
       "    </tr>\n",
       "    <tr>\n",
       "      <th>1</th>\n",
       "      <td>626.561403</td>\n",
       "    </tr>\n",
       "    <tr>\n",
       "      <th>2</th>\n",
       "      <td>627.581120</td>\n",
       "    </tr>\n",
       "    <tr>\n",
       "      <th>3</th>\n",
       "      <td>627.056122</td>\n",
       "    </tr>\n",
       "    <tr>\n",
       "      <th>4</th>\n",
       "      <td>626.888037</td>\n",
       "    </tr>\n",
       "    <tr>\n",
       "      <th>5</th>\n",
       "      <td>626.461029</td>\n",
       "    </tr>\n",
       "    <tr>\n",
       "      <th>6</th>\n",
       "      <td>626.589298</td>\n",
       "    </tr>\n",
       "    <tr>\n",
       "      <th>7</th>\n",
       "      <td>626.571178</td>\n",
       "    </tr>\n",
       "    <tr>\n",
       "      <th>8</th>\n",
       "      <td>628.631592</td>\n",
       "    </tr>\n",
       "    <tr>\n",
       "      <th>9</th>\n",
       "      <td>626.412153</td>\n",
       "    </tr>\n",
       "    <tr>\n",
       "      <th>10</th>\n",
       "      <td>626.295328</td>\n",
       "    </tr>\n",
       "    <tr>\n",
       "      <th>11</th>\n",
       "      <td>626.549959</td>\n",
       "    </tr>\n",
       "    <tr>\n",
       "      <th>12</th>\n",
       "      <td>626.219273</td>\n",
       "    </tr>\n",
       "  </tbody>\n",
       "</table>\n",
       "</div>"
      ],
      "text/plain": [
       "    Time samples [ms]\n",
       "0          936.740160\n",
       "1          626.561403\n",
       "2          627.581120\n",
       "3          627.056122\n",
       "4          626.888037\n",
       "5          626.461029\n",
       "6          626.589298\n",
       "7          626.571178\n",
       "8          628.631592\n",
       "9          626.412153\n",
       "10         626.295328\n",
       "11         626.549959\n",
       "12         626.219273"
      ]
     },
     "execution_count": 3,
     "metadata": {},
     "output_type": "execute_result"
    }
   ],
   "source": [
    "execTime.getLogBuffer()"
   ]
  },
  {
   "cell_type": "code",
   "execution_count": 14,
   "id": "7fab3873-37af-4040-ad01-ffd916bf26d1",
   "metadata": {},
   "outputs": [
    {
     "data": {
      "text/plain": [
       "count     12.000000\n",
       "mean     626.818041\n",
       "std        0.681428\n",
       "min      626.219273\n",
       "25%      626.448810\n",
       "50%      626.566291\n",
       "75%      626.930058\n",
       "max      628.631592\n",
       "Name: Time samples [ms], dtype: float64"
      ]
     },
     "execution_count": 14,
     "metadata": {},
     "output_type": "execute_result"
    }
   ],
   "source": [
    "execTime.getStatistics()"
   ]
  },
  {
   "cell_type": "markdown",
   "id": "7eb4a97d-8df9-4889-ad41-b64ef0bb768d",
   "metadata": {},
   "source": [
    "## PyVisa based communication (update)\n",
    "\n",
    "**Update (2022-06-12):**  \n",
    "Found the solution now: *PyVisa* must be made aware of the device-specific end-of-line terminations. The **Fluke 8846A** expects `\\n` termination of SCPI commands for both directions (read and write) according to the programming manual.\n",
    "The following documentation was helpful here:\n",
    "\n",
    "- [PyVisa: Termination characters](https://pyvisa.readthedocs.io/en/latest/introduction/resources.html#termination-characters)\n",
    "- [PyVisa: Getting the instrument configuration right](https://pyvisa.readthedocs.io/en/latest/introduction/communication.html#getting-the-instrument-configuration-right)\n",
    "- [Python: Connect device using Visa TCP Socket connection](https://stackoverflow.com/questions/65630897/python-connect-device-using-visa-tcp-socket-connection)\n",
    "\n",
    "### PyVisa-based basic example"
   ]
  },
  {
   "cell_type": "code",
   "execution_count": 47,
   "id": "9b8af737-47b7-4727-8d9a-0a87d097c744",
   "metadata": {},
   "outputs": [
    {
     "name": "stdout",
     "output_type": "stream",
     "text": [
      "Open Successful!\n"
     ]
    }
   ],
   "source": [
    "import pyvisa\n",
    " \n",
    "try:  \n",
    "  rm = pyvisa.ResourceManager('@py') \n",
    "  pyvisa.log_to_screen\n",
    "  dmm_socket = 'TCPIP0::192.168.12.134::3490::SOCKET'\n",
    "  dmm = rm.open_resource(dmm_socket)\n",
    "  print('Open Successful!')\n",
    " \n",
    "except Exception as e:\n",
    "\n",
    "    print('[!] Exception:' +str(e))"
   ]
  },
  {
   "cell_type": "code",
   "execution_count": 53,
   "id": "1f3fc12f-adfa-44d3-8945-6810afa3d8d1",
   "metadata": {},
   "outputs": [],
   "source": [
    "# close connection\n",
    "dmm.close()"
   ]
  },
  {
   "cell_type": "code",
   "execution_count": 48,
   "id": "c3208f3f-e063-44fb-aaeb-2ffd0cd6dbbe",
   "metadata": {},
   "outputs": [
    {
     "name": "stdout",
     "output_type": "stream",
     "text": [
      "IDN:FLUKE,8846A,2034021,08/02/10-11:53\n"
     ]
    }
   ],
   "source": [
    "# inspired by https://stackoverflow.com/questions/65630897/python-connect-device-using-visa-tcp-socket-connection\n",
    "dmm.read_termination = '\\n'\n",
    "dmm.write_termination = '\\n'\n",
    "\n",
    "print('IDN:' +str(dmm.query('*IDN?')))"
   ]
  },
  {
   "cell_type": "code",
   "execution_count": 49,
   "id": "6d9ca8d9-9d90-4d4b-8d5b-fa386ef12ff8",
   "metadata": {},
   "outputs": [
    {
     "data": {
      "text/plain": [
       "5"
      ]
     },
     "execution_count": 49,
     "metadata": {},
     "output_type": "execute_result"
    }
   ],
   "source": [
    "# reset device\n",
    "cmd = '*RST'\n",
    "dmm.write(cmd)"
   ]
  },
  {
   "cell_type": "code",
   "execution_count": 50,
   "id": "54fe1ec1-1261-40b5-b6f9-980b4e996a9a",
   "metadata": {},
   "outputs": [
    {
     "data": {
      "text/plain": [
       "9"
      ]
     },
     "execution_count": 50,
     "metadata": {},
     "output_type": "execute_result"
    }
   ],
   "source": [
    "# get device into remote mode\n",
    "cmd = \"SYST:REM\"\n",
    "dmm.write(cmd)"
   ]
  },
  {
   "cell_type": "code",
   "execution_count": 51,
   "id": "71d1afed-682a-4d46-b335-8031b4eeeed0",
   "metadata": {},
   "outputs": [
    {
     "data": {
      "text/plain": [
       "14"
      ]
     },
     "execution_count": 51,
     "metadata": {},
     "output_type": "execute_result"
    }
   ],
   "source": [
    "# select temperature measurement\n",
    "cmd = \"CONF:TEMP:RTD\"\n",
    "dmm.write(cmd)"
   ]
  },
  {
   "cell_type": "code",
   "execution_count": 52,
   "id": "553b87f1-0ff3-4584-b6b4-2e557811e806",
   "metadata": {},
   "outputs": [
    {
     "name": "stdout",
     "output_type": "stream",
     "text": [
      "Temperature: 27.729100 °C\n"
     ]
    }
   ],
   "source": [
    "# get measurement\n",
    "cmd = 'READ?'\n",
    "ret_val = dmm.query(cmd)\n",
    "\n",
    "# strip whitespaces and newline characters from string and cast to float\n",
    "ret_val = ret_val.strip()\n",
    "ret_val = float(ret_val)\n",
    "\n",
    "print(\"Temperature: {:.6f} °C\".format(ret_val))"
   ]
  },
  {
   "cell_type": "markdown",
   "id": "1df3850e-9613-440f-bbd1-0667dc9c5d13",
   "metadata": {},
   "source": [
    "### PyVisa-based wrapper class `PyVisa_Fluke_8846A`"
   ]
  },
  {
   "cell_type": "code",
   "execution_count": 2,
   "id": "40630e59-83cf-44d4-be46-06b0464f478d",
   "metadata": {
    "tags": []
   },
   "outputs": [],
   "source": [
    "# import wrapper class Fluke_8846A from python file Fluke_8846A_class.py\n",
    "from PyVisa_Fluke_8846A_class import PyVisa_Fluke_8846A\n",
    "\n",
    "import time"
   ]
  },
  {
   "cell_type": "code",
   "execution_count": 3,
   "id": "14136613-c02a-4ac5-8760-38bca6d1bd72",
   "metadata": {
    "tags": []
   },
   "outputs": [],
   "source": [
    "# IP of devices\n",
    "#dmm_ip = \"192.168.10.117\"\n",
    "dmm_ip = \"192.168.12.134\"\n",
    "\n",
    "# port for SCPI connection\n",
    "dmm_port = 3490\n",
    "\n",
    "# create new device object for the digital multimeter (DMM) Fluke 8846A\n",
    "dmm = PyVisa_Fluke_8846A(tcp_ip = dmm_ip, tcp_port = dmm_port)"
   ]
  },
  {
   "cell_type": "code",
   "execution_count": 9,
   "id": "1a6e83f8-7f37-49e8-99db-1968c7e54314",
   "metadata": {},
   "outputs": [
    {
     "data": {
      "text/plain": [
       "'Connected'"
      ]
     },
     "execution_count": 9,
     "metadata": {},
     "output_type": "execute_result"
    }
   ],
   "source": [
    "# read connection state of the device\n",
    "dmm.status"
   ]
  },
  {
   "cell_type": "code",
   "execution_count": 10,
   "id": "8b0b9fe3-a8bf-49d9-be75-9d14d218d7a9",
   "metadata": {},
   "outputs": [
    {
     "data": {
      "text/plain": [
       "'FLUKE 8846A over LAN on 192.168.12.134, port 3490'"
      ]
     },
     "execution_count": 10,
     "metadata": {},
     "output_type": "execute_result"
    }
   ],
   "source": [
    "# read connection path (at the moment there is only TCP/IP implemented)\n",
    "dmm.connected_with"
   ]
  },
  {
   "cell_type": "code",
   "execution_count": 11,
   "id": "8a207ec0-64fe-4e7a-9708-e7dba42bd65e",
   "metadata": {
    "tags": []
   },
   "outputs": [
    {
     "data": {
      "text/plain": [
       "['FLUKE', '8846A', '2034021', '08/02/10-11:53']"
      ]
     },
     "execution_count": 11,
     "metadata": {},
     "output_type": "execute_result"
    }
   ],
   "source": [
    "# get device information\n",
    "dmm.getDevInfos()"
   ]
  },
  {
   "cell_type": "code",
   "execution_count": 7,
   "id": "eb73a4f6-9498-4bad-b156-af9895e3792b",
   "metadata": {
    "tags": []
   },
   "outputs": [],
   "source": [
    "# close the connection to the device\n",
    "dmm.closeConnection()"
   ]
  },
  {
   "cell_type": "code",
   "execution_count": 8,
   "id": "c8260eec-d880-462b-ad1c-576dca1190b6",
   "metadata": {},
   "outputs": [],
   "source": [
    "# open the connection again\n",
    "dmm.openConnection(tcp_ip = dmm_ip, tcp_port = dmm_port)"
   ]
  },
  {
   "cell_type": "code",
   "execution_count": 12,
   "id": "04bd0bf8-1e3e-4999-8b48-bf4388ac1aed",
   "metadata": {},
   "outputs": [
    {
     "data": {
      "text/plain": [
       "['00_RES',\n",
       " '01_FRES',\n",
       " '02_RTD',\n",
       " '03_FRTD',\n",
       " '04_RTD_RES',\n",
       " '05_FRTD_RES',\n",
       " '06_VOLT_AC',\n",
       " '07_VOLT_AC_FREQ',\n",
       " '08_VOLT_DC',\n",
       " '09_CURR_AC',\n",
       " '10_CURR_AC_FREQ',\n",
       " '11_CURR_DC',\n",
       " '12_CONT',\n",
       " '13_CAP']"
      ]
     },
     "execution_count": 12,
     "metadata": {},
     "output_type": "execute_result"
    }
   ],
   "source": [
    "# get a list of valid configurations for temperature measurement\n",
    "list(dmm.conf_measurement_dict.keys())"
   ]
  },
  {
   "cell_type": "code",
   "execution_count": 28,
   "id": "c70113f5-b301-48e3-9ed8-0fc42b00b06e",
   "metadata": {},
   "outputs": [],
   "source": [
    "# configure DMM for measurement with a valid configuration\n",
    "dmm.confMeasurement('01_FRES')"
   ]
  },
  {
   "cell_type": "code",
   "execution_count": 13,
   "id": "5d6fd6f3-8f5b-45e7-9d7a-395b5dc9194d",
   "metadata": {},
   "outputs": [],
   "source": [
    "# configure DMM for measurement with a valid configuration\n",
    "dmm.confMeasurement('04_RTD_RES')"
   ]
  },
  {
   "cell_type": "code",
   "execution_count": 30,
   "id": "39d599a3-5ca4-4446-88a4-f5062135eaa7",
   "metadata": {},
   "outputs": [],
   "source": [
    "# configure DMM for measurement with a valid configuration\n",
    "dmm.confMeasurement('08_VOLT_DC')"
   ]
  },
  {
   "cell_type": "code",
   "execution_count": 31,
   "id": "d4afd72b-d398-4a4e-b388-bfc07fcae449",
   "metadata": {},
   "outputs": [],
   "source": [
    "# configure DMM for measurement with a valid configuration\n",
    "dmm.confMeasurement('09_CURR_AC')"
   ]
  },
  {
   "cell_type": "code",
   "execution_count": 32,
   "id": "971f4e68-51f2-46d5-8154-6cd8fcbe2149",
   "metadata": {},
   "outputs": [],
   "source": [
    "# configure DMM for measurement with a valid configuration\n",
    "dmm.confMeasurement('12_CONT')"
   ]
  },
  {
   "cell_type": "code",
   "execution_count": 33,
   "id": "e01ec5d7-7a93-4302-acde-70e3622cab98",
   "metadata": {},
   "outputs": [],
   "source": [
    "# configure DMM for measurement with a valid configuration\n",
    "dmm.confMeasurement('13_CAP')"
   ]
  },
  {
   "cell_type": "code",
   "execution_count": 14,
   "id": "7cdb67a2-503b-40b8-83de-31ecd2ea60bd",
   "metadata": {},
   "outputs": [
    {
     "data": {
      "text/plain": [
       "'\"TEMP:RTD +0.000000E+00,+1.000000E-03\"'"
      ]
     },
     "execution_count": 14,
     "metadata": {},
     "output_type": "execute_result"
    }
   ],
   "source": [
    "# get current configuration\n",
    "dmm.getConfig()"
   ]
  },
  {
   "cell_type": "code",
   "execution_count": 16,
   "id": "c11dccf7-d739-41bf-afb4-9dbe8c1ea1ce",
   "metadata": {},
   "outputs": [
    {
     "data": {
      "text/plain": [
       "{'temperature_value': 25.6906,\n",
       " 'temperature_unit': '°C',\n",
       " 'resistance_value': 110.0025,\n",
       " 'resistance_unit': 'Ohm'}"
      ]
     },
     "execution_count": 16,
     "metadata": {},
     "output_type": "execute_result"
    }
   ],
   "source": [
    "# get measurement with current configuration\n",
    "dmm.getMeasurement()"
   ]
  },
  {
   "cell_type": "markdown",
   "id": "f019f612-72e6-4f39-8ae3-4363932379c2",
   "metadata": {},
   "source": [
    "### Sample application for temperature measurement\n",
    "\n",
    "In this sample program, a temperature sensor Pt100 is read out continuously using the wrapper class `PyVisa_Fluke_8846A`.\n",
    "\n",
    "The class `MeasExecTimeOfProgram` is additionally used for performance measurement."
   ]
  },
  {
   "cell_type": "code",
   "execution_count": 15,
   "id": "600d94db-a925-459a-b29b-e520306a73ee",
   "metadata": {
    "scrolled": true,
    "tags": []
   },
   "outputs": [
    {
     "name": "stdout",
     "output_type": "stream",
     "text": [
      "<22:17:55> Temperature: 30.161 °C, Resistance: 111.735 Ohm, Execution time: 644.728661\n",
      "<22:17:56> Temperature: 30.159 °C, Resistance: 111.734 Ohm, Execution time: 607.444286\n",
      "<22:17:57> Temperature: 30.159 °C, Resistance: 111.734 Ohm, Execution time: 613.839865\n",
      "<22:17:58> Temperature: 30.160 °C, Resistance: 111.735 Ohm, Execution time: 607.913494\n",
      "<22:17:59> Temperature: 30.159 °C, Resistance: 111.734 Ohm, Execution time: 600.943089\n",
      "<22:17:59> Temperature: 30.158 °C, Resistance: 111.734 Ohm, Execution time: 627.319098\n",
      "<22:18:00> Temperature: 30.160 °C, Resistance: 111.735 Ohm, Execution time: 609.814405\n",
      "<22:18:01> Temperature: 30.163 °C, Resistance: 111.736 Ohm, Execution time: 614.394426\n",
      "<22:18:02> Temperature: 30.158 °C, Resistance: 111.734 Ohm, Execution time: 608.453274\n",
      "<22:18:03> Temperature: 30.160 °C, Resistance: 111.735 Ohm, Execution time: 607.698679\n",
      "<22:18:03> Temperature: 30.163 °C, Resistance: 111.736 Ohm, Execution time: 599.097013\n",
      "<22:18:04> Temperature: 30.163 °C, Resistance: 111.736 Ohm, Execution time: 608.201981\n",
      "<22:18:05> Temperature: 30.172 °C, Resistance: 111.740 Ohm, Execution time: 612.516880\n",
      "<22:18:06> Temperature: 30.177 °C, Resistance: 111.742 Ohm, Execution time: 608.168840\n",
      "<22:18:07> Temperature: 30.185 °C, Resistance: 111.745 Ohm, Execution time: 618.489742\n",
      "<22:18:08> Temperature: 30.186 °C, Resistance: 111.745 Ohm, Execution time: 613.270760\n",
      "Keyboard Interrupt ^C detected.\n",
      "Bye.\n"
     ]
    }
   ],
   "source": [
    "import time\n",
    "\n",
    "# import wrapper class PyVisa_Fluke_8846A from python file PyVisa_Fluke_8846A_class.py\n",
    "from PyVisa_Fluke_8846A_class import PyVisa_Fluke_8846A\n",
    "\n",
    "# import class MeasExecTimeOfProgram from python file MeasExecTimeOfProgramclass.py\n",
    "from MeasExecTimeOfProgram_class import MeasExecTimeOfProgram\n",
    "\n",
    "INTERVAL = 0.2\n",
    "\n",
    "# IP of devices\n",
    "#dmm_ip = \"192.168.10.117\"\n",
    "dmm_ip = \"192.168.12.134\"\n",
    "\n",
    "# port for SCPI connection\n",
    "dmm_port = 3490\n",
    "\n",
    "# create new device object for the digital multimeter (DMM) Fluke 8846A\n",
    "dmm = PyVisa_Fluke_8846A(tcp_ip = dmm_ip, tcp_port = dmm_port)\n",
    "\n",
    "# initiate measuring execution time\n",
    "execTime = MeasExecTimeOfProgram()\n",
    "execTime.initLogger()\n",
    "\n",
    "# get device information\n",
    "dmm.getDevInfos()\n",
    "\n",
    "# configure DMM for temperature measurement with sensor type Pt100\n",
    "# with its corresponding resistance value on the secondary display\n",
    "dmm.confMeasurement('04_RTD_RES')\n",
    "\n",
    "while True:\n",
    "    try:\n",
    "        execTime.start()\n",
    "        \n",
    "        # get measurement with current configuration\n",
    "        ret_dict = dmm.getMeasurement()\n",
    "        \n",
    "        deltaTime = execTime.stop()\n",
    "        execTime.addSample(deltaTime)\n",
    "        \n",
    "        print(\"<{:s}> Temperature: {:.3f} {}, Resistance: {:.3f} {}, Execution time: {:.6f}\".format(time.strftime('%H:%M:%S'), \n",
    "                                                                                                    ret_dict['temperature_value'], \n",
    "                                                                                                    ret_dict['temperature_unit'],\n",
    "                                                                                                    ret_dict['resistance_value'],\n",
    "                                                                                                    ret_dict['resistance_unit'],\n",
    "                                                                                                    deltaTime))\n",
    "            \n",
    "        time.sleep(INTERVAL)\n",
    "        \n",
    "    except:\n",
    "        print(\"Keyboard Interrupt ^C detected.\")\n",
    "        print(\"Bye.\")\n",
    "        # close the connection to the device\n",
    "        dmm.closeConnection()\n",
    "        break"
   ]
  },
  {
   "cell_type": "code",
   "execution_count": 16,
   "id": "24f28430-a778-47d4-ab75-e42e1195ca4e",
   "metadata": {},
   "outputs": [
    {
     "data": {
      "text/html": [
       "<div>\n",
       "<style scoped>\n",
       "    .dataframe tbody tr th:only-of-type {\n",
       "        vertical-align: middle;\n",
       "    }\n",
       "\n",
       "    .dataframe tbody tr th {\n",
       "        vertical-align: top;\n",
       "    }\n",
       "\n",
       "    .dataframe thead th {\n",
       "        text-align: right;\n",
       "    }\n",
       "</style>\n",
       "<table border=\"1\" class=\"dataframe\">\n",
       "  <thead>\n",
       "    <tr style=\"text-align: right;\">\n",
       "      <th></th>\n",
       "      <th>Time samples [ms]</th>\n",
       "    </tr>\n",
       "  </thead>\n",
       "  <tbody>\n",
       "    <tr>\n",
       "      <th>0</th>\n",
       "      <td>644.728661</td>\n",
       "    </tr>\n",
       "    <tr>\n",
       "      <th>1</th>\n",
       "      <td>607.444286</td>\n",
       "    </tr>\n",
       "    <tr>\n",
       "      <th>2</th>\n",
       "      <td>613.839865</td>\n",
       "    </tr>\n",
       "    <tr>\n",
       "      <th>3</th>\n",
       "      <td>607.913494</td>\n",
       "    </tr>\n",
       "    <tr>\n",
       "      <th>4</th>\n",
       "      <td>600.943089</td>\n",
       "    </tr>\n",
       "    <tr>\n",
       "      <th>5</th>\n",
       "      <td>627.319098</td>\n",
       "    </tr>\n",
       "    <tr>\n",
       "      <th>6</th>\n",
       "      <td>609.814405</td>\n",
       "    </tr>\n",
       "    <tr>\n",
       "      <th>7</th>\n",
       "      <td>614.394426</td>\n",
       "    </tr>\n",
       "    <tr>\n",
       "      <th>8</th>\n",
       "      <td>608.453274</td>\n",
       "    </tr>\n",
       "    <tr>\n",
       "      <th>9</th>\n",
       "      <td>607.698679</td>\n",
       "    </tr>\n",
       "    <tr>\n",
       "      <th>10</th>\n",
       "      <td>599.097013</td>\n",
       "    </tr>\n",
       "    <tr>\n",
       "      <th>11</th>\n",
       "      <td>608.201981</td>\n",
       "    </tr>\n",
       "    <tr>\n",
       "      <th>12</th>\n",
       "      <td>612.516880</td>\n",
       "    </tr>\n",
       "    <tr>\n",
       "      <th>13</th>\n",
       "      <td>608.168840</td>\n",
       "    </tr>\n",
       "    <tr>\n",
       "      <th>14</th>\n",
       "      <td>618.489742</td>\n",
       "    </tr>\n",
       "    <tr>\n",
       "      <th>15</th>\n",
       "      <td>613.270760</td>\n",
       "    </tr>\n",
       "  </tbody>\n",
       "</table>\n",
       "</div>"
      ],
      "text/plain": [
       "    Time samples [ms]\n",
       "0          644.728661\n",
       "1          607.444286\n",
       "2          613.839865\n",
       "3          607.913494\n",
       "4          600.943089\n",
       "5          627.319098\n",
       "6          609.814405\n",
       "7          614.394426\n",
       "8          608.453274\n",
       "9          607.698679\n",
       "10         599.097013\n",
       "11         608.201981\n",
       "12         612.516880\n",
       "13         608.168840\n",
       "14         618.489742\n",
       "15         613.270760"
      ]
     },
     "execution_count": 16,
     "metadata": {},
     "output_type": "execute_result"
    }
   ],
   "source": [
    "execTime.getLogBuffer()"
   ]
  },
  {
   "cell_type": "code",
   "execution_count": 22,
   "id": "0a141a75-32b1-4be5-8f6a-63a47e86ec97",
   "metadata": {},
   "outputs": [
    {
     "data": {
      "text/plain": [
       "count     15.000000\n",
       "mean     610.504389\n",
       "std        6.789675\n",
       "min      599.097013\n",
       "25%      607.806087\n",
       "50%      608.453274\n",
       "75%      613.555312\n",
       "max      627.319098\n",
       "Name: Time samples [ms], dtype: float64"
      ]
     },
     "execution_count": 22,
     "metadata": {},
     "output_type": "execute_result"
    }
   ],
   "source": [
    "execTime.getStatistics()"
   ]
  },
  {
   "cell_type": "code",
   "execution_count": null,
   "id": "d3f7032b-0d63-4ddb-9141-fe69e3056f76",
   "metadata": {},
   "outputs": [],
   "source": []
  }
 ],
 "metadata": {
  "kernelspec": {
   "display_name": "Python 3 (ipykernel)",
   "language": "python",
   "name": "python3"
  },
  "language_info": {
   "codemirror_mode": {
    "name": "ipython",
    "version": 3
   },
   "file_extension": ".py",
   "mimetype": "text/x-python",
   "name": "python",
   "nbconvert_exporter": "python",
   "pygments_lexer": "ipython3",
   "version": "3.7.3"
  },
  "toc-autonumbering": true
 },
 "nbformat": 4,
 "nbformat_minor": 5
}
