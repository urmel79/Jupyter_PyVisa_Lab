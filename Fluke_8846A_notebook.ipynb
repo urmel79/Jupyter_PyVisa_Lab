{
 "cells": [
  {
   "cell_type": "markdown",
   "id": "0b87cd91-c166-4eac-88e8-724325c53f88",
   "metadata": {},
   "source": [
    "inspired by: [ModuleForKeithley](https://gist.github.com/rinitha/0844a61a82006fe92c78)"
   ]
  },
  {
   "cell_type": "code",
   "execution_count": 9,
   "id": "8867f848-9a55-4ed5-8f32-53c10c82f3af",
   "metadata": {},
   "outputs": [],
   "source": [
    "import socket"
   ]
  },
  {
   "cell_type": "code",
   "execution_count": 10,
   "id": "353cb139-be85-4ee6-ac48-fa163e29269a",
   "metadata": {},
   "outputs": [],
   "source": [
    "dmm_ip = \"192.168.10.117\"\n",
    "#dmm_ip = \"192.168.12.134\"\n",
    "\n",
    "dmm_port = 3490\n",
    "\n",
    "try:\n",
    "    dmm_sock = socket.socket(socket.AF_INET, socket.SOCK_STREAM)\n",
    "    dmm_sock.connect((dmm_ip, dmm_port))\n",
    "    \n",
    "except Exception as e: \n",
    "    print(\"Something's wrong with %s:%d. Exception is %s\" % (dmm_ip, dmm_port, e))"
   ]
  },
  {
   "cell_type": "code",
   "execution_count": 11,
   "id": "c3e3b47e-859a-49f9-9bba-3a080aec4c15",
   "metadata": {},
   "outputs": [],
   "source": [
    "# set timeout on blocking socket operations in [s]\n",
    "dmm_sock.settimeout(0.5)"
   ]
  },
  {
   "cell_type": "code",
   "execution_count": 12,
   "id": "16a9c071-df75-4c47-88ed-fcc26564d229",
   "metadata": {},
   "outputs": [],
   "source": [
    "scpi_msg = \"*IDN?\\n\"\n",
    "dmm_sock.sendall(scpi_msg.encode('utf-8'))"
   ]
  },
  {
   "cell_type": "code",
   "execution_count": 13,
   "id": "4a7b2c5b-ec76-41c7-9d11-eae960fa39d1",
   "metadata": {},
   "outputs": [
    {
     "name": "stdout",
     "output_type": "stream",
     "text": [
      "FLUKE,8846A,3729018,08/02/10-11:53\n"
     ]
    }
   ],
   "source": [
    "reading = dmm_sock.recv(128) # buffer size is 128 bytes\n",
    "print(reading.decode().strip())"
   ]
  },
  {
   "cell_type": "code",
   "execution_count": 13,
   "id": "7215292e-e881-4d73-a7ca-af0b6bf18dc2",
   "metadata": {},
   "outputs": [],
   "source": [
    "dmm_sock.close()"
   ]
  },
  {
   "cell_type": "code",
   "execution_count": 14,
   "id": "06f8905f-21ed-46ab-ada3-f208eadd4fe7",
   "metadata": {},
   "outputs": [],
   "source": [
    "scpi_msg = \"*RST\\n\"\n",
    "dmm_sock.sendall(scpi_msg.encode('utf-8'))"
   ]
  },
  {
   "cell_type": "code",
   "execution_count": 15,
   "id": "6e7ef8a6-d3db-4d05-bd61-49c3f07b9c80",
   "metadata": {},
   "outputs": [],
   "source": [
    "scpi_msg = \"SYST:REM\\n\"\n",
    "dmm_sock.sendall(scpi_msg.encode('utf-8'))"
   ]
  },
  {
   "cell_type": "code",
   "execution_count": 9,
   "id": "7d4eb97a-bd07-4922-b370-a63e868e66ef",
   "metadata": {},
   "outputs": [],
   "source": [
    "scpi_msg = \"CONF:RES DEF\\n\"\n",
    "dmm_sock.sendall(scpi_msg.encode('utf-8'))"
   ]
  },
  {
   "cell_type": "code",
   "execution_count": 10,
   "id": "28a6cfe2-03f6-4fa8-a0fa-2dfcc93ba79c",
   "metadata": {},
   "outputs": [],
   "source": [
    "scpi_msg = \"READ?\\n\"\n",
    "dmm_sock.sendall(scpi_msg.encode('utf-8'))"
   ]
  },
  {
   "cell_type": "code",
   "execution_count": 11,
   "id": "f8cb73e9-73ae-45cf-98a2-47b89d3b67dd",
   "metadata": {},
   "outputs": [
    {
     "name": "stdout",
     "output_type": "stream",
     "text": [
      "+2.16531600E+02\n"
     ]
    }
   ],
   "source": [
    "reading = dmm_sock.recv(64) # buffer size is 64 bytes\n",
    "print(reading.decode().strip())"
   ]
  },
  {
   "cell_type": "code",
   "execution_count": 12,
   "id": "5ed31483-db2d-4e18-ba77-8da56417fb17",
   "metadata": {},
   "outputs": [
    {
     "name": "stdout",
     "output_type": "stream",
     "text": [
      "Resistor: 216.53 Ohm\n"
     ]
    }
   ],
   "source": [
    "res_flt = float(reading.decode().strip())\n",
    "\n",
    "print(\"Resistor: {:.2f} Ohm\".format(res_flt))"
   ]
  },
  {
   "cell_type": "code",
   "execution_count": 15,
   "id": "7128d823-c75d-4e82-972f-0f5adc97ca27",
   "metadata": {},
   "outputs": [],
   "source": [
    "scpi_msg = 'FUNC1 \"TEMP:FRTD\"; FUNC2 \"FRES\"\\n'\n",
    "dmm_sock.sendall(scpi_msg.encode('utf-8'))"
   ]
  },
  {
   "cell_type": "code",
   "execution_count": 33,
   "id": "447def59-3cfd-4770-ba67-b791f46e86f4",
   "metadata": {},
   "outputs": [],
   "source": [
    "scpi_msg = \"READ?;FETCH2?\\n\"\n",
    "dmm_sock.sendall(scpi_msg.encode('utf-8'))"
   ]
  },
  {
   "cell_type": "code",
   "execution_count": 34,
   "id": "c35a86d6-9221-4921-822e-a5c35ad6cdd0",
   "metadata": {},
   "outputs": [],
   "source": [
    "reading = dmm_sock.recv(64) # buffer size is 64 bytes"
   ]
  },
  {
   "cell_type": "code",
   "execution_count": 35,
   "id": "df07e984-b492-4852-9b43-09b4c31c2ba0",
   "metadata": {
    "tags": []
   },
   "outputs": [],
   "source": [
    "ret_val_list = reading.decode().strip().split(';')"
   ]
  },
  {
   "cell_type": "code",
   "execution_count": 36,
   "id": "8001770e-6ea2-4fec-a385-8957653bb709",
   "metadata": {},
   "outputs": [],
   "source": [
    "for idx, val in enumerate(ret_val_list):\n",
    "    ret_val_list[idx] = float(ret_val_list[idx])"
   ]
  },
  {
   "cell_type": "code",
   "execution_count": 37,
   "id": "f92a6444-b731-4aea-a812-d7dc935c6839",
   "metadata": {},
   "outputs": [
    {
     "name": "stdout",
     "output_type": "stream",
     "text": [
      "22.2445000, 108.6652000\n"
     ]
    }
   ],
   "source": [
    "print(\"{:.7f}, {:.7f}\".format(ret_val_list[0], ret_val_list[1]))"
   ]
  },
  {
   "cell_type": "code",
   "execution_count": 32,
   "id": "e21a094e-b56f-4842-9eb1-20144a317558",
   "metadata": {},
   "outputs": [],
   "source": []
  },
  {
   "cell_type": "markdown",
   "id": "870e3e5c-e927-4f20-a918-773151f6dedc",
   "metadata": {},
   "source": [
    "# Using the wrapper class 'Fluke_8846A' manually\n",
    "\n",
    "The new wrapper class **Fluke_8846A** in the python file *Fluke_8846A_class.py* implements the communication with the DMM Fluke 8846A via LAN interface and SCPI commands using TCP sockets."
   ]
  },
  {
   "cell_type": "code",
   "execution_count": 1,
   "id": "63c21b9e-5b74-4c44-9e34-7635d0e5c9e2",
   "metadata": {
    "tags": []
   },
   "outputs": [],
   "source": [
    "# import wrapper class Fluke_8846A from python file Fluke_8846A_class.py\n",
    "from Fluke_8846A_class import Fluke_8846A\n",
    "\n",
    "import time"
   ]
  },
  {
   "cell_type": "code",
   "execution_count": 2,
   "id": "ecd4b930-b4d4-4497-a6fd-2b75e6a74b56",
   "metadata": {
    "tags": []
   },
   "outputs": [],
   "source": [
    "# IP of devices\n",
    "#dmm_ip = \"192.168.10.117\"\n",
    "dmm_ip = \"192.168.12.134\"\n",
    "\n",
    "# port for SCPI connection\n",
    "dmm_port = 3490\n",
    "\n",
    "# create new device object for the digital multimeter (DMM) Fluke 8846A\n",
    "dmm = Fluke_8846A(tcp_ip = dmm_ip, tcp_port = dmm_port)"
   ]
  },
  {
   "cell_type": "code",
   "execution_count": 22,
   "id": "2f89be13-9faa-42be-a6d0-4e028c292090",
   "metadata": {},
   "outputs": [
    {
     "data": {
      "text/plain": [
       "'Disconnected'"
      ]
     },
     "execution_count": 22,
     "metadata": {},
     "output_type": "execute_result"
    }
   ],
   "source": [
    "# read connection state of the device\n",
    "dmm.status"
   ]
  },
  {
   "cell_type": "code",
   "execution_count": 4,
   "id": "88502a26-fa98-476e-ae8b-753890d643db",
   "metadata": {},
   "outputs": [
    {
     "data": {
      "text/plain": [
       "'FLUKE 8846A over LAN on 192.168.12.134, port 3490'"
      ]
     },
     "execution_count": 4,
     "metadata": {},
     "output_type": "execute_result"
    }
   ],
   "source": [
    "# read connection path (at the moment there is only TCP/IP implemented)\n",
    "dmm.connected_with"
   ]
  },
  {
   "cell_type": "code",
   "execution_count": 5,
   "id": "9d464b08-a878-4503-9e53-5c0832c4b654",
   "metadata": {},
   "outputs": [
    {
     "data": {
      "text/plain": [
       "['FLUKE', '8846A', '2034021', '08/02/10-11:53']"
      ]
     },
     "execution_count": 5,
     "metadata": {},
     "output_type": "execute_result"
    }
   ],
   "source": [
    "# get device information\n",
    "dmm.getDevInfos()"
   ]
  },
  {
   "cell_type": "code",
   "execution_count": 21,
   "id": "93c64f40-e27f-40d3-a1c8-910ff6c14730",
   "metadata": {},
   "outputs": [],
   "source": [
    "# close the connection to the device\n",
    "dmm.closeConnection()"
   ]
  },
  {
   "cell_type": "code",
   "execution_count": 26,
   "id": "2c620dac-7349-4e03-a982-9301a19f668f",
   "metadata": {},
   "outputs": [],
   "source": [
    "# open the connection again\n",
    "dmm.openConnection(tcp_ip = dmm_ip, tcp_port = dmm_port)"
   ]
  },
  {
   "cell_type": "code",
   "execution_count": 6,
   "id": "8314f19f-e842-4486-8b24-50d42740da2b",
   "metadata": {},
   "outputs": [
    {
     "data": {
      "text/plain": [
       "['00_RES',\n",
       " '01_FRES',\n",
       " '02_RTD',\n",
       " '03_FRTD',\n",
       " '04_RTD_RES',\n",
       " '05_FRTD_RES',\n",
       " '06_VOLT_AC',\n",
       " '07_VOLT_AC_FREQ',\n",
       " '08_VOLT_DC',\n",
       " '09_CURR_AC',\n",
       " '10_CURR_AC_FREQ',\n",
       " '11_CURR_DC',\n",
       " '12_CONT',\n",
       " '13_CAP']"
      ]
     },
     "execution_count": 6,
     "metadata": {},
     "output_type": "execute_result"
    }
   ],
   "source": [
    "# get a list of valid configurations for temperature measurement\n",
    "list(dmm.conf_measurement_dict.keys())"
   ]
  },
  {
   "cell_type": "code",
   "execution_count": 63,
   "id": "6aafbf59-9570-4710-9ca1-9354d998e9c6",
   "metadata": {},
   "outputs": [],
   "source": [
    "# configure DMM for measurement with a valid configuration\n",
    "dmm.confMeasurement('01_FRES')"
   ]
  },
  {
   "cell_type": "code",
   "execution_count": 27,
   "id": "a5250af5-f884-4d32-9a62-0308e13f7703",
   "metadata": {},
   "outputs": [],
   "source": [
    "# configure DMM for measurement with a valid configuration\n",
    "dmm.confMeasurement('04_RTD_RES')"
   ]
  },
  {
   "cell_type": "code",
   "execution_count": 29,
   "id": "a30738dc-809a-4535-b74c-8316381edfd5",
   "metadata": {},
   "outputs": [],
   "source": [
    "# configure DMM for measurement with a valid configuration\n",
    "dmm.confMeasurement('08_VOLT_DC')"
   ]
  },
  {
   "cell_type": "code",
   "execution_count": 20,
   "id": "2e183009-f2f7-4ae2-8720-7a160fec8565",
   "metadata": {},
   "outputs": [],
   "source": [
    "# configure DMM for measurement with a valid configuration\n",
    "dmm.confMeasurement('09_CURR_AC')"
   ]
  },
  {
   "cell_type": "code",
   "execution_count": 21,
   "id": "8fcb5a9c-650a-4e8c-9247-0e324ee5c8a8",
   "metadata": {},
   "outputs": [],
   "source": [
    "# configure DMM for measurement with a valid configuration\n",
    "dmm.confMeasurement('12_CONT')"
   ]
  },
  {
   "cell_type": "code",
   "execution_count": 7,
   "id": "47e58b11-07e1-4cfe-812d-1e2c8e796539",
   "metadata": {},
   "outputs": [],
   "source": [
    "# configure DMM for measurement with a valid configuration\n",
    "dmm.confMeasurement('13_CAP')"
   ]
  },
  {
   "cell_type": "code",
   "execution_count": 28,
   "id": "8239a4aa-7a72-4805-8723-46cc8ea29401",
   "metadata": {},
   "outputs": [
    {
     "data": {
      "text/plain": [
       "'\"TEMP:RTD +0.000000E+00,+1.000000E-03\"'"
      ]
     },
     "execution_count": 28,
     "metadata": {},
     "output_type": "execute_result"
    }
   ],
   "source": [
    "# get current configuration\n",
    "dmm.getConfig()"
   ]
  },
  {
   "cell_type": "code",
   "execution_count": 30,
   "id": "2eef0091-8d25-4642-8629-4997433be9f3",
   "metadata": {},
   "outputs": [
    {
     "data": {
      "text/plain": [
       "{'temperature_value': 26.0047,\n",
       " 'temperature_unit': '°C',\n",
       " 'resistance_value': 110.1243,\n",
       " 'resistance_unit': 'Ohm'}"
      ]
     },
     "execution_count": 30,
     "metadata": {},
     "output_type": "execute_result"
    }
   ],
   "source": [
    "# get measurement with current configuration\n",
    "dmm.getMeasurement()"
   ]
  },
  {
   "cell_type": "markdown",
   "id": "7a3ec6c9-44d9-40d0-9143-8df63b77e676",
   "metadata": {},
   "source": [
    "## Automation in a sample program for measuring temperature\n",
    "\n",
    "In this sample program, a temperature sensor Pt100 is read out continuously:"
   ]
  },
  {
   "cell_type": "code",
   "execution_count": 32,
   "id": "e6fea56b-6444-4eb8-9d65-54ada43b59cc",
   "metadata": {
    "scrolled": true,
    "tags": []
   },
   "outputs": [
    {
     "name": "stdout",
     "output_type": "stream",
     "text": [
      "<21:54:43> Temperature: 25.968 °C, Resistance: 110.110 Ohm\n",
      "<21:54:44> Temperature: 25.970 °C, Resistance: 110.111 Ohm\n",
      "<21:54:45> Temperature: 25.970 °C, Resistance: 110.111 Ohm\n",
      "<21:54:46> Temperature: 25.970 °C, Resistance: 110.111 Ohm\n",
      "<21:54:47> Temperature: 25.971 °C, Resistance: 110.111 Ohm\n",
      "<21:54:48> Temperature: 25.969 °C, Resistance: 110.110 Ohm\n",
      "<21:54:49> Temperature: 25.969 °C, Resistance: 110.110 Ohm\n",
      "<21:54:50> Temperature: 25.968 °C, Resistance: 110.110 Ohm\n",
      "<21:54:51> Temperature: 25.969 °C, Resistance: 110.110 Ohm\n",
      "<21:54:52> Temperature: 25.966 °C, Resistance: 110.109 Ohm\n",
      "<21:54:53> Temperature: 25.968 °C, Resistance: 110.110 Ohm\n",
      "<21:54:53> Temperature: 25.967 °C, Resistance: 110.110 Ohm\n",
      "<21:54:54> Temperature: 25.965 °C, Resistance: 110.109 Ohm\n",
      "<21:54:55> Temperature: 25.968 °C, Resistance: 110.110 Ohm\n",
      "<21:54:56> Temperature: 25.967 °C, Resistance: 110.110 Ohm\n",
      "<21:54:57> Temperature: 25.966 °C, Resistance: 110.109 Ohm\n",
      "<21:54:58> Temperature: 25.966 °C, Resistance: 110.109 Ohm\n",
      "<21:54:59> Temperature: 25.965 °C, Resistance: 110.109 Ohm\n",
      "<21:55:00> Temperature: 25.965 °C, Resistance: 110.109 Ohm\n",
      "<21:55:01> Temperature: 25.966 °C, Resistance: 110.109 Ohm\n",
      "<21:55:02> Temperature: 25.964 °C, Resistance: 110.109 Ohm\n",
      "<21:55:03> Temperature: 25.965 °C, Resistance: 110.109 Ohm\n",
      "<21:55:04> Temperature: 25.966 °C, Resistance: 110.109 Ohm\n",
      "<21:55:05> Temperature: 25.963 °C, Resistance: 110.108 Ohm\n",
      "<21:55:06> Temperature: 25.966 °C, Resistance: 110.109 Ohm\n",
      "<21:55:07> Temperature: 25.965 °C, Resistance: 110.109 Ohm\n",
      "<21:55:08> Temperature: 25.965 °C, Resistance: 110.109 Ohm\n",
      "<21:55:09> Temperature: 25.965 °C, Resistance: 110.109 Ohm\n",
      "<21:55:10> Temperature: 25.963 °C, Resistance: 110.108 Ohm\n",
      "<21:55:10> Temperature: 25.966 °C, Resistance: 110.109 Ohm\n",
      "<21:55:11> Temperature: 25.965 °C, Resistance: 110.109 Ohm\n",
      "<21:55:12> Temperature: 25.963 °C, Resistance: 110.108 Ohm\n",
      "<21:55:13> Temperature: 25.963 °C, Resistance: 110.108 Ohm\n",
      "<21:55:14> Temperature: 25.960 °C, Resistance: 110.107 Ohm\n",
      "<21:55:15> Temperature: 25.961 °C, Resistance: 110.107 Ohm\n",
      "<21:55:16> Temperature: 25.963 °C, Resistance: 110.108 Ohm\n",
      "<21:55:17> Temperature: 25.962 °C, Resistance: 110.108 Ohm\n",
      "<21:55:18> Temperature: 25.961 °C, Resistance: 110.107 Ohm\n",
      "<21:55:19> Temperature: 25.963 °C, Resistance: 110.108 Ohm\n",
      "<21:55:20> Temperature: 25.961 °C, Resistance: 110.107 Ohm\n",
      "<21:55:21> Temperature: 25.959 °C, Resistance: 110.106 Ohm\n",
      "<21:55:22> Temperature: 25.961 °C, Resistance: 110.107 Ohm\n",
      "<21:55:23> Temperature: 25.960 °C, Resistance: 110.107 Ohm\n",
      "<21:55:24> Temperature: 25.968 °C, Resistance: 110.110 Ohm\n",
      "<21:55:25> Temperature: 26.842 °C, Resistance: 110.449 Ohm\n",
      "<21:55:26> Temperature: 28.006 °C, Resistance: 110.900 Ohm\n",
      "<21:55:26> Temperature: 28.598 °C, Resistance: 111.130 Ohm\n",
      "<21:55:27> Temperature: 30.085 °C, Resistance: 111.706 Ohm\n",
      "<21:55:28> Temperature: 30.903 °C, Resistance: 112.023 Ohm\n",
      "<21:55:29> Temperature: 31.453 °C, Resistance: 112.236 Ohm\n",
      "<21:55:30> Temperature: 31.866 °C, Resistance: 112.396 Ohm\n",
      "<21:55:31> Temperature: 32.202 °C, Resistance: 112.526 Ohm\n",
      "<21:55:32> Temperature: 32.487 °C, Resistance: 112.636 Ohm\n",
      "<21:55:33> Temperature: 32.737 °C, Resistance: 112.733 Ohm\n",
      "<21:55:34> Temperature: 32.953 °C, Resistance: 112.816 Ohm\n",
      "<21:55:35> Temperature: 33.144 °C, Resistance: 112.890 Ohm\n",
      "<21:55:36> Temperature: 33.318 °C, Resistance: 112.957 Ohm\n",
      "<21:55:37> Temperature: 33.476 °C, Resistance: 113.019 Ohm\n",
      "<21:55:38> Temperature: 33.620 °C, Resistance: 113.074 Ohm\n",
      "<21:55:39> Temperature: 33.749 °C, Resistance: 113.124 Ohm\n",
      "<21:55:40> Temperature: 33.869 °C, Resistance: 113.171 Ohm\n",
      "<21:55:41> Temperature: 33.980 °C, Resistance: 113.214 Ohm\n",
      "<21:55:42> Temperature: 34.083 °C, Resistance: 113.254 Ohm\n",
      "<21:55:42> Temperature: 34.179 °C, Resistance: 113.291 Ohm\n",
      "<21:55:43> Temperature: 34.268 °C, Resistance: 113.325 Ohm\n",
      "<21:55:44> Temperature: 34.356 °C, Resistance: 113.359 Ohm\n",
      "<21:55:45> Temperature: 34.434 °C, Resistance: 113.389 Ohm\n",
      "<21:55:46> Temperature: 34.511 °C, Resistance: 113.419 Ohm\n",
      "<21:55:47> Temperature: 34.580 °C, Resistance: 113.446 Ohm\n",
      "<21:55:48> Temperature: 34.647 °C, Resistance: 113.472 Ohm\n",
      "<21:55:49> Temperature: 34.710 °C, Resistance: 113.496 Ohm\n",
      "<21:55:50> Temperature: 34.770 °C, Resistance: 113.519 Ohm\n",
      "<21:55:51> Temperature: 34.830 °C, Resistance: 113.543 Ohm\n",
      "<21:55:52> Temperature: 34.886 °C, Resistance: 113.564 Ohm\n",
      "<21:55:53> Temperature: 34.938 °C, Resistance: 113.584 Ohm\n",
      "<21:55:54> Temperature: 34.987 °C, Resistance: 113.603 Ohm\n",
      "<21:55:55> Temperature: 35.035 °C, Resistance: 113.622 Ohm\n",
      "<21:55:56> Temperature: 35.074 °C, Resistance: 113.637 Ohm\n",
      "<21:55:57> Temperature: 35.060 °C, Resistance: 113.631 Ohm\n",
      "<21:55:58> Temperature: 35.005 °C, Resistance: 113.610 Ohm\n",
      "<21:55:59> Temperature: 34.937 °C, Resistance: 113.584 Ohm\n",
      "<21:55:59> Temperature: 34.871 °C, Resistance: 113.558 Ohm\n",
      "<21:56:00> Temperature: 34.803 °C, Resistance: 113.532 Ohm\n",
      "<21:56:01> Temperature: 34.739 °C, Resistance: 113.507 Ohm\n",
      "<21:56:02> Temperature: 34.684 °C, Resistance: 113.486 Ohm\n",
      "<21:56:03> Temperature: 34.626 °C, Resistance: 113.464 Ohm\n",
      "<21:56:04> Temperature: 34.560 °C, Resistance: 113.438 Ohm\n",
      "<21:56:05> Temperature: 34.498 °C, Resistance: 113.414 Ohm\n",
      "<21:56:06> Temperature: 34.435 °C, Resistance: 113.390 Ohm\n",
      "<21:56:07> Temperature: 34.381 °C, Resistance: 113.369 Ohm\n",
      "<21:56:08> Temperature: 34.333 °C, Resistance: 113.350 Ohm\n",
      "<21:56:09> Temperature: 34.290 °C, Resistance: 113.334 Ohm\n",
      "<21:56:10> Temperature: 34.243 °C, Resistance: 113.316 Ohm\n",
      "<21:56:11> Temperature: 34.192 °C, Resistance: 113.296 Ohm\n",
      "<21:56:12> Temperature: 34.144 °C, Resistance: 113.277 Ohm\n",
      "<21:56:13> Temperature: 34.093 °C, Resistance: 113.257 Ohm\n",
      "<21:56:14> Temperature: 34.042 °C, Resistance: 113.238 Ohm\n",
      "<21:56:15> Temperature: 33.990 °C, Resistance: 113.218 Ohm\n",
      "<21:56:15> Temperature: 33.940 °C, Resistance: 113.198 Ohm\n",
      "<21:56:16> Temperature: 33.893 °C, Resistance: 113.180 Ohm\n",
      "<21:56:17> Temperature: 33.842 °C, Resistance: 113.160 Ohm\n",
      "<21:56:18> Temperature: 33.802 °C, Resistance: 113.145 Ohm\n",
      "<21:56:19> Temperature: 33.763 °C, Resistance: 113.130 Ohm\n",
      "<21:56:20> Temperature: 33.733 °C, Resistance: 113.118 Ohm\n",
      "<21:56:21> Temperature: 33.699 °C, Resistance: 113.105 Ohm\n",
      "<21:56:22> Temperature: 33.666 °C, Resistance: 113.092 Ohm\n",
      "<21:56:23> Temperature: 33.634 °C, Resistance: 113.080 Ohm\n",
      "<21:56:24> Temperature: 33.604 °C, Resistance: 113.068 Ohm\n",
      "<21:56:25> Temperature: 33.570 °C, Resistance: 113.055 Ohm\n",
      "<21:56:26> Temperature: 33.535 °C, Resistance: 113.041 Ohm\n",
      "<21:56:27> Temperature: 33.496 °C, Resistance: 113.026 Ohm\n",
      "<21:56:28> Temperature: 33.459 °C, Resistance: 113.012 Ohm\n",
      "<21:56:29> Temperature: 33.420 °C, Resistance: 112.997 Ohm\n",
      "<21:56:30> Temperature: 33.381 °C, Resistance: 112.982 Ohm\n",
      "<21:56:31> Temperature: 33.339 °C, Resistance: 112.966 Ohm\n",
      "<21:56:32> Temperature: 33.303 °C, Resistance: 112.952 Ohm\n",
      "<21:56:32> Temperature: 33.262 °C, Resistance: 112.936 Ohm\n",
      "<21:56:33> Temperature: 33.215 °C, Resistance: 112.918 Ohm\n",
      "<21:56:34> Temperature: 33.173 °C, Resistance: 112.901 Ohm\n",
      "<21:56:35> Temperature: 33.133 °C, Resistance: 112.886 Ohm\n",
      "<21:56:36> Temperature: 33.095 °C, Resistance: 112.871 Ohm\n",
      "<21:56:37> Temperature: 33.056 °C, Resistance: 112.856 Ohm\n",
      "<21:56:38> Temperature: 33.013 °C, Resistance: 112.840 Ohm\n",
      "<21:56:39> Temperature: 32.973 °C, Resistance: 112.824 Ohm\n",
      "<21:56:40> Temperature: 32.939 °C, Resistance: 112.811 Ohm\n",
      "<21:56:41> Temperature: 32.901 °C, Resistance: 112.796 Ohm\n",
      "<21:56:42> Temperature: 32.858 °C, Resistance: 112.780 Ohm\n",
      "<21:56:43> Temperature: 32.818 °C, Resistance: 112.764 Ohm\n",
      "<21:56:44> Temperature: 32.780 °C, Resistance: 112.749 Ohm\n",
      "<21:56:45> Temperature: 32.744 °C, Resistance: 112.735 Ohm\n",
      "<21:56:46> Temperature: 32.706 °C, Resistance: 112.721 Ohm\n",
      "<21:56:47> Temperature: 32.675 °C, Resistance: 112.709 Ohm\n",
      "<21:56:48> Temperature: 32.637 °C, Resistance: 112.694 Ohm\n",
      "<21:56:48> Temperature: 32.603 °C, Resistance: 112.681 Ohm\n",
      "<21:56:49> Temperature: 32.565 °C, Resistance: 112.666 Ohm\n",
      "<21:56:50> Temperature: 32.531 °C, Resistance: 112.653 Ohm\n",
      "<21:56:51> Temperature: 32.497 °C, Resistance: 112.640 Ohm\n",
      "<21:56:52> Temperature: 32.462 °C, Resistance: 112.626 Ohm\n",
      "<21:56:53> Temperature: 32.430 °C, Resistance: 112.614 Ohm\n",
      "<21:56:54> Temperature: 32.401 °C, Resistance: 112.603 Ohm\n",
      "<21:56:55> Temperature: 32.369 °C, Resistance: 112.590 Ohm\n",
      "<21:56:56> Temperature: 32.343 °C, Resistance: 112.580 Ohm\n",
      "<21:56:57> Temperature: 32.319 °C, Resistance: 112.571 Ohm\n",
      "<21:56:58> Temperature: 32.299 °C, Resistance: 112.563 Ohm\n",
      "<21:56:59> Temperature: 32.272 °C, Resistance: 112.553 Ohm\n",
      "<21:57:00> Temperature: 32.250 °C, Resistance: 112.544 Ohm\n",
      "<21:57:01> Temperature: 32.223 °C, Resistance: 112.534 Ohm\n",
      "<21:57:02> Temperature: 32.189 °C, Resistance: 112.521 Ohm\n",
      "<21:57:03> Temperature: 32.158 °C, Resistance: 112.508 Ohm\n",
      "<21:57:04> Temperature: 32.127 °C, Resistance: 112.496 Ohm\n",
      "<21:57:05> Temperature: 32.097 °C, Resistance: 112.485 Ohm\n",
      "<21:57:05> Temperature: 32.065 °C, Resistance: 112.473 Ohm\n",
      "<21:57:06> Temperature: 32.032 °C, Resistance: 112.460 Ohm\n",
      "<21:57:07> Temperature: 32.003 °C, Resistance: 112.449 Ohm\n",
      "<21:57:08> Temperature: 31.975 °C, Resistance: 112.438 Ohm\n",
      "<21:57:09> Temperature: 31.943 °C, Resistance: 112.425 Ohm\n",
      "<21:57:10> Temperature: 31.913 °C, Resistance: 112.414 Ohm\n",
      "<21:57:11> Temperature: 31.884 °C, Resistance: 112.402 Ohm\n",
      "<21:57:12> Temperature: 31.859 °C, Resistance: 112.393 Ohm\n",
      "<21:57:13> Temperature: 31.834 °C, Resistance: 112.383 Ohm\n",
      "<21:57:14> Temperature: 31.805 °C, Resistance: 112.372 Ohm\n",
      "<21:57:15> Temperature: 31.774 °C, Resistance: 112.360 Ohm\n",
      "<21:57:16> Temperature: 31.748 °C, Resistance: 112.350 Ohm\n",
      "<21:57:17> Temperature: 31.725 °C, Resistance: 112.341 Ohm\n",
      "<21:57:18> Temperature: 31.695 °C, Resistance: 112.329 Ohm\n",
      "<21:57:19> Temperature: 31.670 °C, Resistance: 112.320 Ohm\n",
      "<21:57:20> Temperature: 31.641 °C, Resistance: 112.308 Ohm\n",
      "<21:57:21> Temperature: 31.613 °C, Resistance: 112.297 Ohm\n",
      "<21:57:21> Temperature: 31.583 °C, Resistance: 112.286 Ohm\n",
      "<21:57:22> Temperature: 31.558 °C, Resistance: 112.276 Ohm\n",
      "<21:57:23> Temperature: 31.529 °C, Resistance: 112.265 Ohm\n",
      "<21:57:24> Temperature: 31.503 °C, Resistance: 112.255 Ohm\n",
      "<21:57:25> Temperature: 31.475 °C, Resistance: 112.244 Ohm\n",
      "<21:57:26> Temperature: 31.448 °C, Resistance: 112.234 Ohm\n",
      "<21:57:27> Temperature: 31.421 °C, Resistance: 112.223 Ohm\n",
      "<21:57:28> Temperature: 31.392 °C, Resistance: 112.212 Ohm\n",
      "<21:57:29> Temperature: 31.365 °C, Resistance: 112.201 Ohm\n",
      "<21:57:30> Temperature: 31.337 °C, Resistance: 112.191 Ohm\n",
      "Keyboard Interrupt ^C detected.\n",
      "Bye.\n"
     ]
    }
   ],
   "source": [
    "import time\n",
    "\n",
    "# import wrapper class Fluke_8846A from python file Fluke_8846A_class.py\n",
    "from Fluke_8846A_class import Fluke_8846A\n",
    "\n",
    "INTERVAL = 0.2\n",
    "\n",
    "# IP of devices\n",
    "#dmm_ip = \"192.168.10.117\"\n",
    "dmm_ip = \"192.168.12.134\"\n",
    "\n",
    "# port for SCPI connection\n",
    "dmm_port = 3490\n",
    "\n",
    "# create new device object for the digital multimeter (DMM) Fluke 8846A\n",
    "dmm = Fluke_8846A(tcp_ip = dmm_ip, tcp_port = dmm_port)\n",
    "\n",
    "# get device information\n",
    "dmm.getDevInfos()\n",
    "\n",
    "# configure DMM for temperature measurement with sensor type Pt100\n",
    "# with its corresponding resistance value on the secondary display\n",
    "dmm.confMeasurement('04_RTD_RES')\n",
    "\n",
    "while True:\n",
    "    try:\n",
    "        # get measurement with current configuration\n",
    "        ret_dict = dmm.getMeasurement()\n",
    "        \n",
    "        print(\"<{:s}> Temperature: {:.3f} {}, Resistance: {:.3f} {}\".format(time.strftime('%H:%M:%S'), \n",
    "                                                                            ret_dict['temperature_value'], \n",
    "                                                                            ret_dict['temperature_unit'],\n",
    "                                                                            ret_dict['resistance_value'],\n",
    "                                                                            ret_dict['resistance_unit']))\n",
    "            \n",
    "        time.sleep(INTERVAL)\n",
    "        \n",
    "    except:\n",
    "        print(\"Keyboard Interrupt ^C detected.\")\n",
    "        print(\"Bye.\")\n",
    "        # close the connection to the device\n",
    "        dmm.closeConnection()\n",
    "        break"
   ]
  },
  {
   "cell_type": "code",
   "execution_count": null,
   "id": "015989e6-d756-4716-949c-f0fbc7bfc574",
   "metadata": {},
   "outputs": [],
   "source": []
  }
 ],
 "metadata": {
  "kernelspec": {
   "display_name": "Python 3 (ipykernel)",
   "language": "python",
   "name": "python3"
  },
  "language_info": {
   "codemirror_mode": {
    "name": "ipython",
    "version": 3
   },
   "file_extension": ".py",
   "mimetype": "text/x-python",
   "name": "python",
   "nbconvert_exporter": "python",
   "pygments_lexer": "ipython3",
   "version": "3.7.3"
  }
 },
 "nbformat": 4,
 "nbformat_minor": 5
}
