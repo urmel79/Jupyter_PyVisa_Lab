{
 "cells": [
  {
   "cell_type": "markdown",
   "id": "0b87cd91-c166-4eac-88e8-724325c53f88",
   "metadata": {},
   "source": [
    "inspired by: [ModuleForKeithley](https://gist.github.com/rinitha/0844a61a82006fe92c78)"
   ]
  },
  {
   "cell_type": "code",
   "execution_count": 9,
   "id": "8867f848-9a55-4ed5-8f32-53c10c82f3af",
   "metadata": {},
   "outputs": [],
   "source": [
    "import socket"
   ]
  },
  {
   "cell_type": "code",
   "execution_count": 10,
   "id": "353cb139-be85-4ee6-ac48-fa163e29269a",
   "metadata": {},
   "outputs": [],
   "source": [
    "dmm_ip = \"192.168.10.117\"\n",
    "#dmm_ip = \"192.168.12.134\"\n",
    "\n",
    "dmm_port = 3490\n",
    "\n",
    "try:\n",
    "    dmm_sock = socket.socket(socket.AF_INET, socket.SOCK_STREAM)\n",
    "    dmm_sock.connect((dmm_ip, dmm_port))\n",
    "    \n",
    "except Exception as e: \n",
    "    print(\"Something's wrong with %s:%d. Exception is %s\" % (dmm_ip, dmm_port, e))"
   ]
  },
  {
   "cell_type": "code",
   "execution_count": 11,
   "id": "c3e3b47e-859a-49f9-9bba-3a080aec4c15",
   "metadata": {},
   "outputs": [],
   "source": [
    "# set timeout on blocking socket operations in [s]\n",
    "dmm_sock.settimeout(0.5)"
   ]
  },
  {
   "cell_type": "code",
   "execution_count": 12,
   "id": "16a9c071-df75-4c47-88ed-fcc26564d229",
   "metadata": {},
   "outputs": [],
   "source": [
    "scpi_msg = \"*IDN?\\n\"\n",
    "dmm_sock.sendall(scpi_msg.encode('utf-8'))"
   ]
  },
  {
   "cell_type": "code",
   "execution_count": 13,
   "id": "4a7b2c5b-ec76-41c7-9d11-eae960fa39d1",
   "metadata": {},
   "outputs": [
    {
     "name": "stdout",
     "output_type": "stream",
     "text": [
      "FLUKE,8846A,3729018,08/02/10-11:53\n"
     ]
    }
   ],
   "source": [
    "reading = dmm_sock.recv(128) # buffer size is 128 bytes\n",
    "print(reading.decode().strip())"
   ]
  },
  {
   "cell_type": "code",
   "execution_count": 13,
   "id": "7215292e-e881-4d73-a7ca-af0b6bf18dc2",
   "metadata": {},
   "outputs": [],
   "source": [
    "dmm_sock.close()"
   ]
  },
  {
   "cell_type": "code",
   "execution_count": 14,
   "id": "06f8905f-21ed-46ab-ada3-f208eadd4fe7",
   "metadata": {},
   "outputs": [],
   "source": [
    "scpi_msg = \"*RST\\n\"\n",
    "dmm_sock.sendall(scpi_msg.encode('utf-8'))"
   ]
  },
  {
   "cell_type": "code",
   "execution_count": 15,
   "id": "6e7ef8a6-d3db-4d05-bd61-49c3f07b9c80",
   "metadata": {},
   "outputs": [],
   "source": [
    "scpi_msg = \"SYST:REM\\n\"\n",
    "dmm_sock.sendall(scpi_msg.encode('utf-8'))"
   ]
  },
  {
   "cell_type": "code",
   "execution_count": 9,
   "id": "7d4eb97a-bd07-4922-b370-a63e868e66ef",
   "metadata": {},
   "outputs": [],
   "source": [
    "scpi_msg = \"CONF:RES DEF\\n\"\n",
    "dmm_sock.sendall(scpi_msg.encode('utf-8'))"
   ]
  },
  {
   "cell_type": "code",
   "execution_count": 10,
   "id": "28a6cfe2-03f6-4fa8-a0fa-2dfcc93ba79c",
   "metadata": {},
   "outputs": [],
   "source": [
    "scpi_msg = \"READ?\\n\"\n",
    "dmm_sock.sendall(scpi_msg.encode('utf-8'))"
   ]
  },
  {
   "cell_type": "code",
   "execution_count": 11,
   "id": "f8cb73e9-73ae-45cf-98a2-47b89d3b67dd",
   "metadata": {},
   "outputs": [
    {
     "name": "stdout",
     "output_type": "stream",
     "text": [
      "+2.16531600E+02\n"
     ]
    }
   ],
   "source": [
    "reading = dmm_sock.recv(64) # buffer size is 64 bytes\n",
    "print(reading.decode().strip())"
   ]
  },
  {
   "cell_type": "code",
   "execution_count": 12,
   "id": "5ed31483-db2d-4e18-ba77-8da56417fb17",
   "metadata": {},
   "outputs": [
    {
     "name": "stdout",
     "output_type": "stream",
     "text": [
      "Resistor: 216.53 Ohm\n"
     ]
    }
   ],
   "source": [
    "res_flt = float(reading.decode().strip())\n",
    "\n",
    "print(\"Resistor: {:.2f} Ohm\".format(res_flt))"
   ]
  },
  {
   "cell_type": "code",
   "execution_count": 15,
   "id": "7128d823-c75d-4e82-972f-0f5adc97ca27",
   "metadata": {},
   "outputs": [],
   "source": [
    "scpi_msg = 'FUNC1 \"TEMP:FRTD\"; FUNC2 \"FRES\"\\n'\n",
    "dmm_sock.sendall(scpi_msg.encode('utf-8'))"
   ]
  },
  {
   "cell_type": "code",
   "execution_count": 33,
   "id": "447def59-3cfd-4770-ba67-b791f46e86f4",
   "metadata": {},
   "outputs": [],
   "source": [
    "scpi_msg = \"READ?;FETCH2?\\n\"\n",
    "dmm_sock.sendall(scpi_msg.encode('utf-8'))"
   ]
  },
  {
   "cell_type": "code",
   "execution_count": 34,
   "id": "c35a86d6-9221-4921-822e-a5c35ad6cdd0",
   "metadata": {},
   "outputs": [],
   "source": [
    "reading = dmm_sock.recv(64) # buffer size is 64 bytes"
   ]
  },
  {
   "cell_type": "code",
   "execution_count": 35,
   "id": "df07e984-b492-4852-9b43-09b4c31c2ba0",
   "metadata": {
    "tags": []
   },
   "outputs": [],
   "source": [
    "ret_val_list = reading.decode().strip().split(';')"
   ]
  },
  {
   "cell_type": "code",
   "execution_count": 36,
   "id": "8001770e-6ea2-4fec-a385-8957653bb709",
   "metadata": {},
   "outputs": [],
   "source": [
    "for idx, val in enumerate(ret_val_list):\n",
    "    ret_val_list[idx] = float(ret_val_list[idx])"
   ]
  },
  {
   "cell_type": "code",
   "execution_count": 37,
   "id": "f92a6444-b731-4aea-a812-d7dc935c6839",
   "metadata": {},
   "outputs": [
    {
     "name": "stdout",
     "output_type": "stream",
     "text": [
      "22.2445000, 108.6652000\n"
     ]
    }
   ],
   "source": [
    "print(\"{:.7f}, {:.7f}\".format(ret_val_list[0], ret_val_list[1]))"
   ]
  },
  {
   "cell_type": "code",
   "execution_count": 32,
   "id": "e21a094e-b56f-4842-9eb1-20144a317558",
   "metadata": {},
   "outputs": [],
   "source": []
  },
  {
   "cell_type": "markdown",
   "id": "870e3e5c-e927-4f20-a918-773151f6dedc",
   "metadata": {},
   "source": [
    "# Using the wrapper class 'Fluke_8846A' manually\n",
    "\n",
    "The new wrapper class **Fluke_8846A** in the python file *Fluke_8846A_class.py* implements the communication with the DMM Fluke 8846A via LAN interface and SCPI commands using TCP sockets."
   ]
  },
  {
   "cell_type": "code",
   "execution_count": 1,
   "id": "63c21b9e-5b74-4c44-9e34-7635d0e5c9e2",
   "metadata": {
    "tags": []
   },
   "outputs": [],
   "source": [
    "# import wrapper class Fluke_8846A from python file Fluke_8846A_class.py\n",
    "from Fluke_8846A_class import Fluke_8846A\n",
    "\n",
    "import time"
   ]
  },
  {
   "cell_type": "code",
   "execution_count": 5,
   "id": "ecd4b930-b4d4-4497-a6fd-2b75e6a74b56",
   "metadata": {
    "tags": []
   },
   "outputs": [],
   "source": [
    "# IP of devices\n",
    "dmm_ip = \"192.168.10.117\"\n",
    "#dmm_ip = \"192.168.12.134\"\n",
    "\n",
    "dmm_port = 3490\n",
    "\n",
    "# create new device object for the digital multimeter (DMM) Fluke 8846A\n",
    "dmm = Fluke_8846A(tcp_ip = dmm_ip, tcp_port = dmm_port)"
   ]
  },
  {
   "cell_type": "code",
   "execution_count": 6,
   "id": "2f89be13-9faa-42be-a6d0-4e028c292090",
   "metadata": {},
   "outputs": [
    {
     "data": {
      "text/plain": [
       "'Connected'"
      ]
     },
     "execution_count": 6,
     "metadata": {},
     "output_type": "execute_result"
    }
   ],
   "source": [
    "# read connection state of the device\n",
    "dmm.status"
   ]
  },
  {
   "cell_type": "code",
   "execution_count": 7,
   "id": "88502a26-fa98-476e-ae8b-753890d643db",
   "metadata": {},
   "outputs": [
    {
     "data": {
      "text/plain": [
       "'FLUKE 8846A over LAN on 192.168.10.117, port 3490'"
      ]
     },
     "execution_count": 7,
     "metadata": {},
     "output_type": "execute_result"
    }
   ],
   "source": [
    "# read connection path (at the moment there is only TCP/IP implemented)\n",
    "dmm.connected_with"
   ]
  },
  {
   "cell_type": "code",
   "execution_count": 8,
   "id": "9d464b08-a878-4503-9e53-5c0832c4b654",
   "metadata": {},
   "outputs": [
    {
     "data": {
      "text/plain": [
       "['FLUKE', '8846A', '3729018', '08/02/10-11:53']"
      ]
     },
     "execution_count": 8,
     "metadata": {},
     "output_type": "execute_result"
    }
   ],
   "source": [
    "# get device information\n",
    "dmm.getDevInfos()"
   ]
  },
  {
   "cell_type": "code",
   "execution_count": 10,
   "id": "93c64f40-e27f-40d3-a1c8-910ff6c14730",
   "metadata": {},
   "outputs": [],
   "source": [
    "# close the connection to the device\n",
    "dmm.closeConnection()"
   ]
  },
  {
   "cell_type": "code",
   "execution_count": 10,
   "id": "2c620dac-7349-4e03-a982-9301a19f668f",
   "metadata": {},
   "outputs": [],
   "source": [
    "# open the connection again\n",
    "dmm.openConnection(tcp_ip = dmm_ip, tcp_port = dmm_port)"
   ]
  },
  {
   "cell_type": "code",
   "execution_count": 6,
   "id": "8314f19f-e842-4486-8b24-50d42740da2b",
   "metadata": {},
   "outputs": [
    {
     "data": {
      "text/plain": [
       "['00_RES',\n",
       " '01_FRES',\n",
       " '02_RTD',\n",
       " '03_FRTD',\n",
       " '04_VOLT_AC',\n",
       " '05_VOLT_DC',\n",
       " '06_CURR_AC',\n",
       " '07_CURR_DC',\n",
       " '08_CONT',\n",
       " '09_CAP']"
      ]
     },
     "execution_count": 6,
     "metadata": {},
     "output_type": "execute_result"
    }
   ],
   "source": [
    "# get a list of valid configurations for temperature measurement\n",
    "list(dmm.conf_measurement_dict.keys())"
   ]
  },
  {
   "cell_type": "code",
   "execution_count": 15,
   "id": "6aafbf59-9570-4710-9ca1-9354d998e9c6",
   "metadata": {},
   "outputs": [],
   "source": [
    "# configure DMM for measurement with a valid configuration\n",
    "dmm.confMeasurement('01_FRES')"
   ]
  },
  {
   "cell_type": "code",
   "execution_count": 6,
   "id": "a5250af5-f884-4d32-9a62-0308e13f7703",
   "metadata": {},
   "outputs": [],
   "source": [
    "# configure DMM for measurement with a valid configuration\n",
    "dmm.confMeasurement('02_RTD')"
   ]
  },
  {
   "cell_type": "code",
   "execution_count": 11,
   "id": "a30738dc-809a-4535-b74c-8316381edfd5",
   "metadata": {},
   "outputs": [],
   "source": [
    "# configure DMM for measurement with a valid configuration\n",
    "dmm.confMeasurement('05_VOLT_DC')"
   ]
  },
  {
   "cell_type": "code",
   "execution_count": 20,
   "id": "2e183009-f2f7-4ae2-8720-7a160fec8565",
   "metadata": {},
   "outputs": [],
   "source": [
    "# configure DMM for measurement with a valid configuration\n",
    "dmm.confMeasurement('06_CURR_AC')"
   ]
  },
  {
   "cell_type": "code",
   "execution_count": 18,
   "id": "8fcb5a9c-650a-4e8c-9247-0e324ee5c8a8",
   "metadata": {},
   "outputs": [],
   "source": [
    "# configure DMM for measurement with a valid configuration\n",
    "dmm.confMeasurement('08_CONT')"
   ]
  },
  {
   "cell_type": "code",
   "execution_count": 12,
   "id": "47e58b11-07e1-4cfe-812d-1e2c8e796539",
   "metadata": {},
   "outputs": [],
   "source": [
    "# configure DMM for measurement with a valid configuration\n",
    "dmm.confMeasurement('09_CAP')"
   ]
  },
  {
   "cell_type": "code",
   "execution_count": 12,
   "id": "8239a4aa-7a72-4805-8723-46cc8ea29401",
   "metadata": {},
   "outputs": [
    {
     "data": {
      "text/plain": [
       "'\"VOLT +1.000000E-01,+1.000000E-07\"'"
      ]
     },
     "execution_count": 12,
     "metadata": {},
     "output_type": "execute_result"
    }
   ],
   "source": [
    "# get current configuration\n",
    "dmm.getConfig()"
   ]
  },
  {
   "cell_type": "code",
   "execution_count": 13,
   "id": "2eef0091-8d25-4642-8629-4997433be9f3",
   "metadata": {},
   "outputs": [
    {
     "data": {
      "text/plain": [
       "{'voltage_value': 4.32e-06, 'voltage_unit': 'V DC'}"
      ]
     },
     "execution_count": 13,
     "metadata": {},
     "output_type": "execute_result"
    }
   ],
   "source": [
    "# get measurement with current configuration\n",
    "dmm.getMeasurement()"
   ]
  },
  {
   "cell_type": "code",
   "execution_count": null,
   "id": "714e250a-8736-4d49-82b0-3b9345cd9530",
   "metadata": {},
   "outputs": [],
   "source": []
  }
 ],
 "metadata": {
  "kernelspec": {
   "display_name": "Python 3 (ipykernel)",
   "language": "python",
   "name": "python3"
  },
  "language_info": {
   "codemirror_mode": {
    "name": "ipython",
    "version": 3
   },
   "file_extension": ".py",
   "mimetype": "text/x-python",
   "name": "python",
   "nbconvert_exporter": "python",
   "pygments_lexer": "ipython3",
   "version": "3.7.3"
  }
 },
 "nbformat": 4,
 "nbformat_minor": 5
}
