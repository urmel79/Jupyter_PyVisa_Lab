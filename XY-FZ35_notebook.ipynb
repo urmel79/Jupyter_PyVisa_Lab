{
 "cells": [
  {
   "cell_type": "markdown",
   "id": "3fe37071-7ae1-4bbe-81e0-f223defb5296",
   "metadata": {},
   "source": [
    "# XY-FZ35: electronic load in custom build housing\n",
    "\n",
    "## Overview\n",
    "\n",
    "The **XY-FZ35** is a small and very inexpensive electronic load with a maximum **load power of 35 W** and **load current of 5 A**. Unlike considerably more expensive devices with a wide range of functions, the XY-FZ35 offers \"Constant Current (CC)\" as its only function. Therefore, it is suitable, for example, to investigate both the performance and the response of various protection circuits of wall mounted power supply outputs, mobile power banks or conditioning batteries.\n",
    "\n",
    "![Front view of XY-FZ35 build in custom housing](images/XY-FZ35_electronic_load_front.jpeg)  \n",
    "Front view of XY-FZ35 build in custom housing\n",
    "\n",
    "The XY-FZ35 is not a ready-to-use device, but is intended for snap-in mounting for installation in a front panel or enclosed housing. My assembly looks like this:\n",
    "\n",
    "![Inside top view of XY-FZ35 build in custom housing](images/XY-FZ35_electronic_load_inside_view_w_description.png)  \n",
    "Inside top view of XY-FZ35 build in custom housing"
   ]
  },
  {
   "cell_type": "markdown",
   "id": "32002f36-56e6-4dd7-bd1c-d197158395b8",
   "metadata": {},
   "source": [
    "## Technical data\n",
    "\n",
    "- Snap-in panel device\n",
    "- Input voltage: 5.0 - 30.0 V DC (reverse polarity protected)\n",
    "- Load voltage: 1.5 - 25.0 V DC (reverse polarity protected)\n",
    "- Load current: 0.00 - 5.00 A with 0.01 A resolution\n",
    "- Load power: 35 W at maximum\n",
    "- Current regulation: ±(1% + 3 digits)\n",
    "- Voltage regulation: ±(0.5% + 1 digit)\n",
    "- Over voltage protection (OVP): default 25.2 V (adjustable)\n",
    "- Over current protection (OCP): default 5.1O A (adjustable)\n",
    "- Over power protection (OPP): default 35.5 W (adjustable)\n",
    "- Over temperature protection (OTP): ~ 80 °C (fixed)\n",
    "\n",
    "<span style=\"color:green\">**Note:**</span> The display flashes and shows the error code e.g. `OVP` or `OCP`.\n",
    "\n",
    "- Low voltage protection (LVP): default 1.5 V (adjustable)\n",
    "\n",
    "<span style=\"color:green\">**Note:**</span> Important for battery discharge tests: Setting the LVP value can prevent battery from deep discharge.\n",
    "\n",
    "\n",
    "- Operating Temperature: -40 to ~85 °C\n",
    "\n",
    "The fan starts automatically when the load power is greater than 10 W or the temperature is greater than 40 °C.\n",
    "\n",
    "<span style=\"color:green\">**Note:**</span> My FZ35 starts the fan when the load current is greater than or equal to 1.5 A - regardless of the load power or the current temperature. Maybe it is a firmware bug in my version of the FZ35.\n",
    "\n",
    "## Literature:\n",
    "\n",
    "- [Data sheet XY-FZ35](https://m.media-amazon.com/images/I/B1rtWZuqjcS.pdf)\n",
    "- [XY-FZ35 - Inexpensive Electronic Load](https://community.element14.com/challenges-projects/project14/test-instrumentation/b/blog/posts/xy-fz35---inexpensive-electronic-load)\n",
    "- [makerspacelt / fz35-cli](https://github.com/makerspacelt/fz35-cli)\n",
    "- [XY-FZ25/35 Communication Description](https://github.com/ah01/fz35/blob/master/communication.md)\n",
    "- [XY-FZ25 & XY-FZ35 Electronic Load Control Program](https://github.com/yellobyte/ElectronicLoad-Control-XY-FZ35)\n",
    "- [FZ35 Adjustable Electronic Load Questions](https://www.eevblog.com/forum/testgear/fz35-adjustabe-electronic-load-questions/)"
   ]
  },
  {
   "cell_type": "markdown",
   "id": "fda48803-89e5-4e5c-b15b-bbd5d702c1f8",
   "metadata": {},
   "source": [
    "# Serial interface for controlling the XY-FZ35\n",
    "\n",
    "This HTML style override aligns tables to the left side of all subsequent Markdown cells:"
   ]
  },
  {
   "cell_type": "code",
   "execution_count": 9,
   "id": "d28f41ae-b1d0-45fa-b5f5-46bdd9b8050a",
   "metadata": {
    "tags": []
   },
   "outputs": [
    {
     "data": {
      "text/html": [
       "<style>\n",
       "  table {margin-left: 0 !important;}\n",
       "</style>\n"
      ],
      "text/plain": [
       "<IPython.core.display.HTML object>"
      ]
     },
     "metadata": {},
     "output_type": "display_data"
    }
   ],
   "source": [
    "%%html\n",
    "<style>\n",
    "  table {margin-left: 0 !important;}\n",
    "</style>"
   ]
  },
  {
   "cell_type": "markdown",
   "id": "ff965fc3-b9c5-4ea2-9633-8d748bdc265b",
   "metadata": {},
   "source": [
    "Following description was inspired by and adapted from [https://github.com/ah01/fz35/blob/master/communication.md](https://github.com/ah01/fz35/blob/master/communication.md).\n",
    "\n",
    "## Electric characteristics\n",
    "\n",
    "- TTL level communication (5 V level, there is a XL1509-5.0 buck voltage regulator on board)\n",
    "\n",
    "<span style=\"color:red\">**Warnings:**</span>\n",
    "- TX and RX pins are connected directly to MCU pins without any protection.\n",
    "- There is **NO** galvanic isolation between communication interface, power supply or load input.\n",
    "\n",
    "For easier use, I added a serial to USB converter with **CP2102** chipset.\n",
    "\n",
    "## Serial connection parameters\n",
    "\n",
    "| Serial parameter | Setting  |\n",
    "|------------------|----------|\n",
    "| Baud Rate        | 9600 bps |\n",
    "| Data bits        | 8        |\n",
    "| Stop bits        | 1        |\n",
    "| Parity           | None     |\n",
    "| Flow control     | None     |"
   ]
  },
  {
   "cell_type": "markdown",
   "id": "fe0265a4-9479-4221-a7e0-7bd7e5106059",
   "metadata": {},
   "source": [
    "## Protocol\n",
    "\n",
    "- serial master-slave communication\n",
    "- commands are to be sent **without** any line ending (like `CR`, `LF` or both)\n",
    "- replies ending with `CRLF`\n",
    "\n",
    "### Commands\n",
    "\n",
    "Short overview:\n",
    "\n",
    "| Command     | Reply      | Note                              |\n",
    "|-------------|------------|-----------------------------------|\n",
    "| `start`     | S/F        | Start periodic measurement upload |\n",
    "| `stop`      | S/F        | Stop upload                       |\n",
    "| `on`        | S/F        | Turn on load function             |\n",
    "| `off`       | S/F        | Turn off load function            |\n",
    "| `x.xxA`     | S/F        | Set load current                  |\n",
    "| `LVP:xx.x`  | S/F        | Set low voltage protection        |\n",
    "| `OVP:xx.x`  | S/F        | Set over voltage protection       |\n",
    "| `OCP:x.xx`  | S/F        | Set over current protection       |\n",
    "| `OPP:xx.xx` | S/F        | Set over power Protection         |\n",
    "| `OAH:x.xxx` | S/F        | Set maximum capacity              |\n",
    "| `OHP:xx:xx` | S/F        | Set maximum discharge time        |\n",
    "| `read`      | parameters | Read product parameter settings   |\n",
    "\n",
    "Description:\n",
    "- **LVP:** (Low Voltage Protection) If the voltage drops below a set value then the load will turn itself off. This is important for discharge tests on batteries in order to protect the battery from deep discharge.\n",
    "- **OAH**: (Maximum Discharge Capacity) When the load is turned on it calculates the accumulated discharge capacity (in Ah) and turns itself off when a set value has been reached. This feature too is for protecting the battery when doing discharge tests.\n",
    "- **OHP**: (Maximum Discharge Time) When the discharge time reaches a set period of time than the load will turn itself off. Important for discharge tests.\n",
    "- **OVP**: (Over Voltage Protection) If the voltage is greater then a set value the load will turn itself off.\n",
    "- **OCP**: (Over Current Protection) If the current is greater then a set value the load will turn itself off.\n",
    "- **OPP**: (Over Power Protection) If the power it absorbs gets greater then a set value then the load will turn itself off.\n",
    "\n",
    "<span style=\"color:green\">**Note:**</span> Some alarms (**OPP**, **OAH**, **OHP**) can't be cleared via serial communication. In those cases the On/Off Button on the device itself must be pressed to end the alarm and get the device operational again. Message Boxes will tell you if that's the case.\n",
    "\n",
    "### S/F Replies (success/fail)\n",
    "\n",
    "Most commands have a reply just `success` or `fail`.\n",
    "\n",
    "Fail usualy means wrong format or a value out of range. Especially the format is tricky - you need to send exact same decimal digits as required (including leading and ending zeros) and also **no line ending**!\n",
    "\n",
    "Examples: `OPP:05.00` will work, but `OPP:5` or `OPP:5.0` or `OPP:05.00<CR><LF>` will not.\n",
    "\n",
    "<span style=\"color:green\">**Note:**</span> My FZ35 returns in success case `sucess` (sic). But [ah01](https://github.com/ah01/fz35/blob/master/communication.md) stated that there are some implementations of communication library that respond `success` with correct spelling. So maybe there are some more FW versions out there.\n",
    "\n",
    "### Parameters reply\n",
    "\n",
    "For `read` command the device will reply with current setting in following format:\n",
    "\n",
    "```\n",
    "OVP:xx.x, OCP:x.xx, OPP:xx.xx, LVP:xx.x,OAH:x.xxx,OHP:xx:xx<CR><LF>\n",
    "```\n",
    "\n",
    "<span style=\"color:green\">**Note:**</span> Spaces are correct.\n",
    "\n",
    "### Measurement upload\n",
    "\n",
    "After `start` command the device will start sending current measurement every 1 second with following format:\n",
    "\n",
    "```\n",
    "xx.xxV,x.xA,x.xxxAh,xx:xx<CR><LF>\n",
    "```"
   ]
  },
  {
   "cell_type": "markdown",
   "id": "b8fc85dd-ce63-4f74-a2d4-a04965475d9e",
   "metadata": {},
   "source": [
    "# Test program to retrieve measurements"
   ]
  },
  {
   "cell_type": "markdown",
   "id": "6fdf855d-cefd-4419-8ab2-910b558e449d",
   "metadata": {},
   "source": [
    "## Load globally used libraries and set global variables"
   ]
  },
  {
   "cell_type": "code",
   "execution_count": 1,
   "id": "fb205fb0-15bd-43e5-ab55-a994378c8734",
   "metadata": {},
   "outputs": [],
   "source": [
    "# import classes from external python files\n",
    "import importlib.util\n",
    "\n",
    "import serial\n",
    "import time\n",
    "import pandas as pd\n",
    "import datetime"
   ]
  },
  {
   "cell_type": "code",
   "execution_count": 8,
   "id": "6c77c04a-1a0e-4d76-82cd-b2deab177562",
   "metadata": {},
   "outputs": [],
   "source": [
    "ENABLED_CSV_LOGGING = True\n",
    "\n",
    "SERIAL_PORT = \"/dev/ttyUSB0\"\n",
    "\n",
    "# after writing commands a pause is needed\n",
    "CMD_WRITE_PAUSE = 0.2"
   ]
  },
  {
   "cell_type": "markdown",
   "id": "40363695-9b7b-4289-a7bb-000080598238",
   "metadata": {},
   "source": [
    "## Helper functions\n",
    "\n",
    "This is a helper function to add new rows (a list) to measurement data frame:"
   ]
  },
  {
   "cell_type": "code",
   "execution_count": 3,
   "id": "62bd9c63-9c54-4099-8de1-4b337ab4bb3d",
   "metadata": {},
   "outputs": [],
   "source": [
    "def dataframe_add_row(df=None, row=[]):\n",
    "    if (df is None):\n",
    "        return\n",
    "    \n",
    "    # add a row\n",
    "    df.loc[-1] = row\n",
    "    \n",
    "    # shift the index\n",
    "    df.index = df.index + 1\n",
    "    \n",
    "    # reset the index of dataframe and avoid the old index being added as a column\n",
    "    df.reset_index(drop=True, inplace=True)"
   ]
  },
  {
   "cell_type": "markdown",
   "id": "ec7fbe70-2582-4a90-9804-eb3a9b8492cf",
   "metadata": {},
   "source": [
    "With following function a time string in the format 'hh:mm' is converted to float:"
   ]
  },
  {
   "cell_type": "code",
   "execution_count": 4,
   "id": "1bad1c68-2ffb-411a-a3bf-f20b3e737599",
   "metadata": {
    "tags": []
   },
   "outputs": [],
   "source": [
    "def convert_time_str2float(str_time='0:00'):\n",
    "    # split time string by ':'\n",
    "    hours, minutes = str_time.split(':')\n",
    "\n",
    "    # convert hours and minutes to seconds (and hours by dividing with 3600)\n",
    "    f_time_hours = datetime.timedelta(hours=int(hours), minutes=int(minutes)).total_seconds() / 3600\n",
    "\n",
    "    # round to 3 decimal places\n",
    "    f_time_hours = float(\"{:.3f}\".format(f_time_hours))\n",
    "    \n",
    "    return f_time_hours"
   ]
  },
  {
   "cell_type": "markdown",
   "id": "d4d22666-6e99-4979-91dd-9c8b6af34dbb",
   "metadata": {},
   "source": [
    "## Configure TSV logging\n",
    "\n",
    "With the help of the external class `Log2CSV` the measurement data are stored in a TSV file (i.e. a tab-delimited CSV file).\n",
    "\n",
    "To protect the SD card from excessive write accesses, the data is first buffered in memory by the `Log2CSV` class and written to the TSV file at specified time intervals."
   ]
  },
  {
   "cell_type": "code",
   "execution_count": 5,
   "id": "08053d61-7666-4ea6-9156-e1803857c2be",
   "metadata": {},
   "outputs": [],
   "source": [
    "if ENABLED_CSV_LOGGING:\n",
    "    # class Log2CSV has to imported via importlib due to different path of notebook and class file\n",
    "    spec = importlib.util.spec_from_file_location(\"Log2CSV\", \"./Log2CSV_class.py\")\n",
    "    log2csv_class = importlib.util.module_from_spec(spec)\n",
    "    spec.loader.exec_module(log2csv_class)\n",
    "    \n",
    "    # every 60 seconds the internal data frame buffer should be written to the CSV file\n",
    "    CSV_LOGGING_INTERVALL = 60"
   ]
  },
  {
   "cell_type": "markdown",
   "id": "37d51631-bcd3-4933-801d-4d3a1e88ecfd",
   "metadata": {},
   "source": [
    "## Control the XY-FZ35\n",
    "\n",
    "Initialize the serial connection to XY-FZ35:"
   ]
  },
  {
   "cell_type": "code",
   "execution_count": 6,
   "id": "cae97df8-c3ad-448b-999a-c2ab6fc5ac93",
   "metadata": {},
   "outputs": [],
   "source": [
    "try:\n",
    "    serial = serial.Serial(port=SERIAL_PORT, baudrate=9600, timeout=2)\n",
    "\n",
    "except serial.SerialException:\n",
    "    print(\"Could not open serial port '{0}'!\".format(SERIAL_PORT))\n",
    "    raise"
   ]
  },
  {
   "cell_type": "markdown",
   "id": "5df0c30b-b48c-49b3-8f96-6c0f3ea1069d",
   "metadata": {},
   "source": [
    "Set the load current:"
   ]
  },
  {
   "cell_type": "code",
   "execution_count": 17,
   "id": "9f54a5fb-3a08-4e2e-8a24-59d23487e71b",
   "metadata": {},
   "outputs": [
    {
     "name": "stdout",
     "output_type": "stream",
     "text": [
      "b'sucess\\r\\n'\n"
     ]
    }
   ],
   "source": [
    "f_load_current = 0.8\n",
    "\n",
    "str_current = '{:.2f}'.format(f_load_current) + 'A'\n",
    "serial.write(str_current.encode('utf-8'))\n",
    "time.sleep(CMD_WRITE_PAUSE)\n",
    "\n",
    "# read setting success\n",
    "print(serial.read_all())"
   ]
  },
  {
   "cell_type": "markdown",
   "id": "d3c5d6a8-c661-42b2-9b58-5eec9d1c5684",
   "metadata": {},
   "source": [
    "Start the electronic load to discharge the power source:"
   ]
  },
  {
   "cell_type": "code",
   "execution_count": 18,
   "id": "2d0a3142-1a22-481c-9de9-5b04c1ef14cd",
   "metadata": {},
   "outputs": [
    {
     "name": "stdout",
     "output_type": "stream",
     "text": [
      "b'sucess\\r\\n'\n"
     ]
    }
   ],
   "source": [
    "serial.write('on'.encode('utf-8'))\n",
    "time.sleep(CMD_WRITE_PAUSE)\n",
    "\n",
    "# read setting success\n",
    "print(serial.read_all())"
   ]
  },
  {
   "cell_type": "markdown",
   "id": "0b6fbce6-f087-4a43-8ab7-2e810d817c36",
   "metadata": {},
   "source": [
    "## Main function\n",
    "\n",
    "Following function is the main function to retrieve the measurements from XY-FZ35."
   ]
  },
  {
   "cell_type": "code",
   "execution_count": 20,
   "id": "8931a772-2fba-4d82-8781-11ea3c9dc26f",
   "metadata": {
    "scrolled": true,
    "tags": []
   },
   "outputs": [
    {
     "name": "stdout",
     "output_type": "stream",
     "text": [
      "OVP:25.2, OCP:5.00, OPP:35.10, LVP:01.5,OAH:0.000,OHP:00:00\n",
      "\n",
      "Measuring Time: 0.0 h, Discharge Runtime: 0.117 h, Voltage: 5.0 V, Current: 0.8 A, Capacity: 0.103 Ah\n",
      "Measuring Time: 0.001 h, Discharge Runtime: 0.117 h, Voltage: 4.99 V, Current: 0.8 A, Capacity: 0.103 Ah\n",
      "Measuring Time: 0.001 h, Discharge Runtime: 0.117 h, Voltage: 4.99 V, Current: 0.8 A, Capacity: 0.104 Ah\n",
      "Measuring Time: 0.001 h, Discharge Runtime: 0.117 h, Voltage: 4.98 V, Current: 0.8 A, Capacity: 0.104 Ah\n",
      "Measuring Time: 0.001 h, Discharge Runtime: 0.117 h, Voltage: 4.99 V, Current: 0.8 A, Capacity: 0.104 Ah\n",
      "Measuring Time: 0.002 h, Discharge Runtime: 0.117 h, Voltage: 4.99 V, Current: 0.8 A, Capacity: 0.104 Ah\n",
      "Measuring Time: 0.002 h, Discharge Runtime: 0.117 h, Voltage: 4.99 V, Current: 0.8 A, Capacity: 0.105 Ah\n",
      "Measuring Time: 0.002 h, Discharge Runtime: 0.117 h, Voltage: 4.99 V, Current: 0.8 A, Capacity: 0.105 Ah\n",
      "Measuring Time: 0.003 h, Discharge Runtime: 0.117 h, Voltage: 4.99 V, Current: 0.8 A, Capacity: 0.105 Ah\n",
      "Measuring Time: 0.003 h, Discharge Runtime: 0.117 h, Voltage: 4.99 V, Current: 0.8 A, Capacity: 0.105 Ah\n",
      "Measuring Time: 0.003 h, Discharge Runtime: 0.117 h, Voltage: 4.99 V, Current: 0.8 A, Capacity: 0.105 Ah\n",
      "Measuring Time: 0.003 h, Discharge Runtime: 0.117 h, Voltage: 4.99 V, Current: 0.8 A, Capacity: 0.106 Ah\n",
      "Measuring Time: 0.004 h, Discharge Runtime: 0.117 h, Voltage: 4.99 V, Current: 0.8 A, Capacity: 0.106 Ah\n",
      "Measuring Time: 0.004 h, Discharge Runtime: 0.117 h, Voltage: 4.99 V, Current: 0.8 A, Capacity: 0.106 Ah\n",
      "Measuring Time: 0.004 h, Discharge Runtime: 0.117 h, Voltage: 4.99 V, Current: 0.8 A, Capacity: 0.106 Ah\n",
      "Measuring Time: 0.005 h, Discharge Runtime: 0.133 h, Voltage: 4.99 V, Current: 0.8 A, Capacity: 0.107 Ah\n",
      "Measuring Time: 0.005 h, Discharge Runtime: 0.133 h, Voltage: 4.99 V, Current: 0.8 A, Capacity: 0.107 Ah\n",
      "Measuring Time: 0.005 h, Discharge Runtime: 0.133 h, Voltage: 4.99 V, Current: 0.8 A, Capacity: 0.107 Ah\n",
      "Measuring Time: 0.005 h, Discharge Runtime: 0.133 h, Voltage: 4.99 V, Current: 0.8 A, Capacity: 0.107 Ah\n",
      "Measuring Time: 0.006 h, Discharge Runtime: 0.133 h, Voltage: 5.0 V, Current: 0.8 A, Capacity: 0.107 Ah\n",
      "Measuring Time: 0.006 h, Discharge Runtime: 0.133 h, Voltage: 4.99 V, Current: 0.8 A, Capacity: 0.108 Ah\n",
      "Measuring Time: 0.006 h, Discharge Runtime: 0.133 h, Voltage: 4.99 V, Current: 0.8 A, Capacity: 0.108 Ah\n",
      "Measuring Time: 0.006 h, Discharge Runtime: 0.133 h, Voltage: 4.99 V, Current: 0.8 A, Capacity: 0.108 Ah\n",
      "Measuring Time: 0.007 h, Discharge Runtime: 0.133 h, Voltage: 4.99 V, Current: 0.8 A, Capacity: 0.108 Ah\n",
      "Measuring Time: 0.007 h, Discharge Runtime: 0.133 h, Voltage: 4.99 V, Current: 0.8 A, Capacity: 0.109 Ah\n",
      "Measuring Time: 0.007 h, Discharge Runtime: 0.133 h, Voltage: 4.99 V, Current: 0.8 A, Capacity: 0.109 Ah\n",
      "Measuring Time: 0.008 h, Discharge Runtime: 0.133 h, Voltage: 4.99 V, Current: 0.8 A, Capacity: 0.109 Ah\n",
      "Measuring Time: 0.008 h, Discharge Runtime: 0.133 h, Voltage: 4.99 V, Current: 0.8 A, Capacity: 0.109 Ah\n",
      "Measuring Time: 0.008 h, Discharge Runtime: 0.133 h, Voltage: 4.99 V, Current: 0.8 A, Capacity: 0.109 Ah\n",
      "Measuring Time: 0.008 h, Discharge Runtime: 0.133 h, Voltage: 4.99 V, Current: 0.8 A, Capacity: 0.11 Ah\n",
      "Measuring Time: 0.009 h, Discharge Runtime: 0.133 h, Voltage: 4.99 V, Current: 0.8 A, Capacity: 0.11 Ah\n",
      "Measuring Time: 0.009 h, Discharge Runtime: 0.133 h, Voltage: 5.0 V, Current: 0.8 A, Capacity: 0.11 Ah\n",
      "Measuring Time: 0.009 h, Discharge Runtime: 0.133 h, Voltage: 4.99 V, Current: 0.8 A, Capacity: 0.11 Ah\n",
      "Measuring Time: 0.01 h, Discharge Runtime: 0.133 h, Voltage: 4.99 V, Current: 0.8 A, Capacity: 0.111 Ah\n",
      "Measuring Time: 0.01 h, Discharge Runtime: 0.133 h, Voltage: 4.99 V, Current: 0.8 A, Capacity: 0.111 Ah\n",
      "Measuring Time: 0.01 h, Discharge Runtime: 0.133 h, Voltage: 4.99 V, Current: 0.8 A, Capacity: 0.111 Ah\n",
      "Measuring Time: 0.01 h, Discharge Runtime: 0.133 h, Voltage: 4.99 V, Current: 0.8 A, Capacity: 0.111 Ah\n",
      "Measuring Time: 0.011 h, Discharge Runtime: 0.133 h, Voltage: 4.99 V, Current: 0.8 A, Capacity: 0.111 Ah\n",
      "Measuring Time: 0.011 h, Discharge Runtime: 0.133 h, Voltage: 4.99 V, Current: 0.8 A, Capacity: 0.112 Ah\n",
      "Measuring Time: 0.011 h, Discharge Runtime: 0.133 h, Voltage: 4.99 V, Current: 0.8 A, Capacity: 0.112 Ah\n",
      "Measuring Time: 0.011 h, Discharge Runtime: 0.133 h, Voltage: 4.99 V, Current: 0.8 A, Capacity: 0.112 Ah\n",
      "Measuring Time: 0.012 h, Discharge Runtime: 0.133 h, Voltage: 4.99 V, Current: 0.8 A, Capacity: 0.112 Ah\n",
      "Measuring Time: 0.012 h, Discharge Runtime: 0.133 h, Voltage: 5.0 V, Current: 0.8 A, Capacity: 0.113 Ah\n",
      "Measuring Time: 0.012 h, Discharge Runtime: 0.133 h, Voltage: 4.99 V, Current: 0.8 A, Capacity: 0.113 Ah\n",
      "Measuring Time: 0.013 h, Discharge Runtime: 0.133 h, Voltage: 4.98 V, Current: 0.8 A, Capacity: 0.113 Ah\n",
      "Measuring Time: 0.013 h, Discharge Runtime: 0.133 h, Voltage: 4.99 V, Current: 0.8 A, Capacity: 0.113 Ah\n",
      "Measuring Time: 0.013 h, Discharge Runtime: 0.133 h, Voltage: 4.99 V, Current: 0.8 A, Capacity: 0.113 Ah\n",
      "Measuring Time: 0.013 h, Discharge Runtime: 0.133 h, Voltage: 4.99 V, Current: 0.8 A, Capacity: 0.114 Ah\n",
      "Measuring Time: 0.014 h, Discharge Runtime: 0.133 h, Voltage: 4.98 V, Current: 0.8 A, Capacity: 0.114 Ah\n",
      "Measuring Time: 0.014 h, Discharge Runtime: 0.133 h, Voltage: 4.99 V, Current: 0.8 A, Capacity: 0.114 Ah\n",
      "Measuring Time: 0.014 h, Discharge Runtime: 0.133 h, Voltage: 4.99 V, Current: 0.8 A, Capacity: 0.114 Ah\n",
      "Measuring Time: 0.015 h, Discharge Runtime: 0.133 h, Voltage: 4.99 V, Current: 0.8 A, Capacity: 0.115 Ah\n",
      "Measuring Time: 0.015 h, Discharge Runtime: 0.133 h, Voltage: 4.99 V, Current: 0.8 A, Capacity: 0.115 Ah\n",
      "Measuring Time: 0.015 h, Discharge Runtime: 0.133 h, Voltage: 4.99 V, Current: 0.8 A, Capacity: 0.115 Ah\n",
      "Measuring Time: 0.015 h, Discharge Runtime: 0.133 h, Voltage: 4.99 V, Current: 0.8 A, Capacity: 0.115 Ah\n",
      "Measuring Time: 0.016 h, Discharge Runtime: 0.133 h, Voltage: 4.99 V, Current: 0.8 A, Capacity: 0.115 Ah\n",
      "Measuring Time: 0.016 h, Discharge Runtime: 0.133 h, Voltage: 4.99 V, Current: 0.8 A, Capacity: 0.116 Ah\n",
      "Measuring Time: 0.016 h, Discharge Runtime: 0.133 h, Voltage: 4.99 V, Current: 0.8 A, Capacity: 0.116 Ah\n",
      "Measuring Time: 0.016 h, Discharge Runtime: 0.133 h, Voltage: 4.98 V, Current: 0.8 A, Capacity: 0.116 Ah\n",
      "Measuring Time: 0.017 h, Discharge Runtime: 0.133 h, Voltage: 4.99 V, Current: 0.8 A, Capacity: 0.116 Ah\n",
      "Measuring Time: 0.017 h, Discharge Runtime: 0.133 h, Voltage: 4.99 V, Current: 0.8 A, Capacity: 0.117 Ah\n",
      "Measuring Time: 0.017 h, Discharge Runtime: 0.133 h, Voltage: 4.99 V, Current: 0.8 A, Capacity: 0.117 Ah\n",
      "Measuring Time: 0.018 h, Discharge Runtime: 0.133 h, Voltage: 4.99 V, Current: 0.8 A, Capacity: 0.117 Ah\n",
      "Measuring Time: 0.018 h, Discharge Runtime: 0.133 h, Voltage: 4.99 V, Current: 0.8 A, Capacity: 0.117 Ah\n",
      "Measuring Time: 0.018 h, Discharge Runtime: 0.133 h, Voltage: 4.99 V, Current: 0.8 A, Capacity: 0.117 Ah\n",
      "Measuring Time: 0.018 h, Discharge Runtime: 0.133 h, Voltage: 4.99 V, Current: 0.8 A, Capacity: 0.118 Ah\n",
      "Measuring Time: 0.019 h, Discharge Runtime: 0.133 h, Voltage: 4.99 V, Current: 0.8 A, Capacity: 0.118 Ah\n",
      "Measuring Time: 0.019 h, Discharge Runtime: 0.133 h, Voltage: 4.99 V, Current: 0.8 A, Capacity: 0.118 Ah\n",
      "Measuring Time: 0.019 h, Discharge Runtime: 0.133 h, Voltage: 4.99 V, Current: 0.8 A, Capacity: 0.118 Ah\n",
      "Measuring Time: 0.02 h, Discharge Runtime: 0.133 h, Voltage: 4.99 V, Current: 0.8 A, Capacity: 0.119 Ah\n",
      "Measuring Time: 0.02 h, Discharge Runtime: 0.133 h, Voltage: 4.99 V, Current: 0.8 A, Capacity: 0.119 Ah\n",
      "Measuring Time: 0.02 h, Discharge Runtime: 0.133 h, Voltage: 4.99 V, Current: 0.8 A, Capacity: 0.119 Ah\n",
      "Measuring Time: 0.02 h, Discharge Runtime: 0.133 h, Voltage: 5.0 V, Current: 0.8 A, Capacity: 0.119 Ah\n",
      "Measuring Time: 0.021 h, Discharge Runtime: 0.133 h, Voltage: 4.99 V, Current: 0.8 A, Capacity: 0.119 Ah\n",
      "Measuring Time: 0.021 h, Discharge Runtime: 0.133 h, Voltage: 4.98 V, Current: 0.8 A, Capacity: 0.12 Ah\n",
      "Measuring Time: 0.021 h, Discharge Runtime: 0.15 h, Voltage: 4.98 V, Current: 0.8 A, Capacity: 0.12 Ah\n",
      "Measuring Time: 0.022 h, Discharge Runtime: 0.15 h, Voltage: 4.99 V, Current: 0.8 A, Capacity: 0.12 Ah\n",
      "Measuring Time: 0.022 h, Discharge Runtime: 0.15 h, Voltage: 4.99 V, Current: 0.8 A, Capacity: 0.12 Ah\n",
      "Measuring Time: 0.022 h, Discharge Runtime: 0.15 h, Voltage: 4.99 V, Current: 0.8 A, Capacity: 0.121 Ah\n",
      "Measuring Time: 0.022 h, Discharge Runtime: 0.15 h, Voltage: 4.98 V, Current: 0.8 A, Capacity: 0.121 Ah\n",
      "Measuring Time: 0.023 h, Discharge Runtime: 0.15 h, Voltage: 4.99 V, Current: 0.8 A, Capacity: 0.121 Ah\n",
      "Measuring Time: 0.023 h, Discharge Runtime: 0.15 h, Voltage: 4.98 V, Current: 0.8 A, Capacity: 0.121 Ah\n",
      "Measuring Time: 0.023 h, Discharge Runtime: 0.15 h, Voltage: 4.99 V, Current: 0.8 A, Capacity: 0.121 Ah\n",
      "Measuring Time: 0.023 h, Discharge Runtime: 0.15 h, Voltage: 4.99 V, Current: 0.8 A, Capacity: 0.122 Ah\n",
      "Measuring Time: 0.024 h, Discharge Runtime: 0.15 h, Voltage: 4.99 V, Current: 0.8 A, Capacity: 0.122 Ah\n",
      "Measuring Time: 0.024 h, Discharge Runtime: 0.15 h, Voltage: 4.99 V, Current: 0.8 A, Capacity: 0.122 Ah\n",
      "Measuring Time: 0.024 h, Discharge Runtime: 0.15 h, Voltage: 4.99 V, Current: 0.8 A, Capacity: 0.122 Ah\n",
      "Measuring Time: 0.025 h, Discharge Runtime: 0.15 h, Voltage: 4.99 V, Current: 0.8 A, Capacity: 0.123 Ah\n",
      "Measuring Time: 0.025 h, Discharge Runtime: 0.15 h, Voltage: 4.99 V, Current: 0.8 A, Capacity: 0.123 Ah\n",
      "Measuring Time: 0.025 h, Discharge Runtime: 0.15 h, Voltage: 4.99 V, Current: 0.8 A, Capacity: 0.123 Ah\n",
      "Measuring Time: 0.025 h, Discharge Runtime: 0.15 h, Voltage: 4.99 V, Current: 0.8 A, Capacity: 0.123 Ah\n",
      "Measuring Time: 0.026 h, Discharge Runtime: 0.15 h, Voltage: 4.99 V, Current: 0.8 A, Capacity: 0.123 Ah\n",
      "Keyboard Interrupt ^C detected.\n",
      "Bye.\n"
     ]
    }
   ],
   "source": [
    "# Set Protection\n",
    "OVP = 'OVP:25.2'        # over voltage\n",
    "OCP = 'OCP:5.00'        # over current\n",
    "OPP = 'OPP:35.10'       # over power\n",
    "LVP = 'LVP:01.5'        # low voltage\n",
    "\n",
    "LOOP_PAUSE = 0.95\n",
    "\n",
    "list_csv_header = ['Measuring Time [h]',\n",
    "                   'Discharge Runtime [h]',\n",
    "                   'Voltage [V]',\n",
    "                   'Current [A]',\n",
    "                   'Capacity [Ah]']\n",
    "\n",
    "if ENABLED_CSV_LOGGING:\n",
    "    str_csv_file = time.strftime('./data_files/' + '%Y-%m-%d_%H_%M') + '_XY-FZ35_auto_measurement.tsv'\n",
    "    \n",
    "    # create csv logging object\n",
    "    csvLogger = log2csv_class.Log2CSV(str_csv_file, CSV_LOGGING_INTERVALL, list_csv_header)\n",
    "\n",
    "# stop periodic measurement upload\n",
    "serial.write('stop'.encode('utf-8'))\n",
    "time.sleep(CMD_WRITE_PAUSE)\n",
    "\n",
    "serial.write(LVP.encode('utf-8'))\n",
    "time.sleep(CMD_WRITE_PAUSE)\n",
    "serial.write(OVP.encode('utf-8'))\n",
    "time.sleep(CMD_WRITE_PAUSE)\n",
    "serial.write(OCP.encode('utf-8'))\n",
    "time.sleep(CMD_WRITE_PAUSE)\n",
    "serial.write(OPP.encode('utf-8'))\n",
    "time.sleep(CMD_WRITE_PAUSE)\n",
    "\n",
    "#print(serial.read_all())      # read setting success\n",
    "serial.flushInput()\n",
    "time.sleep(CMD_WRITE_PAUSE)\n",
    "\n",
    "# read parameters\n",
    "serial.write('read'.encode('utf-8'))\n",
    "time.sleep(CMD_WRITE_PAUSE)\n",
    "print(serial.read_all().decode('utf-8'))\n",
    "time.sleep(CMD_WRITE_PAUSE)\n",
    "\n",
    "# start periodic measurement upload\n",
    "serial.write('start'.encode('utf-8'))\n",
    "time.sleep(CMD_WRITE_PAUSE)\n",
    "#print(serial.read_all())\n",
    "serial.flushInput()\n",
    "time.sleep(CMD_WRITE_PAUSE)\n",
    "\n",
    "# get starting time\n",
    "time_start_sec = float(\"{:.2f}\".format(time.time()))\n",
    "\n",
    "while True:\n",
    "    try:\n",
    "        # get time relative to starting time and round to 3 decimals\n",
    "        timestamp_hours = float(\"{:.3f}\".format( (time.time() - time_start_sec) / 3600) )\n",
    "\n",
    "        values_row = [timestamp_hours]\n",
    "\n",
    "        raw_data = serial.read_all()\n",
    "\n",
    "        # decode it - make it a string\n",
    "        str_data = raw_data.decode('utf-8')\n",
    "\n",
    "        # check if string is complete\n",
    "        while not ('\\r' in str_data and '\\n' in str_data):\n",
    "            #print('string is NOT ok ... read again and join')\n",
    "\n",
    "            # if not: read again and concatenate\n",
    "            raw_data_residual = serial.read_all()\n",
    "\n",
    "            str_data = str_data + raw_data_residual.decode('utf-8')\n",
    "            time.sleep(CMD_WRITE_PAUSE)\n",
    "\n",
    "        # strip newlines from string\n",
    "        str_data = str_data.strip()\n",
    "\n",
    "        # split string to list\n",
    "        list_values = str_data.split(',')\n",
    "\n",
    "        for idx, val in enumerate(list_values):\n",
    "            if idx == 0 or idx == 1:\n",
    "                # cut units 'V' or 'A'\n",
    "                list_values[idx] = float(list_values[idx][:-1])\n",
    "            elif idx == 2:\n",
    "                # cut unit 'Ah'\n",
    "                list_values[idx] = float(list_values[idx][:-2])\n",
    "            elif idx == 3:\n",
    "                # convert time from hh:mm to float\n",
    "                list_values[idx] = convert_time_str2float(list_values[idx])\n",
    "\n",
    "            values_row.append(list_values[idx])\n",
    "\n",
    "            # re-order the list to make 'Discharge Runtime' the 2. element\n",
    "            list_neworder = [1, 3, 4, 5, 2]\n",
    "            values_row_sorted = [x for i, x in sorted(zip(list_neworder, values_row))]\n",
    "        \n",
    "        if ENABLED_CSV_LOGGING:\n",
    "            # log row to csv file\n",
    "            csvLogger.log_data(values_row_sorted)\n",
    "\n",
    "        print('Measuring Time: {} h, Discharge Runtime: {} h, Voltage: {} V, Current: {} A, Capacity: {} Ah'\n",
    "              .format(values_row_sorted[0],\n",
    "                      values_row_sorted[1],\n",
    "                      values_row_sorted[2],\n",
    "                      values_row_sorted[3],\n",
    "                      values_row_sorted[4]))\n",
    "\n",
    "        time.sleep(LOOP_PAUSE)\n",
    "        \n",
    "    except:\n",
    "        print(\"Keyboard Interrupt ^C detected.\")\n",
    "        print(\"Bye.\")\n",
    "        \n",
    "        # stop periodic measurement upload\n",
    "        serial.write('stop'.encode('utf-8'))\n",
    "        time.sleep(CMD_WRITE_PAUSE)\n",
    "        serial.flushInput()\n",
    "\n",
    "        break"
   ]
  },
  {
   "cell_type": "markdown",
   "id": "23b7a738-4cf2-48c6-abc7-7ba45215c594",
   "metadata": {},
   "source": [
    "Stop the electronic load to stop discharging:"
   ]
  },
  {
   "cell_type": "code",
   "execution_count": 21,
   "id": "f4e5b76b-9dec-4e38-b1c7-7421c9c1c13e",
   "metadata": {},
   "outputs": [
    {
     "name": "stdout",
     "output_type": "stream",
     "text": [
      "b'sucess\\r\\n'\n"
     ]
    }
   ],
   "source": [
    "serial.write('off'.encode('utf-8'))\n",
    "time.sleep(CMD_WRITE_PAUSE)\n",
    "\n",
    "# read setting success\n",
    "print(serial.read_all())"
   ]
  },
  {
   "cell_type": "code",
   "execution_count": null,
   "id": "a45b6eac-9d47-401e-906a-a8e24f4c2ce3",
   "metadata": {},
   "outputs": [],
   "source": []
  }
 ],
 "metadata": {
  "kernelspec": {
   "display_name": "Python 3 (ipykernel)",
   "language": "python",
   "name": "python3"
  },
  "language_info": {
   "codemirror_mode": {
    "name": "ipython",
    "version": 3
   },
   "file_extension": ".py",
   "mimetype": "text/x-python",
   "name": "python",
   "nbconvert_exporter": "python",
   "pygments_lexer": "ipython3",
   "version": "3.7.3"
  },
  "toc-autonumbering": true
 },
 "nbformat": 4,
 "nbformat_minor": 5
}
