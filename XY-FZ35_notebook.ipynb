{
 "cells": [
  {
   "cell_type": "markdown",
   "id": "3fe37071-7ae1-4bbe-81e0-f223defb5296",
   "metadata": {},
   "source": [
    "# XY-FZ35: electronic load in custom build housing\n",
    "\n",
    "## Overview\n",
    "\n",
    "The **XY-FZ35** is a small and very inexpensive electronic load with a maximum **load power of 35 W** and **load current of 5 A**. Unlike considerably more expensive devices with a wide range of functions, the XY-FZ35 offers \"Constant Current (CC)\" as its only function. Therefore, it is suitable, for example, to investigate both the performance and the response of various protection circuits of wall mounted power supply outputs, mobile power banks or conditioning batteries. \n",
    "\n",
    "![Front view of XY-FZ35 build in custom housing](images/XY-FZ35_electronic_load_front.jpeg)  \n",
    "Front view of XY-FZ35 build in custom housing\n",
    "\n",
    "The XY-FZ35 is not a ready-to-use device, but is intended for snap-in mounting for installation in a front panel or enclosed housing. My assembly looks like this:\n",
    "\n",
    "![Inside top view of XY-FZ35 build in custom housing](images/XY-FZ35_electronic_load_inside_view_w_description.png)  \n",
    "Inside top view of XY-FZ35 build in custom housing"
   ]
  },
  {
   "cell_type": "markdown",
   "id": "32002f36-56e6-4dd7-bd1c-d197158395b8",
   "metadata": {},
   "source": [
    "## Technical data\n",
    "\n",
    "- Snap-in panel device\n",
    "- Input voltage: 5.0 - 30.0 V DC (reverse polarity protected)\n",
    "- Load voltage: 1.5 - 25.0 V DC (reverse polarity protected)\n",
    "- Load current: 0.00 - 5.00 A with 0.01 A resolution\n",
    "- Load power: 35 W at maximum\n",
    "- Current regulation: ±(1% + 3 digits)\n",
    "- Voltage regulation: ±(0.5% + 1 digit)\n",
    "- Over voltage protection (OVP): default 25.2 V (adjustable)\n",
    "- Over current protection (OCP): default 5.1O A (adjustable)\n",
    "- Over power protection (OPP): default 35.5 W (adjustable)\n",
    "- Over temperature protection (OTP): ~ 80 °C (fixed)\n",
    "\n",
    "<span style=\"color:green\">**Note:**</span> The display flashes and shows the error code e.g. `OVP` or `OCP`.\n",
    "\n",
    "- Low voltage protection (LVP): default 1.5 V (adjustable)\n",
    "\n",
    "<span style=\"color:green\">**Note:**</span> Important for battery discharge tests: Setting the LVP value can prevent battery from deep discharge.\n",
    "\n",
    "\n",
    "- Operating Temperature: -40 to ~85 °C\n",
    "\n",
    "The Fan starts automatically when the load power is greater than 10 W or the temperature is greater than 40 °C.\n",
    "\n",
    "## Literature:\n",
    "\n",
    "- [Data sheet XY-FZ35](https://m.media-amazon.com/images/I/B1rtWZuqjcS.pdf)\n",
    "- [XY-FZ35 - Inexpensive Electronic Load](https://community.element14.com/challenges-projects/project14/test-instrumentation/b/blog/posts/xy-fz35---inexpensive-electronic-load)\n",
    "- [makerspacelt / fz35-cli](https://github.com/makerspacelt/fz35-cli)\n",
    "- [XY-FZ25/35 Communication Description](https://github.com/ah01/fz35/blob/master/communication.md)\n",
    "- [XY-FZ25 & XY-FZ35 Electronic Load Control Program](https://github.com/yellobyte/ElectronicLoad-Control-XY-FZ35)\n",
    "- [FZ35 Adjustable Electronic Load Questions](https://www.eevblog.com/forum/testgear/fz35-adjustabe-electronic-load-questions/)"
   ]
  },
  {
   "cell_type": "markdown",
   "id": "4899aa92-8d35-4d76-96a4-ebcd93336447",
   "metadata": {},
   "source": [
    "# Serial interface for controlling the XY-FZ35\n",
    "\n",
    "Following description was inspired by [https://github.com/ah01/fz35/blob/master/communication.md](https://github.com/ah01/fz35/blob/master/communication.md).\n",
    "\n",
    "## Electric characteristics\n",
    "\n",
    "- TTL level communication (5 V level, there is a XL1509-5.0 buck voltage regulator on board)\n",
    "\n",
    "<span style=\"color:red\">**Warnings:**</span>\n",
    "- TX and RX pins are connected directly to MCU pins without any protection.\n",
    "- There is **NO** galvanic isolation between communication interface, power supply or load input.\n",
    "\n",
    "For easier use, I added a serial to USB converter with **CP2102** chipset.\n",
    "\n",
    "## Serial connection parameters\n",
    "\n",
    "| Serial parameter | Setting  |\n",
    "|------------------|----------|\n",
    "| Baud Rate        | 9600 bps |\n",
    "| Data bits        | 8        |\n",
    "| Stop bits        | 1        |\n",
    "| Parity           | None     |\n",
    "| Flow control     | None     |"
   ]
  },
  {
   "cell_type": "markdown",
   "id": "fe0265a4-9479-4221-a7e0-7bd7e5106059",
   "metadata": {},
   "source": [
    "## Protocol\n",
    "\n",
    "- serial master-slave communication\n",
    "- commands are to be sent **without** any line ending (like `CR`, `LF` or both)\n",
    "- replies ending with `CRLF`\n",
    "\n",
    "### Commands\n",
    "\n",
    "Short overview:\n",
    "\n",
    "| Command     | Reply      | Note                              |\n",
    "|-------------|------------|-----------------------------------|\n",
    "| `start`     | S/F        | Start periodic measurement upload |\n",
    "| `stop`      | S/F        | Stop upload                       |\n",
    "| `on`        | S/F        | Turn on Load features             |\n",
    "| `off`       | S/F        | Turn off Load features            |\n",
    "| `x.xxA`     | S/F        | Set load current                  |\n",
    "| `LVP:xx.x`  | S/F        | Set Low Voltage Protection        |\n",
    "| `OVP:xx.x`  | S/F        | Set Over Voltage Protection       |\n",
    "| `OCP:x.xx`  | S/F        | Set Over Current Protection       |\n",
    "| `OPP:xx.xx` | S/F        | Set Over Power Protection         |\n",
    "| `OAH:x.xxx` | S/F        | Set maximum capacity              |\n",
    "| `OHP:xx:xx` | S/F        | Set maximum discharge time        |\n",
    "| `read`      | parameters | Read product parameter settings   |\n",
    "\n",
    "Description:\n",
    "- **LVP:** (Low Voltage Protection) If the voltage drops below a set value then the load will turn itself off. This is important for discharge tests on batteries in order to protect the battery from deep discharge.\n",
    "- **OAH**: (Maximum Discharge Capacity) When the load is turned on it calculates the accumulated discharge capacity (in Ah) and turns itself off when a set value has been reached. This feature too is for protecting the battery when doing discharge tests.\n",
    "- **OHP**: (Maximum Discharge Time) When the discharge time reaches a set period of time than the load will turn itself off. Important for discharge tests.\n",
    "- **OVP**: (Over Voltage Protection) If the voltage is greater then a set value the load will turn itself off.\n",
    "- **OCP**: (Over Current Protection) If the current is greater then a set value the load will turn itself off.\n",
    "- **OPP**: (Over Power Protection) If the power it absorbes gets greater then a set value then the load will turn itself off.\n",
    "\n",
    "<span style=\"color:green\">**Note:**</span> Some alarms (**OPP**, **OAH**, **OHP**) can't be cleared via serial communication. In those cases the On/Off Button on the device itself must be pressed to end the alarm and get the device operational again. Message Boxes will tell you if that's the case.\n",
    "\n",
    "### S/F Replies (success/fail)\n",
    "\n",
    "Most commands have a reply just `success` or `fail`.\n",
    "\n",
    "Fail usualy means wrong format or a value out of range. Especially the format is tricky - you need to send exact same decimal digits as required (including leading and ending zeros) and also **no line ending**!\n",
    "\n",
    "Examples: `OPP:05.00` will work, but `OPP:5` or `OPP:5.0` or `OPP:05.00<CR><LF>` will not.\n",
    "\n",
    "<span style=\"color:green\">**Note:**</span> My FZ35 returns in success case `sucess` (sic). But [ah01](https://github.com/ah01/fz35/blob/master/communication.md) stated that there are some implementations of communication library that respond `success` with correct spelling. So maybe there are some more FW versions out there.\n",
    "\n",
    "### Parameters reply\n",
    "\n",
    "For `read` command the device will reply with current setting in following format:\n",
    "\n",
    "```\n",
    "OVP:xx.x, OCP:x.xx, OPP:xx.xx, LVP:xx.x,OAH:x.xxx,OHP:xx:xx<CR><LF>\n",
    "```\n",
    "\n",
    "<span style=\"color:green\">**Note:**</span> Spaces are correct.\n",
    "\n",
    "### Measurement upload\n",
    "\n",
    "After `start` command the device will start sending current measurement every 1 second with following format:\n",
    "\n",
    "```\n",
    "xx.xxV,x.xA,x.xxxAh,xx:xx<CR><LF>\n",
    "```"
   ]
  },
  {
   "cell_type": "markdown",
   "id": "b8fc85dd-ce63-4f74-a2d4-a04965475d9e",
   "metadata": {},
   "source": [
    "# Test program\n",
    "\n",
    "Following test program was inspired by [XY-FZ35 - Inexpensive Electronic Load](https://community.element14.com/challenges-projects/project14/test-instrumentation/b/blog/posts/xy-fz35---inexpensive-electronic-load)."
   ]
  },
  {
   "cell_type": "code",
   "execution_count": 13,
   "id": "61235363-ab12-47df-b7c6-e0dde642876c",
   "metadata": {},
   "outputs": [
    {
     "name": "stdout",
     "output_type": "stream",
     "text": [
      "b'sucess\\r\\nsucess\\r\\n' \n",
      "\n",
      "Voltage(V), Current(A)\n"
     ]
    },
    {
     "ename": "KeyboardInterrupt",
     "evalue": "",
     "output_type": "error",
     "traceback": [
      "\u001b[0;31m---------------------------------------------------------------------------\u001b[0m",
      "\u001b[0;31mKeyboardInterrupt\u001b[0m                         Traceback (most recent call last)",
      "\u001b[0;32m/tmp/ipykernel_14950/3390663637.py\u001b[0m in \u001b[0;36m<module>\u001b[0;34m\u001b[0m\n\u001b[1;32m     37\u001b[0m     \u001b[0;32mwhile\u001b[0m \u001b[0mkeepLooping\u001b[0m\u001b[0;34m:\u001b[0m\u001b[0;34m\u001b[0m\u001b[0;34m\u001b[0m\u001b[0m\n\u001b[1;32m     38\u001b[0m         \u001b[0mrawResult\u001b[0m \u001b[0;34m=\u001b[0m \u001b[0;34m(\u001b[0m\u001b[0mserial\u001b[0m\u001b[0;34m.\u001b[0m\u001b[0mread_all\u001b[0m\u001b[0;34m(\u001b[0m\u001b[0;34m)\u001b[0m\u001b[0;34m)\u001b[0m\u001b[0;34m\u001b[0m\u001b[0;34m\u001b[0m\u001b[0m\n\u001b[0;32m---> 39\u001b[0;31m         \u001b[0mtime\u001b[0m\u001b[0;34m.\u001b[0m\u001b[0msleep\u001b[0m\u001b[0;34m(\u001b[0m\u001b[0;36m0.1\u001b[0m\u001b[0;34m)\u001b[0m\u001b[0;34m\u001b[0m\u001b[0;34m\u001b[0m\u001b[0m\n\u001b[0m\u001b[1;32m     40\u001b[0m         \u001b[0;32mif\u001b[0m \u001b[0mlen\u001b[0m\u001b[0;34m(\u001b[0m\u001b[0mrawResult\u001b[0m\u001b[0;34m)\u001b[0m \u001b[0;34m>\u001b[0m \u001b[0;36m5\u001b[0m\u001b[0;34m:\u001b[0m\u001b[0;34m\u001b[0m\u001b[0;34m\u001b[0m\u001b[0m\n\u001b[1;32m     41\u001b[0m             \u001b[0;32mif\u001b[0m \u001b[0mchr\u001b[0m\u001b[0;34m(\u001b[0m\u001b[0mrawResult\u001b[0m\u001b[0;34m[\u001b[0m\u001b[0;36m5\u001b[0m\u001b[0;34m]\u001b[0m\u001b[0;34m)\u001b[0m \u001b[0;34m==\u001b[0m \u001b[0;34m\"V\"\u001b[0m\u001b[0;34m:\u001b[0m\u001b[0;34m\u001b[0m\u001b[0;34m\u001b[0m\u001b[0m\n",
      "\u001b[0;31mKeyboardInterrupt\u001b[0m: "
     ]
    }
   ],
   "source": [
    "import serial\n",
    "import time\n",
    "\n",
    "SERIAL_PORT = \"/dev/ttyUSB0\"\n",
    "serial = serial.Serial(port=SERIAL_PORT, baudrate=9600, timeout=2)\n",
    "\n",
    "# Set Protection\n",
    "OVP = b'OVP:25.2'        # over voltage\n",
    "OCP = b'OCP:5.00'        # over current\n",
    "OPP = b'OPP:35.10'       # over power\n",
    "LVP = b'LVP:01.5'        # low voltage\n",
    "\n",
    "CMD_WRITE_PAUSE = 0.1    # after writing commands a pause is needed\n",
    "\n",
    "serial.write(LVP)\n",
    "time.sleep(CMD_WRITE_PAUSE)\n",
    "serial.write(OVP)\n",
    "time.sleep(CMD_WRITE_PAUSE)\n",
    "serial.write(OCP)\n",
    "time.sleep(CMD_WRITE_PAUSE)\n",
    "serial.write(OPP)\n",
    "time.sleep(CMD_WRITE_PAUSE)\n",
    "print(serial.read_all(), '\\n')      # read setting success\n",
    "\n",
    "# Vary current and read results\n",
    "print('Voltage(V), Current(A)')\n",
    "current = 0.0\n",
    "for x in range(0, 10, 1):\n",
    "    current = current + 0.1\n",
    "    strCurrent = '{:.2f}'.format(current) + 'A'    # must be in exact format\n",
    "    serial.write(strCurrent.encode('utf-8'))          # byte encoding\n",
    "    time.sleep(CMD_WRITE_PAUSE)\n",
    "    serial.read_all()                                 # dummy read\n",
    "    time.sleep(1)                                  # let things settle\n",
    "    # check for valid input\n",
    "    keepLooping = True\n",
    "    while keepLooping:\n",
    "        rawResult = (serial.read_all())\n",
    "        time.sleep(0.1)\n",
    "        if len(rawResult) > 5:\n",
    "            if chr(rawResult[5]) == \"V\":\n",
    "                result = rawResult.decode('utf-8')                      # decode it - make it a string\n",
    "                result = result[:12]                                    # strip off end\n",
    "                result = ''.join(i for i in result if not i.isalpha())  # strip alphabetic chars\n",
    "                result = ''.join(i for i in result if i.isprintable())  # strip non-printable chars\n",
    "                if result[0] == '0':\n",
    "                    result = result[1:]                                 # strip off first zero if present\n",
    "                print(result)\n",
    "                keepLooping = False\n",
    "            serial.flushInput()"
   ]
  },
  {
   "cell_type": "code",
   "execution_count": 23,
   "id": "8931a772-2fba-4d82-8781-11ea3c9dc26f",
   "metadata": {},
   "outputs": [
    {
     "name": "stdout",
     "output_type": "stream",
     "text": [
      "b'sucess\\r\\nsucess\\r\\nsucess\\r\\nsucess\\r\\n' \n",
      "\n",
      "b'OVP:25.2, OCP:5.00, OPP:35.10, LVP:01.5,OAH:0.000,OHP:00:00\\r\\n' \n",
      "\n"
     ]
    }
   ],
   "source": [
    "import serial\n",
    "import time\n",
    "\n",
    "SERIAL_PORT = \"/dev/ttyUSB0\"\n",
    "serial = serial.Serial(port=SERIAL_PORT, baudrate=9600, timeout=2)\n",
    "\n",
    "# Set Protection\n",
    "OVP = b'OVP:25.2'        # over voltage\n",
    "OCP = b'OCP:5.00'        # over current\n",
    "OPP = b'OPP:35.10'       # over power\n",
    "LVP = b'LVP:01.5'        # low voltage\n",
    "\n",
    "CMD_WRITE_PAUSE = 0.5    # after writing commands a pause is needed\n",
    "\n",
    "serial.write(LVP)\n",
    "time.sleep(CMD_WRITE_PAUSE)\n",
    "serial.write(OVP)\n",
    "time.sleep(CMD_WRITE_PAUSE)\n",
    "serial.write(OCP)\n",
    "time.sleep(CMD_WRITE_PAUSE)\n",
    "serial.write(OPP)\n",
    "time.sleep(CMD_WRITE_PAUSE)\n",
    "print(serial.read_all(), '\\n')      # read setting success\n",
    "time.sleep(CMD_WRITE_PAUSE)\n",
    "\n",
    "# read parameters\n",
    "serial.write('read'.encode('utf-8'))\n",
    "time.sleep(CMD_WRITE_PAUSE)\n",
    "print(serial.read_all(), '\\n')"
   ]
  },
  {
   "cell_type": "code",
   "execution_count": 8,
   "id": "af1a7b92-079f-4b7d-9b26-e607dc12b1f3",
   "metadata": {},
   "outputs": [
    {
     "name": "stdout",
     "output_type": "stream",
     "text": [
      "0.90A\n"
     ]
    }
   ],
   "source": [
    "current = 0.9\n",
    "strCurrent = '{:.2f}'.format(current) + 'A'\n",
    "print(strCurrent)"
   ]
  },
  {
   "cell_type": "code",
   "execution_count": 9,
   "id": "db7cd3df-348e-41ef-895a-cfcb4fe80463",
   "metadata": {},
   "outputs": [
    {
     "data": {
      "text/plain": [
       "5"
      ]
     },
     "execution_count": 9,
     "metadata": {},
     "output_type": "execute_result"
    }
   ],
   "source": [
    "serial.write(strCurrent.encode('utf-8'))"
   ]
  },
  {
   "cell_type": "code",
   "execution_count": 15,
   "id": "5ef6e656-aacc-4234-8f2b-84a5715d0396",
   "metadata": {},
   "outputs": [
    {
     "name": "stdout",
     "output_type": "stream",
     "text": [
      "b'OVP:25.2, OCP:5.00, OPP:35.50, LVP:01.5,OAH:0.000,OHP:00:00\\r\\n' \n",
      "\n"
     ]
    }
   ],
   "source": [
    "print(serial.read_all(), '\\n')      # read setting success"
   ]
  },
  {
   "cell_type": "code",
   "execution_count": 20,
   "id": "1cc3abac-6f08-4c9f-af86-5cd2acc9b924",
   "metadata": {},
   "outputs": [
    {
     "name": "stdout",
     "output_type": "stream",
     "text": [
      "b'OVP:25.2, OCP:5.00, OPP:35.10, LVP:01.5,OAH:0.000,OHP:00:00\\r\\n' \n",
      "\n"
     ]
    }
   ],
   "source": [
    "# read parameters\n",
    "serial.write('read'.encode('utf-8'))\n",
    "print(serial.read_all(), '\\n')"
   ]
  },
  {
   "cell_type": "code",
   "execution_count": null,
   "id": "62015810-2dfd-4311-9db2-cbdda7a66370",
   "metadata": {},
   "outputs": [],
   "source": []
  }
 ],
 "metadata": {
  "kernelspec": {
   "display_name": "Python 3 (ipykernel)",
   "language": "python",
   "name": "python3"
  },
  "language_info": {
   "codemirror_mode": {
    "name": "ipython",
    "version": 3
   },
   "file_extension": ".py",
   "mimetype": "text/x-python",
   "name": "python",
   "nbconvert_exporter": "python",
   "pygments_lexer": "ipython3",
   "version": "3.7.3"
  },
  "toc-autonumbering": true
 },
 "nbformat": 4,
 "nbformat_minor": 5
}
